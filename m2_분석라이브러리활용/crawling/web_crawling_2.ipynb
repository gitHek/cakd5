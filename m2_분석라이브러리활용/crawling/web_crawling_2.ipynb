{
 "cells": [
  {
   "cell_type": "markdown",
   "metadata": {},
   "source": [
    "#### selenium 모듈\n",
    "- 웹 어플리케이션 테스트를 위한 프레임워크 : 홈페이지 테스트용으로 사용\n",
    "- 사용자가 아닌 프로그램이 웹 브라우저를 제어할 수 있도록 지원\n",
    "- 웹 브라우저마다 클라이언트 프로그램(web Driver)이 별도로 필요(웹 브라우저 <-> 프로그램간 통신 목적)\n",
    "- 크롤링 보다는 웹을 제어하는 목적이 더 큼\n",
    "- pip install selenium 으로 설치 후 사용\n",
    "- web driver 설치(크롬 버전 확인) : https://chromedriver.chromium.org/downloads\n",
    "- 압축 해제한 후 chromedriver.exe를 적당한 경로로 이동\n",
    "- selenium 모듈 호출 후 설치한 web driver 경로를 지정\n",
    "\n",
    "이벤트로 제어하기 : 브라우저를 직접 제어하기 떄문에 직접 컨트롤하여 마우스 클릭, 키보드 입력, 자바 스크립트 이벤트 처리 가능\n",
    "- 마우스 클릭 : click()\n",
    "- 키보드 입력 : send_keys()\n",
    "- 자바 스크립트 삽입 : execute_script()\n",
    "- 입력 양식 전송 : submit()\n",
    "- 스크린샷 : screenshot(파일이름)\n",
    "- 글자 지움 : clear()\n",
    "- 뒤로 가기 : back()\n",
    "- 앞으로 가기 : foward()\n",
    "\n",
    "#### 셀레니움 함수\n",
    "- find_element_by_id : id 속성을 사용하여 접근  \n",
    "(s) = (element, elements)\n",
    "- find_element(s)_by_class_name : 클래스를 사용하여 접근\n",
    "- find_element(s)_by_name : name 속성을 사용하여 접근\n",
    "- find_element(s)_by_xpath : xpath 속성을 사용하여 접근\n",
    "- find_element(s)_by_link_text : 앵커태그(a)에 사용되는 텍스트로 접근\n",
    "- find_element(s)_by_partial_link_text : 앵커태그(a)에 사용되는 일부 텍스트로 접근\n",
    "- find_element(s)_by_tag_name : 태그를 사용하여 접근\n",
    "- find_element(s)_by_css_selector : CSS 선택자를 사용하여 접근"
   ]
  },
  {
   "cell_type": "code",
   "execution_count": 2,
   "metadata": {},
   "outputs": [
    {
     "name": "stdout",
     "output_type": "stream",
     "text": [
      "Collecting selenium\n",
      "  Using cached selenium-4.1.0-py3-none-any.whl (958 kB)\n",
      "Collecting trio-websocket~=0.9\n",
      "  Using cached trio_websocket-0.9.2-py3-none-any.whl (16 kB)\n",
      "Requirement already satisfied: urllib3[secure]~=1.26 in c:\\users\\admin\\anaconda3\\envs\\cakd5\\lib\\site-packages (from selenium) (1.26.8)\n",
      "Collecting trio~=0.17\n",
      "  Using cached trio-0.19.0-py3-none-any.whl (356 kB)\n",
      "Collecting sortedcontainers\n",
      "  Using cached sortedcontainers-2.4.0-py2.py3-none-any.whl (29 kB)\n",
      "Requirement already satisfied: attrs>=19.2.0 in c:\\users\\admin\\anaconda3\\envs\\cakd5\\lib\\site-packages (from trio~=0.17->selenium) (21.2.0)\n",
      "Requirement already satisfied: idna in c:\\users\\admin\\anaconda3\\envs\\cakd5\\lib\\site-packages (from trio~=0.17->selenium) (3.3)\n",
      "Collecting outcome\n",
      "  Using cached outcome-1.1.0-py2.py3-none-any.whl (9.7 kB)\n",
      "Requirement already satisfied: cffi>=1.14 in c:\\users\\admin\\anaconda3\\envs\\cakd5\\lib\\site-packages (from trio~=0.17->selenium) (1.15.0)\n",
      "Collecting sniffio\n",
      "  Using cached sniffio-1.2.0-py3-none-any.whl (10 kB)\n",
      "Requirement already satisfied: async-generator>=1.9 in c:\\users\\admin\\anaconda3\\envs\\cakd5\\lib\\site-packages (from trio~=0.17->selenium) (1.10)\n",
      "Requirement already satisfied: pycparser in c:\\users\\admin\\anaconda3\\envs\\cakd5\\lib\\site-packages (from cffi>=1.14->trio~=0.17->selenium) (2.21)\n",
      "Collecting wsproto>=0.14\n",
      "  Using cached wsproto-1.0.0-py3-none-any.whl (24 kB)\n",
      "Requirement already satisfied: certifi in c:\\users\\admin\\anaconda3\\envs\\cakd5\\lib\\site-packages (from urllib3[secure]~=1.26->selenium) (2021.10.8)\n",
      "Collecting pyOpenSSL>=0.14\n",
      "  Using cached pyOpenSSL-22.0.0-py2.py3-none-any.whl (55 kB)\n",
      "Collecting cryptography>=1.3.4\n",
      "  Using cached cryptography-36.0.1-cp36-abi3-win_amd64.whl (2.2 MB)\n",
      "Collecting h11<1,>=0.9.0\n",
      "  Using cached h11-0.13.0-py3-none-any.whl (58 kB)\n",
      "Installing collected packages: sortedcontainers, sniffio, outcome, h11, cryptography, wsproto, trio, pyOpenSSL, trio-websocket, selenium\n",
      "Successfully installed cryptography-36.0.1 h11-0.13.0 outcome-1.1.0 pyOpenSSL-22.0.0 selenium-4.1.0 sniffio-1.2.0 sortedcontainers-2.4.0 trio-0.19.0 trio-websocket-0.9.2 wsproto-1.0.0\n"
     ]
    }
   ],
   "source": [
    "!pip install selenium"
   ]
  },
  {
   "cell_type": "code",
   "execution_count": 10,
   "metadata": {},
   "outputs": [],
   "source": [
    "# 네이버 사이트 불러오기\n",
    "import selenium\n",
    "from selenium import webdriver\n",
    "from selenium.webdriver.common.keys import Keys\n",
    "import warnings\n",
    "warnings.filterwarnings('ignore')\n",
    "\n",
    "url = 'http://naver.com'\n",
    "path = 'C:/tool/chromedriver.exe'\n",
    "driver = webdriver.Chrome(path)\n",
    "driver.get(url)"
   ]
  },
  {
   "cell_type": "code",
   "execution_count": 11,
   "metadata": {},
   "outputs": [
    {
     "name": "stdout",
     "output_type": "stream",
     "text": [
      "https://www.naver.com/\n"
     ]
    }
   ],
   "source": [
    "print(driver.current_url)"
   ]
  },
  {
   "cell_type": "code",
   "execution_count": 12,
   "metadata": {},
   "outputs": [],
   "source": [
    "driver.close()"
   ]
  },
  {
   "cell_type": "code",
   "execution_count": 14,
   "metadata": {},
   "outputs": [
    {
     "name": "stdout",
     "output_type": "stream",
     "text": [
      "https://www.google.com/?gws_rd=ssl\n"
     ]
    }
   ],
   "source": [
    "# 브라우저 창을 띄우지 않고 수행\n",
    "options = webdriver.ChromeOptions()\n",
    "options.add_argument('headless')\n",
    "driver = webdriver.Chrome(path,options=options)\n",
    "driver.get('http://google.com')\n",
    "print(driver.current_url)\n",
    "driver.close()"
   ]
  },
  {
   "cell_type": "code",
   "execution_count": 19,
   "metadata": {},
   "outputs": [],
   "source": [
    "# 브라우저 최소화/최대화\n",
    "driver = webdriver.Chrome(path)\n",
    "driver.get('http://google.com')\n",
    "driver.maximize_window()\n"
   ]
  },
  {
   "cell_type": "code",
   "execution_count": 20,
   "metadata": {},
   "outputs": [],
   "source": [
    "driver.minimize_window()\n"
   ]
  },
  {
   "cell_type": "code",
   "execution_count": 24,
   "metadata": {},
   "outputs": [],
   "source": [
    "# Implicit Waits(암묵적 대기) : 찾으려는 element가 로드될 때까지 지정한 시간만큼 대기할 수 있도록 설정\n",
    "from selenium.webdriver.common.by import By\n",
    "from selenium.webdriver.support.ui import WebDriverWait\n",
    "from selenium.webdriver.support import expected_conditions as EC\n",
    "\n",
    "driver = webdriver.Chrome(path)\n",
    "driver.get('https://google.com')\n",
    "\n",
    "try:\n",
    "    element = WebDriverWait(driver, 5).until(\n",
    "        EC.presence_of_element_located((By.CLASS_NAME,'gLFyf'))\n",
    "    )\n",
    "finally:\n",
    "    driver.quit()"
   ]
  },
  {
   "cell_type": "code",
   "execution_count": 49,
   "metadata": {},
   "outputs": [
    {
     "name": "stdout",
     "output_type": "stream",
     "text": [
      "빅데이터란\n",
      "빅데이터\n",
      "빅데이터\n"
     ]
    }
   ],
   "source": [
    "from time import sleep\n",
    "driver = webdriver.Chrome(path)\n",
    "driver.get(url)\n",
    "search_box = driver.find_element_by_xpath('//*[@id=\"query\"]')\n",
    "search_box.send_keys('빅데이터')\n",
    "search_box.send_keys(Keys.RETURN)\n",
    "\n",
    "elements = driver.find_elements_by_xpath('//*[@id=\"main_pack\"]/section/div/div/div/div/h3/a')\n",
    "\n",
    "for element in elements:\n",
    "    print(element.text)\n",
    "    print(element.text, file=open('./dataset/test_set.txt','a',encoding='utf-8'))\n",
    "sleep(3)\n",
    "driver.close()"
   ]
  },
  {
   "cell_type": "code",
   "execution_count": 58,
   "metadata": {},
   "outputs": [
    {
     "name": "stdout",
     "output_type": "stream",
     "text": [
      "https://search.naver.com/search.naver?where=nexearch&sm=top_hty&fbm=0&ie=utf8&query=#lnb\n",
      "https://search.naver.com/search.naver?where=nexearch&sm=top_hty&fbm=0&ie=utf8&query=#content\n",
      "https://www.naver.com/\n",
      "https://search.naver.com/search.naver?where=nexearch&sm=top_hty&fbm=0&ie=utf8&query=#\n",
      "https://search.naver.com/search.naver?where=nexearch&sm=top_hty&fbm=0&ie=utf8&query=#\n"
     ]
    }
   ],
   "source": [
    "import time\n",
    "driver = webdriver.Chrome(path)\n",
    "driver.get(url)\n",
    "driver.maximize_window()\n",
    "driver.find_element_by_class_name('link_login').click()\n",
    "time.sleep(1)\n",
    "driver.back()\n",
    "driver.forward()\n",
    "driver.refresh()\n",
    "time.sleep(2)\n",
    "driver.back()\n",
    "elem = driver.find_element_by_id('query')\n",
    "elem.send_keys(Keys.ENTER)\n",
    "els = driver.find_elements_by_tag_name('a')\n",
    "for i,v in enumerate(els):\n",
    "    if i <5:\n",
    "        print(v.get_attribute('href'))\n",
    "    else: pass\n",
    "driver.refresh()\n",
    "driver.get('https://daum.net')\n",
    "driver.close()"
   ]
  },
  {
   "cell_type": "code",
   "execution_count": 122,
   "metadata": {},
   "outputs": [
    {
     "name": "stdout",
     "output_type": "stream",
     "text": [
      "빅데이터 관련 다음포탈 뉴스타이틀 \n",
      "\n",
      "빅데이터로 중소기업 성장경로 찾아준다..중진공, 데이터 행정 도입\n",
      "[빅데이터로본다] IT서비스 상장기업 2022년 2월 브랜드평판... 1위 카카오페이, 2위 삼성SDS, 3위 NHN\n",
      "[인터뷰] \"빅데이터 기반한 일용직 일자리 매칭해요\"…구인구직 앱 '일다오' 박한규 대표\n",
      "[빅데이터MSI]11일 오전 주식시장 심리 7단계 '매우좋음'\n",
      "[빅데이터로본다] 손해보험 2022년 2월 브랜드평판... 1위 현대해상, 2위 삼성화재, 3위 KB손해보험\n",
      "[이한용의 글로브] 연준의 '베이비 스텝'과 '빅 스텝'\n",
      "\"정부 개입 지나쳐 부동산 정책 실패..규제 풀고 신뢰 쌓아야\"\n",
      "휴넷, 빅데이터-AI 기반 디지털전문가 양성..'K-디지털 트레이닝' 교육생 모집\n",
      "대구도시철도공사, 빅데이터 분석 ‘수송통계 보고서’ 발간\n",
      "KB국민은행, 사회혁신 스타트업 기업 성장위해 지속 가능한 지원 박차\n",
      "\n",
      " 빅데이터 관련 구글포탈 뉴스타이틀 \n",
      "\n",
      "\"치매 신약개발 빅데이터 적용은 아직... 정책 제시, 의미\"\n",
      "[빅데이터투데이] 마스크팩 2022년 2월 브랜드평판 분석... 1위 ...\n",
      "[모집] 성균관대 보건의료 빅데이터 자료 분석 과정\n",
      "휴넷, 빅데이터-AI 기반 디지털전문가 양성…'K-디지털 트레이닝 ...\n",
      "[빅데이터투데이] 여성청결제 2022년 2월 브랜드평판 분석... 1위 질경이, 2위 유리아쥬, 3위 해피바스\n",
      "4차 산업혁명의 화두 빅데이터 < No.1브랜드 < 기사본문\n",
      "휴넷, 빅데이터·AI 디지털 과정 교육생 모집\n",
      "[빅데이터로 본 재테크] 최대 실적·통큰 배당 `겹호재`…SK하이닉스 주가 얼마까지 갈까\n",
      "휴넷, 빅데이터·AI 기반 '디지털 전문가 과정' 교육생 모집\n",
      "[빅데이터투데이] 지방은행 2022년 2월 브랜드평판 분석... 1위 ...\n"
     ]
    }
   ],
   "source": [
    "# Q. 다음 사이트에서 빅데이터 관련 검색하여 출력한 후 구글 페이지로 이동\n",
    "driver = webdriver.Chrome(path)\n",
    "driver.get('https://daum.net')\n",
    "driver.find_element_by_xpath('//*[@id=\"q\"]').send_keys('빅데이터')\n",
    "driver.find_element_by_css_selector('#daumSearch > fieldset > div > div > button.ico_pctop.btn_search').click()\n",
    "driver.find_element_by_xpath('//*[@id=\"daumGnb\"]/div/ul/li[3]/a/span/span').click()\n",
    "els1 = driver.find_elements_by_css_selector('#newsColl > div.cont_divider > ul > li > div.wrap_cont > a')\n",
    "print('빅데이터 관련 다음포탈 뉴스타이틀','\\n')\n",
    "for i in els1:\n",
    "    print(i.text)\n",
    "driver.get('https://google.com')\n",
    "search_box = driver.find_element_by_css_selector('body > div.L3eUgb > div.o3j99.ikrT4e.om7nvf > form > div:nth-child(1) > div.A8SBwf > div.RNNXgb > div > div.a4bIc > input')\n",
    "search_box.send_keys('빅데이터')\n",
    "search_box.send_keys(Keys.ENTER)\n",
    "driver.find_element_by_xpath('//*[@id=\"hdtb-msb\"]/div[1]/div/div[3]/a').click()\n",
    "els2 = driver.find_elements_by_css_selector('#rso > div > g-card > div > div > a > div > div.iRPxbe > div.mCBkyc.y355M.JQe2Ld.nDgy9d')\n",
    "print('\\n','빅데이터 관련 구글포탈 뉴스타이틀','\\n')\n",
    "for i in els2:\n",
    "    print(i.text)\n",
    "driver.close()\n"
   ]
  },
  {
   "cell_type": "code",
   "execution_count": 6,
   "metadata": {},
   "outputs": [
    {
     "name": "stdout",
     "output_type": "stream",
     "text": [
      "내 마일리지는  2,000 점 입니다.\n"
     ]
    }
   ],
   "source": [
    "# [과제] 한빛미디어 사이트 로그인 한 후 마일리지 점수 2000점을 출력하세요.(셀레니움 이용 브라우저 제어)\n",
    "import warnings\n",
    "warnings.filterwarnings('ignore')\n",
    "import selenium\n",
    "from selenium import webdriver\n",
    "\n",
    "path = 'C:/tool/chromedriver.exe'\n",
    "\n",
    "driver = webdriver.Chrome(path)\n",
    "driver.get('https://www.hanbit.co.kr/index.html')\n",
    "driver.find_element_by_xpath('//*[@id=\"wrap_nav\"]/ul[2]/li[1]/a').click()\n",
    "driver.find_element_by_name('m_id').send_keys('cakd5kwon')\n",
    "driver.find_element_by_name('m_passwd').send_keys('cakd5kwon')\n",
    "driver.find_element_by_id('login_btn').click()\n",
    "driver.find_element_by_class_name('myhanbit').click()\n",
    "mi = driver.find_element_by_xpath('//*[@id=\"container\"]/div/div[2]/dl[1]/dd').text\n",
    "print('내 마일리지는 ',mi , '입니다.')\n",
    "driver.close()"
   ]
  },
  {
   "cell_type": "code",
   "execution_count": 24,
   "metadata": {},
   "outputs": [],
   "source": [
    "# [도전과제] 네이버 로그인 후 메일 리스트 출력하기\n",
    "import warnings\n",
    "warnings.filterwarnings('ignore')\n",
    "import selenium\n",
    "from selenium import webdriver\n",
    "from selenium.webdriver.common.by import By\n",
    "from selenium.webdriver.support.ui import WebDriverWait\n",
    "from selenium.webdriver.support import expected_conditions as EC\n",
    "\n",
    "path = 'C:/tool/chromedriver.exe'\n",
    "\n",
    "driver = webdriver.Chrome(path)\n",
    "driver.get('https://naver.com')\n",
    "driver.find_element_by_class_name('link_login').click()\n",
    "driver.find_element_by_id('id').send_keys('cakd5kwon')\n",
    "\n",
    "try:\n",
    "    element = WebDriverWait(driver, 5).until(\n",
    "        EC.presence_of_element_located((By.CLASS_NAME,'gLFyf'))\n",
    "    )\n",
    "finally:\n",
    "    driver.quit()\n",
    "\n",
    "\n",
    "\n",
    "\n",
    "# pw = driver.find_element_by_id('pw')\n",
    "# driver.find_element_by_class_name('btn_login').click()\n",
    "# driver.find_element_by_xpath('//*[@id=\"NM_FAVORITE\"]/div[1]/ul[1]/li[1]/a').click()\n",
    "# title = driver.find_elements_by_xpath('//*[@id=\"list_for_view\"]/ol/li/div/div[2]/a[1]/span/strong')\n",
    "# send = driver.find_elements_by_xpath('//*[@id=\"list_for_view\"]/ol/li/div/div[1]/a')\n",
    "# for i,v in zip(title,send):\n",
    "#     print(f'보낸이 : {v} , 제목 : {i}')"
   ]
  },
  {
   "cell_type": "code",
   "execution_count": 12,
   "metadata": {},
   "outputs": [
    {
     "name": "stdout",
     "output_type": "stream",
     "text": [
      "똑!소리나는 네이버 메일 가입을 환영합니다.\n",
      "네이버 회원가입을 환영합니다.\n"
     ]
    }
   ],
   "source": [
    "title = driver.find_elements_by_xpath('//*[@id=\"list_for_view\"]/ol/li/div/div[2]/a[1]/span/strong')\n",
    "for i in texts:\n",
    "    print(i.text)"
   ]
  },
  {
   "cell_type": "code",
   "execution_count": 13,
   "metadata": {},
   "outputs": [
    {
     "name": "stdout",
     "output_type": "stream",
     "text": [
      "네이버메일\n",
      "네이버메일\n"
     ]
    }
   ],
   "source": [
    "send = driver.find_elements_by_xpath('//*[@id=\"list_for_view\"]/ol/li/div/div[1]/a')\n",
    "for i in texts:\n",
    "    print(i.text)"
   ]
  },
  {
   "cell_type": "code",
   "execution_count": null,
   "metadata": {},
   "outputs": [],
   "source": []
  },
  {
   "cell_type": "code",
   "execution_count": null,
   "metadata": {},
   "outputs": [],
   "source": []
  },
  {
   "cell_type": "code",
   "execution_count": null,
   "metadata": {},
   "outputs": [],
   "source": []
  },
  {
   "cell_type": "code",
   "execution_count": null,
   "metadata": {},
   "outputs": [],
   "source": []
  },
  {
   "cell_type": "code",
   "execution_count": null,
   "metadata": {},
   "outputs": [],
   "source": []
  }
 ],
 "metadata": {
  "interpreter": {
   "hash": "8a6378035587bb97055001603ea9d85a2aa377cc6252a50ffca4355a71bc8b90"
  },
  "kernelspec": {
   "display_name": "Python 3 (ipykernel)",
   "language": "python",
   "name": "python3"
  },
  "language_info": {
   "codemirror_mode": {
    "name": "ipython",
    "version": 3
   },
   "file_extension": ".py",
   "mimetype": "text/x-python",
   "name": "python",
   "nbconvert_exporter": "python",
   "pygments_lexer": "ipython3",
   "version": "3.8.10"
  }
 },
 "nbformat": 4,
 "nbformat_minor": 2
}
