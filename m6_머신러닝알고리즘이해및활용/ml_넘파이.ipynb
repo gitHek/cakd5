{
 "cells": [
  {
   "cell_type": "code",
   "execution_count": 15,
   "id": "4335793a",
   "metadata": {},
   "outputs": [
    {
     "name": "stdout",
     "output_type": "stream",
     "text": [
      "[1 2 3] 1\n",
      "[[1 2 3]\n",
      " [4 5 6]] 2\n",
      "[[[1 2 3]\n",
      "  [4 5 6]\n",
      "  [7 8 9]]] 3\n"
     ]
    }
   ],
   "source": [
    "import numpy as np\n",
    "array1 = np.array([1,2,3])\n",
    "array2 = np.array([[1,2,3],[4,5,6]])\n",
    "array3 = np.array([[[1,2,3],[4,5,6],[7,8,9]]])\n",
    "print(array1,array1.ndim)\n",
    "print(array2,array2.ndim)\n",
    "print(array3,array3.ndim)"
   ]
  },
  {
   "cell_type": "code",
   "execution_count": 20,
   "id": "b15ded2d",
   "metadata": {},
   "outputs": [
    {
     "name": "stdout",
     "output_type": "stream",
     "text": [
      "float64\n",
      "int32\n"
     ]
    }
   ],
   "source": [
    "array_int = np.array([1,2,3])\n",
    "\n",
    "array_float = array_int.astype(float)\n",
    "print(array_float.dtype)\n",
    "\n",
    "array_int2 = array_float.astype(int)\n",
    "print(array_int2.dtype)"
   ]
  },
  {
   "cell_type": "code",
   "execution_count": 22,
   "id": "ade74ec4",
   "metadata": {},
   "outputs": [
    {
     "name": "stdout",
     "output_type": "stream",
     "text": [
      "[[0 0]\n",
      " [0 0]\n",
      " [0 0]]\n"
     ]
    }
   ],
   "source": [
    "zero_array = np.zeros((3,2),dtype=int)\n",
    "\n",
    "print(zero_array)"
   ]
  },
  {
   "cell_type": "code",
   "execution_count": 26,
   "id": "c3c856df",
   "metadata": {},
   "outputs": [
    {
     "name": "stdout",
     "output_type": "stream",
     "text": [
      "[[1. 1.]\n",
      " [1. 1.]\n",
      " [1. 1.]] float64\n"
     ]
    }
   ],
   "source": [
    "one_array = np.ones((3,2))\n",
    "\n",
    "print(one_array,one_array.dtype)"
   ]
  },
  {
   "cell_type": "code",
   "execution_count": 38,
   "id": "40cc390e",
   "metadata": {},
   "outputs": [
    {
     "name": "stdout",
     "output_type": "stream",
     "text": [
      "[0 1 2 3 4 5 6 7 8 9] 1 \n",
      "\n",
      "[[0 1 2 3 4]\n",
      " [5 6 7 8 9]] 2 \n",
      "\n",
      "[[[0 1 2 3 4]\n",
      "  [5 6 7 8 9]]] 3\n"
     ]
    }
   ],
   "source": [
    "# reshape\n",
    "ar1 = np.arange(10)\n",
    "print(ar1,ar1.ndim,'\\n')\n",
    "ar2 = ar1.reshape(2,5)\n",
    "print(ar2,ar2.ndim,'\\n')\n",
    "ar3 = ar2.reshape(1,2,5)\n",
    "print(ar3,ar3.ndim)"
   ]
  },
  {
   "cell_type": "code",
   "execution_count": 37,
   "id": "51fafd03",
   "metadata": {},
   "outputs": [
    {
     "name": "stdout",
     "output_type": "stream",
     "text": [
      "[0 1 2 3 4 5 6 7 8 9] 1 \n",
      "\n",
      "[[0 1 2 3 4]\n",
      " [5 6 7 8 9]] 2 \n",
      "\n",
      "[[[0 1 2 3 4]\n",
      "  [5 6 7 8 9]]] 3\n"
     ]
    }
   ],
   "source": [
    "# reshape, -1\n",
    "ar1 = np.arange(10)\n",
    "print(ar1,ar1.ndim,'\\n')\n",
    "ar2 = ar1.reshape(2,-1)\n",
    "print(ar2,ar2.ndim,'\\n')\n",
    "ar3 = ar2.reshape(1,2,-1)\n",
    "print(ar3,ar3.ndim)"
   ]
  },
  {
   "cell_type": "code",
   "execution_count": 43,
   "id": "9838a9d0",
   "metadata": {},
   "outputs": [
    {
     "name": "stdout",
     "output_type": "stream",
     "text": [
      "[[[0 1]\n",
      "  [2 3]]\n",
      "\n",
      " [[4 5]\n",
      "  [6 7]]] 3 \n",
      "\n",
      "[[0 1 2 3]\n",
      " [4 5 6 7]] 2 \n",
      "\n",
      "[0 1 2 3 4 5 6 7] 1\n"
     ]
    }
   ],
   "source": [
    "# 3차원 -> 2,1차원\n",
    "ar3 = np.arange(8).reshape((2,2,2))\n",
    "print(ar3,ar3.ndim,'\\n')\n",
    "ar2 = ar3.reshape(2,-1)\n",
    "print(ar2,ar2.ndim,'\\n')\n",
    "ar1 = ar3.reshape(-1)\n",
    "print(ar1,ar1.ndim)"
   ]
  },
  {
   "cell_type": "code",
   "execution_count": 49,
   "id": "a5405e70",
   "metadata": {},
   "outputs": [
    {
     "name": "stdout",
     "output_type": "stream",
     "text": [
      "[1 2 3 4 5 6 7 8 9]\n",
      "2\n",
      "9\n",
      "7\n"
     ]
    }
   ],
   "source": [
    "# indexing\n",
    "ar1 = np.arange(1,10)\n",
    "print(ar1)\n",
    "print(ar1[1])\n",
    "print(ar1[-1])\n",
    "print(ar1[-3])"
   ]
  },
  {
   "cell_type": "code",
   "execution_count": 64,
   "id": "e2eb5879",
   "metadata": {},
   "outputs": [
    {
     "name": "stdout",
     "output_type": "stream",
     "text": [
      "[[1 2 3]\n",
      " [4 5 6]\n",
      " [7 8 9]]\n",
      "1\n",
      "2\n",
      "4\n",
      "9\n"
     ]
    }
   ],
   "source": [
    "ar2d = np.arange(1,10).reshape(3,3)\n",
    "print(ar2d)\n",
    "print(ar2d[0,0])\n",
    "print(ar2d[0,1])\n",
    "print(ar2d[1,0])\n",
    "print(ar2d[2,2])"
   ]
  },
  {
   "cell_type": "code",
   "execution_count": 72,
   "id": "e47af065",
   "metadata": {},
   "outputs": [
    {
     "name": "stdout",
     "output_type": "stream",
     "text": [
      "[ 1  2  3  4  5  6  7  8  9 10 11 12 13 14 15 16 17 18 19]\n",
      "[4 5 6]\n",
      "[16 17 18]\n"
     ]
    }
   ],
   "source": [
    "# slicing\n",
    "ar1 = np.arange(1,20)\n",
    "print(ar1)\n",
    "print(ar1[3:6])\n",
    "print(ar1[-4:-1])"
   ]
  },
  {
   "cell_type": "code",
   "execution_count": 86,
   "id": "b1912dc0",
   "metadata": {},
   "outputs": [
    {
     "name": "stdout",
     "output_type": "stream",
     "text": [
      "[[1 2 3]\n",
      " [4 5 6]\n",
      " [7 8 9]]\n",
      "[[1 2]\n",
      " [4 5]]\n",
      "[[4 5 6]\n",
      " [7 8 9]]\n",
      "[[2 3]\n",
      " [5 6]]\n",
      "[[1]\n",
      " [4]]\n",
      "[1 4]\n"
     ]
    }
   ],
   "source": [
    "ar2d = np.arange(1,10).reshape(3,3)\n",
    "print(ar2d)\n",
    "print(ar2d[:2,:2])\n",
    "print(ar2d[1:,:])\n",
    "print(ar2d[:2,1:])\n",
    "print(ar2d[:2,:1])\n",
    "print(ar2d[:2,0])"
   ]
  },
  {
   "cell_type": "code",
   "execution_count": 107,
   "id": "23bc4656",
   "metadata": {},
   "outputs": [
    {
     "name": "stdout",
     "output_type": "stream",
     "text": [
      "[[1 2 3]\n",
      " [4 5 6]\n",
      " [7 8 9]]\n",
      "[3 6]\n",
      "[[1 2]\n",
      " [4 5]]\n",
      "[[1 2 3]\n",
      " [4 5 6]]\n"
     ]
    }
   ],
   "source": [
    "# fancy indexing\n",
    "ar2 = np.arange(1,10).reshape(3,3)\n",
    "print(ar2)\n",
    "print(ar1[[0,1],2])\n",
    "print(ar1[[0,1],:2])\n",
    "print(ar1[[0,1]])"
   ]
  },
  {
   "cell_type": "code",
   "execution_count": 87,
   "id": "b27f11f3",
   "metadata": {},
   "outputs": [
    {
     "name": "stdout",
     "output_type": "stream",
     "text": [
      "[1 2 3 4 5 6 7 8 9]\n",
      "[6 7 8 9]\n"
     ]
    }
   ],
   "source": [
    "# boolean indexing\n",
    "ar1 = np.arange(1,10)\n",
    "print(ar1)\n",
    "print(ar1[ar1>5])"
   ]
  },
  {
   "cell_type": "code",
   "execution_count": 115,
   "id": "9bbcb004",
   "metadata": {},
   "outputs": [
    {
     "name": "stdout",
     "output_type": "stream",
     "text": [
      "[3 1 9 5]\n",
      "[1 3 5 9]\n",
      "[3 1 9 5]\n",
      "None\n",
      "[1 3 5 9]\n"
     ]
    }
   ],
   "source": [
    "# np.sort() : 원본 미반영\n",
    "ar = np.array([3,1,9,5])\n",
    "print(ar)\n",
    "sort_ar = np.sort(ar)\n",
    "print(sort_ar)\n",
    "print(ar)\n",
    "\n",
    "# ndarray.sort() : 원본 반영\n",
    "sort_ar1 = ar.sort()\n",
    "print(sort_ar1)\n",
    "print(ar)"
   ]
  },
  {
   "cell_type": "code",
   "execution_count": 117,
   "id": "ba397420",
   "metadata": {},
   "outputs": [
    {
     "name": "stdout",
     "output_type": "stream",
     "text": [
      "[9 5 3 1]\n"
     ]
    }
   ],
   "source": [
    "# 내림차순 정렬\n",
    "sort_ar_desc = np.sort(ar)[::-1]\n",
    "print(sort_ar_desc)"
   ]
  },
  {
   "cell_type": "code",
   "execution_count": 122,
   "id": "55f96284",
   "metadata": {},
   "outputs": [
    {
     "name": "stdout",
     "output_type": "stream",
     "text": [
      "[[ 8 12]\n",
      " [ 7  1]] \n",
      "\n",
      "[[ 7  1]\n",
      " [ 8 12]] \n",
      "\n",
      "[[ 8 12]\n",
      " [ 1  7]]\n"
     ]
    }
   ],
   "source": [
    "ar2 = np.array([[8,12],\n",
    "[7,1]])\n",
    "print(ar2,'\\n')\n",
    "sort_ar2_axis0 = np.sort(ar2,axis=0)\n",
    "print(sort_ar2_axis0,'\\n')\n",
    "sort_ar2_axis1 = np.sort(ar2,axis=1)\n",
    "print(sort_ar2_axis1)"
   ]
  },
  {
   "cell_type": "code",
   "execution_count": 128,
   "id": "be12fe83",
   "metadata": {},
   "outputs": [
    {
     "name": "stdout",
     "output_type": "stream",
     "text": [
      "[3 1 9 5]\n",
      "[1 0 3 2]\n"
     ]
    }
   ],
   "source": [
    "# 정렬 행렬의 인덱스 반환\n",
    "ar = np.array([3,1,9,5])\n",
    "print(ar)\n",
    "sort_indices = np.argsort(ar)\n",
    "print(sort_indices)"
   ]
  },
  {
   "cell_type": "code",
   "execution_count": 130,
   "id": "798d0c37",
   "metadata": {},
   "outputs": [
    {
     "data": {
      "text/plain": [
       "array([[ 58,  67],\n",
       "       [139, 160]])"
      ]
     },
     "execution_count": 130,
     "metadata": {},
     "output_type": "execute_result"
    }
   ],
   "source": [
    "# 행렬 내적\n",
    "a = np.array([[1,2,3],[4,5,6]])\n",
    "b = np.array([[7,8],[9,10],[11,13]])\n",
    "np.dot(a,b)"
   ]
  },
  {
   "cell_type": "code",
   "execution_count": 137,
   "id": "3a864f84",
   "metadata": {},
   "outputs": [
    {
     "name": "stdout",
     "output_type": "stream",
     "text": [
      "[[1 3]\n",
      " [2 4]]\n"
     ]
    }
   ],
   "source": [
    "# 전치 행렬\n",
    "a = np.array([[1,2],[3,4]])\n",
    "print(a.T)"
   ]
  }
 ],
 "metadata": {
  "kernelspec": {
   "display_name": "Python 3 (ipykernel)",
   "language": "python",
   "name": "python3"
  },
  "language_info": {
   "codemirror_mode": {
    "name": "ipython",
    "version": 3
   },
   "file_extension": ".py",
   "mimetype": "text/x-python",
   "name": "python",
   "nbconvert_exporter": "python",
   "pygments_lexer": "ipython3",
   "version": "3.8.12"
  }
 },
 "nbformat": 4,
 "nbformat_minor": 5
}
