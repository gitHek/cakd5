{
 "cells": [
  {
   "cell_type": "code",
   "execution_count": 1,
   "metadata": {},
   "outputs": [
    {
     "data": {
      "text/html": [
       "<div>\n",
       "<style scoped>\n",
       "    .dataframe tbody tr th:only-of-type {\n",
       "        vertical-align: middle;\n",
       "    }\n",
       "\n",
       "    .dataframe tbody tr th {\n",
       "        vertical-align: top;\n",
       "    }\n",
       "\n",
       "    .dataframe thead th {\n",
       "        text-align: right;\n",
       "    }\n",
       "</style>\n",
       "<table border=\"1\" class=\"dataframe\">\n",
       "  <thead>\n",
       "    <tr style=\"text-align: right;\">\n",
       "      <th></th>\n",
       "      <th>이름</th>\n",
       "      <th>영문이름</th>\n",
       "      <th>종류</th>\n",
       "      <th>나라</th>\n",
       "      <th>생산지</th>\n",
       "      <th>제조사</th>\n",
       "      <th>포도품종</th>\n",
       "      <th>알코올도수</th>\n",
       "      <th>가격</th>\n",
       "      <th>평점</th>\n",
       "      <th>산도</th>\n",
       "      <th>당도</th>\n",
       "      <th>바디감</th>\n",
       "      <th>탄닌</th>\n",
       "      <th>인기순위</th>\n",
       "      <th>추천순위</th>\n",
       "      <th>구매가능여부</th>\n",
       "      <th>주소</th>\n",
       "      <th>이미지주소</th>\n",
       "    </tr>\n",
       "  </thead>\n",
       "  <tbody>\n",
       "    <tr>\n",
       "      <th>2</th>\n",
       "      <td>아발론 카베르네소비뇽</td>\n",
       "      <td>AVALON CALIFORNIA</td>\n",
       "      <td>Red</td>\n",
       "      <td>미국</td>\n",
       "      <td>캘리포니아</td>\n",
       "      <td>아발론 와이너리</td>\n",
       "      <td>까베르네 소비뇽 (Cabernet Sauvignon) 76%, 시라 (Syrah) ...</td>\n",
       "      <td>13.8</td>\n",
       "      <td>24900</td>\n",
       "      <td>3.5</td>\n",
       "      <td>3</td>\n",
       "      <td>1</td>\n",
       "      <td>3</td>\n",
       "      <td>3</td>\n",
       "      <td>3</td>\n",
       "      <td>514</td>\n",
       "      <td>구매 예약</td>\n",
       "      <td>https://www.winenara.com/shop/product/product_...</td>\n",
       "      <td>https://www.winenara.com/uploads/product/550/6...</td>\n",
       "    </tr>\n",
       "    <tr>\n",
       "      <th>4</th>\n",
       "      <td>이자디 엘 레갈로</td>\n",
       "      <td>IZADI EL REGALO</td>\n",
       "      <td>Red</td>\n",
       "      <td>스페인</td>\n",
       "      <td>리오하</td>\n",
       "      <td>보데가스 이자디 (Bodegas Izadi)</td>\n",
       "      <td>템프라니요 (Tempranillo) 90%, 가르나차 (Garnacha), 그라시아...</td>\n",
       "      <td>14.1</td>\n",
       "      <td>77000</td>\n",
       "      <td>4.0</td>\n",
       "      <td>3</td>\n",
       "      <td>0</td>\n",
       "      <td>4</td>\n",
       "      <td>3</td>\n",
       "      <td>5</td>\n",
       "      <td>155</td>\n",
       "      <td>구매 불가</td>\n",
       "      <td>https://www.winenara.com/shop/product/product_...</td>\n",
       "      <td>https://www.winenara.com/uploads/product/550/1...</td>\n",
       "    </tr>\n",
       "    <tr>\n",
       "      <th>6</th>\n",
       "      <td>빌라 안티노리 키안티 클라시코 리제르바</td>\n",
       "      <td>VILLA ANTINORI CHIANTI CLASSICO RISERVA</td>\n",
       "      <td>Red</td>\n",
       "      <td>이탈리아</td>\n",
       "      <td>토스카나, 키안티 클라시코</td>\n",
       "      <td>안티노리</td>\n",
       "      <td>산지오베제 90%, 카베르네 소비뇽 10%</td>\n",
       "      <td>14.0</td>\n",
       "      <td>39000</td>\n",
       "      <td>4.0</td>\n",
       "      <td>3</td>\n",
       "      <td>0</td>\n",
       "      <td>3</td>\n",
       "      <td>4</td>\n",
       "      <td>7</td>\n",
       "      <td>117</td>\n",
       "      <td>구매 불가</td>\n",
       "      <td>https://www.winenara.com/shop/product/product_...</td>\n",
       "      <td>https://www.winenara.com/uploads/product/550/1...</td>\n",
       "    </tr>\n",
       "    <tr>\n",
       "      <th>7</th>\n",
       "      <td>톨퍼들 빈야드 샤르도네</td>\n",
       "      <td>TOLPUDDLE VINEYARD CHARDONNAY</td>\n",
       "      <td>White</td>\n",
       "      <td>호주</td>\n",
       "      <td>호주, 타스매니아</td>\n",
       "      <td>SHAW AND SMITH</td>\n",
       "      <td>샤르도네(CHARDONNAY) 100%</td>\n",
       "      <td>12.5</td>\n",
       "      <td>100000</td>\n",
       "      <td>4.2</td>\n",
       "      <td>3</td>\n",
       "      <td>0</td>\n",
       "      <td>4</td>\n",
       "      <td>0</td>\n",
       "      <td>8</td>\n",
       "      <td>54</td>\n",
       "      <td>구매 불가</td>\n",
       "      <td>https://www.winenara.com/shop/product/product_...</td>\n",
       "      <td>https://www.winenara.com/uploads/product/550/2...</td>\n",
       "    </tr>\n",
       "    <tr>\n",
       "      <th>8</th>\n",
       "      <td>프루노토 모스카토 다스티</td>\n",
       "      <td>PRUNOTTO MOSCATO D'ASTI</td>\n",
       "      <td>Sparkling</td>\n",
       "      <td>이탈리아</td>\n",
       "      <td>피에몬테, 아스티</td>\n",
       "      <td>프루노토, 안티노리</td>\n",
       "      <td>까넬리 모스카토 비앙코(Canelli Moscato Bianco) 100%</td>\n",
       "      <td>5.0</td>\n",
       "      <td>25000</td>\n",
       "      <td>4.0</td>\n",
       "      <td>1</td>\n",
       "      <td>5</td>\n",
       "      <td>2</td>\n",
       "      <td>0</td>\n",
       "      <td>9</td>\n",
       "      <td>444</td>\n",
       "      <td>구매 불가</td>\n",
       "      <td>https://www.winenara.com/shop/product/product_...</td>\n",
       "      <td>https://www.winenara.com/uploads/product/550/9...</td>\n",
       "    </tr>\n",
       "    <tr>\n",
       "      <th>...</th>\n",
       "      <td>...</td>\n",
       "      <td>...</td>\n",
       "      <td>...</td>\n",
       "      <td>...</td>\n",
       "      <td>...</td>\n",
       "      <td>...</td>\n",
       "      <td>...</td>\n",
       "      <td>...</td>\n",
       "      <td>...</td>\n",
       "      <td>...</td>\n",
       "      <td>...</td>\n",
       "      <td>...</td>\n",
       "      <td>...</td>\n",
       "      <td>...</td>\n",
       "      <td>...</td>\n",
       "      <td>...</td>\n",
       "      <td>...</td>\n",
       "      <td>...</td>\n",
       "      <td>...</td>\n",
       "    </tr>\n",
       "    <tr>\n",
       "      <th>624</th>\n",
       "      <td>일 까르보나이오네</td>\n",
       "      <td>IL CARBONAIONE</td>\n",
       "      <td>Red</td>\n",
       "      <td>이탈리아</td>\n",
       "      <td>토스카나</td>\n",
       "      <td>포데레 포죠 스칼레테</td>\n",
       "      <td>산지오베제 디 라몰레 (Saniovese di Lamole) 100%</td>\n",
       "      <td>13.5</td>\n",
       "      <td>200000</td>\n",
       "      <td>4.1</td>\n",
       "      <td>4</td>\n",
       "      <td>1</td>\n",
       "      <td>4</td>\n",
       "      <td>3</td>\n",
       "      <td>625</td>\n",
       "      <td>484</td>\n",
       "      <td>구매 예약</td>\n",
       "      <td>https://www.winenara.com/shop/product/product_...</td>\n",
       "      <td>https://www.winenara.com/uploads/product/550/6...</td>\n",
       "    </tr>\n",
       "    <tr>\n",
       "      <th>625</th>\n",
       "      <td>레 디페제</td>\n",
       "      <td>LE DIFESE</td>\n",
       "      <td>Red</td>\n",
       "      <td>이탈리아</td>\n",
       "      <td>토스카나, 볼게리</td>\n",
       "      <td>테누타 산 귀도</td>\n",
       "      <td>까베르네 소비뇽 (Cabernet Sauvignon) 70%, 산지오베제 (Sang...</td>\n",
       "      <td>13.5</td>\n",
       "      <td>48000</td>\n",
       "      <td>3.8</td>\n",
       "      <td>3</td>\n",
       "      <td>1</td>\n",
       "      <td>3</td>\n",
       "      <td>3</td>\n",
       "      <td>626</td>\n",
       "      <td>508</td>\n",
       "      <td>구매 불가</td>\n",
       "      <td>https://www.winenara.com/shop/product/product_...</td>\n",
       "      <td>https://www.winenara.com/uploads/product/550/6...</td>\n",
       "    </tr>\n",
       "    <tr>\n",
       "      <th>626</th>\n",
       "      <td>끌로 모가도르</td>\n",
       "      <td>CLOS MOGADOR</td>\n",
       "      <td>Red</td>\n",
       "      <td>스페인</td>\n",
       "      <td>프리오라트</td>\n",
       "      <td>끌로 모가도르</td>\n",
       "      <td>가르나차 45%, 까리냥 29%, 시라 16%, 카베르네 소비뇽 10%</td>\n",
       "      <td>15.0</td>\n",
       "      <td>290000</td>\n",
       "      <td>4.4</td>\n",
       "      <td>4</td>\n",
       "      <td>0</td>\n",
       "      <td>4</td>\n",
       "      <td>4</td>\n",
       "      <td>627</td>\n",
       "      <td>522</td>\n",
       "      <td>구매 예약</td>\n",
       "      <td>https://www.winenara.com/shop/product/product_...</td>\n",
       "      <td>https://www.winenara.com/uploads/product/550/6...</td>\n",
       "    </tr>\n",
       "    <tr>\n",
       "      <th>627</th>\n",
       "      <td>샤또 드 샤미레 메르퀴레 화이트</td>\n",
       "      <td>CHATEAU DE CHAMIREY MERCUREY WHITE</td>\n",
       "      <td>White</td>\n",
       "      <td>프랑스</td>\n",
       "      <td>부르고뉴, 꼬뜨 샬로네즈, 메르퀴레</td>\n",
       "      <td>샤또 드 샤미레</td>\n",
       "      <td>샤르도네 (Chardonnay)</td>\n",
       "      <td>13.5</td>\n",
       "      <td>89000</td>\n",
       "      <td>3.9</td>\n",
       "      <td>3</td>\n",
       "      <td>0</td>\n",
       "      <td>3</td>\n",
       "      <td>0</td>\n",
       "      <td>628</td>\n",
       "      <td>533</td>\n",
       "      <td>구매 예약</td>\n",
       "      <td>https://www.winenara.com/shop/product/product_...</td>\n",
       "      <td>https://www.winenara.com/uploads/product/550/5...</td>\n",
       "    </tr>\n",
       "    <tr>\n",
       "      <th>628</th>\n",
       "      <td>몬페르토네</td>\n",
       "      <td>MOMPERTONE</td>\n",
       "      <td>Red</td>\n",
       "      <td>이탈리아</td>\n",
       "      <td>피에몬테, 몬페라토</td>\n",
       "      <td>프루노토, 안티노리</td>\n",
       "      <td>바르베라(Barbera) 60%, 시라(Syrah) 40%</td>\n",
       "      <td>13.5</td>\n",
       "      <td>45000</td>\n",
       "      <td>3.7</td>\n",
       "      <td>3</td>\n",
       "      <td>1</td>\n",
       "      <td>4</td>\n",
       "      <td>3</td>\n",
       "      <td>629</td>\n",
       "      <td>549</td>\n",
       "      <td>구매 불가</td>\n",
       "      <td>https://www.winenara.com/shop/product/product_...</td>\n",
       "      <td>https://www.winenara.com/uploads/product/550/5...</td>\n",
       "    </tr>\n",
       "  </tbody>\n",
       "</table>\n",
       "<p>374 rows × 19 columns</p>\n",
       "</div>"
      ],
      "text/plain": [
       "                        이름                                     영문이름  \\\n",
       "2              아발론 카베르네소비뇽                        AVALON CALIFORNIA   \n",
       "4                이자디 엘 레갈로                          IZADI EL REGALO   \n",
       "6    빌라 안티노리 키안티 클라시코 리제르바  VILLA ANTINORI CHIANTI CLASSICO RISERVA   \n",
       "7             톨퍼들 빈야드 샤르도네            TOLPUDDLE VINEYARD CHARDONNAY   \n",
       "8            프루노토 모스카토 다스티                  PRUNOTTO MOSCATO D'ASTI   \n",
       "..                     ...                                      ...   \n",
       "624              일 까르보나이오네                           IL CARBONAIONE   \n",
       "625                  레 디페제                                LE DIFESE   \n",
       "626                끌로 모가도르                             CLOS MOGADOR   \n",
       "627      샤또 드 샤미레 메르퀴레 화이트       CHATEAU DE CHAMIREY MERCUREY WHITE   \n",
       "628                  몬페르토네                               MOMPERTONE   \n",
       "\n",
       "            종류    나라                  생산지                       제조사  \\\n",
       "2          Red    미국                캘리포니아                  아발론 와이너리   \n",
       "4          Red   스페인                  리오하  보데가스 이자디 (Bodegas Izadi)   \n",
       "6          Red  이탈리아       토스카나, 키안티 클라시코                      안티노리   \n",
       "7        White    호주            호주, 타스매니아            SHAW AND SMITH   \n",
       "8    Sparkling  이탈리아            피에몬테, 아스티                프루노토, 안티노리   \n",
       "..         ...   ...                  ...                       ...   \n",
       "624        Red  이탈리아                 토스카나               포데레 포죠 스칼레테   \n",
       "625        Red  이탈리아            토스카나, 볼게리                  테누타 산 귀도   \n",
       "626        Red   스페인                프리오라트                   끌로 모가도르   \n",
       "627      White   프랑스  부르고뉴, 꼬뜨 샬로네즈, 메르퀴레                  샤또 드 샤미레   \n",
       "628        Red  이탈리아           피에몬테, 몬페라토                프루노토, 안티노리   \n",
       "\n",
       "                                                  포도품종  알코올도수      가격   평점  \\\n",
       "2    까베르네 소비뇽 (Cabernet Sauvignon) 76%, 시라 (Syrah) ...   13.8   24900  3.5   \n",
       "4    템프라니요 (Tempranillo) 90%, 가르나차 (Garnacha), 그라시아...   14.1   77000  4.0   \n",
       "6                              산지오베제 90%, 카베르네 소비뇽 10%   14.0   39000  4.0   \n",
       "7                                샤르도네(CHARDONNAY) 100%   12.5  100000  4.2   \n",
       "8            까넬리 모스카토 비앙코(Canelli Moscato Bianco) 100%    5.0   25000  4.0   \n",
       "..                                                 ...    ...     ...  ...   \n",
       "624             산지오베제 디 라몰레 (Saniovese di Lamole) 100%   13.5  200000  4.1   \n",
       "625  까베르네 소비뇽 (Cabernet Sauvignon) 70%, 산지오베제 (Sang...   13.5   48000  3.8   \n",
       "626            가르나차 45%, 까리냥 29%, 시라 16%, 카베르네 소비뇽 10%   15.0  290000  4.4   \n",
       "627                                  샤르도네 (Chardonnay)   13.5   89000  3.9   \n",
       "628                   바르베라(Barbera) 60%, 시라(Syrah) 40%   13.5   45000  3.7   \n",
       "\n",
       "     산도  당도  바디감  탄닌  인기순위  추천순위 구매가능여부  \\\n",
       "2     3   1    3   3     3   514  구매 예약   \n",
       "4     3   0    4   3     5   155  구매 불가   \n",
       "6     3   0    3   4     7   117  구매 불가   \n",
       "7     3   0    4   0     8    54  구매 불가   \n",
       "8     1   5    2   0     9   444  구매 불가   \n",
       "..   ..  ..  ...  ..   ...   ...    ...   \n",
       "624   4   1    4   3   625   484  구매 예약   \n",
       "625   3   1    3   3   626   508  구매 불가   \n",
       "626   4   0    4   4   627   522  구매 예약   \n",
       "627   3   0    3   0   628   533  구매 예약   \n",
       "628   3   1    4   3   629   549  구매 불가   \n",
       "\n",
       "                                                    주소  \\\n",
       "2    https://www.winenara.com/shop/product/product_...   \n",
       "4    https://www.winenara.com/shop/product/product_...   \n",
       "6    https://www.winenara.com/shop/product/product_...   \n",
       "7    https://www.winenara.com/shop/product/product_...   \n",
       "8    https://www.winenara.com/shop/product/product_...   \n",
       "..                                                 ...   \n",
       "624  https://www.winenara.com/shop/product/product_...   \n",
       "625  https://www.winenara.com/shop/product/product_...   \n",
       "626  https://www.winenara.com/shop/product/product_...   \n",
       "627  https://www.winenara.com/shop/product/product_...   \n",
       "628  https://www.winenara.com/shop/product/product_...   \n",
       "\n",
       "                                                 이미지주소  \n",
       "2    https://www.winenara.com/uploads/product/550/6...  \n",
       "4    https://www.winenara.com/uploads/product/550/1...  \n",
       "6    https://www.winenara.com/uploads/product/550/1...  \n",
       "7    https://www.winenara.com/uploads/product/550/2...  \n",
       "8    https://www.winenara.com/uploads/product/550/9...  \n",
       "..                                                 ...  \n",
       "624  https://www.winenara.com/uploads/product/550/6...  \n",
       "625  https://www.winenara.com/uploads/product/550/6...  \n",
       "626  https://www.winenara.com/uploads/product/550/6...  \n",
       "627  https://www.winenara.com/uploads/product/550/5...  \n",
       "628  https://www.winenara.com/uploads/product/550/5...  \n",
       "\n",
       "[374 rows x 19 columns]"
      ]
     },
     "execution_count": 1,
     "metadata": {},
     "output_type": "execute_result"
    }
   ],
   "source": [
    "import pandas as pd\n",
    "\n",
    "wine_df = pd.read_csv('./new_wine_df_all.csv',index_col= 0)\n",
    "wine_df"
   ]
  },
  {
   "cell_type": "code",
   "execution_count": 2,
   "metadata": {},
   "outputs": [],
   "source": [
    "rating = wine_df[['이름','평점']]\n",
    "rating = rating.reset_index()\n",
    "rating.columns = ['순위','이름','평점']\n",
    "rating.순위 = rating.순위+1"
   ]
  },
  {
   "cell_type": "code",
   "execution_count": 3,
   "metadata": {},
   "outputs": [],
   "source": [
    "from sklearn.preprocessing import MinMaxScaler\n",
    "rating['순위지수'] = MinMaxScaler().fit_transform(rating[['순위']])"
   ]
  },
  {
   "cell_type": "code",
   "execution_count": 6,
   "metadata": {},
   "outputs": [],
   "source": [
    "rating['평점지수'] = rating.평점 + (1 - rating.순위지수)/1.5"
   ]
  },
  {
   "cell_type": "code",
   "execution_count": 8,
   "metadata": {},
   "outputs": [],
   "source": [
    "from sklearn.preprocessing import StandardScaler\n",
    "rating['순위지수'] = StandardScaler().fit_transform(rating[['순위']])"
   ]
  },
  {
   "cell_type": "code",
   "execution_count": 13,
   "metadata": {},
   "outputs": [],
   "source": [
    "rating['평점지수'] = rating.평점 + (1 - rating.순위지수)/3"
   ]
  },
  {
   "cell_type": "code",
   "execution_count": 14,
   "metadata": {},
   "outputs": [
    {
     "data": {
      "text/html": [
       "<div>\n",
       "<style scoped>\n",
       "    .dataframe tbody tr th:only-of-type {\n",
       "        vertical-align: middle;\n",
       "    }\n",
       "\n",
       "    .dataframe tbody tr th {\n",
       "        vertical-align: top;\n",
       "    }\n",
       "\n",
       "    .dataframe thead th {\n",
       "        text-align: right;\n",
       "    }\n",
       "</style>\n",
       "<table border=\"1\" class=\"dataframe\">\n",
       "  <thead>\n",
       "    <tr style=\"text-align: right;\">\n",
       "      <th></th>\n",
       "      <th>순위</th>\n",
       "      <th>이름</th>\n",
       "      <th>평점</th>\n",
       "      <th>순위지수</th>\n",
       "      <th>평점지수</th>\n",
       "    </tr>\n",
       "  </thead>\n",
       "  <tbody>\n",
       "    <tr>\n",
       "      <th>0</th>\n",
       "      <td>3</td>\n",
       "      <td>아발론 카베르네소비뇽</td>\n",
       "      <td>3.5</td>\n",
       "      <td>-1.623759</td>\n",
       "      <td>4.374586</td>\n",
       "    </tr>\n",
       "    <tr>\n",
       "      <th>1</th>\n",
       "      <td>5</td>\n",
       "      <td>이자디 엘 레갈로</td>\n",
       "      <td>4.0</td>\n",
       "      <td>-1.612602</td>\n",
       "      <td>4.870867</td>\n",
       "    </tr>\n",
       "    <tr>\n",
       "      <th>2</th>\n",
       "      <td>7</td>\n",
       "      <td>빌라 안티노리 키안티 클라시코 리제르바</td>\n",
       "      <td>4.0</td>\n",
       "      <td>-1.601445</td>\n",
       "      <td>4.867148</td>\n",
       "    </tr>\n",
       "    <tr>\n",
       "      <th>3</th>\n",
       "      <td>8</td>\n",
       "      <td>톨퍼들 빈야드 샤르도네</td>\n",
       "      <td>4.2</td>\n",
       "      <td>-1.595867</td>\n",
       "      <td>5.065289</td>\n",
       "    </tr>\n",
       "    <tr>\n",
       "      <th>4</th>\n",
       "      <td>9</td>\n",
       "      <td>프루노토 모스카토 다스티</td>\n",
       "      <td>4.0</td>\n",
       "      <td>-1.590288</td>\n",
       "      <td>4.863429</td>\n",
       "    </tr>\n",
       "    <tr>\n",
       "      <th>...</th>\n",
       "      <td>...</td>\n",
       "      <td>...</td>\n",
       "      <td>...</td>\n",
       "      <td>...</td>\n",
       "      <td>...</td>\n",
       "    </tr>\n",
       "    <tr>\n",
       "      <th>369</th>\n",
       "      <td>625</td>\n",
       "      <td>일 까르보나이오네</td>\n",
       "      <td>4.1</td>\n",
       "      <td>1.846096</td>\n",
       "      <td>3.817968</td>\n",
       "    </tr>\n",
       "    <tr>\n",
       "      <th>370</th>\n",
       "      <td>626</td>\n",
       "      <td>레 디페제</td>\n",
       "      <td>3.8</td>\n",
       "      <td>1.851674</td>\n",
       "      <td>3.516109</td>\n",
       "    </tr>\n",
       "    <tr>\n",
       "      <th>371</th>\n",
       "      <td>627</td>\n",
       "      <td>끌로 모가도르</td>\n",
       "      <td>4.4</td>\n",
       "      <td>1.857253</td>\n",
       "      <td>4.114249</td>\n",
       "    </tr>\n",
       "    <tr>\n",
       "      <th>372</th>\n",
       "      <td>628</td>\n",
       "      <td>샤또 드 샤미레 메르퀴레 화이트</td>\n",
       "      <td>3.9</td>\n",
       "      <td>1.862831</td>\n",
       "      <td>3.612390</td>\n",
       "    </tr>\n",
       "    <tr>\n",
       "      <th>373</th>\n",
       "      <td>629</td>\n",
       "      <td>몬페르토네</td>\n",
       "      <td>3.7</td>\n",
       "      <td>1.868410</td>\n",
       "      <td>3.410530</td>\n",
       "    </tr>\n",
       "  </tbody>\n",
       "</table>\n",
       "<p>374 rows × 5 columns</p>\n",
       "</div>"
      ],
      "text/plain": [
       "      순위                     이름   평점      순위지수      평점지수\n",
       "0      3            아발론 카베르네소비뇽  3.5 -1.623759  4.374586\n",
       "1      5              이자디 엘 레갈로  4.0 -1.612602  4.870867\n",
       "2      7  빌라 안티노리 키안티 클라시코 리제르바  4.0 -1.601445  4.867148\n",
       "3      8           톨퍼들 빈야드 샤르도네  4.2 -1.595867  5.065289\n",
       "4      9          프루노토 모스카토 다스티  4.0 -1.590288  4.863429\n",
       "..   ...                    ...  ...       ...       ...\n",
       "369  625              일 까르보나이오네  4.1  1.846096  3.817968\n",
       "370  626                  레 디페제  3.8  1.851674  3.516109\n",
       "371  627                끌로 모가도르  4.4  1.857253  4.114249\n",
       "372  628      샤또 드 샤미레 메르퀴레 화이트  3.9  1.862831  3.612390\n",
       "373  629                  몬페르토네  3.7  1.868410  3.410530\n",
       "\n",
       "[374 rows x 5 columns]"
      ]
     },
     "execution_count": 14,
     "metadata": {},
     "output_type": "execute_result"
    }
   ],
   "source": [
    "rating"
   ]
  },
  {
   "cell_type": "code",
   "execution_count": 16,
   "metadata": {},
   "outputs": [],
   "source": [
    "wine_df_save = pd.merge(wine_df,rating[['이름','평점지수']])"
   ]
  },
  {
   "cell_type": "code",
   "execution_count": 17,
   "metadata": {},
   "outputs": [],
   "source": [
    "wine_df_save.to_csv('wine_df_all_save.csv')"
   ]
  },
  {
   "cell_type": "code",
   "execution_count": 48,
   "metadata": {},
   "outputs": [
    {
     "data": {
      "text/html": [
       "<div>\n",
       "<style scoped>\n",
       "    .dataframe tbody tr th:only-of-type {\n",
       "        vertical-align: middle;\n",
       "    }\n",
       "\n",
       "    .dataframe tbody tr th {\n",
       "        vertical-align: top;\n",
       "    }\n",
       "\n",
       "    .dataframe thead th {\n",
       "        text-align: right;\n",
       "    }\n",
       "</style>\n",
       "<table border=\"1\" class=\"dataframe\">\n",
       "  <thead>\n",
       "    <tr style=\"text-align: right;\">\n",
       "      <th></th>\n",
       "      <th>이름</th>\n",
       "      <th>영문이름</th>\n",
       "      <th>종류</th>\n",
       "      <th>나라</th>\n",
       "      <th>생산지</th>\n",
       "      <th>제조사</th>\n",
       "      <th>포도품종</th>\n",
       "      <th>주포도품종</th>\n",
       "      <th>알코올도수</th>\n",
       "      <th>가격</th>\n",
       "      <th>평점</th>\n",
       "      <th>산도</th>\n",
       "      <th>당도</th>\n",
       "      <th>바디감</th>\n",
       "      <th>탄닌</th>\n",
       "      <th>주소</th>\n",
       "    </tr>\n",
       "  </thead>\n",
       "  <tbody>\n",
       "    <tr>\n",
       "      <th>195</th>\n",
       "      <td>리아논 레드 블렌드</td>\n",
       "      <td>Rhiannon Red Blend</td>\n",
       "      <td>Red</td>\n",
       "      <td>미국</td>\n",
       "      <td>캘리포니아, 로다이</td>\n",
       "      <td>러더포드 와인 컴퍼니</td>\n",
       "      <td>쁘띠 쉬라 57%, 쉬라 37%, 바르베라 3%</td>\n",
       "      <td>쁘띠 쉬라 57%, 쉬라 37%, 바르베라 3%</td>\n",
       "      <td>13.5</td>\n",
       "      <td>50000</td>\n",
       "      <td>3.9</td>\n",
       "      <td>4</td>\n",
       "      <td>2</td>\n",
       "      <td>4</td>\n",
       "      <td>3</td>\n",
       "      <td>https://www.winenara.com/goods/goods_view.php?...</td>\n",
       "    </tr>\n",
       "    <tr>\n",
       "      <th>507</th>\n",
       "      <td>우르바노</td>\n",
       "      <td>URBANO</td>\n",
       "      <td>Red</td>\n",
       "      <td>스페인</td>\n",
       "      <td>까스티야 라 만차</td>\n",
       "      <td>NaN</td>\n",
       "      <td>템프라니요, 카베르네 소비뇽</td>\n",
       "      <td>템프라니요, 카베르네 소비뇽</td>\n",
       "      <td>12.5</td>\n",
       "      <td>18000</td>\n",
       "      <td>2.9</td>\n",
       "      <td>3</td>\n",
       "      <td>2</td>\n",
       "      <td>3</td>\n",
       "      <td>2</td>\n",
       "      <td>https://www.winenara.com/goods/goods_view.php?...</td>\n",
       "    </tr>\n",
       "  </tbody>\n",
       "</table>\n",
       "</div>"
      ],
      "text/plain": [
       "             이름                영문이름   종류   나라         생산지          제조사  \\\n",
       "195  리아논 레드 블렌드  Rhiannon Red Blend  Red   미국  캘리포니아, 로다이  러더포드 와인 컴퍼니   \n",
       "507        우르바노              URBANO  Red  스페인   까스티야 라 만차          NaN   \n",
       "\n",
       "                           포도품종                       주포도품종  알코올도수     가격  \\\n",
       "195  쁘띠 쉬라 57%, 쉬라 37%, 바르베라 3%  쁘띠 쉬라 57%, 쉬라 37%, 바르베라 3%   13.5  50000   \n",
       "507             템프라니요, 카베르네 소비뇽             템프라니요, 카베르네 소비뇽   12.5  18000   \n",
       "\n",
       "      평점  산도  당도  바디감  탄닌                                                 주소  \n",
       "195  3.9   4   2    4   3  https://www.winenara.com/goods/goods_view.php?...  \n",
       "507  2.9   3   2    3   2  https://www.winenara.com/goods/goods_view.php?...  "
      ]
     },
     "execution_count": 48,
     "metadata": {},
     "output_type": "execute_result"
    }
   ],
   "source": [
    "wine_df[(wine_df.종류 =='Red')&(wine_df.당도 == 2)]"
   ]
  },
  {
   "cell_type": "code",
   "execution_count": 98,
   "metadata": {},
   "outputs": [
    {
     "data": {
      "text/plain": [
       "<AxesSubplot:>"
      ]
     },
     "execution_count": 98,
     "metadata": {},
     "output_type": "execute_result"
    },
    {
     "data": {
      "image/png": "[encoded data removed]",
      "text/plain": [
       "<Figure size 1440x720 with 1 Axes>"
      ]
     },
     "metadata": {
      "needs_background": "light"
     },
     "output_type": "display_data"
    }
   ],
   "source": [
    "import matplotlib.pyplot as plt\n",
    "\n",
    "plt.figure(figsize=(20,10))\n",
    "wine_df.평점.hist(bins = 30)"
   ]
  },
  {
   "cell_type": "code",
   "execution_count": 55,
   "metadata": {},
   "outputs": [
    {
     "data": {
      "text/plain": [
       "<AxesSubplot:>"
      ]
     },
     "execution_count": 55,
     "metadata": {},
     "output_type": "execute_result"
    },
    {
     "data": {
      "image/png": "[encoded data removed]",
      "text/plain": [
       "<Figure size 1440x720 with 1 Axes>"
      ]
     },
     "metadata": {
      "needs_background": "light"
     },
     "output_type": "display_data"
    }
   ],
   "source": [
    "import matplotlib.pyplot as plt\n",
    "\n",
    "plt.figure(figsize=(20,10))\n",
    "wine_df.알코올도수.hist(bins = 100)"
   ]
  },
  {
   "cell_type": "code",
   "execution_count": null,
   "metadata": {},
   "outputs": [],
   "source": [
    "# 알코올 도수 범주화 : 12미만 , 12~13미만, 13이상~14미만 , 14이상"
   ]
  },
  {
   "cell_type": "code",
   "execution_count": 60,
   "metadata": {},
   "outputs": [
    {
     "data": {
      "text/plain": [
       "<AxesSubplot:>"
      ]
     },
     "execution_count": 60,
     "metadata": {},
     "output_type": "execute_result"
    },
    {
     "data": {
      "image/png": "[encoded data removed]",
      "text/plain": [
       "<Figure size 1440x720 with 1 Axes>"
      ]
     },
     "metadata": {
      "needs_background": "light"
     },
     "output_type": "display_data"
    }
   ],
   "source": [
    "plt.figure(figsize=(20,10))\n",
    "wine_df.가격.hist(bins = 50)"
   ]
  },
  {
   "cell_type": "code",
   "execution_count": 62,
   "metadata": {},
   "outputs": [
    {
     "data": {
      "text/plain": [
       "<AxesSubplot:>"
      ]
     },
     "execution_count": 62,
     "metadata": {},
     "output_type": "execute_result"
    },
    {
     "data": {
      "image/png": "[encoded data removed]",
      "text/plain": [
       "<Figure size 1440x720 with 1 Axes>"
      ]
     },
     "metadata": {
      "needs_background": "light"
     },
     "output_type": "display_data"
    }
   ],
   "source": [
    "plt.figure(figsize=(20,10))\n",
    "wine_df.가격[wine_df.가격<200000].hist(bins = 50)"
   ]
  },
  {
   "cell_type": "code",
   "execution_count": 63,
   "metadata": {},
   "outputs": [
    {
     "data": {
      "text/plain": [
       "<AxesSubplot:>"
      ]
     },
     "execution_count": 63,
     "metadata": {},
     "output_type": "execute_result"
    },
    {
     "data": {
      "image/png": "[encoded data removed]",
      "text/plain": [
       "<Figure size 1440x720 with 1 Axes>"
      ]
     },
     "metadata": {
      "needs_background": "light"
     },
     "output_type": "display_data"
    }
   ],
   "source": [
    "plt.figure(figsize=(20,10))\n",
    "wine_df.가격[wine_df.가격<100000].hist(bins = 50)"
   ]
  },
  {
   "cell_type": "code",
   "execution_count": 51,
   "metadata": {},
   "outputs": [
    {
     "ename": "SyntaxError",
     "evalue": "invalid syntax (Temp/ipykernel_5036/950309189.py, line 3)",
     "output_type": "error",
     "traceback": [
      "\u001b[1;36m  File \u001b[1;32m\"C:\\Users\\admin\\AppData\\Local\\Temp/ipykernel_5036/950309189.py\"\u001b[1;36m, line \u001b[1;32m3\u001b[0m\n\u001b[1;33m    if column > : cat = 'A'\u001b[0m\n\u001b[1;37m                ^\u001b[0m\n\u001b[1;31mSyntaxError\u001b[0m\u001b[1;31m:\u001b[0m invalid syntax\n"
     ]
    }
   ],
   "source": [
    "def get_category(column):\n",
    "    cat = ''                #여기에 저장됨\n",
    "    if column > : cat = 'A'\n",
    "    elif : cat = 'B'\n",
    "    else:\n",
    "        cat = 'C'\n",
    "    return cat"
   ]
  },
  {
   "cell_type": "code",
   "execution_count": null,
   "metadata": {},
   "outputs": [
    {
     "data": {
      "text/plain": [
       "3    187\n",
       "4    133\n",
       "2     35\n",
       "5     16\n",
       "0      8\n",
       "1      3\n",
       "Name: 탄닌, dtype: int64"
      ]
     },
     "execution_count": 29,
     "metadata": {},
     "output_type": "execute_result"
    }
   ],
   "source": [
    "wine_df[wine_df.종류 =='Red'].탄닌.value_counts()"
   ]
  },
  {
   "cell_type": "code",
   "execution_count": null,
   "metadata": {},
   "outputs": [
    {
     "data": {
      "text/plain": [
       "0    238\n",
       "1    134\n",
       "3      5\n",
       "4      3\n",
       "2      2\n",
       "Name: 당도, dtype: int64"
      ]
     },
     "execution_count": 16,
     "metadata": {},
     "output_type": "execute_result"
    }
   ],
   "source": [
    "wine_df[wine_df.종류 =='Red'].당도.value_counts()"
   ]
  },
  {
   "cell_type": "code",
   "execution_count": null,
   "metadata": {},
   "outputs": [
    {
     "data": {
      "text/plain": [
       "0    99\n",
       "1    50\n",
       "2     9\n",
       "4     7\n",
       "3     1\n",
       "Name: 당도, dtype: int64"
      ]
     },
     "execution_count": 21,
     "metadata": {},
     "output_type": "execute_result"
    }
   ],
   "source": [
    "wine_df[wine_df.종류 =='White'].당도.value_counts()"
   ]
  },
  {
   "cell_type": "code",
   "execution_count": null,
   "metadata": {},
   "outputs": [
    {
     "data": {
      "text/plain": [
       "0    16\n",
       "1     9\n",
       "4     3\n",
       "5     2\n",
       "2     1\n",
       "Name: 당도, dtype: int64"
      ]
     },
     "execution_count": 23,
     "metadata": {},
     "output_type": "execute_result"
    }
   ],
   "source": [
    "wine_df[wine_df.종류 =='Sparkling'].당도.value_counts()"
   ]
  },
  {
   "cell_type": "code",
   "execution_count": null,
   "metadata": {},
   "outputs": [
    {
     "data": {
      "text/plain": [
       "0    7\n",
       "1    5\n",
       "4    2\n",
       "3    2\n",
       "Name: 당도, dtype: int64"
      ]
     },
     "execution_count": 24,
     "metadata": {},
     "output_type": "execute_result"
    }
   ],
   "source": [
    "wine_df[wine_df.종류 =='Rose'].당도.value_counts()"
   ]
  },
  {
   "cell_type": "code",
   "execution_count": null,
   "metadata": {},
   "outputs": [
    {
     "data": {
      "text/plain": [
       "0    25\n",
       "1     9\n",
       "Name: 당도, dtype: int64"
      ]
     },
     "execution_count": 25,
     "metadata": {},
     "output_type": "execute_result"
    }
   ],
   "source": [
    "wine_df[wine_df.종류 =='Champagne'].당도.value_counts()"
   ]
  },
  {
   "cell_type": "code",
   "execution_count": null,
   "metadata": {},
   "outputs": [
    {
     "data": {
      "text/plain": [
       "3    257\n",
       "4     98\n",
       "2     21\n",
       "1      4\n",
       "5      2\n",
       "Name: 산도, dtype: int64"
      ]
     },
     "execution_count": 17,
     "metadata": {},
     "output_type": "execute_result"
    }
   ],
   "source": [
    "wine_df[wine_df.종류 =='Red'].산도.value_counts()"
   ]
  },
  {
   "cell_type": "code",
   "execution_count": null,
   "metadata": {},
   "outputs": [
    {
     "data": {
      "text/plain": [
       "3    110\n",
       "4     41\n",
       "2      9\n",
       "1      5\n",
       "5      1\n",
       "Name: 산도, dtype: int64"
      ]
     },
     "execution_count": 27,
     "metadata": {},
     "output_type": "execute_result"
    }
   ],
   "source": [
    "wine_df[wine_df.종류 =='White'].산도.value_counts()"
   ]
  },
  {
   "cell_type": "code",
   "execution_count": null,
   "metadata": {},
   "outputs": [
    {
     "data": {
      "text/plain": [
       "3    18\n",
       "4     7\n",
       "1     3\n",
       "2     3\n",
       "Name: 산도, dtype: int64"
      ]
     },
     "execution_count": 28,
     "metadata": {},
     "output_type": "execute_result"
    }
   ],
   "source": [
    "wine_df[wine_df.종류 =='Sparkling'].산도.value_counts()"
   ]
  },
  {
   "cell_type": "code",
   "execution_count": null,
   "metadata": {},
   "outputs": [
    {
     "data": {
      "text/plain": [
       "3    12\n",
       "2     2\n",
       "1     1\n",
       "4     1\n",
       "Name: 산도, dtype: int64"
      ]
     },
     "execution_count": 30,
     "metadata": {},
     "output_type": "execute_result"
    }
   ],
   "source": [
    "wine_df[wine_df.종류 =='Rose'].산도.value_counts()"
   ]
  },
  {
   "cell_type": "code",
   "execution_count": null,
   "metadata": {},
   "outputs": [
    {
     "data": {
      "text/plain": [
       "3    23\n",
       "4     6\n",
       "5     3\n",
       "2     1\n",
       "1     1\n",
       "Name: 산도, dtype: int64"
      ]
     },
     "execution_count": 31,
     "metadata": {},
     "output_type": "execute_result"
    }
   ],
   "source": [
    "wine_df[wine_df.종류 =='Champagne'].산도.value_counts()"
   ]
  },
  {
   "cell_type": "code",
   "execution_count": null,
   "metadata": {},
   "outputs": [
    {
     "data": {
      "text/plain": [
       "4    181\n",
       "3    145\n",
       "5     35\n",
       "2     19\n",
       "1      1\n",
       "0      1\n",
       "Name: 바디감, dtype: int64"
      ]
     },
     "execution_count": 18,
     "metadata": {},
     "output_type": "execute_result"
    }
   ],
   "source": [
    "wine_df[wine_df.종류 =='Red'].바디감.value_counts()"
   ]
  },
  {
   "cell_type": "code",
   "execution_count": null,
   "metadata": {},
   "outputs": [
    {
     "data": {
      "text/plain": [
       "3    72\n",
       "2    56\n",
       "4    32\n",
       "1     4\n",
       "5     2\n",
       "Name: 바디감, dtype: int64"
      ]
     },
     "execution_count": 32,
     "metadata": {},
     "output_type": "execute_result"
    }
   ],
   "source": [
    "wine_df[wine_df.종류 =='White'].바디감.value_counts()"
   ]
  },
  {
   "cell_type": "code",
   "execution_count": null,
   "metadata": {},
   "outputs": [
    {
     "data": {
      "text/plain": [
       "2    13\n",
       "3    11\n",
       "4     5\n",
       "1     1\n",
       "5     1\n",
       "Name: 바디감, dtype: int64"
      ]
     },
     "execution_count": 35,
     "metadata": {},
     "output_type": "execute_result"
    }
   ],
   "source": [
    "wine_df[wine_df.종류 =='Sparkling'].바디감.value_counts()"
   ]
  },
  {
   "cell_type": "code",
   "execution_count": null,
   "metadata": {},
   "outputs": [
    {
     "data": {
      "text/plain": [
       "2    10\n",
       "3     4\n",
       "4     1\n",
       "1     1\n",
       "Name: 바디감, dtype: int64"
      ]
     },
     "execution_count": 33,
     "metadata": {},
     "output_type": "execute_result"
    }
   ],
   "source": [
    "wine_df[wine_df.종류 =='Rose'].바디감.value_counts()"
   ]
  },
  {
   "cell_type": "code",
   "execution_count": null,
   "metadata": {},
   "outputs": [
    {
     "data": {
      "text/plain": [
       "3    18\n",
       "4    11\n",
       "2     4\n",
       "5     1\n",
       "Name: 바디감, dtype: int64"
      ]
     },
     "execution_count": 34,
     "metadata": {},
     "output_type": "execute_result"
    }
   ],
   "source": [
    "wine_df[wine_df.종류 =='Champagne'].바디감.value_counts()"
   ]
  },
  {
   "cell_type": "code",
   "execution_count": null,
   "metadata": {},
   "outputs": [
    {
     "data": {
      "text/plain": [
       "3    187\n",
       "4    133\n",
       "2     35\n",
       "5     16\n",
       "0      8\n",
       "1      3\n",
       "Name: 탄닌, dtype: int64"
      ]
     },
     "execution_count": 19,
     "metadata": {},
     "output_type": "execute_result"
    }
   ],
   "source": [
    "wine_df[wine_df.종류 =='Red'].탄닌.value_counts()"
   ]
  },
  {
   "cell_type": "code",
   "execution_count": null,
   "metadata": {},
   "outputs": [
    {
     "name": "stdout",
     "output_type": "stream",
     "text": [
      "<class 'pandas.core.frame.DataFrame'>\n",
      "Int64Index: 629 entries, 0 to 628\n",
      "Data columns (total 16 columns):\n",
      " #   Column  Non-Null Count  Dtype  \n",
      "---  ------  --------------  -----  \n",
      " 0   이름      629 non-null    object \n",
      " 1   영문이름    629 non-null    object \n",
      " 2   종류      629 non-null    object \n",
      " 3   나라      629 non-null    object \n",
      " 4   생산지     627 non-null    object \n",
      " 5   제조사     610 non-null    object \n",
      " 6   포도품종    627 non-null    object \n",
      " 7   주포도품종   627 non-null    object \n",
      " 8   알코올도수   629 non-null    object \n",
      " 9   가격      629 non-null    int64  \n",
      " 10  평점      629 non-null    float64\n",
      " 11  산도      629 non-null    int64  \n",
      " 12  당도      629 non-null    int64  \n",
      " 13  바디감     629 non-null    int64  \n",
      " 14  탄닌      629 non-null    int64  \n",
      " 15  주소      629 non-null    object \n",
      "dtypes: float64(1), int64(5), object(10)\n",
      "memory usage: 83.5+ KB\n"
     ]
    }
   ],
   "source": [
    "wine_df.info()"
   ]
  },
  {
   "cell_type": "code",
   "execution_count": null,
   "metadata": {},
   "outputs": [],
   "source": []
  }
 ],
 "metadata": {
  "interpreter": {
   "hash": "05ac694886adde9125cb438ca1952c2124abc484b1a085dccba0cab67f4c2657"
  },
  "kernelspec": {
   "display_name": "Python 3.8.12 ('cakd5')",
   "language": "python",
   "name": "python3"
  },
  "language_info": {
   "codemirror_mode": {
    "name": "ipython",
    "version": 3
   },
   "file_extension": ".py",
   "mimetype": "text/x-python",
   "name": "python",
   "nbconvert_exporter": "python",
   "pygments_lexer": "ipython3",
   "version": "3.9.7"
  },
  "orig_nbformat": 4
 },
 "nbformat": 4,
 "nbformat_minor": 2
}
