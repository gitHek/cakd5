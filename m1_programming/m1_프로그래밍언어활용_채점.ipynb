{
 "cells": [
  {
   "cell_type": "markdown",
   "metadata": {},
   "source": [
    "## 프로젝트 기반 AI 빅데이터 서비스 솔루션 개발 전문과정\n",
    "\n",
    "#### 교과목명 : 프로그래밍 언어 활용\n",
    "\n",
    "- 평가일 : 22.01.07\n",
    "- 성명 : 권혁종\n",
    "- 점수 : 88\n",
    "\n",
    "※ 문제당 5점으로 채점"
   ]
  },
  {
   "cell_type": "markdown",
   "metadata": {},
   "source": [
    "#### 1. numbers 리스트에서 15, 20, 25를 출력하세요.(for문과 if 조건 사용 필수)     5점\n",
    "numbers = [5, 15, 6, 20, 7, 25] "
   ]
  },
  {
   "cell_type": "code",
   "execution_count": 2,
   "metadata": {},
   "outputs": [
    {
     "name": "stdout",
     "output_type": "stream",
     "text": [
      "15\n",
      "20\n",
      "25\n"
     ]
    }
   ],
   "source": [
    "numbers = [5, 15, 6, 20, 7, 25]\n",
    "for i in numbers:\n",
    "    if i %5 == 0 and i >5:\n",
    "        print(i)\n",
    "    else:\n",
    "        pass"
   ]
  },
  {
   "cell_type": "markdown",
   "metadata": {},
   "source": [
    "#### 2. 아래 사용자 함수, 변수 리스트 및 2개의 내장함수를 각각 이용해서  [1, 4, 9, 16, 25], [1, 2]를 출력하세요.(내장함수 2개 사용 필수)  5점"
   ]
  },
  {
   "cell_type": "code",
   "execution_count": 13,
   "metadata": {},
   "outputs": [
    {
     "name": "stdout",
     "output_type": "stream",
     "text": [
      "[1, 4, 9, 16, 25]\n",
      "[1, 2]\n"
     ]
    }
   ],
   "source": [
    "# 함수를 선언합니다.\n",
    "def power(item):\n",
    "    return item * item\n",
    "def under_3(item):\n",
    "    return item < 3\n",
    "\n",
    "# 변수를 선언합니다.\n",
    "list_input_a = [1, 2, 3, 4, 5]\n",
    "\n",
    "a = list(map(lambda x : power(x),(list_input_a)))\n",
    "print(a)\n",
    "b = list(filter(lambda x : under_3(x),(list_input_a)))\n",
    "print(b)"
   ]
  },
  {
   "cell_type": "markdown",
   "metadata": {},
   "source": [
    "#### 3. 정수를 입력하면 짝수 홀수 여부를 반환해주는 프로그램을 작성하세요.(정수 입력 후 '짝수', '홀수'가 일치하게 출력)  5점"
   ]
  },
  {
   "cell_type": "code",
   "execution_count": 17,
   "metadata": {},
   "outputs": [
    {
     "name": "stdout",
     "output_type": "stream",
     "text": [
      "number : 88165\n",
      "홀수\n"
     ]
    }
   ],
   "source": [
    "num = int(input('number : '))\n",
    "if num %2 == 0:\n",
    "    print('짝수')\n",
    "else:\n",
    "    print('홀수')"
   ]
  },
  {
   "cell_type": "markdown",
   "metadata": {},
   "source": [
    "#### 4. 람다 함수를 이용해서 a의 b제곱에서 a x b를 뺀 수를 구하는 식을 만들고 그 식을 이용해서  a, b가 아래와 같이 주어졌을 때 각각의 값을 구하세요.  5점\n",
    "a = 2, b = 5 \\\n",
    "a= 5, b = 2"
   ]
  },
  {
   "cell_type": "code",
   "execution_count": 20,
   "metadata": {},
   "outputs": [
    {
     "name": "stdout",
     "output_type": "stream",
     "text": [
      "22\n",
      "15\n"
     ]
    }
   ],
   "source": [
    "cal = lambda a ,b : (a**b)-(a*b) \n",
    "print(cal(2,5))\n",
    "print(cal(5,2))"
   ]
  },
  {
   "cell_type": "markdown",
   "metadata": {},
   "source": [
    "#### 5. 123456789를 입력하면 천 단위로 콤마로 구분하여 출력하세요. 0점"
   ]
  },
  {
   "cell_type": "code",
   "execution_count": 38,
   "metadata": {
    "scrolled": true
   },
   "outputs": [
    {
     "name": "stdout",
     "output_type": "stream",
     "text": [
      "number1111111\n"
     ]
    },
    {
     "data": {
      "text/plain": [
       "'1,111,111'"
      ]
     },
     "execution_count": 38,
     "metadata": {},
     "output_type": "execute_result"
    }
   ],
   "source": [
    "a = input('number')\n",
    "lista = list(a)\n",
    "lista = lista[::-1]\n",
    "for i in range(len(lista)):\n",
    "    if i%3 == 2:\n",
    "        lista.append(lista[0])\n",
    "        lista.append(',')\n",
    "        del lista[0]\n",
    "    else:\n",
    "        lista.append(lista[0])\n",
    "        del lista[0]\n",
    "if len(a)%3==0:\n",
    "    del lista[-1]\n",
    "lista = lista [::-1]\n",
    "\"\".join(lista)"
   ]
  },
  {
   "cell_type": "markdown",
   "metadata": {},
   "source": [
    "#### 6. example_list = [\"요소A\", \"요소B\", \"요소C\"]를 파이썬 내장함수를 이용하여 아래와 같이 출력하세요. 5점\n",
    "0번째 요소는 요소A입니다.\\\n",
    "1번째 요소는 요소B입니다.\\\n",
    "2번째 요소는 요소C입니다."
   ]
  },
  {
   "cell_type": "code",
   "execution_count": 34,
   "metadata": {},
   "outputs": [
    {
     "name": "stdout",
     "output_type": "stream",
     "text": [
      "0번째 요소는 요소A입니다.\n",
      "1번째 요소는 요소B입니다.\n",
      "2번째 요소는 요소C입니다.\n"
     ]
    }
   ],
   "source": [
    "example_list = [\"요소A\", \"요소B\", \"요소C\"]\n",
    "for i, v in enumerate(example_list):\n",
    "    print(f'{i}번째 요소는 {v}입니다.')"
   ]
  },
  {
   "cell_type": "markdown",
   "metadata": {},
   "source": [
    "#### 7. 97을 40으로 나눈 몫과 나머지를 내장함수를 이용하여 구하세요.(튜플로 출력 필수) 5점"
   ]
  },
  {
   "cell_type": "code",
   "execution_count": 35,
   "metadata": {},
   "outputs": [
    {
     "name": "stdout",
     "output_type": "stream",
     "text": [
      "(2, 17)\n"
     ]
    }
   ],
   "source": [
    "print(divmod(97,40))"
   ]
  },
  {
   "cell_type": "markdown",
   "metadata": {},
   "source": [
    "#### 8. list_number = [52, 273, 32, 72, 100]로 변수 선언하고 정수를 입력하면 그 정수 인덱스와 리스트에서 해당하는 값을 출력하는 프로그램을 작성하세요. 단, 모든 예외처리를 수행하며 특히 ValueError와 IndexError는 별도 구분해서 예외처리 한 후 '예외처리 완료'를 마지막으로 출력하세요.\n",
    "3점\n",
    "- 4 입력시 \\\n",
    "정수 입력> 4 \\\n",
    "4번째 요소: 100\n",
    "예외 처리 완료\n",
    "\n",
    "- 문자 입력시 \\\n",
    "정수 입력> 가 \\\n",
    "정수를 입력해 주세요!\n",
    "예외 처리 완료\n",
    "\n",
    "- 5 입력시 \\\n",
    "정수 입력> 5 \\\n",
    "리스트의 인덱스를 벗어났어요!\n",
    "예외 처리 완료"
   ]
  },
  {
   "cell_type": "code",
   "execution_count": 132,
   "metadata": {},
   "outputs": [
    {
     "name": "stdout",
     "output_type": "stream",
     "text": [
      "정수입력 : 가\n",
      "정수를 입력해 주세요!\n",
      "예외 처리 완료\n",
      "정수입력 : 5\n",
      "리스트의 인덱스를 벗어났어요!\n",
      "예외 처리 완료\n",
      "정수입력 : 4\n",
      "4번째 요소 : 100\n",
      "예외 처리 완료\n"
     ]
    }
   ],
   "source": [
    "list_number = [52, 273, 32, 72, 100]\n",
    "while 1:\n",
    "    try:\n",
    "        num = int(input(\"정수입력 : \"))\n",
    "        list_number[num]\n",
    "    except ValueError:\n",
    "        print('정수를 입력해 주세요!')\n",
    "    except IndexError:\n",
    "        print('리스트의 인덱스를 벗어났어요!')\n",
    "    else:\n",
    "        print(f'{num}번째 요소 : {list_number[num]}')\n",
    "        break\n",
    "    finally:\n",
    "        print('예외 처리 완료')\n",
    "    "
   ]
  },
  {
   "cell_type": "code",
   "execution_count": 39,
   "metadata": {},
   "outputs": [
    {
     "name": "stdout",
     "output_type": "stream",
     "text": [
      "정수입력 : 1\n",
      "1번째 요소 : 273\n",
      "예외 처리 완료\n"
     ]
    }
   ],
   "source": [
    "# 보완한 것\n",
    "list_number = [52, 273, 32, 72, 100]\n",
    "while 1:\n",
    "    try:\n",
    "        num = int(input(\"정수입력 : \"))\n",
    "        list_number[num]\n",
    "    except ValueError:\n",
    "        print('정수를 입력해 주세요!')\n",
    "    except IndexError:\n",
    "        print('리스트의 인덱스를 벗어났어요!')\n",
    "    except Exception as e:\n",
    "        print(e)\n",
    "    else:\n",
    "        print(f'{num}번째 요소 : {list_number[num]}')\n",
    "        break\n",
    "    finally:\n",
    "        print('예외 처리 완료')"
   ]
  },
  {
   "cell_type": "markdown",
   "metadata": {},
   "source": [
    "#### 9. 사용자로부터 서로 다른 숫자 두 개를 입력받고 첫 번째 와 두 번째중 큰 숫자를 구하는 프로그램을 수행하세요.5"
   ]
  },
  {
   "cell_type": "code",
   "execution_count": 6,
   "metadata": {},
   "outputs": [
    {
     "name": "stdout",
     "output_type": "stream",
     "text": [
      "첫번째 숫자 : 5\n",
      "두번재 숫자 : 3\n",
      "첫번째 숫자가 큽니다.\n"
     ]
    }
   ],
   "source": [
    "a = int(input('첫번째 숫자 : '))\n",
    "b = int(input('두번재 숫자 : '))\n",
    "if a > b:\n",
    "    print('첫번째 숫자가 큽니다.')\n",
    "elif a < b:\n",
    "    print('두번째 숫자가 큽니다.')\n",
    "else:\n",
    "    print('두 숫자가 같습니다.')"
   ]
  },
  {
   "cell_type": "markdown",
   "metadata": {},
   "source": [
    "#### 10. 1부터 100까지 아래와 같은 방식으로 2개의 수를 곱해서 가장 큰 수를 구하세요.5점\n",
    "\n",
    " 1 * 99 ...99 * 1"
   ]
  },
  {
   "cell_type": "code",
   "execution_count": 46,
   "metadata": {},
   "outputs": [
    {
     "name": "stdout",
     "output_type": "stream",
     "text": [
      "2500\n"
     ]
    }
   ],
   "source": [
    "n = 1\n",
    "mul = 1\n",
    "while n < 100:\n",
    "    if n * (100-n)> mul:\n",
    "        mul = n*(100-n)\n",
    "        n += 1\n",
    "    else:\n",
    "        n += 1\n",
    "print(mul)"
   ]
  },
  {
   "cell_type": "markdown",
   "metadata": {},
   "source": [
    "#### 11. 정규표현식을 사용하여 text에서 지역코드만 출력하세요.5점\n",
    "text = \"문의사항이 있으면 032-232-3245 으로 연락주시기 바랍니다.\""
   ]
  },
  {
   "cell_type": "code",
   "execution_count": 56,
   "metadata": {},
   "outputs": [
    {
     "data": {
      "text/plain": [
       "'032'"
      ]
     },
     "execution_count": 56,
     "metadata": {},
     "output_type": "execute_result"
    }
   ],
   "source": [
    "import re\n",
    "text = \"문의사항이 있으면 032-232-3245 으로 연락주시기 바랍니다.\"\n",
    "p = re.compile('(\\d+)-(\\d+)-(\\d+)')\n",
    "s = p.search(text)\n",
    "s.group(1)"
   ]
  },
  {
   "cell_type": "markdown",
   "metadata": {},
   "source": [
    "#### 12. 'abcdefghij' 에 대하여 중첩을 적용한 서브그룹 5개로 컴파일하여 group()함수를 이용하여 'abcdefghi'와 e'를 출력하세요5점"
   ]
  },
  {
   "cell_type": "code",
   "execution_count": 59,
   "metadata": {},
   "outputs": [
    {
     "name": "stdout",
     "output_type": "stream",
     "text": [
      "abcdefghi\n",
      "e\n"
     ]
    }
   ],
   "source": [
    "import re\n",
    "text = 'abcdefghij'\n",
    "p = re.compile('(a(b(c(d(e)f)g)h)i)j')\n",
    "s = p.search(text)\n",
    "print(s.group(1))\n",
    "print(s.group(5))"
   ]
  },
  {
   "cell_type": "markdown",
   "metadata": {},
   "source": [
    "#### 13. [0, 1, 2, 3, 4, 5, 6, 7, 8, 9, 'a', 'b', 'c']에서 9와 'a'를 삭제 후 리스트로 출력하세요5점"
   ]
  },
  {
   "cell_type": "code",
   "execution_count": 253,
   "metadata": {},
   "outputs": [
    {
     "name": "stdout",
     "output_type": "stream",
     "text": [
      "[0, 1, 2, 3, 4, 5, 6, 7, 8, 'b', 'c']\n"
     ]
    }
   ],
   "source": [
    "lista = [0, 1, 2, 3, 4, 5, 6, 7, 8, 9, 'a', 'b', 'c']\n",
    "del lista[9:11]\n",
    "print(lista)"
   ]
  },
  {
   "cell_type": "markdown",
   "metadata": {},
   "source": [
    "#### 14. 500 ~ 1000사이의 정수 중 5와 7의 공배수의 합을 구하세요5점"
   ]
  },
  {
   "cell_type": "code",
   "execution_count": 69,
   "metadata": {},
   "outputs": [
    {
     "name": "stdout",
     "output_type": "stream",
     "text": [
      "10535\n"
     ]
    }
   ],
   "source": [
    "n = 501\n",
    "total = 0\n",
    "while n <1000:\n",
    "    if n%5 == 0 and n%7==0:\n",
    "        total += n\n",
    "        n+=1\n",
    "    else:\n",
    "        n+=1\n",
    "print(total)"
   ]
  },
  {
   "cell_type": "markdown",
   "metadata": {},
   "source": [
    "#### 15. [    ]을 채워서 아래와 같이 출력하세요.5점\n",
    "[[1, 4, 7], [2, 5, 8], [3, 6, 9]]"
   ]
  },
  {
   "cell_type": "code",
   "execution_count": 70,
   "metadata": {},
   "outputs": [
    {
     "name": "stdout",
     "output_type": "stream",
     "text": [
      "[[1, 4, 7], [2, 5, 8], [3, 6, 9]]\n"
     ]
    }
   ],
   "source": [
    "numbers = [1,2,3,4,5,6,7,8,9]\n",
    "output = [[], [], []]\n",
    "\n",
    "for number in numbers:\n",
    "    output[(number+2)%3].append(number)\n",
    "print(output)"
   ]
  },
  {
   "cell_type": "markdown",
   "metadata": {},
   "source": [
    "####  16. numbers 내부에 들어 있는 숫자가 몇 번 등장하는지를 출력하는 코드를 작성하세요.5점\n",
    "numbers = [3,6,3,5,8,2,9,7,4,3,6,3,5,8,2,9,7,4]"
   ]
  },
  {
   "cell_type": "code",
   "execution_count": 71,
   "metadata": {},
   "outputs": [
    {
     "data": {
      "text/plain": [
       "{3: 4, 6: 2, 5: 2, 8: 2, 2: 2, 9: 2, 7: 2, 4: 2}"
      ]
     },
     "execution_count": 71,
     "metadata": {},
     "output_type": "execute_result"
    }
   ],
   "source": [
    "numbers = [3,6,3,5,8,2,9,7,4,3,6,3,5,8,2,9,7,4]\n",
    "count = {}\n",
    "for i in numbers:\n",
    "    if i in count:\n",
    "        count[i] +=1\n",
    "    else:\n",
    "        count[i] = 1\n",
    "count"
   ]
  },
  {
   "cell_type": "markdown",
   "metadata": {},
   "source": [
    "#### 17. 클래스 Country를 완성하여 아래와 같이 출력하세요.5점\n",
    "- 한국의 인구는 5천만명이며 수도는 서울입니다.\n",
    "- 1인당 gnp는 USD 3만입니다."
   ]
  },
  {
   "cell_type": "code",
   "execution_count": 74,
   "metadata": {},
   "outputs": [
    {
     "name": "stdout",
     "output_type": "stream",
     "text": [
      "한국의 인구는 5천만명이며 수도는 서울입니다.\n",
      "1인당 gnp는 USD 3만입니다.\n"
     ]
    }
   ],
   "source": [
    "class Country:\n",
    "    \n",
    "    def __init__(self,country,people,capital):\n",
    "        self.country = country\n",
    "        self.people = people\n",
    "        self.capital = capital\n",
    "        \n",
    "    def desc(self):\n",
    "        print(f'{self.country}의 인구는 {self.people}천만명이며 수도는 {self.capital}입니다.')\n",
    "\n",
    "class Korea(Country):    \n",
    "\n",
    "    def desc1(self,gnp):\n",
    "        self.gnp = gnp\n",
    "        print('1인당 gnp는 USD %d만입니다.' %self.gnp)\n",
    "        \n",
    "obj = Korea('한국',5,'서울')\n",
    "obj.desc()\n",
    "obj.desc1(3)"
   ]
  },
  {
   "cell_type": "markdown",
   "metadata": {},
   "source": [
    "#### 18. 사칙연산을 수행하는  클래스를 작성하여 객체를 만들고 2개의 정수 10, 5를 입력한 후 연산 결과를  포멧을 이용하여 출력하세요. 5점"
   ]
  },
  {
   "cell_type": "code",
   "execution_count": 11,
   "metadata": {},
   "outputs": [
    {
     "name": "stdout",
     "output_type": "stream",
     "text": [
      "첫번쨰 숫자100\n",
      "두번째 숫자10\n",
      "100과 10의 사칙연산 결과\n",
      "덧셈 : 110\n",
      "뺄셈 : 90\n",
      "곱셈 : 1000\n",
      "나눗셈 : 10.0\n"
     ]
    }
   ],
   "source": [
    "class calculator:\n",
    "    def __init__(self,num1,num2):\n",
    "        self.num1 = int(num1)\n",
    "        self.num2 = int(num2)\n",
    "    def add(self):\n",
    "        return self.num1+self.num2\n",
    "    def sub(self):\n",
    "        return self.num1-self.num2\n",
    "    def mul(self):\n",
    "        return self.num1*self.num2\n",
    "    def div(self):\n",
    "        return self.num1/self.num2\n",
    "\n",
    "a = input(\"첫번쨰 숫자\")\n",
    "b = input('두번째 숫자')\n",
    "cal = calculator(a,b)\n",
    "print(f'''{cal.num1}과 {cal.num2}의 사칙연산 결과\n",
    "덧셈 : {cal.add()}\n",
    "뺄셈 : {cal.sub()}\n",
    "곱셈 : {cal.mul()}\n",
    "나눗셈 : {cal.div()}''')"
   ]
  },
  {
   "cell_type": "markdown",
   "metadata": {},
   "source": [
    "#### 19. 올해 경과된 날짜수를 계산하여 출력하세요.5점"
   ]
  },
  {
   "cell_type": "code",
   "execution_count": 14,
   "metadata": {},
   "outputs": [
    {
     "name": "stdout",
     "output_type": "stream",
     "text": [
      "오늘은 2022-01-01이후 7 일째 되는 날입니다.\n"
     ]
    }
   ],
   "source": [
    "import time\n",
    "t = time.localtime()\n",
    "start_day = f'{t.tm_year}-01-01'\n",
    "elapsed_day = t.tm_yday\n",
    "print(f'오늘은 {start_day}이후 {elapsed_day} 일째 되는 날입니다.')"
   ]
  },
  {
   "cell_type": "code",
   "execution_count": 252,
   "metadata": {},
   "outputs": [
    {
     "name": "stdout",
     "output_type": "stream",
     "text": [
      "올해 경과된 날짜 수 : 7\n"
     ]
    }
   ],
   "source": [
    "import datetime\n",
    "import calendar\n",
    "t = datetime.datetime.now()\n",
    "m = t.month\n",
    "d = t.day\n",
    "date = d\n",
    "if m == 1:\n",
    "    date = d\n",
    "else:\n",
    "    for i in range(1,m):\n",
    "        d += calendar.monthrange(t.year,i)[1]\n",
    "\n",
    "\n",
    "print(f'올해 경과된 날짜 수 : {date}')"
   ]
  },
  {
   "cell_type": "markdown",
   "metadata": {},
   "source": [
    "#### 20. 2015년 인기순 상위5개 여아이름별 출생아수를 출력하세요.('data/names/yob2015.txt')0점"
   ]
  },
  {
   "cell_type": "code",
   "execution_count": 10,
   "metadata": {},
   "outputs": [],
   "source": [
    "with open('data/names/yob2015.txt','r') as f:\n",
    "    data = f.read()\n",
    "    for line in data:\n",
    "         (name,gender,value) = line.split(\",\")"
   ]
  },
  {
   "cell_type": "code",
   "execution_count": 56,
   "metadata": {},
   "outputs": [
    {
     "name": "stdout",
     "output_type": "stream",
     "text": [
      "TOP_1  Emma   20463\n",
      "TOP_2  Olivia   19705\n",
      "TOP_3  Sophia   17430\n",
      "TOP_4  Ava   16383\n",
      "TOP_5  Isabella   15633\n"
     ]
    }
   ],
   "source": [
    "#보완한것\n",
    "dicF = {}\n",
    "with open('data/names/yob2015.txt','r') as f:\n",
    "    for line in f:\n",
    "        (name,gender,value) = line.split(\",\")\n",
    "        if gender == 'F':\n",
    "            dicF[name] = int(value)\n",
    "        else:\n",
    "            pass\n",
    "lista = sorted(dicF.items(),key = (lambda x:x[1]), reverse = True)\n",
    "for i in range(5):\n",
    "    print(f'TOP_{i+1}  {lista[i][0]}   {lista[i][1]}')"
   ]
  },
  {
   "cell_type": "code",
   "execution_count": 62,
   "metadata": {},
   "outputs": [
    {
     "name": "stdout",
     "output_type": "stream",
     "text": [
      "TOP_1 여자 아기 이름 : ('Emma', 20463)\n",
      "TOP_2 여자 아기 이름 : ('Olivia', 19705)\n",
      "TOP_3 여자 아기 이름 : ('Sophia', 17430)\n",
      "TOP_4 여자 아기 이름 : ('Ava', 16383)\n",
      "TOP_5 여자 아기 이름 : ('Isabella', 15633)\n"
     ]
    }
   ],
   "source": [
    "filename = 'data/names/yob2015.txt'\n",
    "\n",
    "nameF = {}\n",
    "nameM = {}\n",
    "with open(filename,'r') as f:\n",
    "    data = f.readlines()\n",
    "    for d in data:\n",
    "        if d[-1] == '\\n':\n",
    "            d = d[:-1]\n",
    "        tmp = d.split(',')\n",
    "        name = tmp[0]\n",
    "        sex = tmp[1]       \n",
    "        birth = tmp[2]\n",
    "        \n",
    "        if sex == 'F':\n",
    "            ret = nameF\n",
    "        else:\n",
    "            ret = nameM\n",
    "        if name in ret:\n",
    "            ret[name] += int(birth)\n",
    "        else:\n",
    "            ret[name] = int(birth)\n",
    "\n",
    "retF = sorted(nameF.items(),key = lambda x:x[1], reverse = True)\n",
    "\n",
    "for i,name in enumerate(retF):\n",
    "    if i > 4:\n",
    "        break\n",
    "    print(f'TOP_{i+1} 여자 아기 이름 : {name}')  "
   ]
  }
 ],
 "metadata": {
  "kernelspec": {
   "display_name": "Python 3 (ipykernel)",
   "language": "python",
   "name": "python3"
  },
  "language_info": {
   "codemirror_mode": {
    "name": "ipython",
    "version": 3
   },
   "file_extension": ".py",
   "mimetype": "text/x-python",
   "name": "python",
   "nbconvert_exporter": "python",
   "pygments_lexer": "ipython3",
   "version": "3.8.12"
  }
 },
 "nbformat": 4,
 "nbformat_minor": 2
}
