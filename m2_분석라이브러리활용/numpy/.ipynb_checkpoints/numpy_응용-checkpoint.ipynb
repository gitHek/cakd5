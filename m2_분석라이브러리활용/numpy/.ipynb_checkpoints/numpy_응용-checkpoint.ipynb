{
 "cells": [
  {
   "cell_type": "code",
   "execution_count": 2,
   "id": "24af0c0e",
   "metadata": {},
   "outputs": [],
   "source": [
    "import numpy as np"
   ]
  },
  {
   "cell_type": "code",
   "execution_count": 5,
   "id": "1f4da99b",
   "metadata": {},
   "outputs": [
    {
     "data": {
      "text/plain": [
       "array([[2, 1, 9, 8, 4],\n",
       "       [4, 7, 6, 4, 1],\n",
       "       [1, 9, 4, 1, 3],\n",
       "       [1, 2, 5, 7, 6],\n",
       "       [5, 9, 9, 3, 9]])"
      ]
     },
     "execution_count": 5,
     "metadata": {},
     "output_type": "execute_result"
    }
   ],
   "source": [
    "arr = np.random.randint(1,10,size = (5,5))\n",
    "arr"
   ]
  },
  {
   "cell_type": "code",
   "execution_count": 6,
   "id": "a71ec307",
   "metadata": {},
   "outputs": [
    {
     "data": {
      "text/plain": [
       "array([[2, 4, 1, 1, 5],\n",
       "       [1, 7, 9, 2, 9],\n",
       "       [9, 6, 4, 5, 9],\n",
       "       [8, 4, 1, 7, 3],\n",
       "       [4, 1, 3, 6, 9]])"
      ]
     },
     "execution_count": 6,
     "metadata": {},
     "output_type": "execute_result"
    }
   ],
   "source": [
    "arr.T"
   ]
  },
  {
   "cell_type": "code",
   "execution_count": 7,
   "id": "5e2c26d1",
   "metadata": {},
   "outputs": [
    {
     "data": {
      "text/plain": [
       "array([[2, 4, 1, 1, 5],\n",
       "       [1, 7, 9, 2, 9],\n",
       "       [9, 6, 4, 5, 9],\n",
       "       [8, 4, 1, 7, 3],\n",
       "       [4, 1, 3, 6, 9]])"
      ]
     },
     "execution_count": 7,
     "metadata": {},
     "output_type": "execute_result"
    }
   ],
   "source": [
    "np.transpose(arr)"
   ]
  },
  {
   "cell_type": "code",
   "execution_count": 8,
   "id": "58e4b8d0",
   "metadata": {},
   "outputs": [
    {
     "data": {
      "text/plain": [
       "array([[ 47,  86,  96,  55,  66],\n",
       "       [ 86, 216, 178,  86, 131],\n",
       "       [ 96, 178, 239, 162, 165],\n",
       "       [ 55,  86, 162, 139, 108],\n",
       "       [ 66, 131, 165, 108, 143]])"
      ]
     },
     "execution_count": 8,
     "metadata": {},
     "output_type": "execute_result"
    }
   ],
   "source": [
    "# 행렬곱 , 내적 복습시험출제\n",
    "np.dot(arr.T,arr)"
   ]
  },
  {
   "cell_type": "code",
   "execution_count": 16,
   "id": "00a341bf",
   "metadata": {},
   "outputs": [
    {
     "name": "stdout",
     "output_type": "stream",
     "text": [
      "[[0 1 2]\n",
      " [3 4 5]] \n",
      "\n",
      "[[0 3]\n",
      " [1 4]\n",
      " [2 5]]\n",
      "\n",
      "[[0 3]\n",
      " [1 4]\n",
      " [2 5]]\n"
     ]
    }
   ],
   "source": [
    "a = np.arange(6).reshape(2,3)\n",
    "print(a,'\\n')\n",
    "y= np.swapaxes(a,0,1) # 0은 2차원(열), 1은 1차원 (행)\n",
    "print(y)\n",
    "print()\n",
    "print(a.T)"
   ]
  },
  {
   "cell_type": "code",
   "execution_count": 135,
   "id": "e767b096",
   "metadata": {
    "scrolled": true
   },
   "outputs": [
    {
     "name": "stdout",
     "output_type": "stream",
     "text": [
      "[[  1   2   3   4   5   6   7   8   9  10]\n",
      " [ 11  12  13  14  15  16  17  18  19  20]\n",
      " [ 21  22  23  24  25  26  27  28  29  30]\n",
      " [ 31  32  33  34  35  36  37  38  39  40]\n",
      " [ 41  42  43  44  45  46  47  48  49  50]\n",
      " [ 51  52  53  54  55  56  57  58  59  60]\n",
      " [ 61  62  63  64  65  66  67  68  69  70]\n",
      " [ 71  72  73  74  75  76  77  78  79  80]\n",
      " [ 81  82  83  84  85  86  87  88  89  90]\n",
      " [ 91  92  93  94  95  96  97  98  99 100]]\n",
      "[[  1   2   3   4   5   6   7   8   9  10]\n",
      " [ 20  19  18  17  16  15  14  13  12  11]\n",
      " [ 21  22  23  24  25  26  27  28  29  30]\n",
      " [ 40  39  38  37  36  35  34  33  32  31]\n",
      " [ 41  42  43  44  45  46  47  48  49  50]\n",
      " [ 60  59  58  57  56  55  54  53  52  51]\n",
      " [ 61  62  63  64  65  66  67  68  69  70]\n",
      " [ 80  79  78  77  76  75  74  73  72  71]\n",
      " [ 81  82  83  84  85  86  87  88  89  90]\n",
      " [100  99  98  97  96  95  94  93  92  91]]\n"
     ]
    }
   ],
   "source": [
    "# 1~100을 아래와 같이 출력하세요\n",
    "arr = np.arange(1,101).reshape(10,10)\n",
    "print(arr)\n",
    "arr[[1,3,5,7,9]] = arr[[1,3,5,7,9]][:,[9,8,7,6,5,4,3,2,1,0]]\n",
    "print(arr)"
   ]
  },
  {
   "cell_type": "code",
   "execution_count": 38,
   "id": "67d5f381",
   "metadata": {},
   "outputs": [
    {
     "name": "stdout",
     "output_type": "stream",
     "text": [
      "[[  1   2   3   4   5   6   7   8   9  10]\n",
      " [ 20  19  18  17  16  15  14  13  12  11]\n",
      " [ 21  22  23  24  25  26  27  28  29  30]\n",
      " [ 40  39  38  37  36  35  34  33  32  31]\n",
      " [ 41  42  43  44  45  46  47  48  49  50]\n",
      " [ 60  59  58  57  56  55  54  53  52  51]\n",
      " [ 61  62  63  64  65  66  67  68  69  70]\n",
      " [ 80  79  78  77  76  75  74  73  72  71]\n",
      " [ 81  82  83  84  85  86  87  88  89  90]\n",
      " [100  99  98  97  96  95  94  93  92  91]]\n"
     ]
    }
   ],
   "source": [
    "a = np.arange(1, 101).reshape((10, -1))\n",
    "\n",
    "for i in range(10):\n",
    "    if i % 2 == 1:\n",
    "        a[i] = a[i][::-1]\n",
    "\n",
    "print(a)\n"
   ]
  },
  {
   "cell_type": "code",
   "execution_count": 42,
   "id": "b209c27d",
   "metadata": {},
   "outputs": [
    {
     "name": "stdout",
     "output_type": "stream",
     "text": [
      "[[[0 1 2]\n",
      "  [3 4 5]]] (1, 2, 3) \n",
      "\n",
      "[[[0 1 2]]\n",
      "\n",
      " [[3 4 5]]] (2, 1, 3) \n",
      "\n"
     ]
    }
   ],
   "source": [
    "# (0,1,2) 복습시험출제\n",
    "# 3차원과 2차원을 바꾸는 경우 : (1,2,3) -> (2,1,3)\n",
    "a = np.arange(6).reshape(1,2,3)\n",
    "print(a,a.shape,'\\n')\n",
    "\n",
    "y = np.transpose(a,(1,0,2))\n",
    "print(y,y.shape,'\\n')"
   ]
  },
  {
   "cell_type": "code",
   "execution_count": 3,
   "id": "610f6387",
   "metadata": {},
   "outputs": [
    {
     "name": "stdout",
     "output_type": "stream",
     "text": [
      "[[[0 1 2]\n",
      "  [3 4 5]]] (1, 2, 3) \n",
      "\n",
      "[[[0]\n",
      "  [1]\n",
      "  [2]]\n",
      "\n",
      " [[3]\n",
      "  [4]\n",
      "  [5]]] (2, 3, 1)\n"
     ]
    }
   ],
   "source": [
    "# (1,2,3) -> (2,3,1) 복습시험출제\n",
    "a = np.arange(6).reshape(1,2,3)\n",
    "print(a,a.shape,'\\n')\n",
    "\n",
    "y = a.transpose(1,2,0)\n",
    "y = np.transpose(a,(1,2,0))\n",
    "print(y,y.shape)"
   ]
  },
  {
   "cell_type": "code",
   "execution_count": 4,
   "id": "bc8d85fa",
   "metadata": {},
   "outputs": [
    {
     "name": "stdout",
     "output_type": "stream",
     "text": [
      "[[[ 0  1  2  3]\n",
      "  [ 4  5  6  7]]\n",
      "\n",
      " [[ 8  9 10 11]\n",
      "  [12 13 14 15]]] (2, 2, 4) \n",
      "\n",
      "[[[ 0  1  2  3]\n",
      "  [ 8  9 10 11]]\n",
      "\n",
      " [[ 4  5  6  7]\n",
      "  [12 13 14 15]]] (2, 2, 4)\n"
     ]
    }
   ],
   "source": [
    "# [과제] 아래 배열에서 3차원과 2차원을 변경하여 출력하세요(shape 확인)\n",
    "arr = np.arange(16).reshape(2,2,4)\n",
    "print(arr,arr.shape,'\\n')\n",
    "arr2 = arr.transpose(1,0,2)\n",
    "print(arr2,arr2.shape)"
   ]
  },
  {
   "cell_type": "code",
   "execution_count": 55,
   "id": "826bd6e1",
   "metadata": {},
   "outputs": [
    {
     "name": "stdout",
     "output_type": "stream",
     "text": [
      "[[[ 0  4]\n",
      "  [ 1  5]\n",
      "  [ 2  6]\n",
      "  [ 3  7]]\n",
      "\n",
      " [[ 8 12]\n",
      "  [ 9 13]\n",
      "  [10 14]\n",
      "  [11 15]]] (2, 4, 2)\n"
     ]
    }
   ],
   "source": [
    "#  상기 과제의 arr에서 2차원과 1차원을 변경하여 출력하세요(shape 확인)\n",
    "arr3 = arr.transpose(0,2,1)\n",
    "print(arr3,arr3.shape)"
   ]
  },
  {
   "cell_type": "code",
   "execution_count": 5,
   "id": "3a677914",
   "metadata": {},
   "outputs": [
    {
     "name": "stdout",
     "output_type": "stream",
     "text": [
      "[[[ 0  4]\n",
      "  [ 1  5]\n",
      "  [ 2  6]\n",
      "  [ 3  7]]\n",
      "\n",
      " [[ 8 12]\n",
      "  [ 9 13]\n",
      "  [10 14]\n",
      "  [11 15]]]\n"
     ]
    }
   ],
   "source": [
    "# swapaxes로 풀기\n",
    "print(arr.swapaxes(1,2)) # 0은 3차원"
   ]
  },
  {
   "cell_type": "code",
   "execution_count": 61,
   "id": "9a86079a",
   "metadata": {},
   "outputs": [
    {
     "name": "stdout",
     "output_type": "stream",
     "text": [
      "[1 2 0]\n",
      "[1 2 0]\n"
     ]
    }
   ],
   "source": [
    "# 나머지를 구할 경우 사용하는 함수 복습시험출제\n",
    "value1 = np.array([15,30,45])\n",
    "value2 = np.array([2,7,9])\n",
    "print(np.mod(value1,value2))\n",
    "print(np.remainder(value1,value2))"
   ]
  },
  {
   "cell_type": "code",
   "execution_count": 68,
   "id": "2f92bfec",
   "metadata": {},
   "outputs": [
    {
     "name": "stdout",
     "output_type": "stream",
     "text": [
      "[1.17647059 0.54054054 1.         0.01      ] \n",
      "\n",
      "[100] \n",
      "\n",
      "[0.01]\n"
     ]
    }
   ],
   "source": [
    "# 각 수의 역수를 구해주는 함수 복습시험출제\n",
    "value = np.array([0.85,1.85,1,100])\n",
    "print(np.reciprocal(value),'\\n')\n",
    "\n",
    "value1 = np.array([100],dtype = int)\n",
    "print(value1,'\\n')\n",
    "print(np.reciprocal(value1,dtype = float))"
   ]
  },
  {
   "cell_type": "code",
   "execution_count": 72,
   "id": "da47a825",
   "metadata": {},
   "outputs": [
    {
     "name": "stdout",
     "output_type": "stream",
     "text": [
      "[  4 100 225] \n",
      "\n",
      "[   2  100 3375]\n"
     ]
    }
   ],
   "source": [
    "# 승수의 결과 값을 표시해주는 함수 복습시험출제\n",
    "value1 = np.array([2,10,15])\n",
    "value2 = np.array([1,2,3])\n",
    "\n",
    "print(np.power(value1,2),'\\n')\n",
    "print(np.power(value1,value2))"
   ]
  },
  {
   "cell_type": "code",
   "execution_count": 89,
   "id": "eb8c5204",
   "metadata": {},
   "outputs": [
    {
     "name": "stdout",
     "output_type": "stream",
     "text": [
      "-0.023336023679917238 \n",
      "\n",
      "1.0005384696586344\n"
     ]
    }
   ],
   "source": [
    "# 평균 표준편차 복습시험출제\n",
    "arr = np.random.randn(1000)\n",
    "print(arr.mean(),'\\n') \n",
    "print(arr.std())"
   ]
  },
  {
   "cell_type": "code",
   "execution_count": 90,
   "id": "7965f3ae",
   "metadata": {},
   "outputs": [
    {
     "data": {
      "text/plain": [
       "484"
      ]
     },
     "execution_count": 90,
     "metadata": {},
     "output_type": "execute_result"
    }
   ],
   "source": [
    "# 양수인 원소의 개수\n",
    "(arr > 0).sum()"
   ]
  },
  {
   "cell_type": "code",
   "execution_count": 91,
   "id": "a7372428",
   "metadata": {},
   "outputs": [
    {
     "data": {
      "text/plain": [
       "True"
      ]
     },
     "execution_count": 91,
     "metadata": {},
     "output_type": "execute_result"
    }
   ],
   "source": [
    "# 하나 이상의 값이 True인지 검사 복습시험출제\n",
    "bools = np.array([False,False,True,True])\n",
    "bools.any()"
   ]
  },
  {
   "cell_type": "code",
   "execution_count": 92,
   "id": "1cf9473e",
   "metadata": {},
   "outputs": [
    {
     "data": {
      "text/plain": [
       "False"
      ]
     },
     "execution_count": 92,
     "metadata": {},
     "output_type": "execute_result"
    }
   ],
   "source": [
    "# 모든 원소가 True인지 검사 복습시험출제\n",
    "bools.all()"
   ]
  },
  {
   "cell_type": "code",
   "execution_count": 96,
   "id": "39aff448",
   "metadata": {},
   "outputs": [
    {
     "name": "stdout",
     "output_type": "stream",
     "text": [
      "[[-0.32882557 -0.29768931 -2.14425662  0.83215127]\n",
      " [-0.57673533  0.19658151  0.88738813  1.31348407]\n",
      " [ 1.06541025  0.95576829  1.28695896  1.89713799]\n",
      " [ 0.01674067  0.09934101  0.66569121  1.27464277]] \n",
      "\n"
     ]
    },
    {
     "data": {
      "text/plain": [
       "array([[-2, -2, -2,  2],\n",
       "       [-2,  2,  2,  2],\n",
       "       [ 2,  2,  2,  2],\n",
       "       [ 2,  2,  2,  2]])"
      ]
     },
     "execution_count": 96,
     "metadata": {},
     "output_type": "execute_result"
    }
   ],
   "source": [
    "# 삼항식의 백터와 버전 복습시험출제\n",
    "arr = np.random.randn(4,4)\n",
    "print(arr,'\\n')\n",
    "np.where(arr >0, 2, -2) # arr이 0보다 크면 2 아니면 -2"
   ]
  },
  {
   "cell_type": "code",
   "execution_count": 100,
   "id": "feb9566c",
   "metadata": {},
   "outputs": [
    {
     "data": {
      "text/plain": [
       "array([[-0.32882557, -0.29768931, -2.14425662,  2.        ],\n",
       "       [-0.57673533,  2.        ,  2.        ,  2.        ],\n",
       "       [ 2.        ,  2.        ,  2.        ,  2.        ],\n",
       "       [ 2.        ,  2.        ,  2.        ,  2.        ]])"
      ]
     },
     "execution_count": 100,
     "metadata": {},
     "output_type": "execute_result"
    }
   ],
   "source": [
    "# arr이 0보다 크면 2 아니면 arr 그대로\n",
    "np.where(arr >0, 2, arr) "
   ]
  },
  {
   "cell_type": "code",
   "execution_count": 101,
   "id": "052101cf",
   "metadata": {},
   "outputs": [
    {
     "name": "stdout",
     "output_type": "stream",
     "text": [
      "[[1 2 3]\n",
      " [1 2 3]\n",
      " [1 2 3]] \n",
      "\n",
      "[[1 1 1]\n",
      " [2 2 2]\n",
      " [3 3 3]]\n"
     ]
    }
   ],
   "source": [
    "# 두개의 1차원 배열을 받아서 가능한 모든 (x,y) 짝을 \n",
    "# 만들 수 있는 2차원 배열 2개 반환\n",
    "x = np.arange(1,4)\n",
    "y = np.arange(1,4)\n",
    "xs,ys = np.meshgrid(x,y)\n",
    "print(xs,'\\n')\n",
    "print(ys)"
   ]
  },
  {
   "cell_type": "code",
   "execution_count": 125,
   "id": "c88d3684",
   "metadata": {},
   "outputs": [
    {
     "name": "stdout",
     "output_type": "stream",
     "text": [
      "[45 48 65 68 68 10 84 22 37 88] \n",
      "\n",
      "[10 22 37 45 48 65 68 68 84 88] \n",
      "\n",
      "[45 48 65 68 68 10 84 22 37 88]\n"
     ]
    }
   ],
   "source": [
    "# np.sort() 복습시험출제\n",
    "np.random.seed(0)\n",
    "arr = np.random.randint(1,100,size = 10)\n",
    "print(arr,'\\n')\n",
    "print(np.sort(arr),'\\n')\n",
    "print(arr)"
   ]
  },
  {
   "cell_type": "code",
   "execution_count": 122,
   "id": "12352373",
   "metadata": {},
   "outputs": [
    {
     "name": "stdout",
     "output_type": "stream",
     "text": [
      "[10 22 37 45 48 65 68 68 84 88]\n"
     ]
    }
   ],
   "source": [
    "arr_sorted = np.sort(arr)\n",
    "print(arr_sorted)"
   ]
  },
  {
   "cell_type": "code",
   "execution_count": 128,
   "id": "8f5c5ff6",
   "metadata": {},
   "outputs": [
    {
     "name": "stdout",
     "output_type": "stream",
     "text": [
      "[[ 8 12]\n",
      " [ 9  1]] \n",
      "\n",
      "[[ 8  1]\n",
      " [ 9 12]] \n",
      "\n",
      "[[ 8 12]\n",
      " [ 1  9]]\n"
     ]
    }
   ],
   "source": [
    "# 행렬이 2차원 이상일 때 axis 축 값 설정을 통해 복습시험출제\n",
    "# 행, 열 방향으로 정렬 수행\n",
    "arr2d = np.array([[8,12],[9,1]])\n",
    "sort_arr2d_axis0=np.sort(arr2d,axis=0)\n",
    "sort_arr2d_axis1=np.sort(arr2d,axis=1)\n",
    "print(arr2d,'\\n')\n",
    "print(sort_arr2d_axis0,'\\n')\n",
    "print(sort_arr2d_axis1)"
   ]
  },
  {
   "cell_type": "code",
   "execution_count": 161,
   "id": "db638231",
   "metadata": {},
   "outputs": [
    {
     "name": "stdout",
     "output_type": "stream",
     "text": [
      "[6 1 4 4 8 4 6 3 5 8] \n",
      "\n",
      "[1 3 4 4 4 5 6 6 8 8]\n"
     ]
    }
   ],
   "source": [
    "# ndarray.sort() : 원본 반영 복습시험출제\n",
    "np.random.seed(0)\n",
    "arr = np.random.randint(1,10,size=10)\n",
    "print(arr,'\\n')\n",
    "arr.sort()  # 원본 반영\n",
    "print(arr)"
   ]
  },
  {
   "cell_type": "code",
   "execution_count": 195,
   "id": "312fde75",
   "metadata": {},
   "outputs": [
    {
     "name": "stdout",
     "output_type": "stream",
     "text": [
      "[[6 9 6]\n",
      " [1 1 2]\n",
      " [8 7 3]\n",
      " [5 6 3]\n",
      " [5 3 5]] \n",
      "\n",
      "[[6 6 9]\n",
      " [1 1 2]\n",
      " [3 7 8]\n",
      " [3 5 6]\n",
      " [3 5 5]]\n"
     ]
    }
   ],
   "source": [
    "# 다차원 배열의 정렬은 sort 메소드에 넘긴 축에 따라 1차원 부분을 정렬 복습시험출제\n",
    "# 열방향 정렬 , default\n",
    "np.random.seed(1)\n",
    "arr = np.random.randint(1,10,size=(5,3))\n",
    "\n",
    "print(arr,'\\n')\n",
    "arr.sort(1)\n",
    "print(arr)\n"
   ]
  },
  {
   "cell_type": "code",
   "execution_count": 190,
   "id": "b27ce298",
   "metadata": {},
   "outputs": [
    {
     "name": "stdout",
     "output_type": "stream",
     "text": [
      "[[6 9 6]\n",
      " [1 1 2]\n",
      " [8 7 3]\n",
      " [5 6 3]\n",
      " [5 3 5]] \n",
      "\n",
      "[[1 1 2]\n",
      " [5 3 3]\n",
      " [5 6 3]\n",
      " [6 7 5]\n",
      " [8 9 6]]\n"
     ]
    }
   ],
   "source": [
    "# 행방향 정렬\n",
    "np.random.seed(1)\n",
    "arr = np.random.randint(1,10,size=(5,3))\n",
    "\n",
    "print(arr,'\\n')\n",
    "arr.sort(0)\n",
    "print(arr)"
   ]
  },
  {
   "cell_type": "code",
   "execution_count": 198,
   "id": "817e88c8",
   "metadata": {},
   "outputs": [
    {
     "name": "stdout",
     "output_type": "stream",
     "text": [
      "[3 1 9 5]\n",
      "<class 'numpy.ndarray'>\n"
     ]
    },
    {
     "data": {
      "text/plain": [
       "array([1, 0, 3, 2], dtype=int64)"
      ]
     },
     "execution_count": 198,
     "metadata": {},
     "output_type": "execute_result"
    }
   ],
   "source": [
    "# 정렬된 행렬의 인덱스 반환 \n",
    "# 기존 원본 행렬의 원소에 대한 인덱스를 필요로 할때 복습시험출제\n",
    "\n",
    "org_array = np.array([3,1,9,5])\n",
    "sort_indices = np.argsort(org_array)\n",
    "print(org_array)\n",
    "print(type(sort_indices))\n",
    "sort_indices"
   ]
  },
  {
   "cell_type": "code",
   "execution_count": 309,
   "id": "cf550f7d",
   "metadata": {},
   "outputs": [
    {
     "data": {
      "text/plain": [
       "55"
      ]
     },
     "execution_count": 309,
     "metadata": {},
     "output_type": "execute_result"
    }
   ],
   "source": [
    "# 배열에서 정렬한 후 5% 분위수에 해당하는 원소만 출력\n",
    "large_arr = np.random.randint(1,1000,size=1000)\n",
    "large_arr.sort()\n",
    "large_arr[int(0.05*len(large_arr))]"
   ]
  },
  {
   "cell_type": "code",
   "execution_count": 3,
   "id": "c0589eb0",
   "metadata": {},
   "outputs": [
    {
     "data": {
      "text/plain": [
       "array(['Bob', 'Joe', 'Will'], dtype='<U4')"
      ]
     },
     "execution_count": 3,
     "metadata": {},
     "output_type": "execute_result"
    }
   ],
   "source": [
    "# 배열 집합 연산\n",
    "import numpy as np\n",
    "names = np.array(['Bob','Joe','Will','Joe','Joe'])\n",
    "np.unique(names)"
   ]
  },
  {
   "cell_type": "code",
   "execution_count": 6,
   "id": "80275862",
   "metadata": {},
   "outputs": [
    {
     "data": {
      "text/plain": [
       "['Bob', 'Joe', 'Will']"
      ]
     },
     "execution_count": 6,
     "metadata": {},
     "output_type": "execute_result"
    }
   ],
   "source": [
    "names = ['Bob','Joe','Will','Joe','Joe']\n",
    "sorted(set(names))"
   ]
  },
  {
   "cell_type": "code",
   "execution_count": 7,
   "id": "887a3ead",
   "metadata": {},
   "outputs": [
    {
     "data": {
      "text/plain": [
       "array([ True, False, False,  True,  True, False,  True])"
      ]
     },
     "execution_count": 7,
     "metadata": {},
     "output_type": "execute_result"
    }
   ],
   "source": [
    "# 첫번째 배열의 원소가 두번째 배열의 원소를 \n",
    "# 포함하는지 알려주는 불리언 배열을 반환\n",
    "values = np.array([6,0,0,3,2,5,6])\n",
    "np.in1d(values,[2,3,6])"
   ]
  },
  {
   "cell_type": "code",
   "execution_count": 8,
   "id": "2af17751",
   "metadata": {},
   "outputs": [],
   "source": [
    "# 배열 데이터의 입출력 복습시험출제\n",
    "# np.save, np.load는 바이너리 형식 .npy 파일로 저장\n",
    "\n",
    "arr = np.arange(10)\n",
    "np.save('some_array',arr)"
   ]
  },
  {
   "cell_type": "code",
   "execution_count": 10,
   "id": "d2a37f1c",
   "metadata": {
    "scrolled": true
   },
   "outputs": [
    {
     "data": {
      "text/plain": [
       "array([0, 1, 2, 3, 4, 5, 6, 7, 8, 9])"
      ]
     },
     "execution_count": 10,
     "metadata": {},
     "output_type": "execute_result"
    }
   ],
   "source": [
    "np.load('some_array.npy')"
   ]
  },
  {
   "cell_type": "code",
   "execution_count": 11,
   "id": "389076bd",
   "metadata": {},
   "outputs": [],
   "source": [
    "# np.savez : 여러개의 배열을 압축된 형식으로 저장 복습시험출제\n",
    "np.savez('array_archinve.npz',a=arr,b=arr)"
   ]
  },
  {
   "cell_type": "code",
   "execution_count": 13,
   "id": "166cf0e7",
   "metadata": {},
   "outputs": [
    {
     "data": {
      "text/plain": [
       "array([0, 1, 2, 3, 4, 5, 6, 7, 8, 9])"
      ]
     },
     "execution_count": 13,
     "metadata": {},
     "output_type": "execute_result"
    }
   ],
   "source": [
    "arch = np.load('array_archinve.npz')\n",
    "arch['a']"
   ]
  },
  {
   "cell_type": "code",
   "execution_count": 65,
   "id": "afac73c3",
   "metadata": {},
   "outputs": [
    {
     "name": "stdout",
     "output_type": "stream",
     "text": [
      "[1 0 1 0 1 0 1 0 1 0]\n"
     ]
    }
   ],
   "source": [
    "# Q. 인덱싱을 사용하여 [1 0 1 0 1 0 1 0] 을 출력하세요.\n",
    "a = np.ones(10,dtype=int)\n",
    "a[[1,3,5,7,9]] = 0\n",
    "print(a)\n"
   ]
  },
  {
   "cell_type": "code",
   "execution_count": 42,
   "id": "b1b7f908",
   "metadata": {},
   "outputs": [
    {
     "data": {
      "text/plain": [
       "array([6, 7, 8, 9])"
      ]
     },
     "execution_count": 42,
     "metadata": {},
     "output_type": "execute_result"
    }
   ],
   "source": [
    "# a = np.arange(10)에서 [6,7,8,9] 출력\n",
    "a = np.arange(10)\n",
    "a[a>5]"
   ]
  },
  {
   "cell_type": "code",
   "execution_count": 53,
   "id": "ad84e2a4",
   "metadata": {},
   "outputs": [
    {
     "name": "stdout",
     "output_type": "stream",
     "text": [
      "[8 8 2 9 2 4 5 5 9 6]\n",
      "3\n",
      "2\n"
     ]
    }
   ],
   "source": [
    "# Q. a에서 최대값, 최소값의 인덱스 출력\n",
    "a = np.random.randint(1,10,size=10)\n",
    "print(a)\n",
    "print(np.argmax(a))\n",
    "print(np.argmin(a))"
   ]
  },
  {
   "cell_type": "code",
   "execution_count": 55,
   "id": "d6e589ad",
   "metadata": {},
   "outputs": [
    {
     "data": {
      "text/plain": [
       "array([9, 8, 7, 6, 5, 4, 3, 2, 1, 0], dtype=int64)"
      ]
     },
     "execution_count": 55,
     "metadata": {},
     "output_type": "execute_result"
    }
   ],
   "source": [
    "# Q. a에서 인덱스 배열을 역순으로 출려가세요.\n",
    "a = np.ones(10,dtype = int)\n",
    "np.argsort(a)[::-1]"
   ]
  },
  {
   "cell_type": "code",
   "execution_count": 57,
   "id": "f07c5136",
   "metadata": {
    "scrolled": true
   },
   "outputs": [
    {
     "data": {
      "text/plain": [
       "array([[1., 1., 1., 1., 1., 1., 1., 1., 1., 1.],\n",
       "       [1., 0., 0., 0., 0., 0., 0., 0., 0., 1.],\n",
       "       [1., 0., 0., 0., 0., 0., 0., 0., 0., 1.],\n",
       "       [1., 0., 0., 0., 0., 0., 0., 0., 0., 1.],\n",
       "       [1., 0., 0., 0., 0., 0., 0., 0., 0., 1.],\n",
       "       [1., 0., 0., 0., 0., 0., 0., 0., 0., 1.],\n",
       "       [1., 0., 0., 0., 0., 0., 0., 0., 0., 1.],\n",
       "       [1., 0., 0., 0., 0., 0., 0., 0., 0., 1.],\n",
       "       [1., 0., 0., 0., 0., 0., 0., 0., 0., 1.],\n",
       "       [1., 1., 1., 1., 1., 1., 1., 1., 1., 1.]])"
      ]
     },
     "execution_count": 57,
     "metadata": {},
     "output_type": "execute_result"
    }
   ],
   "source": [
    "# Q. np.ones(10,10)을 아래와 같이 출력하세요.\n",
    "# array([[1., 1., 1., 1., 1., 1., 1., 1., 1., 1.],\n",
    "#        [1., 0., 0., 0., 0., 0., 0., 0., 0., 1.],\n",
    "#        [1., 0., 0., 0., 0., 0., 0., 0., 0., 1.],\n",
    "#        [1., 0., 0., 0., 0., 0., 0., 0., 0., 1.],\n",
    "#        [1., 0., 0., 0., 0., 0., 0., 0., 0., 1.],\n",
    "#        [1., 0., 0., 0., 0., 0., 0., 0., 0., 1.],\n",
    "#        [1., 0., 0., 0., 0., 0., 0., 0., 0., 1.],\n",
    "#        [1., 0., 0., 0., 0., 0., 0., 0., 0., 1.],\n",
    "#        [1., 0., 0., 0., 0., 0., 0., 0., 0., 1.],\n",
    "#        [1., 1., 1., 1., 1., 1., 1., 1., 1., 1.]])\n",
    "a = np.ones((10,10),)\n",
    "for i in range(1,9):\n",
    "    a[i][1:9]=0\n",
    "a"
   ]
  },
  {
   "cell_type": "code",
   "execution_count": 152,
   "id": "1e54befa",
   "metadata": {
    "scrolled": false
   },
   "outputs": [
    {
     "data": {
      "text/plain": [
       "array([[1., 1., 1., 1., 1., 1., 1., 1., 1., 1.],\n",
       "       [1., 0., 0., 0., 0., 0., 0., 0., 0., 1.],\n",
       "       [1., 0., 0., 0., 0., 0., 0., 0., 0., 1.],\n",
       "       [1., 0., 0., 0., 0., 0., 0., 0., 0., 1.],\n",
       "       [1., 0., 0., 0., 0., 0., 0., 0., 0., 1.],\n",
       "       [1., 0., 0., 0., 0., 0., 0., 0., 0., 1.],\n",
       "       [1., 0., 0., 0., 0., 0., 0., 0., 0., 1.],\n",
       "       [1., 0., 0., 0., 0., 0., 0., 0., 0., 1.],\n",
       "       [1., 0., 0., 0., 0., 0., 0., 0., 0., 1.],\n",
       "       [1., 1., 1., 1., 1., 1., 1., 1., 1., 1.]])"
      ]
     },
     "execution_count": 152,
     "metadata": {},
     "output_type": "execute_result"
    }
   ],
   "source": [
    "# 다른사람이 한거\n",
    "b=np.ones((10,10))\n",
    "b[1:9,1:9]=0\n",
    "b"
   ]
  },
  {
   "cell_type": "code",
   "execution_count": 8,
   "id": "70058518",
   "metadata": {},
   "outputs": [
    {
     "data": {
      "text/plain": [
       "array([[0., 0., 0., 0., 0., 0., 0., 0., 0.],\n",
       "       [0., 0., 0., 0., 0., 0., 0., 0., 0.],\n",
       "       [0., 0., 1., 1., 1., 1., 1., 0., 0.],\n",
       "       [0., 0., 1., 1., 1., 1., 1., 0., 0.],\n",
       "       [0., 0., 1., 1., 1., 1., 1., 0., 0.],\n",
       "       [0., 0., 1., 1., 1., 1., 1., 0., 0.],\n",
       "       [0., 0., 1., 1., 1., 1., 1., 0., 0.],\n",
       "       [0., 0., 0., 0., 0., 0., 0., 0., 0.],\n",
       "       [0., 0., 0., 0., 0., 0., 0., 0., 0.]])"
      ]
     },
     "execution_count": 8,
     "metadata": {},
     "output_type": "execute_result"
    }
   ],
   "source": [
    "# [과제] np.ones((5,5))을 아래와 같이 출력하세요\n",
    "# array([[0., 0., 0., 0., 0., 0., 0., 0., 0.],\n",
    "#        [0., 0., 0., 0., 0., 0., 0., 0., 0.],\n",
    "#        [0., 0., 1., 1., 1., 1., 1., 0., 0.],\n",
    "#        [0., 0., 1., 1., 1., 1., 1., 0., 0.],\n",
    "#        [0., 0., 1., 1., 1., 1., 1., 0., 0.],\n",
    "#        [0., 0., 1., 1., 1., 1., 1., 0., 0.],\n",
    "#        [0., 0., 1., 1., 1., 1., 1., 0., 0.],\n",
    "#        [0., 0., 0., 0., 0., 0., 0., 0., 0.],\n",
    "#        [0., 0., 0., 0., 0., 0., 0., 0., 0.]])\n",
    "arr1 = np.ones((5,5))\n",
    "np.pad(arr1,(2,2),'constant',constant_values=0)"
   ]
  },
  {
   "cell_type": "code",
   "execution_count": 162,
   "id": "73f5f61a",
   "metadata": {},
   "outputs": [
    {
     "data": {
      "text/plain": [
       "array([[0, 1, 0, 1, 0, 1, 0, 1],\n",
       "       [1, 0, 1, 0, 1, 0, 1, 0],\n",
       "       [0, 1, 0, 1, 0, 1, 0, 1],\n",
       "       [1, 0, 1, 0, 1, 0, 1, 0],\n",
       "       [0, 1, 0, 1, 0, 1, 0, 1],\n",
       "       [1, 0, 1, 0, 1, 0, 1, 0],\n",
       "       [0, 1, 0, 1, 0, 1, 0, 1],\n",
       "       [1, 0, 1, 0, 1, 0, 1, 0]])"
      ]
     },
     "execution_count": 162,
     "metadata": {},
     "output_type": "execute_result"
    }
   ],
   "source": [
    "# [과제] np.zeros((8,8))을 이용해서 아래와 같이 출력하세요(두가지 방식:인덱싱, tile함수)\n",
    "# array([[0, 1, 0, 1, 0, 1, 0, 1],\n",
    "#        [1, 0, 1, 0, 1, 0, 1, 0],\n",
    "#        [0, 1, 0, 1, 0, 1, 0, 1],\n",
    "#        [1, 0, 1, 0, 1, 0, 1, 0],\n",
    "#        [0, 1, 0, 1, 0, 1, 0, 1],\n",
    "#        [1, 0, 1, 0, 1, 0, 1, 0],\n",
    "#        [0, 1, 0, 1, 0, 1, 0, 1],\n",
    "#        [1, 0, 1, 0, 1, 0, 1, 0]])\n",
    "a = np.zeros((8,8),dtype=int)\n",
    "a[(1,3,5,7),0:8:2]=1\n",
    "a[(0,2,4,6),1:8:2]=1\n",
    "a"
   ]
  },
  {
   "cell_type": "code",
   "execution_count": 12,
   "id": "fbc82cde",
   "metadata": {
    "scrolled": true
   },
   "outputs": [
    {
     "name": "stdout",
     "output_type": "stream",
     "text": [
      "[[0 1 0 1 0 1 0 1]\n",
      " [1 0 1 0 1 0 1 0]\n",
      " [0 1 0 1 0 1 0 1]\n",
      " [1 0 1 0 1 0 1 0]\n",
      " [0 1 0 1 0 1 0 1]\n",
      " [1 0 1 0 1 0 1 0]\n",
      " [0 1 0 1 0 1 0 1]\n",
      " [1 0 1 0 1 0 1 0]]\n"
     ]
    },
    {
     "data": {
      "text/plain": [
       "array([[0., 1., 0., 1., 0., 1., 0., 1.],\n",
       "       [1., 0., 1., 0., 1., 0., 1., 0.],\n",
       "       [0., 1., 0., 1., 0., 1., 0., 1.],\n",
       "       [1., 0., 1., 0., 1., 0., 1., 0.],\n",
       "       [0., 1., 0., 1., 0., 1., 0., 1.],\n",
       "       [1., 0., 1., 0., 1., 0., 1., 0.],\n",
       "       [0., 1., 0., 1., 0., 1., 0., 1.],\n",
       "       [1., 0., 1., 0., 1., 0., 1., 0.]])"
      ]
     },
     "execution_count": 12,
     "metadata": {},
     "output_type": "execute_result"
    }
   ],
   "source": [
    "# 다른사람이 한것\n",
    "a = np.array([[0,1],[1,0]])\n",
    "b = np.tile(a,(4,4))\n",
    "print(b)\n",
    "x = np.zeros((8,8))\n",
    "x[::2,1::2] = 1\n",
    "x[1::2,::2] = 1\n",
    "x"
   ]
  },
  {
   "cell_type": "code",
   "execution_count": 16,
   "id": "31fda58e",
   "metadata": {},
   "outputs": [
    {
     "data": {
      "text/plain": [
       "array([[0, 1, 0, 1, 0, 1, 0, 1],\n",
       "       [1, 0, 1, 0, 1, 0, 1, 0],\n",
       "       [0, 1, 0, 1, 0, 1, 0, 1],\n",
       "       [1, 0, 1, 0, 1, 0, 1, 0],\n",
       "       [0, 1, 0, 1, 0, 1, 0, 1],\n",
       "       [1, 0, 1, 0, 1, 0, 1, 0],\n",
       "       [0, 1, 0, 1, 0, 1, 0, 1],\n",
       "       [1, 0, 1, 0, 1, 0, 1, 0]])"
      ]
     },
     "execution_count": 16,
     "metadata": {},
     "output_type": "execute_result"
    }
   ],
   "source": [
    "a = np.array([[0,1],[1,0]])\n",
    "b =np.tile(a,(4,4))\n",
    "b"
   ]
  },
  {
   "cell_type": "code",
   "execution_count": 9,
   "id": "69cb1b7b",
   "metadata": {},
   "outputs": [
    {
     "name": "stdout",
     "output_type": "stream",
     "text": [
      "(array([1], dtype=int64), array([5], dtype=int64), array([3], dtype=int64))\n"
     ]
    }
   ],
   "source": [
    "# [도전과제] np.arange(336).reshape(6,7,8)에서 100번쨰 요소의 인덱스를 구하세요\n",
    "arr = np.arange(336).reshape(6,7,8)\n",
    "print(np.where(arr==99))\n",
    "# print(np.unravel_index(99,(6,7,8)))"
   ]
  },
  {
   "cell_type": "code",
   "execution_count": 24,
   "id": "77a1b5fe",
   "metadata": {},
   "outputs": [
    {
     "data": {
      "text/plain": [
       "array([[0, 0, 0, 0, 0],\n",
       "       [1, 0, 0, 0, 0],\n",
       "       [0, 2, 0, 0, 0],\n",
       "       [0, 0, 3, 0, 0],\n",
       "       [0, 0, 0, 4, 0]])"
      ]
     },
     "execution_count": 24,
     "metadata": {},
     "output_type": "execute_result"
    }
   ],
   "source": [
    "# [도전과제] np.arrange(4)을 이용해서 아래와 같이 출력하세요.\n",
    "# array([[0, 0, 0, 0, 0],\n",
    "#        [1, 0, 0, 0, 0],\n",
    "#        [0, 2, 0, 0, 0],\n",
    "#        [0, 0, 3, 0, 0],\n",
    "#        [0, 0, 0, 4, 0]])\n",
    "a = np.arange(4)\n",
    "np.diag(a+1,-1)"
   ]
  },
  {
   "cell_type": "code",
   "execution_count": 23,
   "id": "646d9ce4",
   "metadata": {},
   "outputs": [
    {
     "name": "stdout",
     "output_type": "stream",
     "text": [
      "[[0. 0. 0. 0. 0.]\n",
      " [1. 0. 0. 0. 0.]\n",
      " [0. 2. 0. 0. 0.]\n",
      " [0. 0. 3. 0. 0.]\n",
      " [0. 0. 0. 4. 0.]]\n"
     ]
    }
   ],
   "source": [
    "# 다른사람이 한것\n",
    "zero = np.zeros((5, 5))\n",
    "a = np.arange(4)\n",
    "\n",
    "for i in range(4):\n",
    "    zero[i + 1, i] = a[i] + 1\n",
    "    \n",
    "print(zero)\n"
   ]
  },
  {
   "cell_type": "markdown",
   "id": "2b966d25",
   "metadata": {},
   "source": [
    "# [파이썬 random 함수]"
   ]
  },
  {
   "cell_type": "code",
   "execution_count": 253,
   "id": "349149fa",
   "metadata": {},
   "outputs": [
    {
     "name": "stdout",
     "output_type": "stream",
     "text": [
      "0.07928502156581119 \n",
      "\n",
      "6 \n",
      "\n",
      "18.061937327933403 \n",
      "\n",
      "8 \n",
      "\n",
      "2 \n",
      "\n",
      "[1, 4, 2] \n",
      "\n",
      "[5, 1, 4, 3, 2]\n"
     ]
    }
   ],
   "source": [
    "import random #복습시험출제\n",
    "print(random.random(),'\\n') # 0.0 <= x < 1.0 사이 숫자 랜덤하게\n",
    "print(random.randint(1,10),'\\n') # 1에서 10사이 정수중에서 난수값 리턴\n",
    "print(random.uniform(10,20),'\\n') # min max 사이 float 리턴\n",
    "print(random.randrange(10),'\\n') # 지정 범위 int 리턴\n",
    "print(random.choice([1,2,3,4,5]),'\\n') # 리스트 내부에 있는 요소중 랜덤하게 선택\n",
    "li = [1,2,3,4,5]\n",
    "print(random.sample(li,3),'\\n') # 리스트 요소를 중복이 안되게 리턴\n",
    "random.shuffle(li) # 리스트 요소를 다시 섞어서 리턴\n",
    "print(li)"
   ]
  },
  {
   "cell_type": "markdown",
   "id": "c6cc50d5",
   "metadata": {},
   "source": [
    "# [numpy random 함수] #복습시험출제\n",
    "\n",
    "- np.random.seed : seed를 통한 난수생성(설정하면 난수 고정)\n",
    "- np.random.randint : 균일분포의 정수 난수 1개 생성\n",
    "- np.random.rand : 0부터 1사이의 균일분포에서 난수 매트릭스 배열 생성\n",
    "- np.random.randn : 가우시안 표준 정규분포에서 난수 매트릭스 배열 생성\n",
    "- np.random.shuffle : 기존의 데이터의 순서 바꾸기\n",
    "- np.random.choice : 기존 데이터에서 sampling"
   ]
  },
  {
   "cell_type": "code",
   "execution_count": 330,
   "id": "89e81a65",
   "metadata": {},
   "outputs": [
    {
     "name": "stdout",
     "output_type": "stream",
     "text": [
      "2 \n",
      "\n",
      "2 \n",
      "\n",
      "[0 4 7 3 1 1 8 5 5 0] \n",
      "\n",
      "[16 14 18 18 10 19 14 15 16 15] \n",
      "\n",
      "[[15 10 16 17 16]\n",
      " [12 13 19 19 11]\n",
      " [13 10 15 17 18]] \n",
      "\n"
     ]
    }
   ],
   "source": [
    "print(np.random.randint(6),'\\n') # 0에서 5까지 정수인 난수 1개\n",
    "print(np.random.randint(1,20),'\\n') # 0에서 19까지 정수인 난수 1개\n",
    "print(np.random.randint(10,size = 10),'\\n') # 0에서 9까지 정수인 난수 10개\n",
    "print(np.random.randint(10,20,size = 10),'\\n') # 10에서 19까지 정수인 난수 10개\n",
    "print(np.random.randint(10,20,size=(3,5)),'\\n') # 10에서 19까지 정수인 난수로 3행 5열 배열"
   ]
  },
  {
   "cell_type": "code",
   "execution_count": 364,
   "id": "51a62926",
   "metadata": {},
   "outputs": [
    {
     "data": {
      "text/plain": [
       "0.5070004522444359"
      ]
     },
     "execution_count": 364,
     "metadata": {},
     "output_type": "execute_result"
    }
   ],
   "source": [
    "r = np.random.rand(6) # 0~ 1 사이의 균일분포 6개\n",
    "print(r,'\\n')\n",
    "r.mean() # 0.5에 수렴"
   ]
  },
  {
   "cell_type": "code",
   "execution_count": 29,
   "id": "a904d612",
   "metadata": {},
   "outputs": [
    {
     "data": {
      "text/plain": [
       "0.00466867457146686"
      ]
     },
     "execution_count": 29,
     "metadata": {},
     "output_type": "execute_result"
    }
   ],
   "source": [
    "# 표준 정규분포\n",
    "r = np.random.randn(600)\n",
    "r.mean() # 0에 수렴"
   ]
  },
  {
   "cell_type": "code",
   "execution_count": 377,
   "id": "723b497d",
   "metadata": {},
   "outputs": [
    {
     "name": "stdout",
     "output_type": "stream",
     "text": [
      "[1 2 3 4 5] \n",
      "\n",
      "[2 4 5 3 1]\n"
     ]
    }
   ],
   "source": [
    "li = np.arange(1,6)\n",
    "print(li,'\\n')\n",
    "np.random.shuffle(li)\n",
    "print(li)"
   ]
  },
  {
   "cell_type": "code",
   "execution_count": 405,
   "id": "449aec5e",
   "metadata": {},
   "outputs": [
    {
     "data": {
      "text/plain": [
       "2"
      ]
     },
     "execution_count": 405,
     "metadata": {},
     "output_type": "execute_result"
    }
   ],
   "source": [
    "np.random.choice(li)"
   ]
  },
  {
   "cell_type": "code",
   "execution_count": 419,
   "id": "e9faf748",
   "metadata": {},
   "outputs": [
    {
     "name": "stdout",
     "output_type": "stream",
     "text": [
      "[ 2  3  7 11]\n",
      "[3 2 1 2]\n"
     ]
    }
   ],
   "source": [
    "a = np.array([11,11,3,3,2,2,2,7])\n",
    "index,count = np.unique(a,return_counts = True)\n",
    "print(index)\n",
    "print(count)"
   ]
  },
  {
   "cell_type": "code",
   "execution_count": 426,
   "id": "5f4d47ef",
   "metadata": {},
   "outputs": [
    {
     "data": {
      "text/plain": [
       "array([1.59058408, 1.869687  , 1.43914045, 1.05057334, 1.34719731,\n",
       "       1.11660329, 1.36198196, 1.9950509 , 1.26808512, 1.76453441])"
      ]
     },
     "execution_count": 426,
     "metadata": {},
     "output_type": "execute_result"
    }
   ],
   "source": [
    "np.random.uniform(1.0,2.0,10)"
   ]
  },
  {
   "cell_type": "code",
   "execution_count": 442,
   "id": "cf7c24d7",
   "metadata": {
    "scrolled": true
   },
   "outputs": [
    {
     "data": {
      "text/plain": [
       "array([[0.12422472, 0.93133121, 0.55198545],\n",
       "       [0.78068222, 0.00799002, 0.47981422]])"
      ]
     },
     "execution_count": 442,
     "metadata": {},
     "output_type": "execute_result"
    }
   ],
   "source": [
    "# 0~ 1사이의 난수 실수값으로 행렬생성\n",
    "# uniform 함수의 최소값, 최대값을 각각 0,1로 지정한 것과 같음\n",
    "np.random.random_sample((2,3))"
   ]
  },
  {
   "cell_type": "markdown",
   "id": "f2ef83dd",
   "metadata": {},
   "source": [
    "# pandas"
   ]
  },
  {
   "cell_type": "code",
   "execution_count": 443,
   "id": "edf1414d",
   "metadata": {
    "scrolled": true
   },
   "outputs": [
    {
     "name": "stdout",
     "output_type": "stream",
     "text": [
      "Requirement already satisfied: pandas in c:\\users\\admin\\anaconda3\\envs\\cakd5\\lib\\site-packages (1.3.4)\n",
      "Requirement already satisfied: numpy>=1.17.3 in c:\\users\\admin\\anaconda3\\envs\\cakd5\\lib\\site-packages (from pandas) (1.21.2)\n",
      "Requirement already satisfied: pytz>=2017.3 in c:\\users\\admin\\anaconda3\\envs\\cakd5\\lib\\site-packages (from pandas) (2021.3)\n",
      "Requirement already satisfied: python-dateutil>=2.7.3 in c:\\users\\admin\\anaconda3\\envs\\cakd5\\lib\\site-packages (from pandas) (2.8.2)\n",
      "Requirement already satisfied: six>=1.5 in c:\\users\\admin\\anaconda3\\envs\\cakd5\\lib\\site-packages (from python-dateutil>=2.7.3->pandas) (1.16.0)\n"
     ]
    }
   ],
   "source": [
    "!pip install pandas"
   ]
  },
  {
   "cell_type": "code",
   "execution_count": 444,
   "id": "b965c413",
   "metadata": {},
   "outputs": [
    {
     "data": {
      "text/plain": [
       "array([[0.13971057, 0.32182257, 0.64047486, 0.28516367, 0.1293201 ,\n",
       "        0.80346239, 0.37484441, 0.08710353],\n",
       "       [0.84277197, 0.85038921, 0.96972618, 0.47362106, 0.80106494,\n",
       "        0.51568211, 0.56769591, 0.54149698],\n",
       "       [0.2063499 , 0.13379446, 0.28587181, 0.61245542, 0.14652054,\n",
       "        0.59919224, 0.14166261, 0.81539732],\n",
       "       [0.30047043, 0.65995809, 0.07333843, 0.48293295, 0.42443269,\n",
       "        0.94272174, 0.28326694, 0.68719136]])"
      ]
     },
     "execution_count": 444,
     "metadata": {},
     "output_type": "execute_result"
    }
   ],
   "source": [
    "ar = np.random.rand(4,8)\n",
    "ar"
   ]
  },
  {
   "cell_type": "code",
   "execution_count": 453,
   "id": "534f8eb8",
   "metadata": {},
   "outputs": [
    {
     "name": "stdout",
     "output_type": "stream",
     "text": [
      "          0         1         2         3         4         5         6  \\\n",
      "0  0.139711  0.321823  0.640475  0.285164  0.129320  0.803462  0.374844   \n",
      "1  0.842772  0.850389  0.969726  0.473621  0.801065  0.515682  0.567696   \n",
      "2  0.206350  0.133794  0.285872  0.612455  0.146521  0.599192  0.141663   \n",
      "3  0.300470  0.659958  0.073338  0.482933  0.424433  0.942722  0.283267   \n",
      "\n",
      "          7  \n",
      "0  0.087104  \n",
      "1  0.541497  \n",
      "2  0.815397  \n",
      "3  0.687191   <class 'pandas.core.frame.DataFrame'>\n"
     ]
    }
   ],
   "source": [
    "# 배열을 데이터프레임으로 변환\n",
    "import pandas as pd\n",
    "df = pd.DataFrame(ar)\n",
    "print(df,type(df))"
   ]
  },
  {
   "cell_type": "code",
   "execution_count": 482,
   "id": "a090a26f",
   "metadata": {
    "scrolled": true
   },
   "outputs": [
    {
     "data": {
      "text/html": [
       "<div>\n",
       "<style scoped>\n",
       "    .dataframe tbody tr th:only-of-type {\n",
       "        vertical-align: middle;\n",
       "    }\n",
       "\n",
       "    .dataframe tbody tr th {\n",
       "        vertical-align: top;\n",
       "    }\n",
       "\n",
       "    .dataframe thead th {\n",
       "        text-align: right;\n",
       "    }\n",
       "</style>\n",
       "<table border=\"1\" class=\"dataframe\">\n",
       "  <thead>\n",
       "    <tr style=\"text-align: right;\">\n",
       "      <th></th>\n",
       "      <th>id</th>\n",
       "      <th>gender</th>\n",
       "      <th>age</th>\n",
       "      <th>region</th>\n",
       "      <th>product</th>\n",
       "      <th>price</th>\n",
       "      <th>qty</th>\n",
       "      <th>time</th>\n",
       "    </tr>\n",
       "  </thead>\n",
       "  <tbody>\n",
       "    <tr>\n",
       "      <th>0</th>\n",
       "      <td>0.139711</td>\n",
       "      <td>0.321823</td>\n",
       "      <td>0.640475</td>\n",
       "      <td>0.285164</td>\n",
       "      <td>0.129320</td>\n",
       "      <td>0.803462</td>\n",
       "      <td>0.374844</td>\n",
       "      <td>0.087104</td>\n",
       "    </tr>\n",
       "    <tr>\n",
       "      <th>1</th>\n",
       "      <td>0.842772</td>\n",
       "      <td>0.850389</td>\n",
       "      <td>0.969726</td>\n",
       "      <td>0.473621</td>\n",
       "      <td>0.801065</td>\n",
       "      <td>0.515682</td>\n",
       "      <td>0.567696</td>\n",
       "      <td>0.541497</td>\n",
       "    </tr>\n",
       "    <tr>\n",
       "      <th>2</th>\n",
       "      <td>0.206350</td>\n",
       "      <td>0.133794</td>\n",
       "      <td>0.285872</td>\n",
       "      <td>0.612455</td>\n",
       "      <td>0.146521</td>\n",
       "      <td>0.599192</td>\n",
       "      <td>0.141663</td>\n",
       "      <td>0.815397</td>\n",
       "    </tr>\n",
       "    <tr>\n",
       "      <th>3</th>\n",
       "      <td>0.300470</td>\n",
       "      <td>0.659958</td>\n",
       "      <td>0.073338</td>\n",
       "      <td>0.482933</td>\n",
       "      <td>0.424433</td>\n",
       "      <td>0.942722</td>\n",
       "      <td>0.283267</td>\n",
       "      <td>0.687191</td>\n",
       "    </tr>\n",
       "  </tbody>\n",
       "</table>\n",
       "</div>"
      ],
      "text/plain": [
       "         id    gender       age    region   product     price       qty  \\\n",
       "0  0.139711  0.321823  0.640475  0.285164  0.129320  0.803462  0.374844   \n",
       "1  0.842772  0.850389  0.969726  0.473621  0.801065  0.515682  0.567696   \n",
       "2  0.206350  0.133794  0.285872  0.612455  0.146521  0.599192  0.141663   \n",
       "3  0.300470  0.659958  0.073338  0.482933  0.424433  0.942722  0.283267   \n",
       "\n",
       "       time  \n",
       "0  0.087104  \n",
       "1  0.541497  \n",
       "2  0.815397  \n",
       "3  0.687191  "
      ]
     },
     "execution_count": 482,
     "metadata": {},
     "output_type": "execute_result"
    }
   ],
   "source": [
    "columns = ['id','gender','age','region','product','price','qty','time']\n",
    "index = [np.arange(4)]\n",
    "df = pd.DataFrame(ar,index,columns=columns)\n",
    "df"
   ]
  },
  {
   "cell_type": "code",
   "execution_count": null,
   "id": "93c48ec5",
   "metadata": {},
   "outputs": [],
   "source": [
    "ID = np.random.randint(1000,10000,3)\n",
    "gen = np.random.choice(['M','F'],3)\n",
    "age = np.random.randint(10,40,3)\n",
    "\n",
    "data = np.array([ID,gen,age]).reshape(3,3).transpose()\n",
    "df=pd.DataFrame(data,np.arange(1,4),['ID','Gender','Age'])\n",
    "df\n"
   ]
  },
  {
   "cell_type": "code",
   "execution_count": 535,
   "id": "46101604",
   "metadata": {
    "scrolled": true
   },
   "outputs": [
    {
     "data": {
      "text/html": [
       "<div>\n",
       "<style scoped>\n",
       "    .dataframe tbody tr th:only-of-type {\n",
       "        vertical-align: middle;\n",
       "    }\n",
       "\n",
       "    .dataframe tbody tr th {\n",
       "        vertical-align: top;\n",
       "    }\n",
       "\n",
       "    .dataframe thead th {\n",
       "        text-align: right;\n",
       "    }\n",
       "</style>\n",
       "<table border=\"1\" class=\"dataframe\">\n",
       "  <thead>\n",
       "    <tr style=\"text-align: right;\">\n",
       "      <th></th>\n",
       "      <th>id</th>\n",
       "      <th>gender</th>\n",
       "      <th>age</th>\n",
       "    </tr>\n",
       "  </thead>\n",
       "  <tbody>\n",
       "    <tr>\n",
       "      <th>1</th>\n",
       "      <td>199</td>\n",
       "      <td>0</td>\n",
       "      <td>64</td>\n",
       "    </tr>\n",
       "    <tr>\n",
       "      <th>2</th>\n",
       "      <td>561</td>\n",
       "      <td>1</td>\n",
       "      <td>30</td>\n",
       "    </tr>\n",
       "    <tr>\n",
       "      <th>3</th>\n",
       "      <td>922</td>\n",
       "      <td>0</td>\n",
       "      <td>47</td>\n",
       "    </tr>\n",
       "    <tr>\n",
       "      <th>4</th>\n",
       "      <td>676</td>\n",
       "      <td>0</td>\n",
       "      <td>15</td>\n",
       "    </tr>\n",
       "    <tr>\n",
       "      <th>5</th>\n",
       "      <td>131</td>\n",
       "      <td>0</td>\n",
       "      <td>55</td>\n",
       "    </tr>\n",
       "    <tr>\n",
       "      <th>6</th>\n",
       "      <td>801</td>\n",
       "      <td>0</td>\n",
       "      <td>11</td>\n",
       "    </tr>\n",
       "    <tr>\n",
       "      <th>7</th>\n",
       "      <td>498</td>\n",
       "      <td>1</td>\n",
       "      <td>45</td>\n",
       "    </tr>\n",
       "    <tr>\n",
       "      <th>8</th>\n",
       "      <td>931</td>\n",
       "      <td>1</td>\n",
       "      <td>25</td>\n",
       "    </tr>\n",
       "    <tr>\n",
       "      <th>9</th>\n",
       "      <td>690</td>\n",
       "      <td>1</td>\n",
       "      <td>33</td>\n",
       "    </tr>\n",
       "    <tr>\n",
       "      <th>10</th>\n",
       "      <td>440</td>\n",
       "      <td>0</td>\n",
       "      <td>38</td>\n",
       "    </tr>\n",
       "  </tbody>\n",
       "</table>\n",
       "</div>"
      ],
      "text/plain": [
       "     id  gender  age\n",
       "1   199       0   64\n",
       "2   561       1   30\n",
       "3   922       0   47\n",
       "4   676       0   15\n",
       "5   131       0   55\n",
       "6   801       0   11\n",
       "7   498       1   45\n",
       "8   931       1   25\n",
       "9   690       1   33\n",
       "10  440       0   38"
      ]
     },
     "execution_count": 535,
     "metadata": {},
     "output_type": "execute_result"
    }
   ],
   "source": [
    "h = np.zeros((3, 10),dtype = int)\n",
    "id_ = np.random.randint(1, 1000, size = (1, 10))\n",
    "gender = np.random.randint(2, size = (1, 10))\n",
    "age = np.random.randint(0, 80, size = (1, 10))\n",
    "\n",
    "h[0] = id_\n",
    "h[1] = gender\n",
    "h[2] = age\n",
    "\n",
    "h = np.transpose(h)\n",
    "\n",
    "columns = ['id', 'gender', 'age']\n",
    "index = np.arange(1, 11)\n",
    "df = pd.DataFrame(h, index, columns = columns)\n",
    "\n",
    "df\n"
   ]
  },
  {
   "cell_type": "code",
   "execution_count": 539,
   "id": "184c7bdc",
   "metadata": {},
   "outputs": [
    {
     "data": {
      "text/html": [
       "<div>\n",
       "<style scoped>\n",
       "    .dataframe tbody tr th:only-of-type {\n",
       "        vertical-align: middle;\n",
       "    }\n",
       "\n",
       "    .dataframe tbody tr th {\n",
       "        vertical-align: top;\n",
       "    }\n",
       "\n",
       "    .dataframe thead th {\n",
       "        text-align: right;\n",
       "    }\n",
       "</style>\n",
       "<table border=\"1\" class=\"dataframe\">\n",
       "  <thead>\n",
       "    <tr style=\"text-align: right;\">\n",
       "      <th></th>\n",
       "      <th>id</th>\n",
       "      <th>gender</th>\n",
       "      <th>age</th>\n",
       "    </tr>\n",
       "  </thead>\n",
       "  <tbody>\n",
       "    <tr>\n",
       "      <th>1</th>\n",
       "      <td>1</td>\n",
       "      <td>0</td>\n",
       "      <td>10</td>\n",
       "    </tr>\n",
       "    <tr>\n",
       "      <th>2</th>\n",
       "      <td>2</td>\n",
       "      <td>1</td>\n",
       "      <td>20</td>\n",
       "    </tr>\n",
       "    <tr>\n",
       "      <th>3</th>\n",
       "      <td>3</td>\n",
       "      <td>0</td>\n",
       "      <td>30</td>\n",
       "    </tr>\n",
       "    <tr>\n",
       "      <th>4</th>\n",
       "      <td>4</td>\n",
       "      <td>1</td>\n",
       "      <td>40</td>\n",
       "    </tr>\n",
       "  </tbody>\n",
       "</table>\n",
       "</div>"
      ],
      "text/plain": [
       "   id  gender  age\n",
       "1   1       0   10\n",
       "2   2       1   20\n",
       "3   3       0   30\n",
       "4   4       1   40"
      ]
     },
     "execution_count": 539,
     "metadata": {},
     "output_type": "execute_result"
    }
   ],
   "source": [
    "ar = np.zeros((4,3))\n",
    "columns = ['id', 'gender', 'age']\n",
    "index = [np.arange(1,5)]\n",
    "df = pd.DataFrame(ar,index,columns=columns)\n",
    "df.id = np.array([1,2,3,4])\n",
    "df.gender = np.array([0,1,0,1])\n",
    "df.age = np.array([10,20,30,40])\n",
    "df"
   ]
  },
  {
   "cell_type": "markdown",
   "id": "2f01aa18",
   "metadata": {},
   "source": [
    "[과제] 고객 구매데이터 생성(id,성별,연령,지역,상품,가격,구매시간)하고 데이터 프레임으로 변환하여 출력하세요(관측치 1000개)\n",
    "\n",
    "- id : 1~1000번 일련번호\n",
    "- gender : 0,1 정수 난수 생성\n",
    "- age : 0~ 80사이 정수 난수 생성\n",
    "- region : 1~10사이 정수난수 생성\n",
    "- product_19 : 제품코드 11111 ~ 99999\n",
    "- product_20 : 제품코드 11111 ~ 99999\n",
    "- price_19 : 1000~50000 사이 실수 난수 생성\n",
    "- price_20 : 1000~50000 사이 실수 난수 생성\n",
    "- quantity_19 : 1~100 사이 정수 난수 생성\n",
    "- quantity_20 : 1~100 사이 정수 난수 생성\n",
    "- time_19 : 01 ~ 24 사이 정수 난수 생성\n",
    "- time_20 : 01 ~ 24 사이 정수 난수 생성\n",
    "- amount_19 : price_19 * quantity_19\n",
    "- amount_20 : price_20 * quantity_20\n",
    "- price_19\n",
    "- sales : 19년 대비 구매 증가면 1, 감소면 0"
   ]
  },
  {
   "cell_type": "code",
   "execution_count": 65,
   "id": "b9aa530f",
   "metadata": {
    "scrolled": false
   },
   "outputs": [
    {
     "data": {
      "text/html": [
       "<div>\n",
       "<style scoped>\n",
       "    .dataframe tbody tr th:only-of-type {\n",
       "        vertical-align: middle;\n",
       "    }\n",
       "\n",
       "    .dataframe tbody tr th {\n",
       "        vertical-align: top;\n",
       "    }\n",
       "\n",
       "    .dataframe thead th {\n",
       "        text-align: right;\n",
       "    }\n",
       "</style>\n",
       "<table border=\"1\" class=\"dataframe\">\n",
       "  <thead>\n",
       "    <tr style=\"text-align: right;\">\n",
       "      <th></th>\n",
       "      <th>id</th>\n",
       "      <th>gender</th>\n",
       "      <th>age</th>\n",
       "      <th>region</th>\n",
       "      <th>product_19</th>\n",
       "      <th>product_20</th>\n",
       "      <th>price_19</th>\n",
       "      <th>price_20</th>\n",
       "      <th>quantity_19</th>\n",
       "      <th>quantity_20</th>\n",
       "      <th>time_19</th>\n",
       "      <th>time_20</th>\n",
       "      <th>amount_19</th>\n",
       "      <th>amount_20</th>\n",
       "      <th>sales</th>\n",
       "    </tr>\n",
       "  </thead>\n",
       "  <tbody>\n",
       "    <tr>\n",
       "      <th>1</th>\n",
       "      <td>1</td>\n",
       "      <td>M</td>\n",
       "      <td>16</td>\n",
       "      <td>10</td>\n",
       "      <td>69575</td>\n",
       "      <td>14235</td>\n",
       "      <td>19300</td>\n",
       "      <td>42100</td>\n",
       "      <td>93</td>\n",
       "      <td>60</td>\n",
       "      <td>2</td>\n",
       "      <td>10</td>\n",
       "      <td>1794900</td>\n",
       "      <td>2526000</td>\n",
       "      <td>1</td>\n",
       "    </tr>\n",
       "    <tr>\n",
       "      <th>2</th>\n",
       "      <td>2</td>\n",
       "      <td>F</td>\n",
       "      <td>79</td>\n",
       "      <td>8</td>\n",
       "      <td>14235</td>\n",
       "      <td>14235</td>\n",
       "      <td>42100</td>\n",
       "      <td>42100</td>\n",
       "      <td>23</td>\n",
       "      <td>19</td>\n",
       "      <td>16</td>\n",
       "      <td>8</td>\n",
       "      <td>968300</td>\n",
       "      <td>799900</td>\n",
       "      <td>0</td>\n",
       "    </tr>\n",
       "    <tr>\n",
       "      <th>3</th>\n",
       "      <td>3</td>\n",
       "      <td>F</td>\n",
       "      <td>33</td>\n",
       "      <td>2</td>\n",
       "      <td>96713</td>\n",
       "      <td>47584</td>\n",
       "      <td>32900</td>\n",
       "      <td>12900</td>\n",
       "      <td>87</td>\n",
       "      <td>64</td>\n",
       "      <td>7</td>\n",
       "      <td>8</td>\n",
       "      <td>2862300</td>\n",
       "      <td>825600</td>\n",
       "      <td>0</td>\n",
       "    </tr>\n",
       "    <tr>\n",
       "      <th>4</th>\n",
       "      <td>4</td>\n",
       "      <td>M</td>\n",
       "      <td>14</td>\n",
       "      <td>0</td>\n",
       "      <td>47584</td>\n",
       "      <td>45715</td>\n",
       "      <td>12900</td>\n",
       "      <td>13400</td>\n",
       "      <td>82</td>\n",
       "      <td>11</td>\n",
       "      <td>16</td>\n",
       "      <td>10</td>\n",
       "      <td>1057800</td>\n",
       "      <td>147400</td>\n",
       "      <td>0</td>\n",
       "    </tr>\n",
       "    <tr>\n",
       "      <th>5</th>\n",
       "      <td>5</td>\n",
       "      <td>F</td>\n",
       "      <td>43</td>\n",
       "      <td>5</td>\n",
       "      <td>69575</td>\n",
       "      <td>80770</td>\n",
       "      <td>19300</td>\n",
       "      <td>23100</td>\n",
       "      <td>47</td>\n",
       "      <td>52</td>\n",
       "      <td>20</td>\n",
       "      <td>24</td>\n",
       "      <td>907100</td>\n",
       "      <td>1201200</td>\n",
       "      <td>1</td>\n",
       "    </tr>\n",
       "    <tr>\n",
       "      <th>...</th>\n",
       "      <td>...</td>\n",
       "      <td>...</td>\n",
       "      <td>...</td>\n",
       "      <td>...</td>\n",
       "      <td>...</td>\n",
       "      <td>...</td>\n",
       "      <td>...</td>\n",
       "      <td>...</td>\n",
       "      <td>...</td>\n",
       "      <td>...</td>\n",
       "      <td>...</td>\n",
       "      <td>...</td>\n",
       "      <td>...</td>\n",
       "      <td>...</td>\n",
       "      <td>...</td>\n",
       "    </tr>\n",
       "    <tr>\n",
       "      <th>996</th>\n",
       "      <td>996</td>\n",
       "      <td>M</td>\n",
       "      <td>75</td>\n",
       "      <td>6</td>\n",
       "      <td>80770</td>\n",
       "      <td>22605</td>\n",
       "      <td>23100</td>\n",
       "      <td>8000</td>\n",
       "      <td>85</td>\n",
       "      <td>70</td>\n",
       "      <td>2</td>\n",
       "      <td>14</td>\n",
       "      <td>1963500</td>\n",
       "      <td>560000</td>\n",
       "      <td>0</td>\n",
       "    </tr>\n",
       "    <tr>\n",
       "      <th>997</th>\n",
       "      <td>997</td>\n",
       "      <td>M</td>\n",
       "      <td>79</td>\n",
       "      <td>7</td>\n",
       "      <td>14235</td>\n",
       "      <td>45715</td>\n",
       "      <td>42100</td>\n",
       "      <td>13400</td>\n",
       "      <td>19</td>\n",
       "      <td>88</td>\n",
       "      <td>12</td>\n",
       "      <td>2</td>\n",
       "      <td>799900</td>\n",
       "      <td>1179200</td>\n",
       "      <td>1</td>\n",
       "    </tr>\n",
       "    <tr>\n",
       "      <th>998</th>\n",
       "      <td>998</td>\n",
       "      <td>M</td>\n",
       "      <td>62</td>\n",
       "      <td>6</td>\n",
       "      <td>80770</td>\n",
       "      <td>94567</td>\n",
       "      <td>23100</td>\n",
       "      <td>16600</td>\n",
       "      <td>13</td>\n",
       "      <td>38</td>\n",
       "      <td>17</td>\n",
       "      <td>4</td>\n",
       "      <td>300300</td>\n",
       "      <td>630800</td>\n",
       "      <td>1</td>\n",
       "    </tr>\n",
       "    <tr>\n",
       "      <th>999</th>\n",
       "      <td>999</td>\n",
       "      <td>F</td>\n",
       "      <td>70</td>\n",
       "      <td>5</td>\n",
       "      <td>45715</td>\n",
       "      <td>45715</td>\n",
       "      <td>13400</td>\n",
       "      <td>13400</td>\n",
       "      <td>20</td>\n",
       "      <td>56</td>\n",
       "      <td>21</td>\n",
       "      <td>15</td>\n",
       "      <td>268000</td>\n",
       "      <td>750400</td>\n",
       "      <td>1</td>\n",
       "    </tr>\n",
       "    <tr>\n",
       "      <th>1000</th>\n",
       "      <td>1000</td>\n",
       "      <td>M</td>\n",
       "      <td>32</td>\n",
       "      <td>6</td>\n",
       "      <td>29936</td>\n",
       "      <td>38708</td>\n",
       "      <td>34600</td>\n",
       "      <td>38800</td>\n",
       "      <td>61</td>\n",
       "      <td>69</td>\n",
       "      <td>11</td>\n",
       "      <td>16</td>\n",
       "      <td>2110600</td>\n",
       "      <td>2677200</td>\n",
       "      <td>1</td>\n",
       "    </tr>\n",
       "  </tbody>\n",
       "</table>\n",
       "<p>1000 rows × 15 columns</p>\n",
       "</div>"
      ],
      "text/plain": [
       "        id gender  age  region  product_19  product_20  price_19  price_20  \\\n",
       "1        1      M   16      10       69575       14235     19300     42100   \n",
       "2        2      F   79       8       14235       14235     42100     42100   \n",
       "3        3      F   33       2       96713       47584     32900     12900   \n",
       "4        4      M   14       0       47584       45715     12900     13400   \n",
       "5        5      F   43       5       69575       80770     19300     23100   \n",
       "...    ...    ...  ...     ...         ...         ...       ...       ...   \n",
       "996    996      M   75       6       80770       22605     23100      8000   \n",
       "997    997      M   79       7       14235       45715     42100     13400   \n",
       "998    998      M   62       6       80770       94567     23100     16600   \n",
       "999    999      F   70       5       45715       45715     13400     13400   \n",
       "1000  1000      M   32       6       29936       38708     34600     38800   \n",
       "\n",
       "      quantity_19  quantity_20  time_19  time_20  amount_19  amount_20  sales  \n",
       "1              93           60        2       10    1794900    2526000      1  \n",
       "2              23           19       16        8     968300     799900      0  \n",
       "3              87           64        7        8    2862300     825600      0  \n",
       "4              82           11       16       10    1057800     147400      0  \n",
       "5              47           52       20       24     907100    1201200      1  \n",
       "...           ...          ...      ...      ...        ...        ...    ...  \n",
       "996            85           70        2       14    1963500     560000      0  \n",
       "997            19           88       12        2     799900    1179200      1  \n",
       "998            13           38       17        4     300300     630800      1  \n",
       "999            20           56       21       15     268000     750400      1  \n",
       "1000           61           69       11       16    2110600    2677200      1  \n",
       "\n",
       "[1000 rows x 15 columns]"
      ]
     },
     "execution_count": 65,
     "metadata": {},
     "output_type": "execute_result"
    }
   ],
   "source": [
    "import numpy as np\n",
    "import pandas as pd\n",
    "pn=np.random.randint(11111,99999,size=20)\n",
    "pc1=np.random.randint(10,501,size=len(pn))*100\n",
    "pc2 = {}\n",
    "li = []\n",
    "for i in range(len(pn)):\n",
    "    pc2[pn[i]]=pc1[i]\n",
    "id_ = np.arange(1,1001)\n",
    "gender = np.random.choice(['M','F'],size = 1000)\n",
    "age = np.random.randint(0,81,size=1000)\n",
    "region = np.random.randint(0,11,size=1000)\n",
    "product_19 = np.random.choice(pn,size = 1000)\n",
    "product_20 = np.random.choice(pn,size = 1000)\n",
    "for i in product_19:\n",
    "    li.append(pc2[i])\n",
    "price_19 = np.array(li)\n",
    "li = []\n",
    "for i in product_20:\n",
    "    li.append(pc2[i])\n",
    "price_20 = np.array(li)\n",
    "quantity_19 = np.random.randint(1,101,size=1000)\n",
    "quantity_20 = np.random.randint(1,101,size=1000)\n",
    "time_19 = np.random.randint(1,25,size=1000)\n",
    "time_20 = np.random.randint(1,25,size=1000)\n",
    "amount_19 = price_19 * quantity_19\n",
    "amount_20 = price_20 * quantity_20\n",
    "sales = (amount_19 < amount_20)\n",
    "sales = np.where(sales == True ,1 ,0)\n",
    "\n",
    "index = np.arange(1,1001)\n",
    "columns = ['id','gender','age','region','product_19','product_20','price_19','price_20','quantity_19','quantity_20','time_19','time_20','amount_19','amount_20','sales']\n",
    "data = np.zeros((1000,15))\n",
    "df = pd.DataFrame(data,index,columns=columns)\n",
    "df.id=id_\n",
    "df.gender = gender\n",
    "df.region = region\n",
    "df.age = age\n",
    "df.product_19 = product_19\n",
    "df.product_20 = product_20\n",
    "df.price_19 = price_19\n",
    "df.price_20 = price_20\n",
    "df.quantity_19 = quantity_19\n",
    "df.quantity_20 = quantity_20\n",
    "df.time_19 = time_19\n",
    "df.time_20 = time_20\n",
    "df.amount_19 = amount_19\n",
    "df.amount_20 = amount_20\n",
    "df.sales = sales\n",
    "df"
   ]
  },
  {
   "cell_type": "code",
   "execution_count": null,
   "id": "7664f770",
   "metadata": {},
   "outputs": [],
   "source": []
  }
 ],
 "metadata": {
  "kernelspec": {
   "display_name": "Python 3 (ipykernel)",
   "language": "python",
   "name": "python3"
  },
  "language_info": {
   "codemirror_mode": {
    "name": "ipython",
    "version": 3
   },
   "file_extension": ".py",
   "mimetype": "text/x-python",
   "name": "python",
   "nbconvert_exporter": "python",
   "pygments_lexer": "ipython3",
   "version": "3.8.12"
  }
 },
 "nbformat": 4,
 "nbformat_minor": 5
}
