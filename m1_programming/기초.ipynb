{
 "cells": [
  {
   "cell_type": "markdown",
   "id": "4f03df10",
   "metadata": {},
   "source": [
    "## 파이썬 기초"
   ]
  },
  {
   "cell_type": "markdown",
   "id": "d8ea30cf",
   "metadata": {},
   "source": [
    "#### 파이썬 이란\n",
    "- 1990년 암스테르담의 귀도 반 로섬(Guido Van Rossum)이 개발한 인터프리터 언어\n",
    "- 컴퓨터 프로그래밍 교육을 위해 많이 사용하지만, 기업의 실무를 위해서도 많이 사용하는 언어. 구글에서 만든 소프트웨어의 50%이상이 파이썬으로 작성\n",
    "\n",
    "#### 파이썬의 특징\n",
    "- 파이썬은 인간다운 언어이다\n",
    "- 파이썬은 문법이 쉬워 빠르게 배울 수 있다\n",
    "- 파이썬은 무료이지만 강력하다\n",
    "- 파이썬은 간결하다\n",
    "- 파이썬은 프로그래밍을 즐기게 해준다\n",
    "- 파이썬은 개발 속도가 빠르다\n",
    "\n",
    "#### 파이썬으로 할 수 있는 일\n",
    "- 시스템 유틸리티 제작\n",
    "- GUI 프로그래밍\n",
    "- C/C++와의 결합\n",
    "- 웹 프로그래밍\n",
    "- 수치 연산 프로그래밍\n",
    "- 데이터베이스 프로그래밍\n",
    "- 데이터 분석, 사물 인터넷\n",
    "\n",
    "#### 참조\n",
    "- 표현식 : 어떠한 값을 만들어 내는 간단한 코드. 273, 10 + 20 + 30, \"Python Programming\"\n",
    "- 문장 : 표현식이 하나 이상 모이면 문장. print(\"Hello\")\n",
    "- 프로그램 : 문장이 모여서 프로그램\n",
    "- 식별자 : 프로그램밍 언어에서 이름을 붙일 때 사용하는 단어. 주로 변수 또는 함수 이름 등으로 사용\n",
    "- 주석 : 프로그램을 설명하기 위해 사용. # 기호로 주석 처리\n",
    "- 연산자 : 스스로 값이 되는 것이 아니고 값과 값 사이에 무언가 기능을 적용할 때 사용\n",
    "- 자료 : 리터럴이라고 하는데 숫자이든 문자이든 어떠한 값 자체를 의미. 1, 10, \"Hello\"\n",
    "- 키워드 : 파이썬이 만들어질 때 이미 사용하겠다고 예약해 놓는 것. False, None, True, ...\n",
    "- 프로그램밍 언어에서 사용자가 이름을 정할 때 키워드는 사용할 수 없음"
   ]
  },
  {
   "cell_type": "code",
   "execution_count": 30,
   "id": "058e822c",
   "metadata": {},
   "outputs": [
    {
     "name": "stdout",
     "output_type": "stream",
     "text": [
      "Python 3.8.12\n"
     ]
    }
   ],
   "source": [
    "!python -V"
   ]
  },
  {
   "cell_type": "code",
   "execution_count": null,
   "id": "411b17ae",
   "metadata": {},
   "outputs": [],
   "source": [
    "# 표현식\n",
    "print(273)\n",
    "10+20+30"
   ]
  },
  {
   "cell_type": "code",
   "execution_count": null,
   "id": "9ff33510",
   "metadata": {},
   "outputs": [],
   "source": [
    "# 표현식이 하나 이상씩 모이면 문장\n",
    "print(\"Hello Python\")\n",
    "print(52, 'Hello Python', 5+3)"
   ]
  },
  {
   "cell_type": "code",
   "execution_count": null,
   "id": "d2bc4d0e",
   "metadata": {},
   "outputs": [],
   "source": [
    "# 문장이 모여서 프로그램\n",
    "a = 1;b = 1;c=a+b\n",
    "print(c)"
   ]
  },
  {
   "cell_type": "code",
   "execution_count": null,
   "id": "02499688",
   "metadata": {},
   "outputs": [],
   "source": [
    "# python keyword\n",
    "import keyword\n",
    "print(keyword.kwlist,'\\n')\n",
    "print(len(keyword.kwlist))"
   ]
  },
  {
   "cell_type": "markdown",
   "id": "d25cfa30",
   "metadata": {},
   "source": [
    "식별자 기본 규칙\n",
    "- 키워드를 사용하면 안된다.\n",
    "- 특수문자는 언더 바(_) 만 사용한다.\n",
    "- 숫자로 시작하면 안된다.\n",
    "- 공백을 포함할 수 없다."
   ]
  },
  {
   "cell_type": "code",
   "execution_count": null,
   "id": "91cf7275",
   "metadata": {},
   "outputs": [],
   "source": [
    "alpha\n",
    "break # 키워드\n",
    "alpha10\n",
    "_alpha\n",
    "273alpha # 숫자\n",
    "AlpHa\n",
    "ALPHA\n",
    "has space # 공백"
   ]
  },
  {
   "cell_type": "markdown",
   "id": "efdb3920",
   "metadata": {},
   "source": [
    "https://bibi6666667.tistory.com/277  \n",
    "파이썬은 snake_case와 CamelCase를 모두 사용\n",
    "- itemlist     item_list     ItemList\n",
    "- loginstatus  login_status  LoginStatus\n",
    "- 캐멀 케이스(대문자로 시작) 클래스\n",
    "- 스네이크 케이스(소문자로 시작) 뒤에 ()가 있다 - 함수\n",
    "- 스네이크 케이스(소문자로 시작) 뒤에 ()가 없다 - 변수"
   ]
  },
  {
   "cell_type": "code",
   "execution_count": null,
   "id": "f3c153ba",
   "metadata": {},
   "outputs": [],
   "source": [
    "# 사람이 생각하는 방식을 그대로 표현할 수 있는 언어\n",
    "\n",
    "if 3 in [1,2,3,4]: print('3이 있습니다.')"
   ]
  },
  {
   "cell_type": "code",
   "execution_count": null,
   "id": "ab8fd980",
   "metadata": {},
   "outputs": [],
   "source": [
    "# 파이썬 자료형 - 숫자형(정수, 실수, 8진수, 16진수)\n",
    "a = 123\n",
    "b = -123\n",
    "c = 0\n",
    "d = 1.23\n",
    "e = 0o177 # 8진수 0o로 시작\n",
    "f = 0xABC # 16진수 0x로 시작\n",
    "g = 0b101010 # 2진수 0b로 시작\n",
    "print(a)\n",
    "print(b)\n",
    "print(c)\n",
    "print(d)\n",
    "print(e)\n",
    "print(f)\n",
    "print(g)"
   ]
  },
  {
   "cell_type": "code",
   "execution_count": null,
   "id": "962289bd",
   "metadata": {},
   "outputs": [],
   "source": [
    "# 사칙연산\n",
    "a = 10\n",
    "b = 2\n",
    "c = a + b\n",
    "d = a * b\n",
    "e = a / b\n",
    "f = a % b  # 나머지\n",
    "g = a // b # 몫\n",
    "h = 2 ** 3 # 제곱\n",
    "print(a)\n",
    "print(b)\n",
    "print(c)\n",
    "print(d)\n",
    "print(e)\n",
    "print(f)\n",
    "print(g)\n",
    "print(h)"
   ]
  },
  {
   "cell_type": "code",
   "execution_count": null,
   "id": "b9e45a83",
   "metadata": {},
   "outputs": [],
   "source": [
    "# 다른 타입간 연산은 안됨\n",
    "string = \"문자열 \"\n",
    "number = 273\n",
    "string + number"
   ]
  },
  {
   "cell_type": "code",
   "execution_count": null,
   "id": "f771a381",
   "metadata": {},
   "outputs": [],
   "source": [
    "a = 10\n",
    "a = \"문자\"\n",
    "a = 100\n",
    "type(a)"
   ]
  },
  {
   "cell_type": "code",
   "execution_count": null,
   "id": "2ddead6e",
   "metadata": {},
   "outputs": [],
   "source": [
    "# 복합 대입 연산자\n",
    "num = 10\n",
    "num += 10\n",
    "num *= 10\n",
    "num"
   ]
  },
  {
   "cell_type": "code",
   "execution_count": null,
   "id": "3ee69a05",
   "metadata": {},
   "outputs": [],
   "source": [
    "num = 100\n",
    "num *= 10\n",
    "num -= 990\n",
    "num"
   ]
  },
  {
   "cell_type": "code",
   "execution_count": null,
   "id": "432ce839",
   "metadata": {},
   "outputs": [],
   "source": [
    "# 사용자 입력\n",
    "input('인사말을 입력하세요: ')"
   ]
  },
  {
   "cell_type": "code",
   "execution_count": null,
   "id": "6c026865",
   "metadata": {},
   "outputs": [],
   "source": [
    "num = input('숫자를 입력하세요: ')\n",
    "print(num)\n",
    "type(num)"
   ]
  },
  {
   "cell_type": "code",
   "execution_count": null,
   "id": "240eabd3",
   "metadata": {},
   "outputs": [],
   "source": [
    "num1 = input('숫자를 입력하세요')\n",
    "num2 = input('숫자를 입력하세요')\n",
    "print(num1 + num2)"
   ]
  },
  {
   "cell_type": "code",
   "execution_count": null,
   "id": "4aff2984",
   "metadata": {},
   "outputs": [],
   "source": [
    "# input() 함수를 사용하면 숫자도 문자로 전환되어 숫자연산을 위한 변환 필요\n",
    "num1 = input('숫자를 입력하세요')\n",
    "num1_n = int(num1)\n",
    "num2 = input('숫자를 입력하세요')\n",
    "num2_n = int(num2)\n",
    "print(num1_n + num2_n)"
   ]
  },
  {
   "cell_type": "code",
   "execution_count": null,
   "id": "0aa61d14",
   "metadata": {},
   "outputs": [],
   "source": [
    "# Q. 3과 3.3을 입력하고 숫자 연산을 수행하여 6.3을 출력하세요."
   ]
  },
  {
   "cell_type": "code",
   "execution_count": null,
   "id": "09db8210",
   "metadata": {},
   "outputs": [],
   "source": [
    "# A.\n",
    "num1 = input('숫자를 입력하세요')\n",
    "num1_n = int(num1)\n",
    "num2 = input('숫자를 입력하세요')\n",
    "num2_n = float(num2)\n",
    "print(num1_n + num2_n)\n",
    "# print(num1 + num2)"
   ]
  },
  {
   "cell_type": "code",
   "execution_count": null,
   "id": "58d25481",
   "metadata": {},
   "outputs": [],
   "source": [
    "# Q. a = 52와 b = 52.273일때 a+b는 5252.273으로 출력되도록 a와 b를 문자열 \n",
    "# 자료형으로 변환하세요."
   ]
  },
  {
   "cell_type": "code",
   "execution_count": null,
   "id": "4905eb69",
   "metadata": {},
   "outputs": [],
   "source": [
    "# A.\n",
    "a = 52\n",
    "b = 52.273\n",
    "print(str(a) + str(b))\n"
   ]
  },
  {
   "cell_type": "code",
   "execution_count": null,
   "id": "e4d83ba9",
   "metadata": {},
   "outputs": [],
   "source": [
    "# 문자열 : \"\", '', \"\"\" \"\"\", ''' '''\n",
    "p1 = \"python's value is great\"\n",
    "# p2 = 'python's value is great'\n",
    "print(p1)\n"
   ]
  },
  {
   "cell_type": "code",
   "execution_count": null,
   "id": "96523e02",
   "metadata": {},
   "outputs": [],
   "source": [
    "s1 = '\"python is valuable\" he says'\n",
    "s1"
   ]
  },
  {
   "cell_type": "code",
   "execution_count": null,
   "id": "0410fd89",
   "metadata": {},
   "outputs": [],
   "source": [
    "s2 = 'python\\'s value is great'\n",
    "s2"
   ]
  },
  {
   "cell_type": "code",
   "execution_count": null,
   "id": "18b95c98",
   "metadata": {},
   "outputs": [],
   "source": [
    "y1 = \"Once you study data analysis\\nYou need Python\"\n",
    "print(y1)\n",
    "y2 = '''Once you study data analysis\n",
    "You need Python'''\n",
    "print(y2)\n",
    "y3 = \"\"\"nce you study data analysis\n",
    "You need Python\"\"\"\n",
    "print(y3)"
   ]
  },
  {
   "cell_type": "code",
   "execution_count": null,
   "id": "4d091b97",
   "metadata": {},
   "outputs": [],
   "source": [
    "# string = '''\"What a wonderful world!\"\\n he said loudly'''\n",
    "string = '''\"What a wonderful world!\"\n",
    "he said loudly'''\n",
    "print(string)\n"
   ]
  },
  {
   "cell_type": "code",
   "execution_count": null,
   "id": "01622512",
   "metadata": {},
   "outputs": [],
   "source": [
    "# 문자열 연산\n",
    "a1 = 'Python'\n",
    "a2 = ' is easy to learn'\n",
    "print(a1 + a2)\n",
    "print(a1 * 3)\n",
    "print(\"=\" * 20)"
   ]
  },
  {
   "cell_type": "code",
   "execution_count": 2,
   "id": "44a63edc",
   "metadata": {},
   "outputs": [
    {
     "name": "stdout",
     "output_type": "stream",
     "text": [
      "[1, 'a', 'abc', [1, 2, 3, 4, 5], ['a', 'b', 'c']]\n"
     ]
    }
   ],
   "source": [
    "# 자료형 - List \n",
    "# 리스트는 [] 로 표시하며 []안의 요소를 콤마로 구분하여 순서있게 나열\n",
    "list1 = [1,2,3,4,5]\n",
    "list2 = ['a','b','c']\n",
    "list3 = [1,'a','abc',[1,2,3,4,5],['a','b','c']]\n",
    "print(list3)"
   ]
  },
  {
   "cell_type": "code",
   "execution_count": 3,
   "id": "3bfc3093",
   "metadata": {},
   "outputs": [
    {
     "data": {
      "text/plain": [
       "'b'"
      ]
     },
     "execution_count": 3,
     "metadata": {},
     "output_type": "execute_result"
    }
   ],
   "source": [
    "# 인덱싱\n",
    "list1 = [1,2,3,4,5]\n",
    "list1[:]\n",
    "list3[2]\n",
    "list3[3][4]\n",
    "list3[4][1]"
   ]
  },
  {
   "cell_type": "code",
   "execution_count": null,
   "id": "cd2a729d",
   "metadata": {},
   "outputs": [],
   "source": [
    "# 리스트 수정, 삭제\n",
    "\n",
    "a = [0, 1, 2, 3, 4, 5, 6, 7, 8, 9]\n",
    "b = ['a','b','c']\n",
    "a[0] = 1\n",
    "b[1] = 'a'\n",
    "print(a)\n",
    "print(b)\n",
    "del b[1]\n",
    "print(b)"
   ]
  },
  {
   "cell_type": "code",
   "execution_count": null,
   "id": "6af34931",
   "metadata": {},
   "outputs": [],
   "source": [
    "a = [0, 1, 2, 3, 4, 5, 6, 7, 8, 9]\n",
    "b = ['a','b','c']\n",
    "c = a + b\n",
    "print(c)\n",
    "c[-1] = 1\n",
    "c"
   ]
  },
  {
   "cell_type": "code",
   "execution_count": null,
   "id": "6d07aab2",
   "metadata": {},
   "outputs": [],
   "source": [
    "c[-2] = 2\n",
    "c"
   ]
  },
  {
   "cell_type": "code",
   "execution_count": null,
   "id": "ecdd54bc",
   "metadata": {},
   "outputs": [],
   "source": [
    "# 정렬\n",
    "b = [2,4,3,1]\n",
    "b.sort()\n",
    "print(b)\n",
    "# 내림차순\n",
    "b_d = sorted(b, reverse=True)\n",
    "print(b_d)\n",
    "b.reverse()\n",
    "print(b)"
   ]
  },
  {
   "cell_type": "code",
   "execution_count": null,
   "id": "0b64e555",
   "metadata": {},
   "outputs": [],
   "source": [
    "# 정렬 ,내림차순으로 변환\n",
    "s = [1, 1, 2, 3, 4, 5, 6, 7, 8, 9, 2, 1]\n",
    "\n",
    "s.sort()\n",
    "print(s)\n",
    "s_d = sorted(s, reverse=True)\n",
    "print(s_d)\n",
    "s.reverse()\n",
    "print(s)"
   ]
  },
  {
   "cell_type": "code",
   "execution_count": 1,
   "id": "66a5c790",
   "metadata": {},
   "outputs": [
    {
     "name": "stdout",
     "output_type": "stream",
     "text": [
      "2\n"
     ]
    }
   ],
   "source": [
    "# 인덱스 위치 반환\n",
    "c = [1,2,3,1,5]\n",
    "print(c.index(3))"
   ]
  },
  {
   "cell_type": "code",
   "execution_count": null,
   "id": "48cbed77",
   "metadata": {},
   "outputs": [],
   "source": [
    "import numpy as np\n",
    "c = np.random.randint(100, size=100).tolist()\n",
    "print(c)\n",
    "c.index(65)"
   ]
  },
  {
   "cell_type": "code",
   "execution_count": null,
   "id": "e6fe4945",
   "metadata": {},
   "outputs": [],
   "source": [
    "# 개수 반환\n",
    "c = [1,1,3,3,3,5,5]\n",
    "print(c.count(5))"
   ]
  },
  {
   "cell_type": "code",
   "execution_count": null,
   "id": "6c654fe3",
   "metadata": {},
   "outputs": [],
   "source": [
    "# 리스트 확장\n",
    "h = [1,2,3]\n",
    "h.extend([4,5])\n",
    "print(h)\n",
    "# 추가\n",
    "h.append(6)\n",
    "print(h)\n",
    "h.insert(0,5)\n",
    "print(h)\n",
    "h.insert(10,7)\n",
    "print(h)\n",
    "len(h)"
   ]
  },
  {
   "cell_type": "code",
   "execution_count": null,
   "id": "79f2117a",
   "metadata": {},
   "outputs": [],
   "source": [
    "# 튜플\n",
    "tuple1 = (1,2,3,4,5)\n",
    "tuple2 = ('a','b','c')\n",
    "tuple3 = (1,'a','abc',[1,2,3,4,5],['a','b','c'])\n",
    "\n",
    "tuple1[:]\n",
    "tuple3[2]\n",
    "tuple3[3][4]\n",
    "tuple3[4][1]"
   ]
  },
  {
   "cell_type": "code",
   "execution_count": null,
   "id": "b7831e74",
   "metadata": {},
   "outputs": [],
   "source": [
    "print(list1)\n",
    "list1[0] = 6\n",
    "print(list1)"
   ]
  },
  {
   "cell_type": "code",
   "execution_count": null,
   "id": "52ec4e18",
   "metadata": {},
   "outputs": [],
   "source": [
    "# 자료형 - Tuple\n",
    "# 튜플의 요소 값은 변경할 수 없음 - 프로그램에서 그 값이 항상 변하지 않아야되는 경우 사용\n",
    "tuple1[0] = 6\n",
    "print(tuple1)"
   ]
  },
  {
   "cell_type": "code",
   "execution_count": null,
   "id": "e7fad85f",
   "metadata": {},
   "outputs": [],
   "source": [
    "t1 = (1,) # 1개의 요소만 가질 때는 요소뒤에 콤마를 붙여야 함\n",
    "print(t1)\n",
    "t2 = 1,2,3\n",
    "print(t2)\n",
    "print(t2 * 3)\n",
    "t3 = t1 + t2\n",
    "print(t3)\n",
    "t4 = (1)\n",
    "print(t4)\n",
    "type(t4)"
   ]
  },
  {
   "cell_type": "code",
   "execution_count": 4,
   "id": "eb571055",
   "metadata": {},
   "outputs": [
    {
     "name": "stdout",
     "output_type": "stream",
     "text": [
      "1\n",
      "{'a': 1, 'b': 5, 'c': 3}\n"
     ]
    }
   ],
   "source": [
    "# 자료형 - 사전(키와 값을 하나의 요소로 하는 순서가 없는 집합)\n",
    "d1 = {'a':1,'b':2,'c':3}\n",
    "print(d1['a'])\n",
    "d1['b'] = 5\n",
    "print(d1)"
   ]
  },
  {
   "cell_type": "code",
   "execution_count": 5,
   "id": "a1f19fe5",
   "metadata": {},
   "outputs": [
    {
     "name": "stdout",
     "output_type": "stream",
     "text": [
      "dict_keys(['a', 'b', 'c'])\n",
      "dict_values([1, 5, 3])\n",
      "dict_items([('a', 1), ('b', 5), ('c', 3)])\n"
     ]
    }
   ],
   "source": [
    "print(d1.keys())\n",
    "print(d1.values())\n",
    "print(d1.items())"
   ]
  },
  {
   "cell_type": "code",
   "execution_count": null,
   "id": "50941202",
   "metadata": {},
   "outputs": [],
   "source": [
    "c1 = {'삼각김밥':700, '컵라면':1500, '감동란':2500}\n",
    "print(c1.keys())\n",
    "c1['삼각김밥'] = 1000\n",
    "print(c1.values())\n",
    "print(c1.items())\n"
   ]
  },
  {
   "cell_type": "code",
   "execution_count": null,
   "id": "1b233a47",
   "metadata": {},
   "outputs": [],
   "source": [
    "# 자료형 - 집합, set(중복을 허용하지 않으며 순서가 없다.)\n",
    "s1 = set([1,2,5,4,3])\n",
    "s2 = set('Hello')\n",
    "print(s1)\n",
    "print(s2)"
   ]
  },
  {
   "cell_type": "code",
   "execution_count": null,
   "id": "5c42aa4e",
   "metadata": {},
   "outputs": [],
   "source": [
    "# 집합은 인덱싱으로 값을 얻을 수 없으며 필요시 리스트나 튜플로 변환 후 인덱싱\n",
    "l1 = list(s1)\n",
    "print(l1[1])\n",
    "l2 = list(s2)\n",
    "print(l2[1])"
   ]
  },
  {
   "cell_type": "code",
   "execution_count": null,
   "id": "fea70938",
   "metadata": {},
   "outputs": [],
   "source": [
    "# Q. s1, s2의 합집합과 교집합을 각각 리스트로 출력하세요.\n",
    "# 합집합(s1 | s2), 교집합(s1 & s2)\n",
    "s1 = set([1, 2, 3, 4, 5, 6])\n",
    "s2 = set([4, 5, 6, 7, 8, 9])\n",
    "\n",
    "print(list(s1|s2))\n",
    "print(list(s1&s2))\n"
   ]
  },
  {
   "cell_type": "code",
   "execution_count": null,
   "id": "f7fbc7be",
   "metadata": {},
   "outputs": [],
   "source": [
    "# 들여쓰기\n",
    "li = ['a','b','c']\n",
    "if 'a' in li:\n",
    "    print('a가 li에 있습니다.')\n",
    "else:\n",
    "    print('a가 li에 없습니다.')"
   ]
  },
  {
   "cell_type": "code",
   "execution_count": null,
   "id": "a0ce0c79",
   "metadata": {},
   "outputs": [],
   "source": [
    "# 문자열 포멧\n",
    "\n",
    "name = '홍길순'\n",
    "age = 20\n",
    "f'나의 이름은 {name}입니다. 나이는 {age}입니다.'"
   ]
  },
  {
   "cell_type": "code",
   "execution_count": null,
   "id": "8bc5b8c0",
   "metadata": {},
   "outputs": [],
   "source": [
    "d = {'name':'홍길동', 'age':30}\n",
    "f'나의 이름은 {d[\"name\"]}입니다. 나이는 {d[\"age\"]}입니다.'"
   ]
  },
  {
   "cell_type": "code",
   "execution_count": null,
   "id": "06ac169a",
   "metadata": {},
   "outputs": [],
   "source": [
    "y = 3.42134234\n",
    "f'{y:0.4f}'  # 소수점 4자리까지만 표현"
   ]
  },
  {
   "cell_type": "code",
   "execution_count": null,
   "id": "66f603be",
   "metadata": {},
   "outputs": [],
   "source": [
    "f'{y:10.4f}'  # 소수점 4자리까지 표현하고 총 자리수를 10으로 맞춤"
   ]
  },
  {
   "cell_type": "code",
   "execution_count": null,
   "id": "ff984a2a",
   "metadata": {},
   "outputs": [],
   "source": [
    "# 포멧함수\n",
    "f1 = \"{} 선수가 {}등입니다.\".format('홍길동',1)\n",
    "# f1 = \"{1} 선수가 {0}등입니다.\".format(1,'홍길동')\n",
    "print(f1)\n",
    "print(\"%s 선수가 %d등입니다.\" %(\"홍길동\",1))"
   ]
  },
  {
   "cell_type": "code",
   "execution_count": null,
   "id": "29844f74",
   "metadata": {},
   "outputs": [],
   "source": [
    "파이썬은 자바보다 2배 쉽습니다."
   ]
  },
  {
   "cell_type": "code",
   "execution_count": null,
   "id": "e870110b",
   "metadata": {},
   "outputs": [],
   "source": [
    "f1=\"{}은 {}보다 {}배 쉽습니다\".format(\"파이썬\",\"자바\",2)\n",
    "print(f1)\n",
    "print(\"%s은 %s보다 %d배 쉅습니다.\"%(\"파이썬\",\"자바\",2))\n"
   ]
  },
  {
   "cell_type": "code",
   "execution_count": 13,
   "id": "251525f2",
   "metadata": {},
   "outputs": [
    {
     "name": "stdout",
     "output_type": "stream",
     "text": [
      "12345\n",
      "     12345\n",
      "12.345679\n",
      "          12.346\n"
     ]
    }
   ],
   "source": [
    "# [과제] 아래와 같이 출력하세요.\n",
    "x1 = 12345\n",
    "print(f'{x1:5}')\n",
    "print(f'{x1:10}')\n",
    "x2 = 12.3456789\n",
    "print(f'{x2:0.6f}')\n",
    "print(f'{x2:16.3f}')"
   ]
  },
  {
   "cell_type": "code",
   "execution_count": 3,
   "id": "c9583cb2",
   "metadata": {},
   "outputs": [
    {
     "name": "stdout",
     "output_type": "stream",
     "text": [
      "빛이 증가\n"
     ]
    }
   ],
   "source": [
    "# 제어문 - if~elif~else\n",
    "# \"수입과 지출금액을 비교해서 수입이 많은면 저축 증가, 반대이면 빚이 증가, \n",
    "# 같으면 현상 유지\"\n",
    "i = 3,000,000\n",
    "e = 5,000,000\n",
    "\n",
    "if i > e:\n",
    "    print(\"저축 증가\")\n",
    "elif i < e:\n",
    "    print(\"빛이 증가\")\n",
    "else:\n",
    "    print(\"현상유지\")\n",
    "    "
   ]
  },
  {
   "cell_type": "code",
   "execution_count": 6,
   "id": "ca8b79f7",
   "metadata": {},
   "outputs": [
    {
     "name": "stdout",
     "output_type": "stream",
     "text": [
      "5 15 6 20 7 25 "
     ]
    }
   ],
   "source": [
    "# for 반복문\n",
    "numbers = [5,15,6,20,7,25]\n",
    "for number in numbers:\n",
    "    print(number,end=' ')"
   ]
  },
  {
   "cell_type": "code",
   "execution_count": 15,
   "id": "ed4376a0",
   "metadata": {},
   "outputs": [
    {
     "name": "stdout",
     "output_type": "stream",
     "text": [
      "1 2 3 4 5 "
     ]
    }
   ],
   "source": [
    "# for ~ continue ~ break\n",
    "# 1-10  범위의 정수에서 1부터 5까지만 출력하세요\n",
    "for i in range(1,11):\n",
    "    print(i,end=(' '))\n",
    "    if i < 5:\n",
    "        continue\n",
    "    else:\n",
    "        break"
   ]
  },
  {
   "cell_type": "code",
   "execution_count": 41,
   "id": "9bd2e26c",
   "metadata": {},
   "outputs": [
    {
     "name": "stdout",
     "output_type": "stream",
     "text": [
      "15\n",
      "20\n",
      "25\n"
     ]
    }
   ],
   "source": [
    "# numbers 리스트에서 15,20,25를 출력하세요 (for문과 if 조건 사용필수)\n",
    "numbers = [5,15,6,20,7,25]\n",
    "\n",
    "for number in numbers:\n",
    "    if number > 10:\n",
    "        print(number)\n",
    "    else:\n",
    "        continue\n"
   ]
  },
  {
   "cell_type": "code",
   "execution_count": 46,
   "id": "d0063823",
   "metadata": {},
   "outputs": [
    {
     "name": "stdout",
     "output_type": "stream",
     "text": [
      "45\n",
      "1035\n"
     ]
    }
   ],
   "source": [
    "# while \n",
    "# 정수 1부터 n까지  더할 때 그 합이 1000보다 커지게 되는 n과 합을 구하시오\n",
    "n = 1\n",
    "sum = 0\n",
    "while 1: # 1은 true와 같고 0이 false\n",
    "    sum = sum + n\n",
    "    if sum > 1000:\n",
    "        print(n)\n",
    "        print(sum)\n",
    "        break\n",
    "    n = n+1      # 들여쓰기 잘보기"
   ]
  },
  {
   "cell_type": "code",
   "execution_count": 57,
   "id": "e1e0e670",
   "metadata": {
    "scrolled": true
   },
   "outputs": [
    {
     "name": "stdout",
     "output_type": "stream",
     "text": [
      "166833\n"
     ]
    }
   ],
   "source": [
    "# while 문을 사용해서 1부터 1000까지 정수중에서 3의 배수의 합을 구해보세요\n",
    "n = 0\n",
    "sum = 0\n",
    "while n<1000:\n",
    "    n = n+1\n",
    "    if n%3==0:\n",
    "        sum = sum + n\n",
    "print(sum)"
   ]
  },
  {
   "cell_type": "code",
   "execution_count": 8,
   "id": "196f0994",
   "metadata": {},
   "outputs": [
    {
     "name": "stdout",
     "output_type": "stream",
     "text": [
      "4550\n"
     ]
    }
   ],
   "source": [
    "# [과제] 1부터 100까지의 정수중 5에서 95까지의 합을 구하시오\n",
    "n = 0\n",
    "sum = 0\n",
    "\n",
    "while n < 100:\n",
    "    n = n + 1\n",
    "    if 5<=n<=95:\n",
    "        sum = sum + n\n",
    "print(sum)\n",
    "        "
   ]
  },
  {
   "cell_type": "code",
   "execution_count": 7,
   "id": "07129a9f",
   "metadata": {},
   "outputs": [
    {
     "name": "stdout",
     "output_type": "stream",
     "text": [
      "몫 2\n",
      "나머지 1\n"
     ]
    }
   ],
   "source": [
    "# 5를 2로 나누었을때의 몫과 나머지를 구하세요.\n",
    "a = 5\n",
    "b = 2\n",
    "print(\"몫\",a//b)\n",
    "print(\"나머지\",a%b)"
   ]
  },
  {
   "cell_type": "code",
   "execution_count": 9,
   "id": "74186dab",
   "metadata": {},
   "outputs": [
    {
     "name": "stdout",
     "output_type": "stream",
     "text": [
      "1030301\n"
     ]
    }
   ],
   "source": [
    "# 101의 3승을 구하세요\n",
    "print(101**3)\n"
   ]
  },
  {
   "cell_type": "code",
   "execution_count": 13,
   "id": "ad792c9e",
   "metadata": {},
   "outputs": [
    {
     "name": "stdout",
     "output_type": "stream",
     "text": [
      "Python 3.8.3\n"
     ]
    }
   ],
   "source": [
    "# Python과 3.8.3을 합쳐서 Python 3.8.3으로 출력하세요\n",
    "s1 = \"Python\"\n",
    "s2 = \"3.8.3\"\n",
    "print(s1+\" \"+s2)"
   ]
  },
  {
   "cell_type": "code",
   "execution_count": 5,
   "id": "45cd2e15",
   "metadata": {},
   "outputs": [
    {
     "name": "stdout",
     "output_type": "stream",
     "text": [
      "<class 'int'>\n",
      "<class 'str'>\n",
      "<class 'int'>\n"
     ]
    }
   ],
   "source": [
    "# a = 5 a = '10' a = 15일때 a의 자료형은 무엇인가?\n",
    "a = 5\n",
    "print(type(a))\n",
    "a = '10'\n",
    "print(type(a))\n",
    "a = 15\n",
    "print(type(a))"
   ]
  },
  {
   "cell_type": "code",
   "execution_count": 7,
   "id": "87e50286",
   "metadata": {},
   "outputs": [
    {
     "name": "stdout",
     "output_type": "stream",
     "text": [
      "2\n"
     ]
    }
   ],
   "source": [
    "# 5의 3승을 3으로 나누었을때의 나머지를 복합 대입 연산자를 이용해서 구하세요.\n",
    "a=5\n",
    "a**=3\n",
    "a%=3\n",
    "print(a)"
   ]
  },
  {
   "cell_type": "code",
   "execution_count": 4,
   "id": "e938e528",
   "metadata": {},
   "outputs": [
    {
     "name": "stdout",
     "output_type": "stream",
     "text": [
      "이름을 입력하세요 : 권혁종\n",
      "권혁종님 반갑습니다.\n"
     ]
    }
   ],
   "source": [
    "# 이름을 물어보고 답하는 내용을 출력하세요\n",
    "name = input(\"이름을 입력하세요 : \")\n",
    "print(name+'님 반갑습니다.')"
   ]
  },
  {
   "cell_type": "code",
   "execution_count": 4,
   "id": "54091043",
   "metadata": {},
   "outputs": [
    {
     "name": "stdout",
     "output_type": "stream",
     "text": [
      "첫번째 숫자를 입력하세요3\n",
      "두번째 숫자를 입력하세요7\n",
      "세번째 숫자를 입력하세요9\n",
      "243.0\n"
     ]
    }
   ],
   "source": [
    "# 숫자 3개를 입력해서 첫번째 숫자를 두번째 숫자 승한 뒤에 세번째 숫자로 나누었을 때 \n",
    "# 몫을 구하세요.\n",
    "a=int(input(\"첫번째 숫자를 입력하세요\"))\n",
    "b=int(input(\"두번째 숫자를 입력하세요\"))\n",
    "c=int(input(\"세번째 숫자를 입력하세요\"))\n",
    "print((a**b)/c)"
   ]
  },
  {
   "cell_type": "code",
   "execution_count": 14,
   "id": "177ba10c",
   "metadata": {},
   "outputs": [
    {
     "name": "stdout",
     "output_type": "stream",
     "text": [
      "33165\n"
     ]
    }
   ],
   "source": [
    "#[과제]\n",
    "# Q. while문을 사용해 1부터 1000까지의 정수 중 3과 5의 공배수의 합을 구해보세요.\n",
    "n = 0\n",
    "sum = 0\n",
    "\n",
    "while n<1000:\n",
    "    n += 1\n",
    "    if n%3==0 and n%5==0:\n",
    "        sum += n\n",
    "print(sum)"
   ]
  },
  {
   "cell_type": "code",
   "execution_count": 9,
   "id": "16b6a5ff",
   "metadata": {},
   "outputs": [
    {
     "name": "stdout",
     "output_type": "stream",
     "text": [
      "첫번째 숫자를 입력하세요 : 1\n",
      "두번째 숫자를 입력하세요 : 2\n",
      "세번째 숫자를 입력하세요 : 3\n",
      "네번째 숫자를 입력하세요 : 4\n",
      "다섯번째 숫자를 입력하세요 : 5\n",
      "12345\n"
     ]
    }
   ],
   "source": [
    "# 1부터 5까지 입력해서 12345를 출력하세요\n",
    "a=input(\"첫번째 숫자를 입력하세요 : \")\n",
    "b=input(\"두번째 숫자를 입력하세요 : \")\n",
    "c=input(\"세번째 숫자를 입력하세요 : \")\n",
    "d=input(\"네번째 숫자를 입력하세요 : \")\n",
    "e=input(\"다섯번째 숫자를 입력하세요 : \")\n",
    "print(a+b+c+d+e)"
   ]
  },
  {
   "cell_type": "code",
   "execution_count": 16,
   "id": "2ed5be27",
   "metadata": {},
   "outputs": [
    {
     "name": "stdout",
     "output_type": "stream",
     "text": [
      "[0, 1, 2, 3, 4, 5, 6, 7, 8, 'b', 'c']\n"
     ]
    }
   ],
   "source": [
    "# [0, 1, 2, 3, 4, 5, 6, 7, 8, 9, 'a', 'b', 'c']에서 9와 'a'를 삭제 후 \n",
    "# 리스트로 출력하세요\n",
    "list = [0,1,2,3,4,5,6,7,8,9,'a','b','c']\n",
    "del list[-4],list[-3]\n",
    "print(list)"
   ]
  },
  {
   "cell_type": "code",
   "execution_count": 61,
   "id": "a19e4303",
   "metadata": {},
   "outputs": [
    {
     "name": "stdout",
     "output_type": "stream",
     "text": [
      "[0, 1, 2, 3, 4, 5, 6, 7, 8, 'b']\n"
     ]
    }
   ],
   "source": [
    "# [0, 1, 2, 3, 4, 5, 6, 7, 8, 'b', 'c']에서 'c'를 삭제 후 출력하세요.\n",
    "list = [0, 1, 2, 3, 4, 5, 6, 7, 8, 'b', 'c']\n",
    "del list[-1]\n",
    "print(list)"
   ]
  },
  {
   "cell_type": "code",
   "execution_count": 63,
   "id": "cdac9634",
   "metadata": {},
   "outputs": [
    {
     "name": "stdout",
     "output_type": "stream",
     "text": [
      "[9, 9, 8, 8, 5, 4, 4, 4, 3, 1]\n"
     ]
    }
   ],
   "source": [
    "# [4, 8, 5, 4, 8, 4, 3, 9, 1, 9]를 내림차순으로 정렬하세요\n",
    "list = [4, 8, 5, 4, 8, 4, 3, 9, 1, 9]\n",
    "list.sort()\n",
    "list.reverse()\n",
    "print(list)"
   ]
  },
  {
   "cell_type": "code",
   "execution_count": 26,
   "id": "399b227c",
   "metadata": {},
   "outputs": [
    {
     "name": "stdout",
     "output_type": "stream",
     "text": [
      "2021-12-30 09:44:43.871145\n",
      "2021\n",
      "2021년 12월 30일 9시 44분 43초\n"
     ]
    }
   ],
   "source": [
    "# [과제] format 합수를 이용해서 다음과 같은 형식으로 현재 날짜/시간을 출력하세요.\n",
    "# 2021년 12월 29일 15시 47분 32초\n",
    "import datetime\n",
    "t = datetime.datetime.now()\n",
    "print(t)\n",
    "print(t.year)\n",
    "f1=\"{}년 {}월 {}일 {}시 {}분 {}초\".format(t.year,t.month,t.day,t.hour,t.minute,t.second)\n",
    "print(f1)"
   ]
  },
  {
   "cell_type": "code",
   "execution_count": 33,
   "id": "c434e980",
   "metadata": {},
   "outputs": [
    {
     "name": "stdout",
     "output_type": "stream",
     "text": [
      "현재 시간은 9시로 오전입니다.\n"
     ]
    }
   ],
   "source": [
    "# [과제] 현재 시간을 오전과 오후로 구분하는 프로그램을 작성하세요.\n",
    "import datetime\n",
    "t = datetime.datetime.now()\n",
    "if t.hour < 12:\n",
    "    print(f\"현재 시간은 {t.hour}시로 오전입니다.\")\n",
    "else:\n",
    "    print(f\"현재 시간은 {t.hour}시로 오후입니다.\")"
   ]
  },
  {
   "cell_type": "code",
   "execution_count": 24,
   "id": "eef4355c",
   "metadata": {},
   "outputs": [
    {
     "name": "stdout",
     "output_type": "stream",
     "text": [
      "숫자를 입력하세요 : 5\n",
      "홀수입니다.\n"
     ]
    }
   ],
   "source": [
    "# [과제] 함수를 입력하면 홀수 짝수를 판별하는 프로그램 작성\n",
    "n = int(input(\"숫자를 입력하세요 : \"))\n",
    "if n%2==0:\n",
    "    print(\"짝수입니다.\")\n",
    "else:\n",
    "    print(\"홀수입니다.\")"
   ]
  },
  {
   "cell_type": "code",
   "execution_count": 29,
   "id": "a71fd61d",
   "metadata": {},
   "outputs": [
    {
     "name": "stdout",
     "output_type": "stream",
     "text": [
      "태어난 년도를 입력하세요 : 1652\n",
      "당신의 띠는 용띠 입니다.\n"
     ]
    }
   ],
   "source": [
    "# Q. 태어난 연도를 입력받아 띠를 출력하는 프로그램을 작성하세요.\n",
    "# 원숭이, 닭, 개, 돼지, 쥐, 소, 범, 토끼, 용, 뱀, 말, 양띠\n",
    "year = int(input(\"태어난 년도를 입력하세요 : \"))\n",
    "num = year%12\n",
    "animal={'0':'원숭이','1':'닭','2':'개','3':'돼지','4':'쥐','5':'소','6':'범','7':'토끼','8':'용','9':'뱀','10':'말','11':'얌'}\n",
    "print(\"당신의 띠는 \"+animal[str(num)]+\"띠 입니다.\")"
   ]
  },
  {
   "cell_type": "code",
   "execution_count": 39,
   "id": "7860a3d2",
   "metadata": {},
   "outputs": [
    {
     "name": "stdout",
     "output_type": "stream",
     "text": [
      "현재 계절은 추운 겨울입니다.\n"
     ]
    }
   ],
   "source": [
    "#[과제] 계절 구분 프로그램\n",
    "\n",
    "#각 계절별 출력 멘트는 계절에 맞게 창작\n",
    "#if 조건문으로 datetime 모듈을 import해서 datetime.now 함수를 사용해서 작성\n",
    "import datetime\n",
    "now = datetime.datetime.now()\n",
    "if now.month<3 or now.month>11:\n",
    "    print(f\"현재 계절은 추운 겨울입니다.\")\n",
    "elif 3<now.month<7:\n",
    "    print(f\"현재 계절은 따뜻한 봄입니다.\")\n",
    "elif 6<now.month<9:\n",
    "    print(f\"현재 계절은 더운 여름입니다.\")\n",
    "else:\n",
    "    print(f\"현재 계절은 쌀쌀한 가을입니다.\")\n"
   ]
  },
  {
   "cell_type": "code",
   "execution_count": 5,
   "id": "b7694061",
   "metadata": {},
   "outputs": [
    {
     "name": "stdout",
     "output_type": "stream",
     "text": [
      "32\n",
      "25\n"
     ]
    }
   ],
   "source": [
    "# [과제] 람다 함수를 이용해서 a의 b제곱을 구하는 식을 만들고\n",
    "# a, b가 아래와 같이 주어졌을 때 각각의 값을 구하세요. \n",
    "# a = 2, b = 5\n",
    "# a= 5, b = 2\n",
    "print((lambda a,b: a**b)(2,5))\n",
    "print((lambda a,b: a**b)(5,2))"
   ]
  },
  {
   "cell_type": "code",
   "execution_count": 43,
   "id": "19b3fe75",
   "metadata": {},
   "outputs": [
    {
     "name": "stdout",
     "output_type": "stream",
     "text": [
      "32\n",
      "25\n"
     ]
    }
   ],
   "source": [
    "x= lambda a,b: a**b\n",
    "print(x(2,5))\n",
    "print(x(5,2))"
   ]
  },
  {
   "cell_type": "markdown",
   "id": "e2349593",
   "metadata": {},
   "source": [
    "[과제] 커피 자판기 프로그램\n",
    "\n",
    "시나리오 : 자판기 커피 재고 5잔, 커피 1잔 가격 300원, 재고 범위내에서 300원 이상 돈을 넣으면 거스름돈과 커피를 주고 그렇지 않으면 반환하며 \n",
    " 재고가 소진되면 안내멘트 출력\n",
    "각 Case별 멘트 출력은 상황에 맞게 창작\n",
    "while, if ~ elif ~ else 제어문을 사용하여 작성"
   ]
  },
  {
   "cell_type": "code",
   "execution_count": 95,
   "id": "7c41ffa9",
   "metadata": {
    "scrolled": false
   },
   "outputs": [
    {
     "name": "stdout",
     "output_type": "stream",
     "text": [
      "돈을 넣어주십시오 : 900\n",
      "몇 잔 뽑으시겠습니까? : 3\n",
      "커피 3잔과 잔돈 0원 나왔습니다.\n",
      "돈을 넣어주십시오 : 90000\n",
      "몇 잔 뽑으시겠습니까? : 5\n",
      "재고가 부족합니다. 현재 재고는 2잔 입니다. 90000원 반환합니다.\n",
      "돈을 넣어주십시오 : 9000\n",
      "몇 잔 뽑으시겠습니까? : 2\n",
      "커피 2잔과 잔돈 8400원 나왔습니다.\n",
      "커피 재고가 부족합니다. 다음에 이용해주세요.\n"
     ]
    }
   ],
   "source": [
    "#내가 한것\n",
    "n = 5\n",
    "while n>0:\n",
    "    m = int(input(\"돈을 넣어주십시오 : \"))\n",
    "    g = (int(m)//300)\n",
    "    if m>=600:\n",
    "        g2 = input(\"몇 잔 뽑으시겠습니까? : \")\n",
    "        if int(g2)*300>int(m):\n",
    "            print(\"돈이 부족합니다. 커피 한잔의 가격은 300원 입니다.\"+str(m)+\"원 반환합니다.\")\n",
    "        elif n-int(g2)<0:\n",
    "            print(\"재고가 부족합니다. \"+\"현재 재고는 \"+str(n)+\"잔 입니다. \"+str(m)+\"원 반환합니다.\")\n",
    "        else:\n",
    "            print(\"커피 \"+g2+\"잔과 \"+\"잔돈 \"+str(m-(int(g2)*300))+\"원 나왔습니다.\")\n",
    "            n = n - int(g2)\n",
    "    elif 600>m>=300:\n",
    "        print(\"커피 1잔과 \"+\"잔돈 \"+str(m-300)+\"원 나왔습니다.\")\n",
    "        n = n - g\n",
    "    else:\n",
    "        print(\"돈이 부족합니다. 최소 금액은 300원 입니다. \"+str(m)+\"원 반환합니다.\")\n",
    "        n = n - g\n",
    "        \n",
    "\n",
    "print(\"커피 재고가 부족합니다. 다음에 이용해주세요.\")"
   ]
  },
  {
   "cell_type": "code",
   "execution_count": 96,
   "id": "4e358445",
   "metadata": {
    "scrolled": true
   },
   "outputs": [
    {
     "name": "stdout",
     "output_type": "stream",
     "text": [
      "돈을 넣어주세요9000\n",
      "따뜻한 커피 드시고 잔돈 8700원 챙기세요\n",
      "돈을 넣어주세요500\n",
      "따뜻한 커피 드시고 잔돈 200원 챙기세요\n",
      "돈을 넣어주세요500\n",
      "따뜻한 커피 드시고 잔돈 200원 챙기세요\n",
      "돈을 넣어주세요500\n",
      "따뜻한 커피 드시고 잔돈 200원 챙기세요\n",
      "돈을 넣어주세요500\n",
      "따뜻한 커피 드시고 잔돈 200원 챙기세요\n",
      "커피가 다 떨어졌습니다. 판매 일시 중지 합니다.\n"
     ]
    }
   ],
   "source": [
    "# 커피 자판기 에시\n",
    "coffee = 5\n",
    "price = 300\n",
    "\n",
    "while 1:\n",
    "    money = int(input('돈을 넣어주세요'))\n",
    "    if money == 300:\n",
    "        print('커피 맛있게 드세요')\n",
    "        coffee -= 1\n",
    "    elif money >300:\n",
    "        c = money - 300\n",
    "        print(f'따뜻한 커피 드시고 잔돈 {c}원 챙기세요')\n",
    "        coffee -= 1\n",
    "    else:\n",
    "        print(f'커피는 {price}원 입니다. 현금을 다시 넣어 주세요.')\n",
    "    if coffee == 0:\n",
    "        print('커피가 다 떨어졌습니다. 판매 일시 중지 합니다.')\n",
    "        break"
   ]
  },
  {
   "cell_type": "markdown",
   "id": "791a498e",
   "metadata": {},
   "source": [
    "# 내장 함수, 외장함수\n",
    "\n",
    "http://codedrive.tistory.com/91"
   ]
  },
  {
   "cell_type": "code",
   "execution_count": 77,
   "id": "de3feada",
   "metadata": {},
   "outputs": [
    {
     "data": {
      "text/plain": [
       "1"
      ]
     },
     "execution_count": 77,
     "metadata": {},
     "output_type": "execute_result"
    }
   ],
   "source": [
    "# 2와 5를 더한 후 3으로 나눈 나머지 값을 사용자 함수를 이용하여 구하세요.\n",
    "def cal_abc(a,b,c):\n",
    "    return (a+b)%c\n",
    "    \n",
    "cal_abc(2,5,3)"
   ]
  },
  {
   "cell_type": "code",
   "execution_count": 102,
   "id": "63740a69",
   "metadata": {},
   "outputs": [
    {
     "name": "stdout",
     "output_type": "stream",
     "text": [
      "It is true\n",
      "'Python is fit for data analysis'\n"
     ]
    }
   ],
   "source": [
    "# 문자열 앞의 공백을 제거하고 아래와 같이 출력하세요.\n",
    "\n",
    "input_a = \"\"\"\n",
    "                       It is true\n",
    "'Python is fit for data analysis'\n",
    "\"\"\"\n",
    "\n",
    "print(input_a.strip()) # 공백 제거는 strip\n"
   ]
  },
  {
   "cell_type": "code",
   "execution_count": 108,
   "id": "e6562ddd",
   "metadata": {},
   "outputs": [
    {
     "data": {
      "text/plain": [
       "['10', '20', '30', '40', '50']"
      ]
     },
     "execution_count": 108,
     "metadata": {},
     "output_type": "execute_result"
    }
   ],
   "source": [
    "#  \"10/20/30/40/50\"을 '/'을 기준으로 자르세요.\n",
    "\n",
    "a = \"10/20/30/40/50\"\n",
    "b= \"10.20.30.40.50\"     # split() 은 공백 안의 것을 기준으로 나눈다\n",
    "a.split(\"/\")           # 나눈것은 list 형태\n",
    "\n",
    "b.split(\".\")\n"
   ]
  },
  {
   "cell_type": "code",
   "execution_count": 86,
   "id": "f5246168",
   "metadata": {},
   "outputs": [
    {
     "name": "stdout",
     "output_type": "stream",
     "text": [
      "첫번째 숫자를 입력하세요 : 1\n",
      "두번째 숫자를 입력하세요 : 32\n",
      "다시 입력하세요\n"
     ]
    }
   ],
   "source": [
    "# 짝수와 짝수를 입력하면 곱한값을 출력하고 홀수와 홀수를 입력하면 덧셈값을 출력하고 그 외는 다시 입력하라는 메세지를 출력하세요\n",
    "def cal_1(a,b):\n",
    "    return a*b\n",
    "def cal_2(a,b):\n",
    "    return a+b\n",
    "a = int(input(\"첫번째 숫자를 입력하세요 : \"))\n",
    "b = int(input(\"두번째 숫자를 입력하세요 : \"))\n",
    "if a%2==0 and b%2==0:\n",
    "    print(cal_1(a,b))\n",
    "elif a%2==1 and b%2==1:\n",
    "    print(cal_2(a,b))\n",
    "else:\n",
    "    print(\"다시 입력하세요\")"
   ]
  },
  {
   "cell_type": "code",
   "execution_count": 98,
   "id": "cf0ada35",
   "metadata": {},
   "outputs": [
    {
     "name": "stdout",
     "output_type": "stream",
     "text": [
      "1\n",
      "2\n",
      "다시 입력하세요\n"
     ]
    }
   ],
   "source": [
    "# 교수님 예제\n",
    "x = int(input())\n",
    "y = int(input())\n",
    "\n",
    "if (x % 2 ==0) and (y % 2 ==0):\n",
    "    print(x*y)\n",
    "elif (x % 2 ==1) and (y % 2 ==1):\n",
    "    print(x+y)\n",
    "else:\n",
    "    print('다시 입력하세요')\n",
    "    "
   ]
  },
  {
   "cell_type": "code",
   "execution_count": 4,
   "id": "7b8d01f1",
   "metadata": {},
   "outputs": [
    {
     "name": "stdout",
     "output_type": "stream",
     "text": [
      "2500\n"
     ]
    }
   ],
   "source": [
    "# [과제] 1부터 100까지 아래와 같이 2개의 수를 곱해서 가장 큰 수를 구하세요.\n",
    "#1 *99, 2*98 ...99*1\n",
    "n = 1\n",
    "result = 0\n",
    "while n<100:\n",
    "    a = n*(100-n)\n",
    "    if a>result:\n",
    "        result = a\n",
    "        n+=1\n",
    "    else:\n",
    "        n+=1\n",
    "        continue\n",
    "print(result)"
   ]
  },
  {
   "cell_type": "code",
   "execution_count": 5,
   "id": "5dcd0ae3",
   "metadata": {},
   "outputs": [
    {
     "name": "stdout",
     "output_type": "stream",
     "text": [
      "2500\n"
     ]
    }
   ],
   "source": [
    "#다른사람 것\n",
    "def findBiggestOne():\n",
    "    biggestNum = 0\n",
    "    for i,j in zip(range(1,100), range(99,0,-1)):\n",
    "        if i*j >biggestNum:\n",
    "            biggestNum = i*j\n",
    "    return biggestNum\n",
    "print(findBiggestOne())\n",
    "# zip함수 = 리스트 2개를 하나씩 조합함"
   ]
  },
  {
   "cell_type": "code",
   "execution_count": 93,
   "id": "5b83f816",
   "metadata": {},
   "outputs": [
    {
     "name": "stdout",
     "output_type": "stream",
     "text": [
      "[[1, 4, 7], [2, 5, 8], [3, 6, 9]]\n"
     ]
    }
   ],
   "source": [
    "# [과제]  [    ]을 채워서 아래와 같이 출력하세요.\n",
    "# 출력 : \n",
    "# [[1,4,7],[2,5,8,],[3,6,9]]\n",
    "numbers = [1,2,3,4,5,6,7,8,9]\n",
    "output = [[],[],[]]\n",
    "\n",
    "for number in numbers:\n",
    "    output[(number+2)%3].append(number)\n",
    "print(output)"
   ]
  },
  {
   "cell_type": "markdown",
   "id": "e0bce7c5",
   "metadata": {},
   "source": [
    "# python random 모듈\n",
    "\n",
    "https://nittaku.tistory.com/443"
   ]
  },
  {
   "cell_type": "code",
   "execution_count": 129,
   "id": "afff48c5",
   "metadata": {},
   "outputs": [
    {
     "data": {
      "text/plain": [
       "array([ 4,  7, 14,  0, 10, 11,  0,  9, 10,  5,  7,  9,  7, 12,  0,  2, 13,\n",
       "       10,  1,  6])"
      ]
     },
     "execution_count": 129,
     "metadata": {},
     "output_type": "execute_result"
    }
   ],
   "source": [
    "import numpy as np\n",
    "#np.random.seed(0)\n",
    "num = np.random.randint(15,size=20)\n",
    "num"
   ]
  },
  {
   "cell_type": "code",
   "execution_count": 7,
   "id": "c3806f12",
   "metadata": {
    "scrolled": true
   },
   "outputs": [
    {
     "name": "stdout",
     "output_type": "stream",
     "text": [
      "게임 횟수 : 500\n",
      "[5, 9, 10, 21, 27, 41]\n",
      "[1, 12, 19, 28, 33, 36]\n",
      "[1, 4, 28, 30, 32, 42]\n",
      "[5, 14, 17, 20, 37, 43]\n",
      "[1, 6, 13, 26, 29, 43]\n",
      "[19, 23, 28, 33, 35, 38]\n",
      "[1, 10, 17, 21, 25, 44]\n",
      "[1, 5, 19, 20, 26, 38]\n",
      "[7, 8, 27, 29, 40, 41]\n",
      "[2, 13, 20, 31, 35, 41]\n",
      "[3, 19, 26, 31, 34, 37]\n",
      "[1, 2, 7, 10, 36, 41]\n",
      "[6, 24, 25, 28, 30, 32]\n",
      "[4, 7, 24, 37, 42, 44]\n",
      "[8, 11, 15, 17, 18, 27]\n",
      "[1, 5, 6, 27, 28, 41]\n",
      "[4, 8, 11, 26, 29, 39]\n",
      "[7, 11, 12, 15, 32, 37]\n",
      "[11, 16, 20, 21, 29, 42]\n",
      "[15, 18, 24, 29, 34, 35]\n",
      "[1, 9, 11, 13, 37, 44]\n",
      "[2, 7, 11, 16, 22, 28]\n",
      "[13, 20, 24, 31, 39, 40]\n",
      "[1, 4, 11, 24, 36, 44]\n",
      "[4, 9, 28, 35, 41, 44]\n",
      "[7, 10, 20, 36, 41, 42]\n",
      "[4, 5, 6, 16, 32, 44]\n",
      "[18, 19, 24, 27, 33, 37]\n",
      "[5, 11, 13, 22, 37, 38]\n",
      "[6, 13, 18, 28, 34, 35]\n",
      "[13, 27, 34, 39, 40, 44]\n",
      "[2, 5, 10, 21, 22, 39]\n",
      "[1, 2, 25, 30, 32, 44]\n",
      "[3, 7, 9, 20, 26, 40]\n",
      "[6, 16, 21, 24, 38, 42]\n",
      "[8, 10, 20, 36, 38, 40]\n",
      "[9, 10, 27, 31, 37, 44]\n",
      "[4, 7, 10, 25, 35, 39]\n",
      "[3, 9, 13, 14, 17, 36]\n",
      "[8, 12, 17, 18, 20, 32]\n",
      "[3, 4, 17, 22, 27, 44]\n",
      "[15, 18, 23, 25, 34, 41]\n",
      "[3, 7, 19, 22, 23, 35]\n",
      "[4, 13, 17, 18, 22, 38]\n",
      "[4, 13, 15, 30, 32, 38]\n",
      "[1, 3, 6, 11, 31, 40]\n",
      "[20, 26, 31, 33, 34, 43]\n",
      "[12, 18, 23, 24, 30, 33]\n",
      "[4, 10, 20, 22, 27, 33]\n",
      "[15, 16, 17, 22, 27, 41]\n",
      "[5, 6, 18, 21, 29, 37]\n",
      "[2, 8, 19, 28, 31, 41]\n",
      "[7, 13, 26, 30, 37, 42]\n",
      "[10, 16, 17, 29, 35, 40]\n",
      "[8, 16, 18, 27, 37, 41]\n",
      "[1, 12, 13, 29, 34, 36]\n",
      "[3, 13, 22, 29, 35, 36]\n",
      "[31, 32, 33, 35, 42, 43]\n",
      "[4, 13, 16, 28, 30, 41]\n",
      "[3, 6, 16, 28, 31, 33]\n",
      "[12, 16, 25, 27, 29, 35]\n",
      "[12, 14, 18, 19, 33, 37]\n",
      "[7, 11, 17, 20, 29, 40]\n",
      "[4, 8, 20, 21, 34, 39]\n",
      "[19, 20, 21, 25, 33, 39]\n",
      "[1, 5, 9, 16, 24, 30]\n",
      "[15, 17, 26, 30, 35, 43]\n",
      "[8, 14, 15, 33, 38, 40]\n",
      "[1, 11, 14, 28, 30, 35]\n",
      "[2, 3, 5, 7, 12, 39]\n",
      "[6, 7, 15, 16, 28, 33]\n",
      "[6, 15, 17, 23, 27, 33]\n",
      "[5, 7, 8, 12, 13, 27]\n",
      "[1, 13, 18, 36, 40, 44]\n",
      "[4, 19, 21, 26, 41, 43]\n",
      "[6, 21, 28, 29, 35, 43]\n",
      "[9, 19, 23, 35, 39, 42]\n",
      "[3, 5, 10, 24, 35, 37]\n",
      "[2, 9, 12, 27, 28, 44]\n",
      "[1, 10, 25, 26, 40, 41]\n",
      "[2, 15, 18, 32, 39, 41]\n",
      "[3, 8, 18, 27, 30, 33]\n",
      "[10, 12, 15, 20, 29, 31]\n",
      "[9, 14, 18, 25, 26, 38]\n",
      "[1, 4, 10, 13, 14, 18]\n",
      "[1, 10, 13, 25, 28, 37]\n",
      "[1, 2, 14, 16, 26, 38]\n",
      "[3, 19, 21, 22, 24, 28]\n",
      "[4, 6, 7, 11, 15, 16]\n",
      "[2, 6, 7, 35, 37, 42]\n",
      "[8, 13, 14, 19, 29, 32]\n",
      "[4, 7, 14, 15, 23, 29]\n",
      "[22, 26, 32, 35, 36, 39]\n",
      "[7, 9, 35, 37, 41, 42]\n",
      "[6, 11, 17, 31, 35, 38]\n",
      "[2, 16, 30, 38, 41, 43]\n",
      "[2, 7, 13, 22, 33, 34]\n",
      "[10, 18, 19, 22, 34, 35]\n",
      "[2, 3, 6, 22, 23, 26]\n",
      "[2, 8, 10, 17, 32, 41]\n",
      "[5, 9, 12, 25, 40, 41]\n",
      "[4, 5, 8, 14, 16, 43]\n",
      "[2, 10, 17, 23, 32, 37]\n",
      "[7, 10, 17, 24, 33, 44]\n",
      "[13, 14, 16, 17, 22, 35]\n",
      "[8, 28, 32, 37, 38, 42]\n",
      "[1, 3, 27, 30, 35, 44]\n",
      "[2, 3, 6, 16, 22, 32]\n",
      "[15, 21, 24, 25, 38, 42]\n",
      "[6, 15, 17, 19, 30, 41]\n",
      "[1, 5, 6, 23, 37, 39]\n",
      "[8, 20, 24, 31, 33, 43]\n",
      "[10, 23, 32, 33, 41, 42]\n",
      "[2, 3, 6, 15, 23, 34]\n",
      "[11, 24, 32, 40, 41, 44]\n",
      "[5, 7, 8, 12, 17, 39]\n",
      "[5, 18, 19, 21, 28, 37]\n",
      "[9, 18, 31, 32, 38, 39]\n",
      "[1, 4, 13, 26, 27, 32]\n",
      "[7, 19, 29, 34, 36, 38]\n",
      "[8, 11, 21, 26, 31, 44]\n",
      "[6, 9, 12, 13, 28, 36]\n",
      "[2, 5, 18, 25, 30, 38]\n",
      "[7, 19, 20, 32, 35, 37]\n",
      "[2, 20, 28, 36, 38, 43]\n",
      "[7, 24, 33, 40, 42, 43]\n",
      "[2, 8, 13, 17, 29, 44]\n",
      "[5, 16, 24, 25, 38, 39]\n",
      "[13, 18, 21, 29, 39, 41]\n",
      "[9, 13, 16, 21, 28, 34]\n",
      "[7, 12, 21, 28, 38, 44]\n",
      "[9, 12, 26, 32, 34, 38]\n",
      "[7, 8, 10, 18, 19, 21]\n",
      "[5, 8, 21, 28, 34, 36]\n",
      "[2, 8, 14, 28, 39, 41]\n",
      "[1, 3, 11, 27, 42, 43]\n",
      "[5, 8, 16, 21, 23, 34]\n",
      "[13, 18, 27, 33, 38, 43]\n",
      "[1, 14, 23, 28, 36, 41]\n",
      "[5, 8, 9, 10, 16, 39]\n",
      "[2, 3, 18, 20, 25, 33]\n",
      "[12, 17, 22, 23, 26, 38]\n",
      "[11, 31, 33, 42, 43, 44]\n",
      "[3, 4, 11, 28, 31, 33]\n",
      "[1, 2, 9, 11, 22, 32]\n",
      "[3, 11, 17, 18, 24, 26]\n",
      "[3, 19, 25, 27, 34, 42]\n",
      "[1, 7, 17, 19, 29, 36]\n",
      "[6, 11, 14, 31, 32, 44]\n",
      "[9, 18, 21, 31, 41, 44]\n",
      "[3, 17, 26, 29, 34, 37]\n",
      "[4, 5, 6, 10, 29, 39]\n",
      "[5, 10, 18, 24, 32, 37]\n",
      "[8, 23, 27, 28, 32, 37]\n",
      "[7, 13, 17, 27, 34, 43]\n",
      "[2, 7, 10, 23, 26, 43]\n",
      "[24, 27, 28, 30, 37, 38]\n",
      "[5, 7, 9, 14, 21, 34]\n",
      "[11, 20, 30, 33, 40, 43]\n",
      "[12, 15, 24, 33, 37, 42]\n",
      "[13, 22, 26, 34, 35, 37]\n",
      "[5, 8, 15, 23, 26, 33]\n",
      "[4, 6, 16, 25, 26, 40]\n",
      "[1, 29, 31, 33, 37, 41]\n",
      "[15, 19, 36, 39, 40, 41]\n",
      "[12, 13, 16, 38, 40, 42]\n",
      "[17, 23, 25, 33, 37, 42]\n",
      "[7, 10, 19, 34, 36, 38]\n",
      "[4, 6, 27, 28, 34, 43]\n",
      "[15, 25, 26, 29, 34, 38]\n",
      "[5, 8, 9, 22, 30, 38]\n",
      "[10, 11, 21, 24, 26, 31]\n",
      "[4, 10, 18, 26, 27, 32]\n",
      "[4, 19, 27, 31, 35, 42]\n",
      "[11, 18, 25, 27, 39, 42]\n",
      "[3, 12, 14, 32, 33, 34]\n",
      "[2, 7, 10, 26, 40, 43]\n",
      "[3, 24, 33, 35, 39, 43]\n",
      "[16, 19, 22, 26, 37, 43]\n",
      "[1, 4, 6, 10, 27, 31]\n",
      "[10, 12, 22, 36, 37, 38]\n",
      "[5, 10, 14, 24, 34, 40]\n",
      "[3, 9, 11, 23, 31, 33]\n",
      "[4, 11, 15, 30, 36, 44]\n",
      "[2, 12, 19, 20, 32, 39]\n",
      "[4, 7, 15, 16, 18, 33]\n",
      "[9, 10, 11, 20, 27, 36]\n",
      "[1, 3, 15, 23, 28, 29]\n",
      "[6, 11, 27, 31, 32, 39]\n",
      "[3, 21, 30, 35, 38, 43]\n",
      "[11, 20, 26, 29, 33, 43]\n",
      "[7, 19, 31, 35, 36, 40]\n",
      "[9, 12, 15, 21, 26, 42]\n",
      "[3, 9, 21, 27, 35, 38]\n",
      "[6, 16, 25, 36, 37, 44]\n",
      "[12, 21, 24, 29, 33, 43]\n",
      "[3, 7, 21, 28, 38, 44]\n",
      "[8, 10, 23, 35, 37, 39]\n",
      "[10, 11, 17, 31, 32, 36]\n",
      "[5, 8, 11, 20, 30, 37]\n",
      "[3, 4, 17, 18, 26, 36]\n",
      "[14, 19, 26, 29, 32, 41]\n",
      "[2, 20, 23, 24, 28, 33]\n",
      "[12, 15, 17, 22, 30, 34]\n",
      "[3, 8, 14, 21, 29, 40]\n",
      "[2, 3, 8, 17, 30, 41]\n",
      "[4, 13, 22, 24, 37, 40]\n",
      "[14, 22, 29, 35, 38, 44]\n",
      "[1, 2, 4, 12, 20, 40]\n",
      "[2, 4, 9, 23, 26, 38]\n",
      "[16, 18, 30, 34, 36, 37]\n",
      "[1, 2, 4, 12, 23, 43]\n",
      "[5, 6, 20, 24, 36, 44]\n",
      "[3, 6, 12, 26, 40, 43]\n",
      "[17, 28, 35, 37, 38, 43]\n",
      "[1, 7, 13, 21, 23, 39]\n",
      "[3, 7, 22, 24, 26, 32]\n",
      "[14, 15, 27, 31, 33, 39]\n",
      "[5, 9, 11, 12, 26, 41]\n",
      "[6, 19, 24, 30, 35, 39]\n",
      "[7, 13, 20, 35, 42, 43]\n",
      "[5, 8, 14, 17, 22, 24]\n",
      "[4, 16, 20, 21, 30, 36]\n",
      "[4, 10, 14, 18, 31, 32]\n",
      "[6, 17, 18, 21, 30, 44]\n",
      "[7, 16, 24, 31, 36, 42]\n",
      "[2, 5, 9, 18, 30, 39]\n",
      "[4, 16, 21, 28, 40, 44]\n",
      "[10, 12, 16, 29, 35, 39]\n",
      "[7, 13, 18, 32, 34, 42]\n",
      "[8, 10, 12, 17, 26, 34]\n",
      "[16, 27, 30, 33, 37, 43]\n",
      "[14, 20, 22, 23, 36, 38]\n",
      "[7, 21, 32, 34, 41, 44]\n",
      "[12, 20, 25, 26, 27, 41]\n",
      "[9, 11, 19, 25, 27, 42]\n",
      "[9, 11, 23, 31, 33, 43]\n",
      "[11, 13, 16, 28, 39, 40]\n",
      "[11, 16, 28, 35, 37, 44]\n",
      "[5, 11, 17, 23, 29, 31]\n",
      "[12, 14, 25, 35, 38, 43]\n",
      "[7, 11, 12, 16, 37, 41]\n",
      "[4, 12, 18, 20, 29, 35]\n",
      "[2, 10, 21, 24, 38, 40]\n",
      "[8, 20, 22, 25, 28, 32]\n",
      "[2, 9, 15, 21, 22, 32]\n",
      "[4, 6, 17, 24, 38, 43]\n",
      "[2, 3, 4, 7, 8, 44]\n",
      "[8, 16, 23, 37, 42, 43]\n",
      "[2, 15, 21, 23, 27, 40]\n",
      "[19, 21, 24, 37, 38, 42]\n",
      "[7, 14, 23, 25, 40, 43]\n",
      "[21, 27, 28, 31, 32, 44]\n",
      "[10, 18, 28, 30, 33, 37]\n",
      "[3, 7, 13, 19, 22, 37]\n",
      "[10, 13, 14, 25, 27, 29]\n",
      "[1, 9, 16, 27, 36, 40]\n",
      "[6, 7, 8, 11, 12, 39]\n",
      "[3, 4, 21, 28, 35, 38]\n",
      "[2, 13, 17, 22, 37, 41]\n",
      "[1, 15, 18, 19, 33, 41]\n",
      "[1, 2, 9, 27, 34, 39]\n",
      "[1, 3, 4, 10, 25, 29]\n",
      "[2, 4, 15, 16, 23, 38]\n",
      "[27, 28, 30, 32, 38, 44]\n",
      "[13, 23, 25, 33, 38, 44]\n",
      "[3, 6, 9, 21, 26, 42]\n",
      "[4, 10, 16, 21, 36, 42]\n",
      "[1, 3, 7, 11, 20, 38]\n",
      "[11, 21, 34, 37, 43, 44]\n",
      "[7, 13, 17, 22, 23, 39]\n",
      "[8, 10, 13, 19, 38, 39]\n",
      "[13, 14, 18, 19, 22, 44]\n",
      "[4, 7, 27, 29, 31, 40]\n",
      "[15, 16, 26, 28, 38, 42]\n",
      "[9, 13, 23, 32, 40, 41]\n",
      "[7, 25, 29, 31, 35, 39]\n",
      "[6, 12, 20, 22, 28, 35]\n",
      "[1, 7, 13, 22, 27, 34]\n",
      "[2, 4, 19, 27, 33, 44]\n",
      "[4, 7, 9, 27, 35, 40]\n",
      "[5, 18, 23, 24, 36, 44]\n",
      "[1, 7, 10, 27, 30, 32]\n",
      "[9, 19, 29, 30, 37, 42]\n",
      "[4, 16, 19, 28, 29, 38]\n",
      "[4, 24, 29, 36, 37, 43]\n",
      "[3, 10, 23, 28, 43, 44]\n",
      "[3, 8, 11, 31, 40, 44]\n",
      "[8, 10, 11, 25, 26, 29]\n",
      "[23, 26, 35, 40, 41, 42]\n",
      "[5, 12, 17, 20, 32, 44]\n",
      "[5, 8, 15, 22, 29, 40]\n",
      "[6, 9, 12, 13, 30, 36]\n",
      "[3, 14, 29, 32, 41, 44]\n",
      "[20, 23, 24, 25, 35, 36]\n",
      "[3, 12, 21, 25, 29, 33]\n",
      "[8, 14, 22, 28, 39, 41]\n",
      "[1, 2, 5, 13, 31, 40]\n",
      "[2, 3, 5, 27, 31, 41]\n",
      "[5, 7, 11, 18, 33, 44]\n",
      "[1, 14, 17, 25, 38, 42]\n",
      "[3, 5, 12, 32, 34, 38]\n",
      "[2, 5, 8, 27, 35, 39]\n",
      "[1, 4, 12, 14, 21, 23]\n",
      "[9, 21, 22, 23, 31, 34]\n",
      "[3, 4, 17, 23, 25, 42]\n",
      "[2, 18, 25, 29, 35, 39]\n",
      "[1, 2, 13, 22, 31, 38]\n",
      "[1, 13, 30, 34, 39, 40]\n",
      "[8, 18, 22, 27, 28, 32]\n",
      "[1, 2, 5, 14, 29, 32]\n",
      "[1, 11, 14, 33, 40, 44]\n",
      "[5, 10, 17, 20, 22, 24]\n",
      "[5, 9, 29, 37, 39, 42]\n",
      "[7, 20, 25, 28, 29, 35]\n",
      "[11, 12, 21, 22, 27, 39]\n",
      "[1, 6, 8, 20, 25, 34]\n",
      "[4, 11, 12, 31, 37, 39]\n",
      "[10, 20, 23, 28, 35, 36]\n",
      "[10, 12, 13, 20, 33, 43]\n",
      "[21, 30, 37, 40, 41, 42]\n",
      "[3, 11, 17, 24, 25, 27]\n",
      "[3, 10, 14, 29, 34, 40]\n",
      "[8, 18, 21, 27, 33, 36]\n",
      "[5, 7, 16, 24, 25, 33]\n",
      "[5, 9, 10, 12, 40, 41]\n",
      "[2, 14, 18, 20, 21, 28]\n",
      "[3, 5, 12, 13, 39, 44]\n",
      "[13, 28, 30, 37, 40, 44]\n",
      "[6, 7, 9, 11, 33, 42]\n",
      "[10, 17, 18, 28, 36, 40]\n",
      "[6, 11, 16, 17, 22, 33]\n",
      "[10, 11, 19, 21, 26, 33]\n",
      "[1, 10, 21, 23, 28, 29]\n",
      "[4, 13, 22, 24, 26, 32]\n",
      "[4, 10, 13, 34, 41, 43]\n",
      "[9, 11, 17, 21, 27, 42]\n",
      "[3, 7, 19, 21, 27, 35]\n",
      "[10, 28, 29, 35, 36, 40]\n",
      "[15, 19, 20, 22, 24, 32]\n",
      "[1, 2, 7, 14, 19, 29]\n",
      "[22, 25, 33, 34, 36, 44]\n",
      "[4, 16, 21, 22, 27, 29]\n",
      "[4, 7, 32, 35, 40, 44]\n",
      "[10, 23, 29, 31, 32, 36]\n",
      "[3, 16, 20, 32, 33, 36]\n",
      "[5, 10, 12, 20, 41, 44]\n",
      "[13, 14, 19, 29, 38, 39]\n",
      "[11, 13, 27, 34, 37, 38]\n",
      "[2, 4, 30, 32, 40, 44]\n",
      "[15, 22, 24, 25, 32, 43]\n",
      "[8, 11, 16, 34, 39, 42]\n",
      "[4, 15, 21, 28, 34, 39]\n",
      "[6, 12, 23, 25, 27, 31]\n",
      "[4, 9, 17, 19, 22, 39]\n",
      "[1, 4, 10, 11, 16, 32]\n",
      "[11, 12, 18, 26, 38, 44]\n",
      "[7, 10, 11, 25, 29, 34]\n",
      "[11, 15, 22, 35, 38, 43]\n",
      "[2, 11, 16, 18, 31, 34]\n",
      "[3, 4, 5, 7, 14, 36]\n",
      "[8, 17, 28, 34, 37, 40]\n",
      "[6, 9, 22, 27, 40, 43]\n",
      "[4, 10, 11, 14, 22, 32]\n",
      "[4, 6, 7, 29, 32, 41]\n",
      "[8, 24, 32, 40, 42, 44]\n",
      "[15, 18, 19, 21, 27, 29]\n",
      "[2, 12, 23, 29, 31, 36]\n",
      "[4, 19, 20, 33, 40, 44]\n",
      "[4, 17, 18, 22, 27, 32]\n",
      "[3, 4, 12, 15, 29, 35]\n",
      "[20, 26, 27, 34, 36, 44]\n",
      "[4, 6, 17, 19, 28, 42]\n",
      "[2, 23, 28, 31, 34, 43]\n",
      "[1, 14, 18, 26, 30, 33]\n",
      "[24, 26, 31, 32, 37, 39]\n",
      "[3, 9, 32, 38, 40, 44]\n",
      "[7, 10, 15, 37, 41, 44]\n",
      "[3, 6, 12, 14, 25, 35]\n",
      "[3, 4, 5, 21, 22, 32]\n",
      "[6, 8, 15, 23, 35, 38]\n",
      "[7, 9, 22, 30, 32, 41]\n",
      "[13, 15, 16, 28, 29, 39]\n",
      "[1, 19, 27, 31, 39, 44]\n",
      "[3, 11, 15, 29, 36, 43]\n",
      "[21, 28, 31, 32, 34, 44]\n",
      "[10, 14, 15, 32, 36, 42]\n",
      "[2, 26, 32, 35, 36, 38]\n",
      "[4, 12, 19, 28, 39, 44]\n",
      "[12, 14, 16, 20, 35, 44]\n",
      "[4, 7, 8, 15, 16, 18]\n",
      "[4, 17, 19, 28, 33, 39]\n",
      "[18, 23, 27, 34, 38, 39]\n",
      "[3, 5, 8, 24, 42, 43]\n",
      "[3, 18, 19, 22, 28, 38]\n",
      "[5, 12, 17, 19, 26, 27]\n",
      "[9, 21, 24, 26, 30, 32]\n",
      "[7, 9, 16, 21, 23, 42]\n",
      "[3, 7, 23, 24, 31, 44]\n",
      "[13, 17, 26, 41, 42, 44]\n",
      "[27, 31, 34, 35, 37, 42]\n",
      "[3, 8, 12, 20, 29, 35]\n",
      "[3, 12, 19, 32, 34, 36]\n",
      "[13, 18, 27, 31, 34, 40]\n",
      "[7, 17, 22, 28, 32, 35]\n",
      "[10, 11, 17, 20, 33, 38]\n",
      "[8, 11, 14, 38, 42, 43]\n",
      "[2, 7, 16, 23, 30, 39]\n",
      "[10, 18, 19, 21, 25, 32]\n",
      "[7, 14, 16, 27, 38, 40]\n",
      "[8, 17, 20, 21, 26, 28]\n",
      "[1, 2, 15, 18, 22, 40]\n",
      "[8, 30, 33, 38, 40, 44]\n",
      "[6, 16, 19, 24, 28, 34]\n",
      "[12, 23, 25, 29, 34, 38]\n",
      "[2, 4, 8, 25, 28, 43]\n",
      "[17, 20, 24, 27, 31, 32]\n",
      "[2, 4, 20, 23, 28, 40]\n",
      "[4, 13, 14, 16, 25, 33]\n",
      "[3, 7, 12, 14, 24, 33]\n",
      "[3, 4, 8, 10, 24, 37]\n",
      "[6, 12, 15, 16, 18, 22]\n",
      "[13, 16, 20, 27, 31, 36]\n",
      "[4, 13, 27, 32, 39, 41]\n",
      "[13, 18, 20, 22, 23, 31]\n",
      "[2, 7, 9, 10, 24, 35]\n",
      "[5, 18, 26, 28, 38, 43]\n",
      "[14, 21, 23, 26, 27, 44]\n",
      "[2, 6, 28, 32, 33, 39]\n",
      "[3, 4, 7, 9, 13, 37]\n",
      "[17, 18, 22, 39, 42, 43]\n",
      "[5, 8, 16, 25, 26, 28]\n",
      "[16, 17, 27, 39, 43, 44]\n",
      "[8, 13, 25, 27, 31, 37]\n",
      "[1, 13, 14, 26, 28, 42]\n",
      "[7, 12, 13, 25, 35, 39]\n",
      "[6, 8, 22, 27, 30, 44]\n",
      "[4, 13, 24, 27, 37, 38]\n",
      "[5, 12, 21, 24, 32, 36]\n",
      "[1, 12, 13, 19, 21, 43]\n",
      "[1, 8, 10, 17, 37, 44]\n",
      "[16, 21, 25, 38, 40, 41]\n",
      "[1, 6, 17, 22, 40, 41]\n",
      "[2, 14, 17, 18, 20, 44]\n",
      "[10, 13, 16, 22, 24, 40]\n",
      "[2, 4, 20, 27, 29, 30]\n",
      "[6, 11, 13, 30, 35, 36]\n",
      "[7, 15, 16, 22, 28, 34]\n",
      "[11, 19, 31, 35, 40, 44]\n",
      "[10, 12, 20, 26, 35, 36]\n",
      "[3, 10, 18, 26, 32, 41]\n",
      "[7, 14, 25, 28, 29, 41]\n",
      "[3, 11, 12, 24, 39, 41]\n",
      "[1, 5, 8, 10, 25, 29]\n",
      "[19, 25, 26, 27, 31, 33]\n",
      "[3, 5, 7, 29, 39, 43]\n",
      "[1, 6, 13, 32, 34, 37]\n",
      "[19, 30, 31, 32, 33, 43]\n",
      "[32, 34, 36, 38, 41, 43]\n",
      "[10, 12, 14, 24, 30, 36]\n",
      "[4, 9, 15, 24, 27, 38]\n",
      "[12, 18, 22, 31, 37, 41]\n",
      "[6, 12, 18, 26, 31, 33]\n",
      "[13, 17, 20, 21, 24, 31]\n",
      "[4, 21, 29, 30, 41, 43]\n",
      "[6, 13, 20, 21, 23, 29]\n",
      "[14, 28, 34, 39, 42, 43]\n",
      "[2, 16, 23, 33, 39, 43]\n",
      "[2, 10, 15, 17, 24, 32]\n",
      "[10, 16, 24, 37, 40, 42]\n",
      "[11, 22, 26, 27, 31, 33]\n",
      "[4, 17, 25, 33, 37, 41]\n",
      "[16, 19, 21, 37, 42, 43]\n",
      "[7, 9, 15, 26, 29, 36]\n",
      "[5, 6, 8, 16, 24, 39]\n",
      "[4, 22, 23, 39, 43, 44]\n",
      "[6, 8, 11, 14, 31, 37]\n",
      "[12, 16, 22, 30, 32, 38]\n",
      "[3, 9, 12, 23, 33, 39]\n",
      "[3, 12, 15, 23, 24, 44]\n",
      "[5, 9, 16, 22, 25, 31]\n",
      "[1, 7, 8, 9, 14, 38]\n",
      "[2, 5, 12, 34, 39, 44]\n",
      "[7, 16, 18, 20, 21, 44]\n",
      "[7, 12, 16, 28, 30, 35]\n",
      "[9, 10, 12, 27, 30, 31]\n",
      "[8, 23, 27, 39, 40, 41]\n",
      "[12, 24, 26, 32, 36, 44]\n",
      "[17, 24, 26, 27, 28, 34]\n",
      "[8, 12, 13, 19, 21, 23]\n",
      "[2, 6, 19, 26, 34, 37]\n",
      "[1, 4, 6, 16, 26, 39]\n",
      "[4, 30, 34, 39, 41, 44]\n",
      "[2, 9, 11, 14, 22, 25]\n",
      "[3, 6, 9, 12, 40, 42]\n",
      "[9, 16, 20, 26, 36, 39]\n",
      "[21, 24, 27, 32, 37, 39]\n",
      "[11, 12, 14, 34, 37, 39]\n",
      "[1, 4, 13, 29, 39, 41]\n",
      "[12, 16, 17, 20, 28, 32]\n"
     ]
    }
   ],
   "source": [
    "#[과제] 사용자가 입력한 게임횟수만큼 로또 번호를 출력하는 프로그램을 작성하세요.\n",
    "import random\n",
    "n = int(input('게임 횟수 : '))\n",
    "while n > 0:\n",
    "    listl = random.sample(range(1,45),6)\n",
    "    listl.sort()\n",
    "    print(listl)\n",
    "    n-=1"
   ]
  },
  {
   "cell_type": "code",
   "execution_count": 28,
   "id": "0f9134c6",
   "metadata": {},
   "outputs": [
    {
     "name": "stdout",
     "output_type": "stream",
     "text": [
      "발표한 인원 : 20\n",
      "['김기현', '최지원', '박종석', '손창효', '어정호', '김영수', '예지우', '이동연', '이재호', '임재곤', '김민성', '마경수', '용지영', '박광민', '이현정', '김기연', '오주완', '김태형', '김정수', '최종원']\n"
     ]
    }
   ],
   "source": [
    "# Q. 발표할 인원을 입력하면 랜덤으로 발표자를 리스트로 출력해 주는 프로그램을 작성하세요(중복 허용하지 않응)\n",
    "import random\n",
    "li = ['권혁종', '김기연', '김기현', '김민성', '김영수', '김재경', '김정수', '김태형', '마경수', '문성윤',\n",
    "       '박광민','박종석','손창효','어정호','예지우','오주완','용지영','이동연','이용준','이재우',\n",
    "       '이재호','이현정','임재곤','장종호','정현우','조경윤','조남현','최종원','최지원']\n",
    "li2=[]\n",
    "n = int(input('발표한 인원 : '))\n",
    "num = random.sample(range(len(li)),n)\n",
    "for i in num:\n",
    "    li2.append(li[i])\n",
    "    print(li2)"
   ]
  },
  {
   "cell_type": "code",
   "execution_count": 43,
   "id": "179a2a57",
   "metadata": {},
   "outputs": [
    {
     "name": "stdout",
     "output_type": "stream",
     "text": [
      "입력 >3\n",
      "['권혁종', '김기연', '김기현']\n"
     ]
    }
   ],
   "source": [
    "import random\n",
    "name = ['권혁종', '김기연', '김기현', '김민성', '김영수', '김재경', '김정수', '김태형', '마경수', '문성윤',\n",
    "       '박광민','박종석','손창효','어정호','예지우','오주완','용지영','이동연','이용준','이재우',\n",
    "       '이재호','이현정','임재곤','장종호','정현우','조경윤','조남현','최종원','최지원']\n",
    "\n",
    "li = []\n",
    "num = int(input('입력 >'))\n",
    "\n",
    "for i in range(num):\n",
    "    p = random.randint(0,29)\n",
    "    while p in li:\n",
    "        p = random.randint(0,29)\n",
    "    li.append(p)\n",
    "alist=[]\n",
    "\n",
    "for i in range(len(li)):\n",
    "    a = name[i]\n",
    "    alist.append(a)\n",
    "print(alist)"
   ]
  },
  {
   "cell_type": "code",
   "execution_count": 62,
   "id": "e995d38b",
   "metadata": {},
   "outputs": [
    {
     "name": "stdout",
     "output_type": "stream",
     "text": [
      "입력> 22\n"
     ]
    },
    {
     "ename": "IndexError",
     "evalue": "list index out of range",
     "output_type": "error",
     "traceback": [
      "\u001b[1;31m---------------------------------------------------------------------------\u001b[0m",
      "\u001b[1;31mIndexError\u001b[0m                                Traceback (most recent call last)",
      "\u001b[1;32m~\\AppData\\Local\\Temp/ipykernel_8224/826078385.py\u001b[0m in \u001b[0;36m<module>\u001b[1;34m\u001b[0m\n\u001b[0;32m     16\u001b[0m \u001b[1;33m\u001b[0m\u001b[0m\n\u001b[0;32m     17\u001b[0m \u001b[1;32mfor\u001b[0m \u001b[0mi\u001b[0m \u001b[1;32min\u001b[0m \u001b[0mli\u001b[0m\u001b[1;33m:\u001b[0m\u001b[1;33m\u001b[0m\u001b[1;33m\u001b[0m\u001b[0m\n\u001b[1;32m---> 18\u001b[1;33m     \u001b[0ma\u001b[0m \u001b[1;33m=\u001b[0m \u001b[0mname\u001b[0m\u001b[1;33m[\u001b[0m\u001b[0mi\u001b[0m\u001b[1;33m]\u001b[0m\u001b[1;33m\u001b[0m\u001b[1;33m\u001b[0m\u001b[0m\n\u001b[0m\u001b[0;32m     19\u001b[0m     \u001b[0malist\u001b[0m\u001b[1;33m.\u001b[0m\u001b[0mappend\u001b[0m\u001b[1;33m(\u001b[0m\u001b[0ma\u001b[0m\u001b[1;33m)\u001b[0m\u001b[1;33m\u001b[0m\u001b[1;33m\u001b[0m\u001b[0m\n\u001b[0;32m     20\u001b[0m \u001b[0mprint\u001b[0m\u001b[1;33m(\u001b[0m\u001b[0malist\u001b[0m\u001b[1;33m)\u001b[0m\u001b[1;33m\u001b[0m\u001b[1;33m\u001b[0m\u001b[0m\n",
      "\u001b[1;31mIndexError\u001b[0m: list index out of range"
     ]
    }
   ],
   "source": [
    "import random\n",
    "\n",
    "\n",
    "num = int(input('입력> '))\n",
    "li = []\n",
    "for i in range(num):\n",
    "    p = random.randint(0,29)\n",
    "    while p in li:\n",
    "        p = random.randint(0,29)\n",
    "    li.append(p)\n",
    "    \n",
    "alist = []\n",
    "name = ['권혁종', '김기연', '김기현', '김민성', '김영수', '김재경', '김정수', '김태형', '마경수', '문성윤',\n",
    "       '박광민','박종석','손창효','어정호','예지우','오주완','용지영','이동연','이용준','이재우',\n",
    "       '이재호','이현정','임재곤','장종호','정현우','조경윤','조남현','최종원','최지원']\n",
    "\n",
    "for i in li:\n",
    "    a = name[i]\n",
    "    alist.append(a)\n",
    "print(alist)"
   ]
  },
  {
   "cell_type": "code",
   "execution_count": 36,
   "id": "d91bf085",
   "metadata": {},
   "outputs": [
    {
     "name": "stdout",
     "output_type": "stream",
     "text": [
      "게임 수 : 5\n",
      "[3, 5, 7, 16, 28, 45]\n",
      "[3, 4, 20, 23, 44, 45]\n",
      "[15, 21, 31, 38, 41, 43]\n",
      "[3, 7, 13, 28, 36, 40]\n",
      "[11, 16, 20, 37, 42, 43]\n"
     ]
    }
   ],
   "source": [
    "#다른 사람이 한것\n",
    "import random\n",
    "\n",
    "num = input(\"게임 수 : \")\n",
    "\n",
    "for i in range(0, int(num)):\n",
    "    lotto = random.sample(range(1, 46), 6)\n",
    "    lotto.sort()\n",
    "    print(lotto)"
   ]
  },
  {
   "cell_type": "code",
   "execution_count": 10,
   "id": "73552554",
   "metadata": {
    "scrolled": true
   },
   "outputs": [
    {
     "name": "stdout",
     "output_type": "stream",
     "text": [
      "이번엔 뜬다! 로또머신을 몇 회 가동할까요? >>> 5\n",
      "[12 15 16 18 20 34]\n",
      "[ 2 22 29 35 39 43]\n",
      "[11 14 18 19 33 41]\n",
      "[ 2  6  8 28 39 42]\n",
      "[12 16 21 25 34 36]\n"
     ]
    }
   ],
   "source": [
    "import numpy as np\n",
    "\n",
    "charge = int(input('이번엔 뜬다! 로또머신을 몇 회 가동할까요? >>> '))\n",
    "for i in range(charge):\n",
    "    while 1:\n",
    "        num = np.random.randint(1,45,size=6)\n",
    "        if len(np.unique(num)) <= 5:\n",
    "            continue\n",
    "        else:\n",
    "            print(np.sort(num))\n",
    "            break"
   ]
  },
  {
   "cell_type": "code",
   "execution_count": 21,
   "id": "62d2b5e8",
   "metadata": {
    "scrolled": true
   },
   "outputs": [
    {
     "name": "stdout",
     "output_type": "stream",
     "text": [
      "로또 횟수를 입력하세요   :    5\n",
      "로또번호 1:  [42, 19, 4, 1, 22, 36]\n",
      "로또번호 2:  [21, 22, 15, 44, 24, 37]\n",
      "로또번호 3:  [18, 28, 27, 30, 32, 19]\n",
      "로또번호 4:  [10, 3, 34, 35, 45, 28]\n",
      "로또번호 5:  [20, 4, 26, 8, 2, 33]\n"
     ]
    }
   ],
   "source": [
    "# 교수님 예제\n",
    "from random import shuffle\n",
    "from time import sleep\n",
    "\n",
    "gnum = int(input('로또 횟수를 입력하세요   :    '))\n",
    "for i in range(gnum):\n",
    "    lt = [x+1 for x in range(45)]\n",
    "    ret = []\n",
    "    for j in range(6):\n",
    "        shuffle(lt)\n",
    "        num = lt.pop() # pop 함수는 뽑으면 리스트에서 사라짐\n",
    "        ret.append(num)\n",
    "        ret.sort\n",
    "    print('로또번호 %d: '%(i+1), end=' ')\n",
    "    print(ret)\n",
    "    sleep(2)    #잠시멈춤\n",
    "        "
   ]
  },
  {
   "cell_type": "code",
   "execution_count": 1,
   "id": "49e5591a",
   "metadata": {
    "scrolled": true
   },
   "outputs": [
    {
     "name": "stdout",
     "output_type": "stream",
     "text": [
      "['eE', 'aD', 'dA', 'cB', 'bC']\n"
     ]
    }
   ],
   "source": [
    "# [과제] 남녀 파트너 정해주기 프로그램을 작성학세요(5개 커플)\n",
    "# 난수 생성으로 한것\n",
    "import random\n",
    "listm = ['a','b','c','d','e']\n",
    "listw = ['A','B','C','D','E']\n",
    "listc = []\n",
    "n = len(listm)-1\n",
    "num1 = random.sample(range(0,5),5)\n",
    "num2 = random.sample(range(0,5),5)\n",
    "while n>=0:\n",
    "    listc.append(listm[num1[n]]+listw[num2[n]])\n",
    "    n-=1\n",
    "print(listc)"
   ]
  },
  {
   "cell_type": "code",
   "execution_count": 71,
   "id": "1f9e2603",
   "metadata": {},
   "outputs": [
    {
     "name": "stdout",
     "output_type": "stream",
     "text": [
      "['eC', 'dA', 'aD', 'cE', 'bB']\n"
     ]
    }
   ],
   "source": [
    "# random shuffle 사용한거\n",
    "import random\n",
    "listm = ['a','b','c','d','e']\n",
    "listw = ['A','B','C','D','E']\n",
    "listc = []\n",
    "n = len(listm)-1\n",
    "random.shuffle(listm)\n",
    "random.shuffle(listw)\n",
    "while n>=0:\n",
    "    listc.append(listm[n]+listw[n])\n",
    "    n-=1\n",
    "print(listc)"
   ]
  },
  {
   "cell_type": "code",
   "execution_count": 28,
   "id": "0f0d6247",
   "metadata": {},
   "outputs": [
    {
     "name": "stdout",
     "output_type": "stream",
     "text": [
      "['aD', 'cB', 'bC', 'eA', 'dE']\n"
     ]
    }
   ],
   "source": [
    "import random\n",
    "listm = ['a','b','c','d','e']\n",
    "listw = ['A','B','C','D','E']\n",
    "listc = []\n",
    "n = len(listm)\n",
    "random.shuffle(listm)\n",
    "random.shuffle(listw)\n",
    "for i in range(n):\n",
    "    listc.append(listm[i]+listw[i])\n",
    "print(listc)"
   ]
  },
  {
   "cell_type": "code",
   "execution_count": 54,
   "id": "f5ce6809",
   "metadata": {
    "scrolled": true
   },
   "outputs": [
    {
     "name": "stdout",
     "output_type": "stream",
     "text": [
      "남자를 , 로 구분하여 입력해주세요 : a,b,c,d,e\n",
      "여자를 , 로 구분하여 입력해주세요 : 1,2,3,4,5\n",
      "['a♥1', 'c♥3', 'd♥5', 'b♥2', 'e♥4']\n"
     ]
    }
   ],
   "source": [
    "import random\n",
    "couple = []\n",
    "while 1:\n",
    "    man = input('남자를 , 로 구분하여 입력해주세요 : ')\n",
    "    woman = input('여자를 , 로 구분하여 입력해주세요 : ')\n",
    "    man_split = man.split(\",\")\n",
    "    woman_split = woman.split(\",\")\n",
    "    nm = len(man_split)\n",
    "    wm = len(woman_split)\n",
    "    if nm == wm:\n",
    "        random.shuffle(man_split)\n",
    "        random.shuffle(woman_split)\n",
    "        for i in range(nm):\n",
    "            couple.append(man_split[i]+'♥'+woman_split[i])\n",
    "        break\n",
    "    else:\n",
    "        print(\"숫자가 맞지 않습니다. 다시 입력해주세요\")\n",
    "        continue\n",
    "print(couple)"
   ]
  },
  {
   "cell_type": "code",
   "execution_count": 53,
   "id": "08012d7b",
   "metadata": {},
   "outputs": [
    {
     "name": "stdout",
     "output_type": "stream",
     "text": [
      "Couples1 : 4-d\n",
      "Couples2 : 2-e\n",
      "Couples3 : 5-b\n",
      "Couples4 : 1-c\n",
      "Couples5 : 3-a\n"
     ]
    }
   ],
   "source": [
    "#교수님 예제\n",
    "import random\n",
    "m = list('12345')\n",
    "f = list('abcde')\n",
    "random.shuffle(m)\n",
    "random.shuffle(f)\n",
    "couples = zip(m,f)\n",
    "for i , couple in enumerate(couples):\n",
    "    print('Couples%d : %s-%s' %(i+1, couple[0],couple[1]))"
   ]
  },
  {
   "cell_type": "code",
   "execution_count": null,
   "id": "3158b1c0",
   "metadata": {},
   "outputs": [],
   "source": [
    "# 입력받은 문자열의 각 문자를 그 다음 문자로 변경하여 출력하세요.\n",
    "# abcde - bcdea\n",
    "\n",
    "a=list(input(\"입력 : \"))\n",
    "\n",
    "a.append(a[0])\n",
    "a.remove(a[0])\n",
    "b = ''.join(a)\n",
    "print(b)"
   ]
  },
  {
   "cell_type": "code",
   "execution_count": null,
   "id": "9efaa491",
   "metadata": {},
   "outputs": [],
   "source": [
    "# 음식점의 음식 주문가격 산출 프로그램을 자유롭게 작성하세요\n",
    "# 다른사람 것\n",
    "'''중앙 식당에 오신 것을 환영합니다\n",
    "\n",
    "========================================\n",
    "\n",
    "          - 메  뉴 -\n",
    "    1. 불고기 비빔밥 : 12,000원\n",
    "    2. 야채 비빔밥 : 8,000원\n",
    "    3. 전주 비빔밥 : 10,000원\n",
    "\n",
    "    세트 주문시 : 3000원 추가\n",
    "    (세트는 밥과 반찬이 추가됩니다.)\n",
    "\n",
    "========================================\n",
    "\n",
    "비빔밥 메뉴를 선택해 주세요. 1, 2, 3 >>> 2\n",
    "세트 주문을 하시겠습니까? 3,000원 추가. y, n >>> y\n",
    "총 금액은 11000원 입니다.'''\n",
    "print('중앙매점에 오신 것을 환영합니다\\n=============================\\n\\n         - 메  뉴 -\\n   1. 떡볶이 : 6,000원\\n   2. 순대   : 7,000원\\n3. 김밥   : 3,000원\\n\\n세트 주문시 : 3,000원 추가\\n  (음료수 추가와 곱빼기)\\n\\n==============================')\n",
    "m=int(input('메뉴를 선택해 주세요.1,2,3: '))\n",
    "s=input('세트 주문을 하시겠습니까? 3,000원 추가. y,n: ')\n",
    "if (m==1):\n",
    "    if (s==\"y\"):\n",
    "        print('총 금액은 9,000원입니다.')\n",
    "    else:\n",
    "        print('총 금액은 6,000원입니다.')\n",
    "elif (m==2):\n",
    "    if (s==\"y\"):\n",
    "        print('총 금액은 10,000원입니다.')\n",
    "    else:\n",
    "        print('총 금액은 7,000원입니다.')\n",
    "else:\n",
    "    if (s==\"y\"):\n",
    "        print('총 금액은 6,000원입니다.')\n",
    "    else:\n",
    "        print('총 금액은 3,000원입니다.')\n",
    "\n"
   ]
  },
  {
   "cell_type": "code",
   "execution_count": 77,
   "id": "8bbc9e2c",
   "metadata": {
    "scrolled": true
   },
   "outputs": [
    {
     "name": "stdout",
     "output_type": "stream",
     "text": [
      "중앙 식당에 오신 것을 환영합니다\n",
      "\n",
      "========================================\n",
      "\n",
      "              - 메  뉴 -\n",
      "    1. 불고기 비빔밥 : 12,000원\n",
      "    2. 야채 비빔밥 : 8,000원\n",
      "    3. 전주 비빔밥 : 10,000원\n",
      "\n",
      "    세트 주문시 : 3000원 추가\n",
      "    (세트는 밥과 반찬이 추가됩니다.)\n",
      "\n",
      "========================================\n",
      "\n",
      "메뉴 선정이 끝나면 e, 메뉴를 다시 고르고 싶으시다면 r을 눌러주세요.\n",
      "\n",
      "현재 선택- 불고기:0 야채:0 전주: 0 (세트상품:0)\n",
      "주문하실 메뉴의 번호를 입력하세요 > 1\n",
      "세트 주문을 하시겠습니까?(y/n) > 3\n",
      "단일상품으로 주문됩니다.\n",
      "\n",
      "현재 선택- 불고기:1 야채:0 전주: 0 (세트상품:0)\n",
      "주문하실 메뉴의 번호를 입력하세요 > \n",
      "번 메뉴는 존재하지 않습니다. 다시 입력해주세요.\n",
      "\n",
      "현재 선택- 불고기:1 야채:0 전주: 0 (세트상품:0)\n",
      "주문하실 메뉴의 번호를 입력하세요 > 1\n",
      "세트 주문을 하시겠습니까?(y/n) > 53\n",
      "단일상품으로 주문됩니다.\n",
      "\n",
      "현재 선택- 불고기:2 야채:0 전주: 0 (세트상품:0)\n",
      "주문하실 메뉴의 번호를 입력하세요 > \n",
      "번 메뉴는 존재하지 않습니다. 다시 입력해주세요.\n",
      "\n",
      "현재 선택- 불고기:2 야채:0 전주: 0 (세트상품:0)\n",
      "주문하실 메뉴의 번호를 입력하세요 > 1\n",
      "세트 주문을 하시겠습니까?(y/n) > 5\n",
      "단일상품으로 주문됩니다.\n",
      "\n",
      "현재 선택- 불고기:3 야채:0 전주: 0 (세트상품:0)\n",
      "주문하실 메뉴의 번호를 입력하세요 > 5\n",
      "5번 메뉴는 존재하지 않습니다. 다시 입력해주세요.\n",
      "\n",
      "현재 선택- 불고기:3 야채:0 전주: 0 (세트상품:0)\n",
      "주문하실 메뉴의 번호를 입력하세요 > 5\n",
      "5번 메뉴는 존재하지 않습니다. 다시 입력해주세요.\n",
      "\n",
      "현재 선택- 불고기:3 야채:0 전주: 0 (세트상품:0)\n",
      "주문하실 메뉴의 번호를 입력하세요 > 5\n",
      "5번 메뉴는 존재하지 않습니다. 다시 입력해주세요.\n",
      "\n",
      "현재 선택- 불고기:3 야채:0 전주: 0 (세트상품:0)\n",
      "주문하실 메뉴의 번호를 입력하세요 > 5\n",
      "5번 메뉴는 존재하지 않습니다. 다시 입력해주세요.\n",
      "\n",
      "현재 선택- 불고기:3 야채:0 전주: 0 (세트상품:0)\n",
      "주문하실 메뉴의 번호를 입력하세요 > 5\n",
      "5번 메뉴는 존재하지 않습니다. 다시 입력해주세요.\n",
      "\n",
      "현재 선택- 불고기:3 야채:0 전주: 0 (세트상품:0)\n",
      "주문하실 메뉴의 번호를 입력하세요 > 5\n",
      "5번 메뉴는 존재하지 않습니다. 다시 입력해주세요.\n",
      "\n",
      "현재 선택- 불고기:3 야채:0 전주: 0 (세트상품:0)\n",
      "주문하실 메뉴의 번호를 입력하세요 > 55\n",
      "55번 메뉴는 존재하지 않습니다. 다시 입력해주세요.\n",
      "\n",
      "현재 선택- 불고기:3 야채:0 전주: 0 (세트상품:0)\n",
      "주문하실 메뉴의 번호를 입력하세요 > 5\n",
      "5번 메뉴는 존재하지 않습니다. 다시 입력해주세요.\n",
      "\n",
      "현재 선택- 불고기:3 야채:0 전주: 0 (세트상품:0)\n",
      "주문하실 메뉴의 번호를 입력하세요 > 5\n",
      "5번 메뉴는 존재하지 않습니다. 다시 입력해주세요.\n",
      "\n",
      "현재 선택- 불고기:3 야채:0 전주: 0 (세트상품:0)\n",
      "주문하실 메뉴의 번호를 입력하세요 > 5\n",
      "5번 메뉴는 존재하지 않습니다. 다시 입력해주세요.\n",
      "\n",
      "현재 선택- 불고기:3 야채:0 전주: 0 (세트상품:0)\n",
      "주문하실 메뉴의 번호를 입력하세요 > 5\n",
      "5번 메뉴는 존재하지 않습니다. 다시 입력해주세요.\n",
      "\n",
      "현재 선택- 불고기:3 야채:0 전주: 0 (세트상품:0)\n",
      "주문하실 메뉴의 번호를 입력하세요 > 5\n",
      "5번 메뉴는 존재하지 않습니다. 다시 입력해주세요.\n",
      "\n",
      "현재 선택- 불고기:3 야채:0 전주: 0 (세트상품:0)\n",
      "주문하실 메뉴의 번호를 입력하세요 > 5\n",
      "5번 메뉴는 존재하지 않습니다. 다시 입력해주세요.\n",
      "\n",
      "현재 선택- 불고기:3 야채:0 전주: 0 (세트상품:0)\n",
      "주문하실 메뉴의 번호를 입력하세요 > 5\n",
      "5번 메뉴는 존재하지 않습니다. 다시 입력해주세요.\n",
      "\n",
      "현재 선택- 불고기:3 야채:0 전주: 0 (세트상품:0)\n"
     ]
    },
    {
     "ename": "KeyboardInterrupt",
     "evalue": "Interrupted by user",
     "output_type": "error",
     "traceback": [
      "\u001b[1;31m---------------------------------------------------------------------------\u001b[0m",
      "\u001b[1;31mKeyboardInterrupt\u001b[0m                         Traceback (most recent call last)",
      "\u001b[1;32m~\\AppData\\Local\\Temp/ipykernel_3832/3195819986.py\u001b[0m in \u001b[0;36m<module>\u001b[1;34m\u001b[0m\n\u001b[0;32m     24\u001b[0m     print(\"현재 선택- 불고기:\" + str(menu['1']) + \" 야채:\" + str(menu['2']) + \" 전주: \" + str(menu['3'])\n\u001b[0;32m     25\u001b[0m           + \" (세트상품:\" + str(menu['s']) + \")\")\n\u001b[1;32m---> 26\u001b[1;33m     \u001b[0morder\u001b[0m\u001b[1;33m=\u001b[0m\u001b[0minput\u001b[0m\u001b[1;33m(\u001b[0m\u001b[1;34m\"주문하실 메뉴의 번호를 입력하세요 > \"\u001b[0m\u001b[1;33m)\u001b[0m\u001b[1;33m\u001b[0m\u001b[1;33m\u001b[0m\u001b[0m\n\u001b[0m\u001b[0;32m     27\u001b[0m     \u001b[1;32mif\u001b[0m\u001b[1;33m(\u001b[0m\u001b[0morder\u001b[0m\u001b[1;33m==\u001b[0m\u001b[1;34m'e'\u001b[0m\u001b[1;33m)\u001b[0m\u001b[1;33m:\u001b[0m\u001b[1;33m\u001b[0m\u001b[1;33m\u001b[0m\u001b[0m\n\u001b[0;32m     28\u001b[0m         \u001b[0mprint\u001b[0m\u001b[1;33m(\u001b[0m\u001b[1;34m\"메뉴 선정을 종료합니다.\"\u001b[0m\u001b[1;33m)\u001b[0m\u001b[1;33m\u001b[0m\u001b[1;33m\u001b[0m\u001b[0m\n",
      "\u001b[1;32m~\\anaconda3\\envs\\cakd5\\lib\\site-packages\\ipykernel\\kernelbase.py\u001b[0m in \u001b[0;36mraw_input\u001b[1;34m(self, prompt)\u001b[0m\n\u001b[0;32m   1004\u001b[0m                 \u001b[1;34m\"raw_input was called, but this frontend does not support input requests.\"\u001b[0m\u001b[1;33m\u001b[0m\u001b[1;33m\u001b[0m\u001b[0m\n\u001b[0;32m   1005\u001b[0m             )\n\u001b[1;32m-> 1006\u001b[1;33m         return self._input_request(\n\u001b[0m\u001b[0;32m   1007\u001b[0m             \u001b[0mstr\u001b[0m\u001b[1;33m(\u001b[0m\u001b[0mprompt\u001b[0m\u001b[1;33m)\u001b[0m\u001b[1;33m,\u001b[0m\u001b[1;33m\u001b[0m\u001b[1;33m\u001b[0m\u001b[0m\n\u001b[0;32m   1008\u001b[0m             \u001b[0mself\u001b[0m\u001b[1;33m.\u001b[0m\u001b[0m_parent_ident\u001b[0m\u001b[1;33m[\u001b[0m\u001b[1;34m\"shell\"\u001b[0m\u001b[1;33m]\u001b[0m\u001b[1;33m,\u001b[0m\u001b[1;33m\u001b[0m\u001b[1;33m\u001b[0m\u001b[0m\n",
      "\u001b[1;32m~\\anaconda3\\envs\\cakd5\\lib\\site-packages\\ipykernel\\kernelbase.py\u001b[0m in \u001b[0;36m_input_request\u001b[1;34m(self, prompt, ident, parent, password)\u001b[0m\n\u001b[0;32m   1049\u001b[0m             \u001b[1;32mexcept\u001b[0m \u001b[0mKeyboardInterrupt\u001b[0m\u001b[1;33m:\u001b[0m\u001b[1;33m\u001b[0m\u001b[1;33m\u001b[0m\u001b[0m\n\u001b[0;32m   1050\u001b[0m                 \u001b[1;31m# re-raise KeyboardInterrupt, to truncate traceback\u001b[0m\u001b[1;33m\u001b[0m\u001b[1;33m\u001b[0m\u001b[1;33m\u001b[0m\u001b[0m\n\u001b[1;32m-> 1051\u001b[1;33m                 \u001b[1;32mraise\u001b[0m \u001b[0mKeyboardInterrupt\u001b[0m\u001b[1;33m(\u001b[0m\u001b[1;34m\"Interrupted by user\"\u001b[0m\u001b[1;33m)\u001b[0m \u001b[1;32mfrom\u001b[0m \u001b[1;32mNone\u001b[0m\u001b[1;33m\u001b[0m\u001b[1;33m\u001b[0m\u001b[0m\n\u001b[0m\u001b[0;32m   1052\u001b[0m             \u001b[1;32mexcept\u001b[0m \u001b[0mException\u001b[0m\u001b[1;33m:\u001b[0m\u001b[1;33m\u001b[0m\u001b[1;33m\u001b[0m\u001b[0m\n\u001b[0;32m   1053\u001b[0m                 \u001b[0mself\u001b[0m\u001b[1;33m.\u001b[0m\u001b[0mlog\u001b[0m\u001b[1;33m.\u001b[0m\u001b[0mwarning\u001b[0m\u001b[1;33m(\u001b[0m\u001b[1;34m\"Invalid Message:\"\u001b[0m\u001b[1;33m,\u001b[0m \u001b[0mexc_info\u001b[0m\u001b[1;33m=\u001b[0m\u001b[1;32mTrue\u001b[0m\u001b[1;33m)\u001b[0m\u001b[1;33m\u001b[0m\u001b[1;33m\u001b[0m\u001b[0m\n",
      "\u001b[1;31mKeyboardInterrupt\u001b[0m: Interrupted by user"
     ]
    }
   ],
   "source": [
    "#다른사람것\n",
    "a = 12000\n",
    "b = 8000\n",
    "c = 10000\n",
    "extra = 3000\n",
    "price = 0\n",
    "menu = {'1':0, '2':0, '3':0, 's':0}\n",
    "\n",
    "print('''중앙 식당에 오신 것을 환영합니다\n",
    "\n",
    "========================================\n",
    "\n",
    "              - 메  뉴 -\n",
    "    1. 불고기 비빔밥 : 12,000원\n",
    "    2. 야채 비빔밥 : 8,000원\n",
    "    3. 전주 비빔밥 : 10,000원\n",
    "\n",
    "    세트 주문시 : 3000원 추가\n",
    "    (세트는 밥과 반찬이 추가됩니다.)\n",
    "\n",
    "========================================\n",
    "''')\n",
    "print(\"메뉴 선정이 끝나면 e, 메뉴를 다시 고르고 싶으시다면 r을 눌러주세요.\\n\")\n",
    "while 1:\n",
    "    print(\"현재 선택- 불고기:\" + str(menu['1']) + \" 야채:\" + str(menu['2']) + \" 전주: \" + str(menu['3'])\n",
    "          + \" (세트상품:\" + str(menu['s']) + \")\")\n",
    "    order=input(\"주문하실 메뉴의 번호를 입력하세요 > \")\n",
    "    if(order=='e'):\n",
    "        print(\"메뉴 선정을 종료합니다.\")\n",
    "        print()\n",
    "        break\n",
    "    elif(order=='r'):\n",
    "        print(\"선택한 메뉴를 전부 삭제합니다.\")\n",
    "        menu['1']=0\n",
    "        menu['2']=0\n",
    "        menu['3']=0\n",
    "        menu['s']=0\n",
    "    elif(order=='1'):\n",
    "        select=input(\"세트 주문을 하시겠습니까?(y/n) > \")\n",
    "        if(select=='y'):\n",
    "            menu['s']+=1\n",
    "        else:\n",
    "            print(\"단일상품으로 주문됩니다.\")\n",
    "        menu[order]+=1\n",
    "    elif(order=='2'):\n",
    "        select=input(\"세트 주문을 하시겠습니까?(y/n) > \")\n",
    "        if(select=='y'):\n",
    "            menu['s']+=1\n",
    "        else:\n",
    "            print(\"단일상품으로 주문됩니다.\")\n",
    "        menu[order]+=1\n",
    "    elif(order=='3'):\n",
    "        select=input(\"세트 주문을 하시겠습니까?(y/n) > \")\n",
    "        if(select=='y'):\n",
    "            menu['s']+=1\n",
    "        else:\n",
    "            print(\"단일상품으로 주문됩니다.\")\n",
    "        menu[order]+=1\n",
    "    else:\n",
    "        print(f'{order}번 메뉴는 존재하지 않습니다. 다시 입력해주세요.')\n",
    "    print()\n",
    "        \n",
    "price = a*menu['1'] + b*menu['2'] + c*menu['3'] + extra*menu['s']\n",
    "print(f'총 금액은 {price}원입니다.')\n",
    "\n"
   ]
  },
  {
   "cell_type": "code",
   "execution_count": 57,
   "id": "048eddab",
   "metadata": {
    "scrolled": true
   },
   "outputs": [
    {
     "name": "stdout",
     "output_type": "stream",
     "text": [
      "중앙 식당에 오신 것을 환영합니다.\n",
      "\n",
      "========================================\n",
      "\n",
      "           - 메  뉴 -\n",
      "\n",
      "     1. 떡볶이 : 6,000원\n",
      "     2. 순대   : 7,000원\n",
      "     3. 김밥   : 3,000원\n",
      "     \n",
      "     세트 주문시 : 3000원 추가\n",
      "     \n",
      "\n",
      "========================================\n",
      "\n",
      "메뉴를 선택해 주세요. 1,2,3 >>>   1\n",
      "세트 주문을 하시겠습니까? 3,000원 추가. y, n >>> 1\n",
      "잘못 입력했습니다. y or n을 입력해 주세요\n",
      "세트 주문을 하시겠습니까? 3,000원 추가. y, n >>> y\n",
      "주문을 그만 하시겠습니까?  y, n 이외에는 주문이 종료됩니다. 현재 주문 : 떡볶이 1개, 순대 0개, 김밥 0개, 세트 1개:  1\n",
      "잘못 입력했습니다. 주문이 종료됩니다.\n",
      "총 금액은 9000원 입니다.\n"
     ]
    }
   ],
   "source": [
    "# [과제] 수정 보완하세요.\n",
    "menu = \"\"\"\n",
    "           - 메  뉴 -\n",
    "\n",
    "     1. 떡볶이 : 6,000원\n",
    "     2. 순대   : 7,000원\n",
    "     3. 김밥   : 3,000원\n",
    "     \n",
    "     세트 주문시 : 3000원 추가\n",
    "     \n",
    "\"\"\"\n",
    "\n",
    "print('중앙 식당에 오신 것을 환영합니다.'+'\\n')\n",
    "print(\"=\"*40)\n",
    "print(menu)\n",
    "print(\"=\"*40)\n",
    "print()\n",
    "\n",
    "a=0\n",
    "b=0\n",
    "c=0\n",
    "d=0\n",
    "price = 0\n",
    "while 1:\n",
    "\n",
    "    while 1:\n",
    "        order = input('''메뉴를 선택해 주세요. 1,2,3 >>>   ''')\n",
    "        if order == '1':\n",
    "            price += 6000\n",
    "            a += 1\n",
    "            break\n",
    "        elif order == '2':\n",
    "            price += 7000\n",
    "            b += 1\n",
    "            break\n",
    "        elif order == '3':\n",
    "            price += 3000\n",
    "            c += 1\n",
    "            break\n",
    "        else:\n",
    "            print('없는 메뉴입니다. 1, 2, 3 중 하나를 입력해 주세요')\n",
    "    while 1:\n",
    "        combo = input('세트 주문을 하시겠습니까? 3,000원 추가. y, n >>> ')\n",
    "        if combo =='y':\n",
    "            price += 3000\n",
    "            d += 1\n",
    "            break\n",
    "        elif combo =='n':\n",
    "            price = price\n",
    "            break\n",
    "        else:\n",
    "            print('잘못 입력했습니다. y or n을 입력해 주세요')\n",
    "    more = input(f\"주문을 그만 하시겠습니까?  y, n 잘못 입력하면 주문이 종료됩니다. 현재 주문 : 떡볶이 {a}개, 순대 {b}개, 김밥 {c}개, 세트 {d}개:  \")\n",
    "    if more == 'y':\n",
    "        break\n",
    "    elif more == 'n':\n",
    "        continue\n",
    "    else:\n",
    "        print('잘못 입력했습니다. 주문이 종료됩니다.')\n",
    "        break\n",
    "        \n",
    "        \n",
    "print(f'총 금액은 {price}원 입니다.')"
   ]
  },
  {
   "cell_type": "code",
   "execution_count": 55,
   "id": "2e53fc14",
   "metadata": {
    "scrolled": true
   },
   "outputs": [
    {
     "name": "stdout",
     "output_type": "stream",
     "text": [
      "♣♣♣중앙 식당에 오신 것을 환영합니다♣♣♣\n",
      "\n",
      "========================================\n",
      "\n",
      "          - 메  뉴 -\n",
      "          \n",
      "    1. 불고기 비빔밥 : 12,000원\n",
      "    2. 야채 비빔밥 : 8,000원\n",
      "    3. 전주 비빔밥 : 10,000원\n",
      "\n",
      "    세트 주문시 : 3000원 추가\n",
      "    (세트는 밥과 반찬이 추가됩니다.)\n",
      "\n",
      "========================================\n",
      "\n",
      "■장바구니\n",
      " 불고기 비빔밥 0개: 0원\n",
      " 불고기 비빔밥 세트 0개: 0원\n",
      " 야채 비빔밥 0개: 0원\n",
      " 야채 비빔밥 세트 0개: 0원\n",
      " 전주 비빔밥 0개: 0원\n",
      " 전주 비빔밥 세트 0개: 0원\n",
      " 총 금액 0원\n",
      "\n",
      "●주문할 메뉴를 골라주세요. (불고기 비빔밥:1, 야채 비빔밥:2, 전주 비빔밥:3, 전체 취소:0, 주문확정:주문)\n",
      "1\n",
      "\n",
      "●3000원을 추가해 세트(밥, 반찬 추가)로 주문하시겠습니까? (일반주문시:n, 세트주문시:y, 이외는 취소)\n",
      "3\n",
      "\u001b[31m\n",
      "★취소 되었습니다. 초기 화면으로 돌아갑니다★\n",
      "\u001b[0m\n",
      "♣♣♣중앙 식당에 오신 것을 환영합니다♣♣♣\n",
      "\n",
      "========================================\n",
      "\n",
      "          - 메  뉴 -\n",
      "          \n",
      "    1. 불고기 비빔밥 : 12,000원\n",
      "    2. 야채 비빔밥 : 8,000원\n",
      "    3. 전주 비빔밥 : 10,000원\n",
      "\n",
      "    세트 주문시 : 3000원 추가\n",
      "    (세트는 밥과 반찬이 추가됩니다.)\n",
      "\n",
      "========================================\n",
      "\n",
      "■장바구니\n",
      " 불고기 비빔밥 0개: 0원\n",
      " 불고기 비빔밥 세트 0개: 0원\n",
      " 야채 비빔밥 0개: 0원\n",
      " 야채 비빔밥 세트 0개: 0원\n",
      " 전주 비빔밥 0개: 0원\n",
      " 전주 비빔밥 세트 0개: 0원\n",
      " 총 금액 0원\n",
      "\n",
      "●주문할 메뉴를 골라주세요. (불고기 비빔밥:1, 야채 비빔밥:2, 전주 비빔밥:3, 전체 취소:0, 주문확정:주문)\n",
      "1\n",
      "\n",
      "●3000원을 추가해 세트(밥, 반찬 추가)로 주문하시겠습니까? (일반주문시:n, 세트주문시:y, 이외는 취소)\n",
      "n\n",
      "\n",
      "●불고기 비빔밥 몇개 주문 하시겠습니까?\n",
      "1\n",
      "\n",
      "불고기 버거 세트 1개가 장바구니에 담겼습니다.\n",
      "\n",
      "♣♣♣중앙 식당에 오신 것을 환영합니다♣♣♣\n",
      "\n",
      "========================================\n",
      "\n",
      "          - 메  뉴 -\n",
      "          \n",
      "    1. 불고기 비빔밥 : 12,000원\n",
      "    2. 야채 비빔밥 : 8,000원\n",
      "    3. 전주 비빔밥 : 10,000원\n",
      "\n",
      "    세트 주문시 : 3000원 추가\n",
      "    (세트는 밥과 반찬이 추가됩니다.)\n",
      "\n",
      "========================================\n",
      "\n",
      "■장바구니\n",
      " 불고기 비빔밥 1개: 12000원\n",
      " 불고기 비빔밥 세트 0개: 0원\n",
      " 야채 비빔밥 0개: 0원\n",
      " 야채 비빔밥 세트 0개: 0원\n",
      " 전주 비빔밥 0개: 0원\n",
      " 전주 비빔밥 세트 0개: 0원\n",
      " 총 금액 12000원\n",
      "\n",
      "●주문할 메뉴를 골라주세요. (불고기 비빔밥:1, 야채 비빔밥:2, 전주 비빔밥:3, 전체 취소:0, 주문확정:주문)\n",
      "0\n",
      "\u001b[31m\n",
      "★전체 주문을 취소합니다★\n",
      "\u001b[0m\n",
      "♣♣♣중앙 식당에 오신 것을 환영합니다♣♣♣\n",
      "\n",
      "========================================\n",
      "\n",
      "          - 메  뉴 -\n",
      "          \n",
      "    1. 불고기 비빔밥 : 12,000원\n",
      "    2. 야채 비빔밥 : 8,000원\n",
      "    3. 전주 비빔밥 : 10,000원\n",
      "\n",
      "    세트 주문시 : 3000원 추가\n",
      "    (세트는 밥과 반찬이 추가됩니다.)\n",
      "\n",
      "========================================\n",
      "\n",
      "■장바구니\n",
      " 불고기 비빔밥 0개: 0원\n",
      " 불고기 비빔밥 세트 0개: 0원\n",
      " 야채 비빔밥 0개: 0원\n",
      " 야채 비빔밥 세트 0개: 0원\n",
      " 전주 비빔밥 0개: 0원\n",
      " 전주 비빔밥 세트 0개: 0원\n",
      " 총 금액 0원\n",
      "\n",
      "●주문할 메뉴를 골라주세요. (불고기 비빔밥:1, 야채 비빔밥:2, 전주 비빔밥:3, 전체 취소:0, 주문확정:주문)\n",
      "1\n",
      "\n",
      "●3000원을 추가해 세트(밥, 반찬 추가)로 주문하시겠습니까? (일반주문시:n, 세트주문시:y, 이외는 취소)\n",
      "y\n",
      "\n",
      "●불고기 비빔밥 세트 몇개 주문 하시겠습니까?\n",
      "1\n",
      "\n",
      "불고기 버거 세트 1개가 장바구니에 담겼습니다.\n",
      "\n",
      "♣♣♣중앙 식당에 오신 것을 환영합니다♣♣♣\n",
      "\n",
      "========================================\n",
      "\n",
      "          - 메  뉴 -\n",
      "          \n",
      "    1. 불고기 비빔밥 : 12,000원\n",
      "    2. 야채 비빔밥 : 8,000원\n",
      "    3. 전주 비빔밥 : 10,000원\n",
      "\n",
      "    세트 주문시 : 3000원 추가\n",
      "    (세트는 밥과 반찬이 추가됩니다.)\n",
      "\n",
      "========================================\n",
      "\n",
      "■장바구니\n",
      " 불고기 비빔밥 0개: 0원\n",
      " 불고기 비빔밥 세트 1개: 15000원\n",
      " 야채 비빔밥 0개: 0원\n",
      " 야채 비빔밥 세트 0개: 0원\n",
      " 전주 비빔밥 0개: 0원\n",
      " 전주 비빔밥 세트 0개: 0원\n",
      " 총 금액 15000원\n",
      "\n",
      "●주문할 메뉴를 골라주세요. (불고기 비빔밥:1, 야채 비빔밥:2, 전주 비빔밥:3, 전체 취소:0, 주문확정:주문)\n",
      "주문\n",
      "\n",
      "●주문하려면 결제해주세요. 결제금액은 15000원 입니다.\n",
      "15000\n",
      "\u001b[31m\n",
      "☆★☆★☆★☆★결제가 완료되었습니다. 조금만 기다려주세요!★☆★☆★☆★☆\u001b[0m\n"
     ]
    }
   ],
   "source": [
    "#다른사람이 한것\n",
    "import string\n",
    "\n",
    "current_bul = 0\n",
    "current_bulset = 0\n",
    "current_veg = 0\n",
    "current_vegset = 0\n",
    "current_jeon = 0\n",
    "current_jeonset = 0\n",
    "price_bul = 12000\n",
    "price_veg = 8000\n",
    "price_jeon = 10000\n",
    "price_set = 3000\n",
    "price_total = 0\n",
    "\n",
    "while 1:\n",
    "    menu = input(f\"\"\"♣♣♣중앙 식당에 오신 것을 환영합니다♣♣♣\n",
    "\n",
    "========================================\n",
    "\n",
    "          - 메  뉴 -\n",
    "          \n",
    "    1. 불고기 비빔밥 : 12,000원\n",
    "    2. 야채 비빔밥 : 8,000원\n",
    "    3. 전주 비빔밥 : 10,000원\n",
    "\n",
    "    세트 주문시 : 3000원 추가\n",
    "    (세트는 밥과 반찬이 추가됩니다.)\n",
    "\n",
    "========================================\n",
    "\n",
    "■장바구니\n",
    " 불고기 비빔밥 {current_bul}개: {current_bul*price_bul}원\n",
    " 불고기 비빔밥 세트 {current_bulset}개: {current_bulset*(price_bul+3000)}원\n",
    " 야채 비빔밥 {current_veg}개: {current_veg*price_veg}원\n",
    " 야채 비빔밥 세트 {current_vegset}개: {current_vegset*(price_veg+3000)}원\n",
    " 전주 비빔밥 {current_jeon}개: {current_jeon*price_jeon}원\n",
    " 전주 비빔밥 세트 {current_jeonset}개: {current_jeonset*(price_jeon+3000)}원\n",
    " 총 금액 {price_total}원\n",
    "\n",
    "●주문할 메뉴를 골라주세요. (불고기 비빔밥:1, 야채 비빔밥:2, 전주 비빔밥:3, 전체 취소:0, 주문확정:주문)\\n\"\"\")\n",
    "    if(menu.isdigit() == True):\n",
    "        if int(menu) == 1:\n",
    "            while 1:\n",
    "                bul_choice = input('\\n●3000원을 추가해 세트(밥, 반찬 추가)로 주문하시겠습니까? (일반주문시:n, 세트주문시:y, 이외는 취소)\\n')\n",
    "                if bul_choice == 'y':\n",
    "                    bulset_num = input('\\n●불고기 비빔밥 세트 몇개 주문 하시겠습니까?\\n')\n",
    "                    if(bulset_num.isdigit() == True):\n",
    "                        if int(bulset_num) > 0:\n",
    "                            print(f'\\n불고기 버거 세트 {bulset_num}개가 장바구니에 담겼습니다.\\n')\n",
    "                            current_bulset += int(bulset_num)\n",
    "                            price_total += int(bulset_num) * (price_bul + price_set)\n",
    "                            break\n",
    "                        else:\n",
    "                            print('\\033[31m' + '\\n★양수만 입력하세요. 세트 선택으로 돌아갑니다★' + '\\033[0m')\n",
    "                            \n",
    "                            continue\n",
    "    \n",
    "                    else:\n",
    "                        print('\\033[31m' + '\\n★숫자만 입력하세요!! 세트 선택으로 돌아갑니다.★' + '\\033[0m')\n",
    "                        continue\n",
    "                                \n",
    "                elif bul_choice == 'n':\n",
    "                    bul_num = input('\\n●불고기 비빔밥 몇개 주문 하시겠습니까?\\n')\n",
    "                    if(bul_num.isdigit() == True):\n",
    "                        if int(bul_num) > 0:\n",
    "                            print(f'\\n불고기 버거 세트 {bul_num}개가 장바구니에 담겼습니다.\\n')\n",
    "                            current_bul += int(bul_num)\n",
    "                            price_total += int(bul_num) * price_bul\n",
    "                            break\n",
    "                        else:\n",
    "                            print('\\033[31m' + '\\n★양수만 입력하세요. 세트 선택으로 돌아갑니다★' + '\\033[0m')\n",
    "                            continue\n",
    "    \n",
    "                    else:\n",
    "                        print('\\033[31m' + '\\n★숫자만 입력하세요!! 세트 선택으로 돌아갑니다.★' + '\\033[0m')\n",
    "                        continue\n",
    "\n",
    "                else:\n",
    "                    print('\\033[31m' + '\\n★취소 되었습니다. 초기 화면으로 돌아갑니다★\\n' + '\\033[0m')\n",
    "                    break\n",
    "                \n",
    "        if int(menu) == 2:\n",
    "            while 1:\n",
    "                veg_choice = input('\\n●3000원을 추가해 세트(밥, 반찬 추가)로 주문하시겠습니까? (일반주문시:n, 세트주문시:y, 이외는 취소)\\n')\n",
    "                if veg_choice == 'y':\n",
    "                    vegset_num = input('\\n●야채 비빔밥 세트 몇개 주문 하시겠습니까?\\n')\n",
    "                    if(vegset_num.isdigit() == True):\n",
    "                        if int(vegset_num) > 0:\n",
    "                            print(f'\\n야채 비빔밥 세트 {vegset_num}개가 장바구니에 담겼습니다.\\n')\n",
    "                            current_vegset += int(vegset_num)\n",
    "                            price_total += int(vegset_num) * (price_veg + price_set)\n",
    "                            break\n",
    "                        else:\n",
    "                            print('\\033[31m' + '\\n★양수만 입력하세요. 세트 선택으로 돌아갑니다★' + '\\033[0m')\n",
    "                            continue\n",
    "\n",
    "                    else:\n",
    "                        print('\\033[31m' + '\\n★숫자만 입력하세요!! 세트 선택으로 돌아갑니다.★' + '\\033[0m')\n",
    "                        continue\n",
    "                                \n",
    "                elif veg_choice == 'n':\n",
    "                    veg_num = input('\\n●야채 비빔밥 몇개 주문 하시겠습니까?\\n')\n",
    "                    if(veg_num.isdigit() == True):\n",
    "                        if int(veg_num) > 0:\n",
    "                            print(f'\\n야채 버거 세트 {veg_num}개가 장바구니에 담겼습니다.\\n')\n",
    "                            current_veg += int(veg_num)\n",
    "                            price_total += int(veg_num) * price_veg\n",
    "                            break\n",
    "                        else:\n",
    "                            print('\\033[31m' + '\\n★양수만 입력하세요. 세트 선택으로 돌아갑니다★' + '\\033[0m')\n",
    "                            continue\n",
    "\n",
    "                    else:\n",
    "                        print('\\033[31m' + '\\n★숫자만 입력하세요!! 세트 선택으로 돌아갑니다.★' + '\\033[0m')\n",
    "                        continue\n",
    "\n",
    "                else:\n",
    "                    print('\\033[31m' + '\\n★취소 되었습니다. 초기 화면으로 돌아갑니다★\\n' + '\\033[0m')\n",
    "                    break\n",
    "                \n",
    "        if int(menu) == 3:\n",
    "            while 1:\n",
    "                jeon_choice = input('\\n●3000원을 추가해 세트(밥, 반찬 추가)로 주문하시겠습니까? (일반주문시:n, 세트주문시:y, 이외는 취소)\\n')\n",
    "                if jeon_choice == 'y':\n",
    "                    jeonset_num = input('\\n●전주 비빔밥 세트 몇개 주문 하시겠습니까?\\n')\n",
    "                    if(jeonset_num.isdigit() == True):\n",
    "                        if int(jeonset_num) > 0:\n",
    "                            print(f'\\n전주 비빔밥 세트 {jeonset_num}개가 장바구니에 담겼습니다.\\n')\n",
    "                            current_jeonset += int(jeonset_num)\n",
    "                            price_total += int(jeonset_num) * (price_jeon + price_set)\n",
    "                            break\n",
    "                        else:\n",
    "                            print('\\033[31m' + '\\n★양수만 입력하세요. 세트 선택으로 돌아갑니다★' + '\\033[0m')\n",
    "                            continue\n",
    "\n",
    "                    else:\n",
    "                        print('\\033[31m' + '\\n★숫자만 입력하세요!! 세트 선택으로 돌아갑니다.★' + '\\033[0m')\n",
    "                        continue\n",
    "                            \n",
    "                elif jeon_choice == 'n':\n",
    "                    jeon_num = input('\\n●전주 비빔밥 몇개 주문 하시겠습니까?\\n')\n",
    "                    if(jeon_num.isdigit() == True):\n",
    "                        if int(jeon_num) > 0:\n",
    "                            print(f'\\n전주 비빔밥 세트 {jeon_num}개가 장바구니에 담겼습니다.\\n')\n",
    "                            current_jeon += int(jeon_num)\n",
    "                            price_total += int(jeon_num) * price_jeon\n",
    "                            break\n",
    "                        else:\n",
    "                            print('\\033[31m' + '\\n★양수만 입력하세요. 세트 선택으로 돌아갑니다★' + '\\033[0m')\n",
    "                            continue\n",
    "\n",
    "                    else:\n",
    "                        print('\\033[31m' + '\\n★숫자만 입력하세요!! 세트 선택으로 돌아갑니다.★' + '\\033[0m')\n",
    "                        continue\n",
    "    \n",
    "                else:\n",
    "                    print('\\033[31m' + '\\n★취소 되었습니다. 초기 화면으로 돌아갑니다★\\n' + '\\033[0m')\n",
    "                    break\n",
    "        elif int(menu) == 0:\n",
    "            print('\\033[31m' + '\\n★전체 주문을 취소합니다★\\n' + '\\033[0m')\n",
    "            current_bul = 0\n",
    "            current_bulset = 0\n",
    "            current_veg = 0\n",
    "            current_vegset = 0\n",
    "            current_jeon = 0\n",
    "            current_jeonset = 0\n",
    "            price_total = 0\n",
    "            continue\n",
    "    elif(menu.isdigit() == False):\n",
    "        if menu != '주문':\n",
    "            print('\\033[31m' + '\\n\\n★메뉴의 지정된 숫자로 입력하세요★\\n\\n' + '\\033[0m')\n",
    "            continue\n",
    "        else:\n",
    "            if price_total == 0:\n",
    "                print('\\033[31m' + '\\n★메뉴를 고르고 주문해주세요!★\\n' + '\\033[0m')\n",
    "                continue\n",
    "            else:\n",
    "                while 1:\n",
    "                    pay = input(f'\\n●주문하려면 결제해주세요. 결제금액은 {price_total}원 입니다.\\n')\n",
    "                    if(pay.isdigit() == True):\n",
    "                        if int(pay) == price_total:\n",
    "                            print('\\033[31m' + '\\n☆★☆★☆★☆★결제가 완료되었습니다. 조금만 기다려주세요!★☆★☆★☆★☆' + '\\033[0m')\n",
    "                            break\n",
    "                        \n",
    "                        else:\n",
    "                            print('\\033[31m' + '\\n★결제금액이 다릅니다. 다시 결제해 주세요★\\n' + '\\033[0m')\n",
    "                            continue\n",
    "                    else:\n",
    "                        print('\\033[31m' + '\\n★결제가 잘못되었습니다. 다시 진행해주세요★\\n' + '\\033[0m')\n",
    "                break"
   ]
  },
  {
   "cell_type": "code",
   "execution_count": 61,
   "id": "c38efc90",
   "metadata": {
    "scrolled": true
   },
   "outputs": [
    {
     "name": "stdout",
     "output_type": "stream",
     "text": [
      "무엇을 내시겠습니까? ex) 가위, 바위, 보   :   \n",
      "가위, 바위, 보 중에 하나로 내주세요\n",
      "무엇을 내시겠습니까? ex) 가위, 바위, 보   :   \n",
      "가위, 바위, 보 중에 하나로 내주세요\n"
     ]
    },
    {
     "ename": "KeyboardInterrupt",
     "evalue": "Interrupted by user",
     "output_type": "error",
     "traceback": [
      "\u001b[1;31m---------------------------------------------------------------------------\u001b[0m",
      "\u001b[1;31mKeyboardInterrupt\u001b[0m                         Traceback (most recent call last)",
      "\u001b[1;32m~\\AppData\\Local\\Temp/ipykernel_6124/2793634987.py\u001b[0m in \u001b[0;36m<module>\u001b[1;34m\u001b[0m\n\u001b[0;32m      5\u001b[0m \u001b[0mn\u001b[0m\u001b[1;33m=\u001b[0m\u001b[1;36m0\u001b[0m\u001b[1;33m\u001b[0m\u001b[1;33m\u001b[0m\u001b[0m\n\u001b[0;32m      6\u001b[0m \u001b[1;32mwhile\u001b[0m \u001b[0mn\u001b[0m\u001b[1;33m<\u001b[0m\u001b[1;36m3\u001b[0m\u001b[1;33m:\u001b[0m\u001b[1;33m\u001b[0m\u001b[1;33m\u001b[0m\u001b[0m\n\u001b[1;32m----> 7\u001b[1;33m     \u001b[0ma\u001b[0m \u001b[1;33m=\u001b[0m \u001b[0minput\u001b[0m\u001b[1;33m(\u001b[0m\u001b[1;34m\"무엇을 내시겠습니까? ex) 가위, 바위, 보   :   \"\u001b[0m\u001b[1;33m)\u001b[0m\u001b[1;33m\u001b[0m\u001b[1;33m\u001b[0m\u001b[0m\n\u001b[0m\u001b[0;32m      8\u001b[0m     \u001b[0mnum\u001b[0m \u001b[1;33m=\u001b[0m \u001b[0mnp\u001b[0m\u001b[1;33m.\u001b[0m\u001b[0mrandom\u001b[0m\u001b[1;33m.\u001b[0m\u001b[0mrandint\u001b[0m\u001b[1;33m(\u001b[0m\u001b[1;36m3\u001b[0m\u001b[1;33m)\u001b[0m\u001b[1;33m\u001b[0m\u001b[1;33m\u001b[0m\u001b[0m\n\u001b[0;32m      9\u001b[0m     \u001b[1;32mif\u001b[0m \u001b[0mlista\u001b[0m\u001b[1;33m[\u001b[0m\u001b[0mnum\u001b[0m\u001b[1;33m]\u001b[0m \u001b[1;33m==\u001b[0m \u001b[0ma\u001b[0m\u001b[1;33m:\u001b[0m\u001b[1;33m\u001b[0m\u001b[1;33m\u001b[0m\u001b[0m\n",
      "\u001b[1;32m~\\anaconda3\\envs\\cakd5\\lib\\site-packages\\ipykernel\\kernelbase.py\u001b[0m in \u001b[0;36mraw_input\u001b[1;34m(self, prompt)\u001b[0m\n\u001b[0;32m   1004\u001b[0m                 \u001b[1;34m\"raw_input was called, but this frontend does not support input requests.\"\u001b[0m\u001b[1;33m\u001b[0m\u001b[1;33m\u001b[0m\u001b[0m\n\u001b[0;32m   1005\u001b[0m             )\n\u001b[1;32m-> 1006\u001b[1;33m         return self._input_request(\n\u001b[0m\u001b[0;32m   1007\u001b[0m             \u001b[0mstr\u001b[0m\u001b[1;33m(\u001b[0m\u001b[0mprompt\u001b[0m\u001b[1;33m)\u001b[0m\u001b[1;33m,\u001b[0m\u001b[1;33m\u001b[0m\u001b[1;33m\u001b[0m\u001b[0m\n\u001b[0;32m   1008\u001b[0m             \u001b[0mself\u001b[0m\u001b[1;33m.\u001b[0m\u001b[0m_parent_ident\u001b[0m\u001b[1;33m[\u001b[0m\u001b[1;34m\"shell\"\u001b[0m\u001b[1;33m]\u001b[0m\u001b[1;33m,\u001b[0m\u001b[1;33m\u001b[0m\u001b[1;33m\u001b[0m\u001b[0m\n",
      "\u001b[1;32m~\\anaconda3\\envs\\cakd5\\lib\\site-packages\\ipykernel\\kernelbase.py\u001b[0m in \u001b[0;36m_input_request\u001b[1;34m(self, prompt, ident, parent, password)\u001b[0m\n\u001b[0;32m   1049\u001b[0m             \u001b[1;32mexcept\u001b[0m \u001b[0mKeyboardInterrupt\u001b[0m\u001b[1;33m:\u001b[0m\u001b[1;33m\u001b[0m\u001b[1;33m\u001b[0m\u001b[0m\n\u001b[0;32m   1050\u001b[0m                 \u001b[1;31m# re-raise KeyboardInterrupt, to truncate traceback\u001b[0m\u001b[1;33m\u001b[0m\u001b[1;33m\u001b[0m\u001b[1;33m\u001b[0m\u001b[0m\n\u001b[1;32m-> 1051\u001b[1;33m                 \u001b[1;32mraise\u001b[0m \u001b[0mKeyboardInterrupt\u001b[0m\u001b[1;33m(\u001b[0m\u001b[1;34m\"Interrupted by user\"\u001b[0m\u001b[1;33m)\u001b[0m \u001b[1;32mfrom\u001b[0m \u001b[1;32mNone\u001b[0m\u001b[1;33m\u001b[0m\u001b[1;33m\u001b[0m\u001b[0m\n\u001b[0m\u001b[0;32m   1052\u001b[0m             \u001b[1;32mexcept\u001b[0m \u001b[0mException\u001b[0m\u001b[1;33m:\u001b[0m\u001b[1;33m\u001b[0m\u001b[1;33m\u001b[0m\u001b[0m\n\u001b[0;32m   1053\u001b[0m                 \u001b[0mself\u001b[0m\u001b[1;33m.\u001b[0m\u001b[0mlog\u001b[0m\u001b[1;33m.\u001b[0m\u001b[0mwarning\u001b[0m\u001b[1;33m(\u001b[0m\u001b[1;34m\"Invalid Message:\"\u001b[0m\u001b[1;33m,\u001b[0m \u001b[0mexc_info\u001b[0m\u001b[1;33m=\u001b[0m\u001b[1;32mTrue\u001b[0m\u001b[1;33m)\u001b[0m\u001b[1;33m\u001b[0m\u001b[1;33m\u001b[0m\u001b[0m\n",
      "\u001b[1;31mKeyboardInterrupt\u001b[0m: Interrupted by user"
     ]
    }
   ],
   "source": [
    "# [과제]Player가 3승할 때까지 계속 진행되는 가위바위보 게임 프로그램을 작성하세요.\n",
    "# 게임은 Player와 컴퓨터가 진행\n",
    "import numpy as np\n",
    "lista = ['바위','가위','보']\n",
    "n=0\n",
    "while n<3:\n",
    "    a = input(\"무엇을 내시겠습니까? ex) 가위, 바위, 보   :   \")\n",
    "    num = np.random.randint(3)\n",
    "    if lista[num] == a:\n",
    "        print(f'컴퓨터 = {lista[num]}')\n",
    "        print('비겼습니다. 다시 내주세요.')\n",
    "    elif lista[num] == '바위':\n",
    "        if a == '가위':\n",
    "            print(f'컴퓨터 = {lista[num]}')\n",
    "            print('졌습니다. 다시 내주세요')\n",
    "        elif a == '보':\n",
    "            n += 1\n",
    "            print(f'컴퓨터 = {lista[num]}')\n",
    "            print(f'{n}회 이겼습니다.')\n",
    "        else:\n",
    "            print('가위, 바위, 보 중에 하나로 내주세요')\n",
    "            \n",
    "    elif lista[num] == '가위':\n",
    "        if a == '보':\n",
    "            print(f'컴퓨터 = {lista[num]}')\n",
    "            print('졌습니다. 다시 내주세요')\n",
    "        elif a == '바위':\n",
    "            n += 1\n",
    "            print(f'컴퓨터 = {lista[num]}')\n",
    "            print(f'{n}회 이겼습니다.')\n",
    "        else:\n",
    "            print('가위, 바위, 보 중에 하나로 내주세요')\n",
    "    elif lista[num] == '보':\n",
    "        if a == '바위':\n",
    "            print(f'컴퓨터 = {lista[num]}')\n",
    "            print('졌습니다. 다시 내주세요')\n",
    "        elif a == '가위':\n",
    "            n += 1\n",
    "            print(f'컴퓨터 = {lista[num]}')\n",
    "            print(f'{n}회 이겼습니다.')\n",
    "        else:\n",
    "            print('가위, 바위, 보 중에 하나로 내주세요')\n",
    "print('3회 승리하셨습니다. 게임을 종료합니다.')\n"
   ]
  },
  {
   "cell_type": "code",
   "execution_count": 60,
   "id": "3d50f267",
   "metadata": {
    "scrolled": true
   },
   "outputs": [
    {
     "name": "stdout",
     "output_type": "stream",
     "text": [
      "가위:0 바위:1 보:2 내시오2\n",
      "1번째 시도: player는 보를, computer는 가위를 냈음\n",
      "가위:0 바위:1 보:2 내시오2\n",
      "2번째 시도: player는 보를, computer는 바위를 냈음\n",
      "player 이겼음, 1승\n",
      "가위:0 바위:1 보:2 내시오2\n",
      "3번째 시도: player는 보를, computer는 가위를 냈음\n",
      "가위:0 바위:1 보:2 내시오2\n",
      "4번째 시도: player는 보를, computer는 가위를 냈음\n",
      "가위:0 바위:1 보:2 내시오2\n",
      "5번째 시도: player는 보를, computer는 바위를 냈음\n",
      "player 이겼음, 2승\n",
      "가위:0 바위:1 보:2 내시오2\n",
      "6번째 시도: player는 보를, computer는 보를 냈음\n",
      "가위:0 바위:1 보:2 내시오2\n",
      "7번째 시도: player는 보를, computer는 바위를 냈음\n",
      "player 이겼음, 3승\n"
     ]
    }
   ],
   "source": [
    "import random\n",
    "\n",
    "player = [\"가위\",\"바위\",\"보\"]\n",
    "comp = [\"가위\",\"바위\",\"보\"]\n",
    "\n",
    "win_num = 0\n",
    "attempt = 0\n",
    "\n",
    "def rsp_result():\n",
    "    print(\"{}번째 시도: player는 {}를, computer는 {}를 냈음\".format(attempt,player[x],comp[y]))\n",
    "def player_win():\n",
    "    print(\"player 이겼음, {}승\".format(win_num+1))\n",
    "    \n",
    "while win_num != 3:\n",
    "    attempt +=1\n",
    "    x = int(input(\"가위:0 바위:1 보:2 내시오\"))\n",
    "    if(x==0 or x == 1 or x == 2):\n",
    "        y = random.randint(0,2)\n",
    "        if player[x] == \"가위\" and comp[y] == \"보\":\n",
    "            rsp_result()\n",
    "            player_win()\n",
    "            win_num += 1\n",
    "        elif player[x] == \"바위\" and comp[y] == \"가위\":\n",
    "            rsp_result()\n",
    "            player_win()\n",
    "            win_num += 1\n",
    "        elif player[x] == \"보\" and comp[y] == \"바위\":\n",
    "            rsp_result()\n",
    "            player_win()\n",
    "            win_num += 1\n",
    "\n",
    "        else:2\n",
    "            rsp_result()\n",
    "    else:\n",
    "        print(\"0,1,2중 고르시오\")\n"
   ]
  },
  {
   "cell_type": "code",
   "execution_count": 62,
   "id": "adbcac7d",
   "metadata": {},
   "outputs": [
    {
     "name": "stdout",
     "output_type": "stream",
     "text": [
      "가위 바위 보 게임입니다. 3승할 때까지 계속 진행됩니다!\n",
      "그 전에 게임을 종료하고 싶다면 E를 입력해주세요.\n",
      "\n",
      "무엇을 낼까요? (가위/바위/보) > \n",
      "[가위] [바위] [보] 중 하나를 내주세요!\n",
      "\n",
      "무엇을 낼까요? (가위/바위/보) > 가\n",
      "[가위] [바위] [보] 중 하나를 내주세요!\n",
      "\n",
      "무엇을 낼까요? (가위/바위/보) > 가위\n",
      "컴퓨터 > 가위\n",
      "비겼습니다. 다시 한 번 게임을 시작합니다!\n",
      "\n",
      "무엇을 낼까요? (가위/바위/보) > 가위\n",
      "컴퓨터 > 보\n",
      "게임에서 이겼습니다. 축하합니다!\n",
      "\n",
      "무엇을 낼까요? (가위/바위/보) > 가위\n",
      "컴퓨터 > 가위\n",
      "비겼습니다. 다시 한 번 게임을 시작합니다!\n",
      "\n",
      "무엇을 낼까요? (가위/바위/보) > 가위\n",
      "컴퓨터 > 가위\n",
      "비겼습니다. 다시 한 번 게임을 시작합니다!\n",
      "\n",
      "무엇을 낼까요? (가위/바위/보) > 가위\n",
      "컴퓨터 > 보\n",
      "게임에서 이겼습니다. 축하합니다!\n",
      "\n",
      "무엇을 낼까요? (가위/바위/보) > 가위\n",
      "컴퓨터 > 보\n",
      "게임에서 이겼습니다. 축하합니다!\n",
      "게임을 종료합니다. 수고하셨습니다.\n"
     ]
    }
   ],
   "source": [
    "# [과제] Player가 3승할 때까지 계속 진행되는 가위바위보 게임 프로그램을 작성하세요.\n",
    "# 게임을 Player와 컴퓨터가 진행\n",
    "\n",
    "import numpy as np\n",
    "\n",
    "cnt = 0\n",
    "rsp = ['가위', '바위', '보']\n",
    "\n",
    "print(\"가위 바위 보 게임입니다. 3승할 때까지 계속 진행됩니다!\")\n",
    "print(\"그 전에 게임을 종료하고 싶다면 E를 입력해주세요.\")\n",
    "\n",
    "while cnt < 3:\n",
    "    print()\n",
    "    pl = input(\"무엇을 낼까요? (가위/바위/보) > \")\n",
    "    if(pl=='E'): break\n",
    "    elif(pl not in rsp):\n",
    "        print(\"[가위] [바위] [보] 중 하나를 내주세요!\")\n",
    "        continue\n",
    "    pc = rsp[np.random.randint(3)]\n",
    "    print(f'컴퓨터 > {pc}')\n",
    "    \n",
    "    if(pl=='가위'):\n",
    "        if(pc=='바위'):\n",
    "            print(\"졌습니다. 다시 한 번 게임을 시작합니다!\")\n",
    "            continue\n",
    "        elif(pc=='보'):\n",
    "            print(\"게임에서 이겼습니다. 축하합니다!\")\n",
    "            cnt+=1\n",
    "            continue\n",
    "            \n",
    "    elif(pl=='바위'):\n",
    "        if(pc=='보'):\n",
    "            print(\"졌습니다. 다시 한 번 게임을 시작합니다!\")\n",
    "            continue\n",
    "        elif(pc=='가위'):\n",
    "            print(\"게임에서 이겼습니다. 축하합니다!\")\n",
    "            cnt+=1\n",
    "            continue\n",
    "            \n",
    "    elif(pl=='보'):\n",
    "        if(pc=='가위'):\n",
    "            print(\"졌습니다. 다시 한 번 게임을 시작합니다!\")\n",
    "            continue\n",
    "        elif(pc=='바위'):\n",
    "            print(\"게임에서 이겼습니다. 축하합니다!\")\n",
    "            cnt+=1\n",
    "            continue\n",
    "            \n",
    "    print(\"비겼습니다. 다시 한 번 게임을 시작합니다!\")\n",
    "    \n",
    "print(\"게임을 종료합니다. 수고하셨습니다.\")"
   ]
  },
  {
   "cell_type": "code",
   "execution_count": 86,
   "id": "0703a1d9",
   "metadata": {},
   "outputs": [
    {
     "name": "stdout",
     "output_type": "stream",
     "text": [
      "숫자를 입력하세요 : 8\n",
      "up\n",
      "숫자를 입력하세요 : 4\n",
      "up\n",
      "숫자를 입력하세요 : 10\n",
      "up\n",
      "숫자를 입력하세요 : 50\n",
      "down\n",
      "숫자를 입력하세요 : 20\n",
      "down\n",
      "숫자를 입력하세요 : 15\n",
      "up\n",
      "숫자를 입력하세요 : 16\n",
      "up\n",
      "숫자를 입력하세요 : 17\n",
      "정답입니다.\n"
     ]
    }
   ],
   "source": [
    "# 컴퓨터가 랜덤하게 생성하는 숫자 맞추기 게임 프로그램을 작성하세요\n",
    "import numpy as np\n",
    "num = np.random.randint(20)\n",
    "while 1:\n",
    "    x = int(input(\"숫자를 입력하세요 : \"))\n",
    "    if x == num:\n",
    "        print('정답입니다.')\n",
    "        break\n",
    "    elif x > num:\n",
    "        print('down')\n",
    "    else:\n",
    "        print('up')가위"
   ]
  },
  {
   "cell_type": "code",
   "execution_count": null,
   "id": "d4e0a2cf",
   "metadata": {},
   "outputs": [],
   "source": []
  }
 ],
 "metadata": {
  "kernelspec": {
   "display_name": "Python 3 (ipykernel)",
   "language": "python",
   "name": "python3"
  },
  "language_info": {
   "codemirror_mode": {
    "name": "ipython",
    "version": 3
   },
   "file_extension": ".py",
   "mimetype": "text/x-python",
   "name": "python",
   "nbconvert_exporter": "python",
   "pygments_lexer": "ipython3",
   "version": "3.8.12"
  }
 },
 "nbformat": 4,
 "nbformat_minor": 5
}
