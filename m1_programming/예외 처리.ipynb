{
 "cells": [
  {
   "cell_type": "code",
   "execution_count": 3,
   "id": "8ff6f0ee",
   "metadata": {},
   "outputs": [
    {
     "ename": "SyntaxError",
     "evalue": "EOL while scanning string literal (Temp/ipykernel_12936/104957843.py, line 4)",
     "output_type": "error",
     "traceback": [
      "\u001b[1;36m  File \u001b[1;32m\"C:\\Users\\admin\\AppData\\Local\\Temp/ipykernel_12936/104957843.py\"\u001b[1;36m, line \u001b[1;32m4\u001b[0m\n\u001b[1;33m    print('구문오류!)\u001b[0m\n\u001b[1;37m                 ^\u001b[0m\n\u001b[1;31mSyntaxError\u001b[0m\u001b[1;31m:\u001b[0m EOL while scanning string literal\n"
     ]
    }
   ],
   "source": [
    "# 구문 오류 : 프로그램 실행 전에 발생하는 오류\n",
    "# 예외 또는 런타임 오류 : 프로그램 실행 중에 발생하는 오류\n",
    "\n",
    "print('구문오류!)"
   ]
  },
  {
   "cell_type": "code",
   "execution_count": 6,
   "id": "da9337de",
   "metadata": {},
   "outputs": [
    {
     "name": "stdout",
     "output_type": "stream",
     "text": [
      "정수입력>r\n"
     ]
    },
    {
     "ename": "ValueError",
     "evalue": "invalid literal for int() with base 10: 'r'",
     "output_type": "error",
     "traceback": [
      "\u001b[1;31m---------------------------------------------------------------------------\u001b[0m",
      "\u001b[1;31mValueError\u001b[0m                                Traceback (most recent call last)",
      "\u001b[1;32m~\\AppData\\Local\\Temp/ipykernel_12936/3446431176.py\u001b[0m in \u001b[0;36m<module>\u001b[1;34m\u001b[0m\n\u001b[0;32m      1\u001b[0m \u001b[1;31m# 정수를 입력하지 않은 경우 예외 방생\u001b[0m\u001b[1;33m\u001b[0m\u001b[1;33m\u001b[0m\u001b[1;33m\u001b[0m\u001b[0m\n\u001b[1;32m----> 2\u001b[1;33m \u001b[0mnum_input\u001b[0m \u001b[1;33m=\u001b[0m \u001b[0mint\u001b[0m\u001b[1;33m(\u001b[0m\u001b[0minput\u001b[0m\u001b[1;33m(\u001b[0m\u001b[1;34m'정수입력>'\u001b[0m\u001b[1;33m)\u001b[0m\u001b[1;33m)\u001b[0m\u001b[1;33m\u001b[0m\u001b[1;33m\u001b[0m\u001b[0m\n\u001b[0m\u001b[0;32m      3\u001b[0m \u001b[0mprint\u001b[0m\u001b[1;33m(\u001b[0m\u001b[1;34m'원의 반지름 : '\u001b[0m\u001b[1;33m,\u001b[0m\u001b[0mnum_input\u001b[0m\u001b[1;33m)\u001b[0m\u001b[1;33m\u001b[0m\u001b[1;33m\u001b[0m\u001b[0m\n",
      "\u001b[1;31mValueError\u001b[0m: invalid literal for int() with base 10: 'r'"
     ]
    }
   ],
   "source": [
    "# 정수를 입력하지 않은 경우 예외 방생\n",
    "num_input = int(input('정수입력>'))\n",
    "print('원의 반지름 : ',num_input)"
   ]
  },
  {
   "cell_type": "code",
   "execution_count": 11,
   "id": "f8109879",
   "metadata": {
    "scrolled": true
   },
   "outputs": [
    {
     "name": "stdout",
     "output_type": "stream",
     "text": [
      "정수입력>ㅁㅁ\n",
      "다시 입력하시오\n"
     ]
    }
   ],
   "source": [
    "# 조건문으로 예외처리\n",
    "num_input = input('정수입력>')\n",
    "if num_input.isdigit() == True:\n",
    "    print('원의 반지름 : ',num_input)\n",
    "else:\n",
    "    print('다시 입력하시오')"
   ]
  },
  {
   "cell_type": "code",
   "execution_count": 9,
   "id": "60c5ff83",
   "metadata": {},
   "outputs": [
    {
     "name": "stdout",
     "output_type": "stream",
     "text": [
      "정수입력ㅇ\n",
      "오류\n"
     ]
    }
   ],
   "source": [
    "num_input = input('정수입력')\n",
    "if num_input.isdigit() == True:\n",
    "    print(\"정수 : {0}\".format(num_input))\n",
    "else:\n",
    "    print(\"오류\")"
   ]
  },
  {
   "cell_type": "code",
   "execution_count": 12,
   "id": "a173177b",
   "metadata": {},
   "outputs": [
    {
     "name": "stdout",
     "output_type": "stream",
     "text": [
      "안녕하세요\n"
     ]
    },
    {
     "ename": "NameError",
     "evalue": "name 'param' is not defined",
     "output_type": "error",
     "traceback": [
      "\u001b[1;31m---------------------------------------------------------------------------\u001b[0m",
      "\u001b[1;31mNameError\u001b[0m                                 Traceback (most recent call last)",
      "\u001b[1;32m~\\AppData\\Local\\Temp/ipykernel_12936/12626273.py\u001b[0m in \u001b[0;36m<module>\u001b[1;34m\u001b[0m\n\u001b[0;32m      1\u001b[0m \u001b[0mprint\u001b[0m\u001b[1;33m(\u001b[0m\u001b[1;34m'안녕하세요'\u001b[0m\u001b[1;33m)\u001b[0m\u001b[1;33m\u001b[0m\u001b[1;33m\u001b[0m\u001b[0m\n\u001b[1;32m----> 2\u001b[1;33m \u001b[0mprint\u001b[0m\u001b[1;33m(\u001b[0m\u001b[0mparam\u001b[0m\u001b[1;33m)\u001b[0m\u001b[1;33m\u001b[0m\u001b[1;33m\u001b[0m\u001b[0m\n\u001b[0m",
      "\u001b[1;31mNameError\u001b[0m: name 'param' is not defined"
     ]
    }
   ],
   "source": [
    "print('안녕하세요')\n",
    "print(param)"
   ]
  },
  {
   "cell_type": "code",
   "execution_count": 14,
   "id": "f7e20063",
   "metadata": {},
   "outputs": [
    {
     "name": "stdout",
     "output_type": "stream",
     "text": [
      "안녕하세요\n",
      "예외가 발생했습니다.\n"
     ]
    }
   ],
   "source": [
    "try :\n",
    "    print('안녕하세요')\n",
    "    print(param)\n",
    "except:\n",
    "    print('예외가 발생했습니다.')"
   ]
  },
  {
   "cell_type": "code",
   "execution_count": 17,
   "id": "a878a5cb",
   "metadata": {},
   "outputs": [
    {
     "name": "stdout",
     "output_type": "stream",
     "text": [
      "안녕하세요\n",
      "예외가 발생했습니다.\n",
      "무조건 실행하는 코드\n"
     ]
    }
   ],
   "source": [
    "try :\n",
    "    print('안녕하세요')\n",
    "    print(param)\n",
    "except:\n",
    "    print('예외가 발생했습니다.')\n",
    "finally:\n",
    "    print('무조건 실행하는 코드')"
   ]
  },
  {
   "cell_type": "code",
   "execution_count": 12,
   "id": "e3f77976",
   "metadata": {},
   "outputs": [
    {
     "name": "stdout",
     "output_type": "stream",
     "text": [
      "name 'param' is not defined\n"
     ]
    }
   ],
   "source": [
    "# 코드에서 예외 발생 내용을 확인하고자 하는 경우 처리방법\n",
    "\n",
    "try:\n",
    "    print(param)\n",
    "except Exception as e:\n",
    "    print(e)\n"
   ]
  },
  {
   "cell_type": "code",
   "execution_count": 21,
   "id": "c9322919",
   "metadata": {},
   "outputs": [
    {
     "name": "stdout",
     "output_type": "stream",
     "text": [
      "1\n",
      "2\n",
      "3\n",
      "사용자에 의해 프로그램이 중단되었습니다.\n"
     ]
    }
   ],
   "source": [
    "import time\n",
    "count = 1\n",
    "try:\n",
    "    5\n",
    "    while True:\n",
    "        print(count)\n",
    "        count +=1\n",
    "        time.sleep(0.5)\n",
    "except KeyboardInterrupt: # KeyboardInterrupt 사용자가 중지 (i 가 대문자임)\n",
    "    print('사용자에 의해 프로그램이 중단되었습니다.')"
   ]
  },
  {
   "cell_type": "code",
   "execution_count": 48,
   "id": "94d9d6c2",
   "metadata": {},
   "outputs": [
    {
     "name": "stdout",
     "output_type": "stream",
     "text": [
      "52\n",
      "273\n",
      "32\n",
      "103\n"
     ]
    }
   ],
   "source": [
    "# Q. 리스트 ['52','273','32','문자','103'] 에서 숫자 부분만 출력하세요(예외처리 수행)\n",
    "# 내가한것\n",
    "li = ['52','273','32','문자','103']\n",
    "for i in li:\n",
    "    try:\n",
    "        int(i)\n",
    "        print(i)\n",
    "    except:\n",
    "        pass"
   ]
  },
  {
   "cell_type": "code",
   "execution_count": 42,
   "id": "2f4da69d",
   "metadata": {
    "scrolled": true
   },
   "outputs": [
    {
     "name": "stdout",
     "output_type": "stream",
     "text": [
      "52 273 32 103 "
     ]
    }
   ],
   "source": [
    "list = ['52','273','32','문자','103']\n",
    "for i in list:\n",
    "    try :\n",
    "        if i.isdigit():\n",
    "            print(i,end=' ')\n",
    "    except:\n",
    "        print('{0}는 숫자가 아닙니다'.format(i))\n"
   ]
  },
  {
   "cell_type": "code",
   "execution_count": 43,
   "id": "6c8e0746",
   "metadata": {},
   "outputs": [
    {
     "name": "stdout",
     "output_type": "stream",
     "text": [
      "['52', '273', '32', '103']\n"
     ]
    }
   ],
   "source": [
    "li = ['52', '273','32','문자','103']\n",
    "list_num = []\n",
    "for i in li:    \n",
    "    try:\n",
    "        int(i)\n",
    "        list_num.append(i)\n",
    "    except:\n",
    "        pass\n",
    "print(list_num)"
   ]
  },
  {
   "cell_type": "code",
   "execution_count": 45,
   "id": "9c2aeb25",
   "metadata": {},
   "outputs": [
    {
     "name": "stdout",
     "output_type": "stream",
     "text": [
      "정수를 입력하세요 : a\n",
      "정수아님\n"
     ]
    }
   ],
   "source": [
    "# Q. 정수를 입력하면 '정수', 정수가 아니면 '정수 아님'을 출력하세요.\n",
    "num_input = input(\"정수를 입력하세요 : \")\n",
    "try:\n",
    "    int(num_input)\n",
    "    print(\"정수\")\n",
    "except:\n",
    "    print(\"정수아님\")"
   ]
  },
  {
   "cell_type": "code",
   "execution_count": 52,
   "id": "e9947d2a",
   "metadata": {},
   "outputs": [
    {
     "name": "stdout",
     "output_type": "stream",
     "text": [
      "정수 입력 : 2\n",
      "2\n",
      "예외 발생하지 않음\n",
      "프로그램 종료\n"
     ]
    }
   ],
   "source": [
    "# Q. 정수를 입력하면 '입력 정수' > '예외 발생하지 않음' > '프로그램 종료'\n",
    "# 정수가 아니면 '입력 값' > '정수 아님' > '프로그램 종료' 순서대로 출력하세요.\n",
    "n = input(\"정수 입력 : \")\n",
    "try:\n",
    "    int(n)\n",
    "    print(n)\n",
    "    print('예외 발생하지 않음')\n",
    "except:\n",
    "    print(n)\n",
    "    print('정수아님')\n",
    "finally:\n",
    "    print('프로그램 종료')"
   ]
  },
  {
   "cell_type": "code",
   "execution_count": 4,
   "id": "90c8c267",
   "metadata": {},
   "outputs": [
    {
     "name": "stdout",
     "output_type": "stream",
     "text": [
      "프로그램이 시작되었습니다.\n",
      "try 구문이 시작되었습니다.\n",
      "else 구문\n",
      "프로그램이 종료되었습니다.\n"
     ]
    }
   ],
   "source": [
    "print('프로그램이 시작되었습니다.')\n",
    "while 1:\n",
    "    try:\n",
    "        print('try 구문이 시작되었습니다.')\n",
    "        break\n",
    "    except:\n",
    "        print('except 구문이 실행되었습니다.')\n",
    "\n",
    "    print('finally 구문이 실행되었습니다.')\n",
    "    print('while 반복문의 마지막 줄입니다.')\n",
    "print('프로그램이 종료되었습니다.')"
   ]
  },
  {
   "cell_type": "code",
   "execution_count": 7,
   "id": "c03aa81e",
   "metadata": {},
   "outputs": [
    {
     "name": "stdout",
     "output_type": "stream",
     "text": [
      "프로그램이 시작되었습니다.\n",
      "try 구문이 시작되었습니다.\n",
      "except 구문이 실행되었습니다.\n",
      "finally 구문이 실행되었습니다.\n",
      "프로그램이 종료되었습니다.\n"
     ]
    }
   ],
   "source": [
    "# 위 코드에서 try ~ except ~ finally를 사용하여 아래와 같이 출력하세요\n",
    "\n",
    "# 프로그램이 시작되었습니다.\n",
    "# try 구문이 시작되었습니다.\n",
    "# except 구문이 실행되었습니다.\n",
    "# finally 구문이 실행되었습니다.\n",
    "# 프로그램이 종료되었습니다.\n",
    "\n",
    "print('프로그램이 시작되었습니다.')\n",
    "while 1:\n",
    "    try:\n",
    "        print('try 구문이 시작되었습니다.')\n",
    "        c = a+1\n",
    "    except:\n",
    "        print('except 구문이 실행되었습니다.')\n",
    "    else:\n",
    "        print('else 구문')\n",
    "    finally:\n",
    "        print('finally 구문이 실행되었습니다.')\n",
    "        break\n",
    "    print('while 반복문의 마지막 줄입니다.')\n",
    "print('프로그램이 종료되었습니다.')"
   ]
  },
  {
   "cell_type": "code",
   "execution_count": 7,
   "id": "85f3b860",
   "metadata": {
    "scrolled": true
   },
   "outputs": [
    {
     "name": "stdout",
     "output_type": "stream",
     "text": [
      "정수입력 >23\n",
      "원의 반지름:  23\n",
      "원의 둘레:  144.44\n",
      "원의 넓이:  1661.0600000000002\n"
     ]
    }
   ],
   "source": [
    "# [과제] 숫자 대신 문자를 입력시 예외가 발생되는데 아래 코드를\n",
    "# 수정해서 예외 객체의 자료형과 예외 객체 자체를 출력하세요\n",
    "\n",
    "# num_input = int(input('정수입력 >'))\n",
    "# print('원의 반지름: ', num_input)\n",
    "# print('원의 둘레: ',2*3.14*num_input)\n",
    "# print('원의 넓이: ',3.14*num_input**2)\n",
    "\n",
    "try: \n",
    "    num_input = input('정수입력 >')\n",
    "    num = int(num_input)\n",
    "except:\n",
    "    print(type(num_input))\n",
    "    print(num_input)\n",
    "else:\n",
    "    print('원의 반지름: ', num)\n",
    "    print('원의 둘레: ',2*3.14*num)\n",
    "    print('원의 넓이: ',3.14*num**2)"
   ]
  },
  {
   "cell_type": "code",
   "execution_count": 13,
   "id": "6f31d03d",
   "metadata": {},
   "outputs": [
    {
     "name": "stdout",
     "output_type": "stream",
     "text": [
      "정수입력 >a\n",
      "<class 'ValueError'>\n",
      "invalid literal for int() with base 10: 'a'\n"
     ]
    }
   ],
   "source": [
    "# 교수님 예제\n",
    "try:\n",
    "    num_input = int(input('정수입력 >'))\n",
    "except Exception as e:\n",
    "    print(type(e))\n",
    "    print(e)\n",
    "else:\n",
    "    print('원의 반지름: ', num_input)\n",
    "    print('원의 둘레: ',2*3.14*num_input)\n",
    "    print('원의 넓이: ',3.14*num_input**2)"
   ]
  },
  {
   "cell_type": "code",
   "execution_count": null,
   "id": "d0d9641f",
   "metadata": {},
   "outputs": [],
   "source": [
    "list_num = [52,273,32,72,100]\n",
    "num_input = int(input('정수 입력 > '))\n",
    "print('{}번째 요소 : {}'.format(num_input,list_num[num_input-1]))"
   ]
  },
  {
   "cell_type": "code",
   "execution_count": 16,
   "id": "95307bf4",
   "metadata": {
    "scrolled": true
   },
   "outputs": [
    {
     "name": "stdout",
     "output_type": "stream",
     "text": [
      "정수 입력 > 1\n",
      "1번째 요소 : 52\n",
      "모든 예외처리 완료\n"
     ]
    }
   ],
   "source": [
    "# [과제] 아래 코드를 보완하여 발생가능한 모든 예외(정수, 인덱스, 미리 파악하지 못한 예외)를 처리한 후 마지막에 '모든 예외 처리 완료'를 출력하세요\n",
    "\n",
    "list_num = [52,273,32,72,100]\n",
    "while 1:\n",
    "    try:\n",
    "        num_input = int(input('정수 입력 > '))\n",
    "        print('{}번째 요소 : {}'.format(num_input,list_num[num_input-1]))\n",
    "        break\n",
    "    except ValueError:\n",
    "        print('예외처리 : 정수를 입력하세요')\n",
    "    except IndexError:\n",
    "        print('예외처리 : 5 이하의 정수를 입력하세요')\n",
    "    except Exception as e:\n",
    "        print(e)\n",
    "    finally:\n",
    "        print('모든 예외처리 완료')"
   ]
  },
  {
   "cell_type": "code",
   "execution_count": 17,
   "id": "bf7f0f14",
   "metadata": {},
   "outputs": [
    {
     "name": "stdout",
     "output_type": "stream",
     "text": [
      "정수 입력 > 6\n",
      "인덱스 오류, 범위 안의 값을 입력하세요\n",
      "모든 예외처리 완료\n"
     ]
    }
   ],
   "source": [
    "# 다른사람이 한것\n",
    "list_num = [52, 273, 32, 72, 100]\n",
    "\n",
    "try: \n",
    "    num_input = int(input('정수 입력 > '))\n",
    "    print('{}번째 요소: {}'.format(num_input, list_num[num_input -1]))\n",
    "except IndexError:\n",
    "    print(\"인덱스 오류, 범위 안의 값을 입력하세요\")\n",
    "except ValueError:\n",
    "    print(\"정수 값을 입력하세요\")\n",
    "except Excetion:\n",
    "    print(\"정수 값을 입력하세요\")\n",
    "finally:\n",
    "    print(\"모든 예외처리 완료\")\n"
   ]
  },
  {
   "cell_type": "code",
   "execution_count": null,
   "id": "6b0e5b24",
   "metadata": {},
   "outputs": [
    {
     "name": "stdout",
     "output_type": "stream",
     "text": [
      "================================================================================\n",
      "\n",
      "                             재고관리 프로그램\n",
      "    \n",
      "                            항목                갯수           가격\n",
      "\n",
      "                          과자        :      20개       :   1개 2000원\n",
      "                          커피        :      30개       :   1개 1500원\n",
      "                          아이스크림        :      23개       :   1개 1000원\n",
      "\n",
      "\n",
      "================================================================================\n",
      "무엇을 하시겠습니까?  \n",
      "    \n",
      "1 : 재고 추가  | 2 : 재고 제거  |  3 : 항목 추가  |  4 : 항목 제거  |  5 : 재고 검색  |  6 ; 재고 현황  |   0 : 프로그램 종료     \n",
      " 1\n",
      "재고를 추가할 항목 이름을 입력해주세요 : aa\n",
      "없는 항목입니다. 이전으로 돌아갑니다.\n",
      "\n",
      "================================================================================\n",
      "\n",
      "                             재고관리 프로그램\n",
      "    \n",
      "                            항목                갯수           가격\n",
      "\n",
      "                          과자        :      20개       :   1개 2000원\n",
      "                          커피        :      30개       :   1개 1500원\n",
      "                          아이스크림        :      23개       :   1개 1000원\n",
      "\n",
      "\n",
      "================================================================================\n"
     ]
    }
   ],
   "source": [
    "# [도전 과제] 자유주제로 프로그래밍을 수행하세요. 단 예외처리 3건 이상\n",
    "ojall = {'과자' : 20 , '커피' : 30 , '아이스크림' : 23}\n",
    "ojprice = {'과자' : 2000, '커피' : 1500, '아이스크림': 1000}\n",
    "while 1:\n",
    "    ojkey = list(ojall)\n",
    "    print('='*80)\n",
    "    print('''\n",
    "                             재고관리 프로그램\n",
    "    ''')\n",
    "    print('''                            항목                갯수           가격\\n''')\n",
    "    for i in range(len(ojkey)):\n",
    "        print(f'''                          {ojkey[i]}        :      {ojall[ojkey[i]]}개       :   1개 {ojprice[ojkey[i]]}원''')\n",
    "    print('\\n')\n",
    "    print('='*80)\n",
    "    what = input(\"\"\"무엇을 하시겠습니까?  \n",
    "    \n",
    "1 : 재고 추가  | 2 : 재고 제거  |  3 : 항목 추가  |  4 : 항목 제거  |  5 : 재고 검색  |  6 ; 재고 현황  |   0 : 프로그램 종료     \\n \"\"\"  )\n",
    "    if what == '1':\n",
    "        name = input(\"재고를 추가할 항목 이름을 입력해주세요 : \")\n",
    "        if name in ojall:\n",
    "            while 1:\n",
    "                try:\n",
    "                    mount = int(input(\"얼마나 추가 하시겠습니까   :   \"))\n",
    "                    b = input(f'{name} 항목에 {mount}개 추가가 맞습니까? y 이외에는 취소됩니다.: ')\n",
    "                    if b == 'y':\n",
    "                        ojall[name] += mount\n",
    "                        print(f'{mount}개 추가되었습니다.\\n')\n",
    "                        break\n",
    "                    else:\n",
    "                        print('이전 화면으로 돌아갑니다.\\n')\n",
    "                        break\n",
    "                except:\n",
    "                    print(\"잘못 입력하셨습니다. 숫자를 입력해주세요\")\n",
    "        else:\n",
    "            print(\"없는 항목입니다. 이전으로 돌아갑니다.\\n\")\n",
    "            \n",
    "    elif what == '2':\n",
    "        name = input(\"재고를 제거할 항목 이름을 입력해주세요 : \")\n",
    "        if name in ojall:\n",
    "            while 1:\n",
    "                try:\n",
    "                    mount = int(input(\"얼마나 제거 하시겠습니까   :   \"))\n",
    "                    b = input(f'{name} 항목에 {mount}개 제거가 맞습니까? y 이외에는 취소됩니다.: ')\n",
    "                    if b == 'y':\n",
    "                        ojall[name] -= mount\n",
    "                        print(f'{mount}개 제거되었습니다.\\n')\n",
    "                        break\n",
    "                    else:\n",
    "                        print('이전 화면으로 돌아갑니다.\\n')\n",
    "                        break\n",
    "                except:\n",
    "                    print(\"숫자를 입력해주세요\")\n",
    "        else:\n",
    "            print(\"없는 항목입니다. 이전으로 돌아갑니다.\\n\")\n",
    "            \n",
    "    elif what == '3':\n",
    "        name = input(\"추가할 항목 이름을 입력해주세요 : \")\n",
    "        a = input(f'{name}이(가) 맞습니까? y 이외에는 취소됩니다 : ')\n",
    "        if a == 'y':\n",
    "            while 1:\n",
    "                try:\n",
    "                    mount = int(input(\"현재 갯수를 입력해주세요 : \"))\n",
    "                    break\n",
    "                except:\n",
    "                    print(\"숫자를 입력해주세요\")\n",
    "            while 1:\n",
    "                try:\n",
    "                    price = int(input(\"1개의 가격을 입력해주세요 : \"))\n",
    "                    break\n",
    "                except:\n",
    "                    print(\"숫자를 입력해주세요\")\n",
    "            b = input(f'{name} 항목에 {mount}개, {price}원 맞습니까? y 이외에는 취소됩니다.: ')\n",
    "            if b == 'y':\n",
    "                ojall[name] = mount\n",
    "                ojprice[name] = price\n",
    "                print(f'{name} 항목 {mount}개,1개에 {price}원 추가되었습니다.\\n')\n",
    "            else:\n",
    "                print('이전 화면으로 돌아갑니다.\\n')\n",
    "        else:\n",
    "            print('이전 화면으로 돌아갑니다.\\n')\n",
    "            \n",
    "    elif what == '4':\n",
    "        name = input(\"제거할 항목 이름을 입력해주세요 : \")\n",
    "        if name in ojall:\n",
    "            b = input(f'{name} 항목을 정말로 제거하시겠습니까? y 이외에는 취소됩니다.: ')\n",
    "            if b == 'y':\n",
    "                del ojall[name]\n",
    "                del ojprice[name]\n",
    "                print(f'{name} 항목 제거되었습니다.\\n')\n",
    "            else:\n",
    "                print('이전 화면으로 돌아갑니다.\\n')\n",
    "        else:\n",
    "            print(\"없는 항목입니다. 이전으로 돌아갑니다.\\n\")\n",
    "        \n",
    "    elif what == '5':\n",
    "        name = input(\"검색 할 항목 이름을 입력해주세요 : \")\n",
    "        if name in ojall:\n",
    "            mount = ojall[name]\n",
    "            price = ojprice[name]\n",
    "            print(f'{name}의 남은 재고 개수는 {mount}개 재고의 총 가격은 {mount*price}원입니다.\\n')\n",
    "        else:\n",
    "            print(\"없는 항목입니다. 이전으로 돌아갑니다.\\n\")\n",
    "    elif what == '6':\n",
    "        print('재고 가격 순으로 정렬합니다.')\n",
    "        list_ojmount = []\n",
    "        list_ojmount = []\n",
    "        temp1 = {}\n",
    "        temp2 = {}\n",
    "        for i,v in ojall.items():\n",
    "            temp1[v*ojprice[i]] = i\n",
    "            temp2[i] = v*ojprice[i]\n",
    "            list_ojmount.append(v*ojprice[i])\n",
    "        list_ojmount.sort()\n",
    "        list_ojmount.reverse()\n",
    "        for i in range(len(list_ojmount)):\n",
    "            print('''%d.:\\t%s %d개 %d원'''%(i+1,temp1[list_ojmount[i]],ojall[temp1[list_ojmount[i]]],temp2[temp1[list_ojmount[i]]]))\n",
    "        print('재고의 총 가격은 %d원 입니다.\\n' %sum(temp2.values()))\n",
    "            \n",
    "            \n",
    "    elif what == '0':\n",
    "        print('프로그램을 종료합니다.')\n",
    "        break\n",
    "        \n",
    "    else:\n",
    "        print(\"잘못 입력하셨습니다. 0 ~ 6 중 하나로 입력해주세요.\\n\")\n",
    "        continue"
   ]
  }
 ],
 "metadata": {
  "kernelspec": {
   "display_name": "Python 3 (ipykernel)",
   "language": "python",
   "name": "python3"
  },
  "language_info": {
   "codemirror_mode": {
    "name": "ipython",
    "version": 3
   },
   "file_extension": ".py",
   "mimetype": "text/x-python",
   "name": "python",
   "nbconvert_exporter": "python",
   "pygments_lexer": "ipython3",
   "version": "3.8.12"
  }
 },
 "nbformat": 4,
 "nbformat_minor": 5
}
