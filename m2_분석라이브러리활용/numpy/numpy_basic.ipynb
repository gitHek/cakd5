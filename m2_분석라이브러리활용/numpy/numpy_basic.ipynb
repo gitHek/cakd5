{
 "cells": [
  {
   "cell_type": "code",
   "execution_count": 2,
   "id": "e507367d",
   "metadata": {},
   "outputs": [],
   "source": [
    "import numpy as np"
   ]
  },
  {
   "cell_type": "markdown",
   "id": "6736f939",
   "metadata": {},
   "source": [
    "Numpy는 \"Numerical Python\"의 약자로 대규모 다차원 배열과 행렬 연산에 필요한 다양한 함수를 제공\n",
    "\n",
    "- Numerical Python을 의미하는 Numpy는 파이썬에서 선형대수 기반의 프로그램을 쉽게 만들 수 있도록 지원하는 대표적인 패키지\n",
    "- 많은 머신러닝 알고리즘이 넘파이 기반으로 작성되어 있으며 알고리즘의 입출력 데이터를 넘파이 배열 타입으로 사용함\n",
    "- 넘파이의 기본 데이터 타입은 ndarray.ndarray를 이용해 넘파이에서 다차원 배열을 쉽게 생성하고 다양한 연산 수행\n",
    "\n",
    "numpy 특징\n",
    "\n",
    "- 강력한 N차원 배열 객체\n",
    "- 정교한 브로드캐스팅 기능\n",
    "- 유용한 선형 대수학, 푸리에 변환 및 난수 기능\n",
    "- 푸리에 변환은 시간이나 공간에 대한 함수를 시간 또는 공간 주파수 성분으로 분해하는 변환\n",
    "- 범용적 데이터 처리에 사용 가능한 다차원 컨테이너\n",
    "\n",
    "복습시험출제"
   ]
  },
  {
   "cell_type": "code",
   "execution_count": null,
   "id": "d3581ebc",
   "metadata": {},
   "outputs": [],
   "source": [
    "!pip install numpy"
   ]
  },
  {
   "cell_type": "code",
   "execution_count": 450,
   "id": "74f34b52",
   "metadata": {},
   "outputs": [
    {
     "name": "stdout",
     "output_type": "stream",
     "text": [
      "[0 1 2 3 4 5 6 7 8 9] <class 'numpy.ndarray'>\n"
     ]
    }
   ],
   "source": [
    "import numpy as np\n",
    "z = np.arange(10) # 복습시험출제\n",
    "print(z,type(z))"
   ]
  },
  {
   "cell_type": "code",
   "execution_count": 451,
   "id": "5a9a634e",
   "metadata": {},
   "outputs": [],
   "source": [
    "my_arr = np.arange(1000000)\n",
    "my_list = list(range(1000000))"
   ]
  },
  {
   "cell_type": "code",
   "execution_count": 452,
   "id": "59a73a49",
   "metadata": {},
   "outputs": [
    {
     "name": "stdout",
     "output_type": "stream",
     "text": [
      "Wall time: 13 ms\n"
     ]
    }
   ],
   "source": [
    "%time for _ in range(10): my_array2 = my_arr*2 # 복습시험출제"
   ]
  },
  {
   "cell_type": "code",
   "execution_count": 453,
   "id": "c81d88aa",
   "metadata": {},
   "outputs": [
    {
     "name": "stdout",
     "output_type": "stream",
     "text": [
      "Wall time: 609 ms\n"
     ]
    }
   ],
   "source": [
    "%time for _ in range(10): my_list2 = [x*2 for x in my_list]"
   ]
  },
  {
   "cell_type": "code",
   "execution_count": 454,
   "id": "3600b066",
   "metadata": {},
   "outputs": [
    {
     "name": "stdout",
     "output_type": "stream",
     "text": [
      "[[ 2.34290579 -1.38508075 -0.12607945]\n",
      " [-1.06759006  0.18777285 -1.83891845]] \n",
      "\n",
      "[[ 23.42905788 -13.85080755  -1.26079449]\n",
      " [-10.67590064   1.87772855 -18.38918449]] \n",
      "\n",
      "[[5.48920753 1.9184487  0.01589603]\n",
      " [1.13974854 0.03525865 3.38162106]] \n",
      "\n"
     ]
    }
   ],
   "source": [
    "# 배열 연산\n",
    "# np.random.randn 가우시안 표준 정규분표에서 난수 매트릭스 array 생성\n",
    "# 가우시안 표준 정규분표(평균이 0, 표준편차가 1)\n",
    "data = np.random.randn(2,3) # 표준 정규분포로 구성되는 2행 3열 매트릭스 복습시험출제\n",
    "print(data, '\\n')\n",
    "print(data*10,'\\n')\n",
    "print(data*data,'\\n')"
   ]
  },
  {
   "cell_type": "code",
   "execution_count": 455,
   "id": "1ee74aef",
   "metadata": {},
   "outputs": [
    {
     "name": "stdout",
     "output_type": "stream",
     "text": [
      "(2, 3)\n",
      "float64\n",
      "2\n"
     ]
    }
   ],
   "source": [
    "print(data.shape) # 행렬의 크기 복습시험출제\n",
    "print(data.dtype) # 데이터 타입 \n",
    "print(data.ndim) # 차원"
   ]
  },
  {
   "cell_type": "markdown",
   "id": "6c022c76",
   "metadata": {},
   "source": [
    "다차원 배열\n",
    "<img src = 'numpy차원.jpg' STYLE = 'width:300px;'>"
   ]
  },
  {
   "cell_type": "code",
   "execution_count": null,
   "id": "f79a1db7",
   "metadata": {},
   "outputs": [],
   "source": [
    "data2 = [[1,2,3,4],[5,6,7,8]]\n",
    "print(type(data2),'\\n')\n",
    "arr2 = np.array(data2)\n",
    "print(arr2,type(arr2))"
   ]
  },
  {
   "cell_type": "code",
   "execution_count": null,
   "id": "4c664de7",
   "metadata": {},
   "outputs": [],
   "source": [
    "print(arr2.ndim,'\\n')\n",
    "print(arr2.shape,'\\n')"
   ]
  },
  {
   "cell_type": "code",
   "execution_count": 3,
   "id": "56365ffb",
   "metadata": {},
   "outputs": [
    {
     "name": "stdout",
     "output_type": "stream",
     "text": [
      "[1 2 3] (3,) <class 'numpy.ndarray'>\n"
     ]
    }
   ],
   "source": [
    "# 1차원 배열로 3개의 데이터\n",
    "array1 = np.array([1,2,3])\n",
    "print(array1,array1.shape,type(array1)) # (,열)이 아닌 (열,) 형태로 출력"
   ]
  },
  {
   "cell_type": "code",
   "execution_count": 4,
   "id": "3d2365ed",
   "metadata": {},
   "outputs": [
    {
     "name": "stdout",
     "output_type": "stream",
     "text": [
      "[[1 2 3]\n",
      " [4 5 6]] 2 (2, 3)\n"
     ]
    }
   ],
   "source": [
    "# 2차원 배열로 2개의 row와 3개의 column으로 구성된 6개의 데이터 복습시험출제\n",
    "array2 = np.array([[1,2,3],[4,5,6]])\n",
    "print(array2,array2.ndim,array2.shape)"
   ]
  },
  {
   "cell_type": "code",
   "execution_count": null,
   "id": "1a0d19d1",
   "metadata": {},
   "outputs": [],
   "source": [
    "# 1개의 row와 3개의 column으로 구성된 2차원 배열\n",
    "array21 = np.array([[1,2,3]])\n",
    "print(array21,array21.ndim,array21.shape)"
   ]
  },
  {
   "cell_type": "code",
   "execution_count": null,
   "id": "3ae9cee9",
   "metadata": {},
   "outputs": [],
   "source": [
    "# 3차원 복습시험출제\n",
    "array3 = np.array([[[1,2,3],[2,3,4]],\n",
    "                   [[3,4,5],[4,5,6]],\n",
    "                   [[5,6,7],[6,7,8]]])\n",
    "print(array3,'\\n\\n',array3.shape,'\\n',array3.ndim,'\\n',type(array3))"
   ]
  },
  {
   "cell_type": "code",
   "execution_count": null,
   "id": "b72d1895",
   "metadata": {},
   "outputs": [],
   "source": [
    "# 경고 메시지 제외 처리\n",
    "import warnings\n",
    "warnings.filterwarnings('ignore')"
   ]
  },
  {
   "cell_type": "markdown",
   "id": "61fef6ba",
   "metadata": {},
   "source": [
    "배열 생성 및 초기화\n",
    "- Numpy는 원하는 shape로 배열을 설정하고 각 요소를 특정 값으로 초기화하는 zeros, ones, full, eye 함수 제공\n",
    "- 파라미터로 입력한 배열과 같은 shape의 배열을 만드는 zeros_like, ones_like, full_like 함수도 제공\n",
    "\n",
    "복습시험출제"
   ]
  },
  {
   "cell_type": "code",
   "execution_count": 485,
   "id": "fcee1b71",
   "metadata": {},
   "outputs": [
    {
     "name": "stdout",
     "output_type": "stream",
     "text": [
      "[0. 0. 0. 0. 0. 0. 0. 0. 0. 0.] \n",
      "\n",
      "[[0. 0. 0. 0. 0. 0.]\n",
      " [0. 0. 0. 0. 0. 0.]\n",
      " [0. 0. 0. 0. 0. 0.]] \n",
      "\n",
      "[[[0. 0.]\n",
      "  [0. 0.]\n",
      "  [0. 0.]]\n",
      "\n",
      " [[0. 0.]\n",
      "  [0. 0.]\n",
      "  [0. 0.]]]\n"
     ]
    }
   ],
   "source": [
    "print(np.zeros(10),'\\n')복습시험출제\n",
    "print(np.zeros((3,6)),'\\n')\n",
    "print(np.zeros((2,3,2)))"
   ]
  },
  {
   "cell_type": "code",
   "execution_count": null,
   "id": "8bc2b471",
   "metadata": {},
   "outputs": [],
   "source": [
    "print(np.ones((2,3,2),dtype = int)) # dtype 로 타입설정 가능(int,float등)"
   ]
  },
  {
   "cell_type": "code",
   "execution_count": null,
   "id": "d777e09c",
   "metadata": {},
   "outputs": [],
   "source": [
    "ar1 = np.full((2,2),5)\n",
    "print(ar1)"
   ]
  },
  {
   "cell_type": "code",
   "execution_count": 7,
   "id": "4cccd3f2",
   "metadata": {},
   "outputs": [
    {
     "name": "stdout",
     "output_type": "stream",
     "text": [
      "[[1. 0. 0.]\n",
      " [0. 1. 0.]\n",
      " [0. 0. 1.]]\n"
     ]
    }
   ],
   "source": [
    "# 항등행렬, 단위행렬을 만듦\n",
    "ar2 = np.eye(3)\n",
    "print(ar2)"
   ]
  },
  {
   "cell_type": "code",
   "execution_count": 10,
   "id": "09e838cf",
   "metadata": {
    "scrolled": true
   },
   "outputs": [
    {
     "name": "stdout",
     "output_type": "stream",
     "text": [
      "[[0 0 0]\n",
      " [0 0 0]\n",
      " [0 0 0]] \n",
      "\n",
      "[[1 1 1]\n",
      " [1 1 1]\n",
      " [1 1 1]] \n",
      "\n",
      "[[5 5 5]\n",
      " [5 5 5]\n",
      " [5 5 5]] \n",
      "\n"
     ]
    }
   ],
   "source": [
    "# [과제] zeros_like, ones_like, full_like 함수 활용해서 하나씩 만들어보기\n",
    "import numpy as np\n",
    "arr1 = np.arange(9).reshape(3,3)\n",
    "z = np.zeros_like(arr1)\n",
    "o = np.ones_like(arr1)\n",
    "f = np.full_like(arr1,5)\n",
    "print(z,'\\n')\n",
    "print(o,'\\n')\n",
    "print(f,'\\n')"
   ]
  },
  {
   "cell_type": "code",
   "execution_count": null,
   "id": "29a59936",
   "metadata": {
    "scrolled": true
   },
   "outputs": [],
   "source": [
    "# arrange 함수 : python의 range함수의 배열버전 복습시험출제\n",
    "arr1 = np.arange(30)\n",
    "arr1"
   ]
  },
  {
   "cell_type": "code",
   "execution_count": null,
   "id": "e7364da8",
   "metadata": {},
   "outputs": [],
   "source": [
    "arr2 = arr1.reshape(3,10)\n",
    "print(arr2,'\\n')\n",
    "arr3 = arr1.reshape(2,3,5)\n",
    "print(arr3)"
   ]
  },
  {
   "cell_type": "code",
   "execution_count": null,
   "id": "64974761",
   "metadata": {},
   "outputs": [],
   "source": [
    "# Q. array1을 생성하고 reshape 함수를 이용, (5,2) 배열을 생성하고 크기를 같이 출력하세요.\n",
    "array1 = np.arange(10)\n",
    "array2 = array1.reshape(5,2)\n",
    "print(array2)"
   ]
  },
  {
   "cell_type": "code",
   "execution_count": null,
   "id": "e9d41a4f",
   "metadata": {},
   "outputs": [],
   "source": [
    "# 0~29 일차원 배열을 생성한 후 다시 2,3차원 배열로 변환하여 출력하세요. 복습시험출제\n",
    "arr1 = np.arange(30)\n",
    "arr2 = arr1.reshape(3,10)\n",
    "print(arr2,'\\n')\n",
    "arr3 = arr1.reshape(2,3,5)\n",
    "print(arr3)"
   ]
  },
  {
   "cell_type": "code",
   "execution_count": null,
   "id": "61ae47b5",
   "metadata": {},
   "outputs": [],
   "source": [
    "# reshape(-1,-1) 이용, 차원 변경 복습시험출제\n",
    "array1 = np.arange(30)\n",
    "ar12 = array1.reshape(3,-1)\n",
    "print(ar12,ar12.shape,'\\n')\n",
    "ar13 = array1.reshape(-1,2,5)\n",
    "print(ar13,ar13.shape)"
   ]
  },
  {
   "cell_type": "code",
   "execution_count": null,
   "id": "edb81fec",
   "metadata": {},
   "outputs": [],
   "source": [
    "# 2 -> 1, 3 차원으로 변환하여 출력\n",
    "ar3 = ar12.reshape(3,2,5)\n",
    "print(ar3,'\\n')\n",
    "ar1 = ar12.reshape(-1,)\n",
    "print(ar1)"
   ]
  },
  {
   "cell_type": "code",
   "execution_count": null,
   "id": "c4c7aefe",
   "metadata": {},
   "outputs": [],
   "source": [
    "# 3 -> 1,2차원으로 변환하여 출력\n",
    "ar3"
   ]
  },
  {
   "cell_type": "code",
   "execution_count": null,
   "id": "0d3a4299",
   "metadata": {},
   "outputs": [],
   "source": [
    "ar1 = ar3.reshape(-1,)\n",
    "ar2 = ar3.reshape(3,-1)\n",
    "print(ar1,'\\n',ar1.shape)\n",
    "print(ar2,'\\n',ar2.shape)"
   ]
  },
  {
   "cell_type": "markdown",
   "id": "b26bdd21",
   "metadata": {},
   "source": [
    "행렬의 종류  복습시험출제\n",
    "- 정방행렬은 행과 열의 수가 같은 행렬\n",
    "- 대각행렬은 주대각선 원소를 제외한 모든 원소들이 0인 정방행렬\n",
    "- 항등행렬은 행렬 곱셈 연산에 항등원으로 작용하는 행렬\n",
    "- 영행렬은 모든 원소가 0인 행렬로 곱셈 연산에서 영원으로 작용하는 행렬\n",
    "- 전치행렬은 주대각선 원소를 기준으로 행과 열을 바꿔주는 행렬\n",
    "- 직교행렬은 행렬 A의 역행렬이 A의 전치행렬이고 A의 전치행렬과 A 행렬을 곱하였을 때 항등행렬이 나오는 행렬"
   ]
  },
  {
   "cell_type": "code",
   "execution_count": null,
   "id": "cac5e58a",
   "metadata": {},
   "outputs": [],
   "source": [
    "# 정방행렬\n",
    "ar1 = np.full((5,5),7)\n",
    "print(ar1)"
   ]
  },
  {
   "cell_type": "code",
   "execution_count": null,
   "id": "b8d34c06",
   "metadata": {},
   "outputs": [],
   "source": [
    "# 항등행렬, 단위행렬\n",
    "a = np.eye(5)\n",
    "print(a)"
   ]
  },
  {
   "cell_type": "code",
   "execution_count": null,
   "id": "b2ceef4d",
   "metadata": {},
   "outputs": [],
   "source": [
    "# 영행렬\n",
    "a = np.zeros((5,5))\n",
    "print(a)"
   ]
  },
  {
   "cell_type": "code",
   "execution_count": null,
   "id": "2e25b4e7",
   "metadata": {},
   "outputs": [],
   "source": [
    "# 전치행렬 , 직교랭렬"
   ]
  },
  {
   "cell_type": "markdown",
   "id": "eec1ad2d",
   "metadata": {},
   "source": [
    "ndarray 데이터 형태 지정 및 변경 복습시험출제\n",
    "<img src = '데이터형태.jpg' STYLE = 'width:300px;'>"
   ]
  },
  {
   "cell_type": "code",
   "execution_count": null,
   "id": "174bee37",
   "metadata": {},
   "outputs": [],
   "source": [
    "arr1 = np.array([1,2,3], dtype=np.float64)\n",
    "arr2 = np.array([1,2,3], dtype=np.int32)\n",
    "print(arr1,arr1.dtype,'\\n')\n",
    "print(arr2,arr2.dtype)"
   ]
  },
  {
   "cell_type": "code",
   "execution_count": null,
   "id": "4b07cad3",
   "metadata": {},
   "outputs": [],
   "source": [
    "# 타입 변경\n",
    "arr = np.array([1,2,3,4,5])\n",
    "print(arr,arr.dtype)\n",
    "float_arr = arr.astype(np.float64)\n",
    "print(float_arr, float_arr.dtype)"
   ]
  },
  {
   "cell_type": "code",
   "execution_count": null,
   "id": "20df51f3",
   "metadata": {},
   "outputs": [],
   "source": [
    "# empty 함수 : shape와 dtype을 입력받아 초기화되지 않은 배열을 만들어준다. cf. zeros 함수\n",
    "# empty 함수를 실행할 때마다 값이 다른것을 확인할 수 있다. 이는 해당 메모리 영역에 어떤 데이터가 남아있었던지 상관없이\n",
    "# 그대로 영역의 주소만 알려줄 뿐 초기화는 사용자에게 맡기기 때문임.\n",
    "\n",
    "print(np.empty(shape=(10,),dtype = np.int8)) # 복습시험출제"
   ]
  },
  {
   "cell_type": "code",
   "execution_count": 11,
   "id": "7aab78ec",
   "metadata": {},
   "outputs": [
    {
     "name": "stdout",
     "output_type": "stream",
     "text": [
      "[b'1' b'2' b'3' b'4'] |S1\n"
     ]
    }
   ],
   "source": [
    "# 문자열 타입으로 배열 만들기 복습시험출제\n",
    "# arr = np.array([1,2,3,4],dtype = 'S')\n",
    "arr = np.array([1,2,3,4],dtype = np.string_)\n",
    "print(arr,arr.dtype)"
   ]
  },
  {
   "cell_type": "code",
   "execution_count": null,
   "id": "9fe1bd96",
   "metadata": {},
   "outputs": [],
   "source": [
    "arr1 = arr.astype(float)\n",
    "print(arr1,arr1.dtype)"
   ]
  },
  {
   "cell_type": "code",
   "execution_count": null,
   "id": "e82001a9",
   "metadata": {},
   "outputs": [],
   "source": [
    "# 정수와 실수로 구성된 list_e = [1.2,2.3,3]을 numpy를 이용해서 실수형과 정수형으로 각각 출력하세요\n",
    "arr1 = np.array([1.2,2.3,3])\n",
    "print(arr1,arr1.dtype)\n",
    "arr2 = arr1.astype(int)\n",
    "print(arr2,arr2.dtype)"
   ]
  },
  {
   "cell_type": "code",
   "execution_count": null,
   "id": "d5e5ce6a",
   "metadata": {},
   "outputs": [],
   "source": [
    "# 배열의 산술 연산 복습시험출제\n",
    "arr = np.array([[1,2,3],[4,5,6]])\n",
    "arr = np.arange(1,7).reshape(2,3)\n",
    "print(arr,arr.dtype)"
   ]
  },
  {
   "cell_type": "code",
   "execution_count": null,
   "id": "618f37f8",
   "metadata": {},
   "outputs": [],
   "source": [
    "arr * arr"
   ]
  },
  {
   "cell_type": "code",
   "execution_count": null,
   "id": "fbcbea1e",
   "metadata": {},
   "outputs": [],
   "source": [
    "arr-arr"
   ]
  },
  {
   "cell_type": "code",
   "execution_count": null,
   "id": "2230928b",
   "metadata": {},
   "outputs": [],
   "source": [
    "arr2 = np.array([[0.,4.,1.],[7.,2.,12.]])\n",
    "arr2"
   ]
  },
  {
   "cell_type": "code",
   "execution_count": null,
   "id": "591bfa4f",
   "metadata": {},
   "outputs": [],
   "source": [
    "arr2 > arr 복습시험출제"
   ]
  },
  {
   "cell_type": "code",
   "execution_count": null,
   "id": "45ad2b46",
   "metadata": {},
   "outputs": [],
   "source": [
    "# 기본 사칙연산 복습시험출제\n",
    "value1 = np.arange(1,10).reshape(3,3)\n",
    "value2 = np.arange(11,20).reshape(3,3)\n",
    "\n",
    "print(value2+value1,'\\n')\n",
    "print(np.add(value1,value2),'\\n')\n",
    "\n",
    "print(value2-value1,'\\n')\n",
    "print(np.subtract(value2,value1),'\\n')\n",
    "\n",
    "print(value2*value1,'\\n')\n",
    "print(np.multiply(value1,value2),'\\n')\n",
    "\n",
    "print(value2/value1,'\\n')\n",
    "print(np.divide(value2,value1),'\\n')"
   ]
  },
  {
   "cell_type": "code",
   "execution_count": null,
   "id": "18dc0c99",
   "metadata": {},
   "outputs": [],
   "source": [
    "arr = np.random.randn(2,2)\n",
    "arr"
   ]
  },
  {
   "cell_type": "code",
   "execution_count": null,
   "id": "b7a36d49",
   "metadata": {},
   "outputs": [],
   "source": [
    "arr.mean().round(4)"
   ]
  },
  {
   "cell_type": "code",
   "execution_count": null,
   "id": "5f43f9b6",
   "metadata": {},
   "outputs": [],
   "source": [
    "arr.mean(axis = 1).round(4)"
   ]
  },
  {
   "cell_type": "code",
   "execution_count": null,
   "id": "072b6292",
   "metadata": {},
   "outputs": [],
   "source": [
    "arr.mean(axis = 0).round(4)"
   ]
  },
  {
   "cell_type": "code",
   "execution_count": null,
   "id": "26ba0a40",
   "metadata": {},
   "outputs": [],
   "source": [
    "arr.sum().round(4)"
   ]
  },
  {
   "cell_type": "code",
   "execution_count": 13,
   "id": "82b03fb2",
   "metadata": {},
   "outputs": [
    {
     "name": "stdout",
     "output_type": "stream",
     "text": [
      "[[1 2]\n",
      " [3 4]] \n",
      " [ 1  2  6 24]\n"
     ]
    }
   ],
   "source": [
    "# 누적해서 곱한것 복습시험출제\n",
    "# print(arr.cumprod())\n",
    "ar1 = np.arange(1,5).reshape(2,2)\n",
    "print(ar1,'\\n',ar1.cumprod())"
   ]
  },
  {
   "cell_type": "code",
   "execution_count": 14,
   "id": "70e62961",
   "metadata": {},
   "outputs": [
    {
     "data": {
      "text/plain": [
       "array([[1, 2, 3],\n",
       "       [4, 5, 6],\n",
       "       [7, 8, 9]])"
      ]
     },
     "execution_count": 14,
     "metadata": {},
     "output_type": "execute_result"
    }
   ],
   "source": [
    "# 인덱싱, 슬라이싱 복습시험출제\n",
    "arr2d = np.arange(1,10).reshape(3,3)\n",
    "arr2d"
   ]
  },
  {
   "cell_type": "code",
   "execution_count": null,
   "id": "b92abf6b",
   "metadata": {},
   "outputs": [],
   "source": [
    "arr2d[2]"
   ]
  },
  {
   "cell_type": "code",
   "execution_count": null,
   "id": "494494d0",
   "metadata": {},
   "outputs": [],
   "source": [
    "arr2d[2][2]"
   ]
  },
  {
   "cell_type": "code",
   "execution_count": null,
   "id": "8db6207d",
   "metadata": {},
   "outputs": [],
   "source": [
    "arr2d[:,0]"
   ]
  },
  {
   "cell_type": "code",
   "execution_count": null,
   "id": "a49248df",
   "metadata": {},
   "outputs": [],
   "source": [
    "arr2d[:,0]   # [ 행 , 열]"
   ]
  },
  {
   "cell_type": "code",
   "execution_count": null,
   "id": "ac1d2577",
   "metadata": {},
   "outputs": [],
   "source": [
    "arr2d[:2,:]"
   ]
  },
  {
   "cell_type": "code",
   "execution_count": 15,
   "id": "aa01bce9",
   "metadata": {},
   "outputs": [
    {
     "data": {
      "text/plain": [
       "array([[1, 2, 3],\n",
       "       [7, 8, 9]])"
      ]
     },
     "execution_count": 15,
     "metadata": {},
     "output_type": "execute_result"
    }
   ],
   "source": [
    "# arr2d를 다른방식으로 아래와 같이 출력하세요.\n",
    "# [[1,2,3],\n",
    "#  [4,5,6]]\n",
    "arr2d[[0,2],:]"
   ]
  },
  {
   "cell_type": "code",
   "execution_count": 16,
   "id": "8de9daa4",
   "metadata": {},
   "outputs": [
    {
     "name": "stdout",
     "output_type": "stream",
     "text": [
      "[3 6]\n",
      "[[1 2]\n",
      " [4 5]]\n"
     ]
    }
   ],
   "source": [
    "# arr2d에서 [3,6],[[1,2],[4,5]]을 출력하세요.\n",
    "print(arr2d[:2,2])\n",
    "print(arr2d[:2,:2])"
   ]
  },
  {
   "cell_type": "code",
   "execution_count": null,
   "id": "82a6145f",
   "metadata": {},
   "outputs": [],
   "source": [
    "arr = np.arange(30).reshape(5,6)\n",
    "arr"
   ]
  },
  {
   "cell_type": "code",
   "execution_count": null,
   "id": "479bc4db",
   "metadata": {},
   "outputs": [],
   "source": [
    "# [14,15,16]\n",
    "# [3,9]\n",
    "# [1,7,13]\n",
    "print(arr[2,[2,3,4]])\n",
    "print(arr[2][2:5])\n",
    "\n",
    "print(arr[[0,1],3])\n",
    "\n",
    "print(arr[[0,1,2],1])\n",
    "print(arr[:3,1])"
   ]
  },
  {
   "cell_type": "code",
   "execution_count": null,
   "id": "c181b4d6",
   "metadata": {},
   "outputs": [],
   "source": [
    "# 배열을 리스트로 변환 복습시험출제\n",
    "li = arr.tolist()\n",
    "print(li)\n",
    "type(li)"
   ]
  },
  {
   "cell_type": "code",
   "execution_count": null,
   "id": "91305bd8",
   "metadata": {},
   "outputs": [],
   "source": [
    "# Boolean indexing 복습시험출제\n",
    "arr1d = np.arange(1,10)\n",
    "print(arr1d)\n",
    "arr3 = arr1d[arr1d > 5]\n",
    "print(arr3)\n",
    "print(arr1d > 5)"
   ]
  },
  {
   "cell_type": "code",
   "execution_count": null,
   "id": "a1b666c6",
   "metadata": {},
   "outputs": [],
   "source": [
    "# arr1d에서 일반 인덱스를 이용해서 [6,7,8,9]를 출력하세요\n",
    "arr1d[5:]"
   ]
  },
  {
   "cell_type": "code",
   "execution_count": null,
   "id": "921685ec",
   "metadata": {},
   "outputs": [],
   "source": [
    "# Q. 1~ 14 까지 ndarray를 만들어 array_e로 저장하고 (array_e/2)>5를 만족하는 값을 불린 인덱스로 출력하세요\n",
    "array_e = np.arange(1,15)\n",
    "arr1 = array_e[(array_e/2)>5]\n",
    "print(arr1)"
   ]
  },
  {
   "cell_type": "code",
   "execution_count": null,
   "id": "9785d731",
   "metadata": {},
   "outputs": [],
   "source": [
    "names = np.array(['Bob','Joe','Will','Bob','Will','Joe','Joe'])\n",
    "data = np.random.randn(7,4)\n",
    "print(names,'\\n')\n",
    "print(data)"
   ]
  },
  {
   "cell_type": "code",
   "execution_count": null,
   "id": "34021a20",
   "metadata": {},
   "outputs": [],
   "source": [
    "names == 'Bob'"
   ]
  },
  {
   "cell_type": "code",
   "execution_count": null,
   "id": "b744bed1",
   "metadata": {},
   "outputs": [],
   "source": [
    "data[names == 'Bob']"
   ]
  },
  {
   "cell_type": "code",
   "execution_count": null,
   "id": "0d4275ab",
   "metadata": {},
   "outputs": [],
   "source": [
    "data[names =='Bob', 2:]"
   ]
  },
  {
   "cell_type": "code",
   "execution_count": null,
   "id": "234483b9",
   "metadata": {},
   "outputs": [],
   "source": [
    "# != 부정 복습시험출제\n",
    "data[names != 'Bob']"
   ]
  },
  {
   "cell_type": "code",
   "execution_count": null,
   "id": "d0979742",
   "metadata": {},
   "outputs": [],
   "source": [
    "# Bob이거나 Will인 것 출력 # | or과 같은역할 복습시험출제\n",
    "mask = (names == 'Bob')|(names == 'Will')\n",
    "data[mask]"
   ]
  },
  {
   "cell_type": "code",
   "execution_count": null,
   "id": "d84fe1c3",
   "metadata": {},
   "outputs": [],
   "source": [
    "# 음수를 모두 0으로 처리하여 출력\n",
    "data[data<0]=0\n",
    "print(data)"
   ]
  },
  {
   "cell_type": "code",
   "execution_count": null,
   "id": "c6483e2a",
   "metadata": {},
   "outputs": [],
   "source": [
    "# [과제] 1 ~ 100까지 정수에서 3의 배수인 것만을 출력(for문과 배열 두가지 방식)\n",
    "li = []\n",
    "for i in range(1,101):\n",
    "    if i%3 == 0:\n",
    "        li.append(i)\n",
    "print(li)"
   ]
  },
  {
   "cell_type": "code",
   "execution_count": 2,
   "id": "6fc4a65d",
   "metadata": {},
   "outputs": [
    {
     "name": "stdout",
     "output_type": "stream",
     "text": [
      "[ 3  6  9 12 15 18 21 24 27 30 33 36 39 42 45 48 51 54 57 60 63 66 69 72\n",
      " 75 78 81 84 87 90 93 96 99]\n"
     ]
    }
   ],
   "source": [
    "import numpy as np\n",
    "arr1 = np.arange(1,101)\n",
    "arr2 = arr1[arr1%3==0]\n",
    "print(arr2)"
   ]
  },
  {
   "cell_type": "code",
   "execution_count": null,
   "id": "14839d03",
   "metadata": {},
   "outputs": [],
   "source": [
    "# [과제] 1 ~ 100까지 정수에서 5의 배수이면서 2의 배수인 것만을 출력(for문과 배열 두가지 방식)\n",
    "\n",
    "#배열\n",
    "arr1 = np.arange(1,101)\n",
    "arr2 = arr1[(arr1%2==0)&(arr1%5==0)]\n",
    "print(arr2)\n",
    "# for문\n",
    "li = []\n",
    "for i in range(1,101):\n",
    "    if i%2 == 0 and i%5==0:\n",
    "        li.append(i)\n",
    "print(li)"
   ]
  },
  {
   "cell_type": "code",
   "execution_count": 12,
   "id": "bbdfb8ee",
   "metadata": {},
   "outputs": [
    {
     "name": "stdout",
     "output_type": "stream",
     "text": [
      "0.2547603576266615\n",
      "1.1464478843578316\n"
     ]
    }
   ],
   "source": [
    "# [과제] 표준정규분포로 구성된 5행 5열 다차원 배열을 생성하고 함수를 이용하여 평균과 표준편차를 구하세요.\n",
    "arr1 = np.random.randn(5,5)\n",
    "ㅔ갸ㅜㅅ\n",
    "print(arr1.mean())\n",
    "print(arr1.std())"
   ]
  },
  {
   "cell_type": "code",
   "execution_count": null,
   "id": "48e09d7d",
   "metadata": {},
   "outputs": [],
   "source": [
    "# [과제] 현재 사용하고 있는 numpy의 버전을 출력하세요.\n",
    "print(numpy.version.version)"
   ]
  },
  {
   "cell_type": "code",
   "execution_count": 3,
   "id": "e6937c88",
   "metadata": {
    "collapsed": true
   },
   "outputs": [
    {
     "name": "stdout",
     "output_type": "stream",
     "text": [
      "     *** Found in numpy ***\n",
      "add(x1, x2, /, out=None, *, where=True, casting='same_kind', order='K', dtype=None, subok=True[, signature, extobj])\n",
      "\n",
      "Add arguments element-wise.\n",
      "\n",
      "Parameters\n",
      "----------\n",
      "x1, x2 : array_like\n",
      "    The arrays to be added.\n",
      "    If ``x1.shape != x2.shape``, they must be broadcastable to a common\n",
      "    shape (which becomes the shape of the output).\n",
      "out : ndarray, None, or tuple of ndarray and None, optional\n",
      "    A location into which the result is stored. If provided, it must have\n",
      "    a shape that the inputs broadcast to. If not provided or None,\n",
      "    a freshly-allocated array is returned. A tuple (possible only as a\n",
      "    keyword argument) must have length equal to the number of outputs.\n",
      "where : array_like, optional\n",
      "    This condition is broadcast over the input. At locations where the\n",
      "    condition is True, the `out` array will be set to the ufunc result.\n",
      "    Elsewhere, the `out` array will retain its original value.\n",
      "    Note that if an uninitialized `out` array is created via the default\n",
      "    ``out=None``, locations within it where the condition is False will\n",
      "    remain uninitialized.\n",
      "**kwargs\n",
      "    For other keyword-only arguments, see the\n",
      "    :ref:`ufunc docs <ufuncs.kwargs>`.\n",
      "\n",
      "Returns\n",
      "-------\n",
      "add : ndarray or scalar\n",
      "    The sum of `x1` and `x2`, element-wise.\n",
      "    This is a scalar if both `x1` and `x2` are scalars.\n",
      "\n",
      "Notes\n",
      "-----\n",
      "Equivalent to `x1` + `x2` in terms of array broadcasting.\n",
      "\n",
      "Examples\n",
      "--------\n",
      ">>> np.add(1.0, 4.0)\n",
      "5.0\n",
      ">>> x1 = np.arange(9.0).reshape((3, 3))\n",
      ">>> x2 = np.arange(3.0)\n",
      ">>> np.add(x1, x2)\n",
      "array([[  0.,   2.,   4.],\n",
      "       [  3.,   5.,   7.],\n",
      "       [  6.,   8.,  10.]])\n",
      "\n",
      "The ``+`` operator can be used as a shorthand for ``np.add`` on ndarrays.\n",
      "\n",
      ">>> x1 = np.arange(9.0).reshape((3, 3))\n",
      ">>> x2 = np.arange(3.0)\n",
      ">>> x1 + x2\n",
      "array([[ 0.,  2.,  4.],\n",
      "       [ 3.,  5.,  7.],\n",
      "       [ 6.,  8., 10.]])\n",
      "----------------------------------------------------------------------------\n",
      "\n",
      "     *** Repeat reference found in numpy.core *** \n",
      "     *** Found in numpy.core.defchararray ***\n",
      " add(x1, x2)\n",
      "\n",
      "Return element-wise string concatenation for two arrays of str or unicode.\n",
      "\n",
      "Arrays `x1` and `x2` must have the same shape.\n",
      "\n",
      "Parameters\n",
      "----------\n",
      "x1 : array_like of str or unicode\n",
      "    Input array.\n",
      "x2 : array_like of str or unicode\n",
      "    Input array.\n",
      "\n",
      "Returns\n",
      "-------\n",
      "add : ndarray\n",
      "    Output array of `string_` or `unicode_`, depending on input types\n",
      "    of the same shape as `x1` and `x2`.\n",
      "----------------------------------------------------------------------------\n",
      "     *** Found in numpy.ma ***\n",
      "add(x1, x2, /, out=None, *, where=True, casting='same_kind', order='K', dtype=None, subok=True[, signature, extobj])\n",
      "\n",
      "Add arguments element-wise.\n",
      "\n",
      "Parameters\n",
      "----------\n",
      "x1, x2 : array_like\n",
      "    The arrays to be added.\n",
      "    If ``x1.shape != x2.shape``, they must be broadcastable to a common\n",
      "    shape (which becomes the shape of the output).\n",
      "out : ndarray, None, or tuple of ndarray and None, optional\n",
      "    A location into which the result is stored. If provided, it must have\n",
      "    a shape that the inputs broadcast to. If not provided or None,\n",
      "    a freshly-allocated array is returned. A tuple (possible only as a\n",
      "    keyword argument) must have length equal to the number of outputs.\n",
      "where : array_like, optional\n",
      "    This condition is broadcast over the input. At locations where the\n",
      "    condition is True, the `out` array will be set to the ufunc result.\n",
      "    Elsewhere, the `out` array will retain its original value.\n",
      "    Note that if an uninitialized `out` array is created via the default\n",
      "    ``out=None``, locations within it where the condition is False will\n",
      "    remain uninitialized.\n",
      "**kwargs\n",
      "    For other keyword-only arguments, see the\n",
      "    :ref:`ufunc docs <ufuncs.kwargs>`.\n",
      "\n",
      "Returns\n",
      "-------\n",
      "add : ndarray or scalar\n",
      "    The sum of `x1` and `x2`, element-wise.\n",
      "    This is a scalar if both `x1` and `x2` are scalars.\n",
      "\n",
      "Notes\n",
      "-----\n",
      "Equivalent to `x1` + `x2` in terms of array broadcasting.\n",
      "\n",
      "Examples\n",
      "--------\n",
      ">>> np.add(1.0, 4.0)\n",
      "5.0\n",
      ">>> x1 = np.arange(9.0).reshape((3, 3))\n",
      ">>> x2 = np.arange(3.0)\n",
      ">>> np.add(x1, x2)\n",
      "array([[  0.,   2.,   4.],\n",
      "       [  3.,   5.,   7.],\n",
      "       [  6.,   8.,  10.]])\n",
      "\n",
      "The ``+`` operator can be used as a shorthand for ``np.add`` on ndarrays.\n",
      "\n",
      ">>> x1 = np.arange(9.0).reshape((3, 3))\n",
      ">>> x2 = np.arange(3.0)\n",
      ">>> x1 + x2\n",
      "array([[ 0.,  2.,  4.],\n",
      "       [ 3.,  5.,  7.],\n",
      "       [ 6.,  8., 10.]])\n",
      "----------------------------------------------------------------------------\n",
      "\n",
      "     *** Repeat reference found in numpy.core._multiarray_umath *** \n",
      "\n",
      "     *** Repeat reference found in numpy.core.multiarray *** \n",
      "\n",
      "     *** Repeat reference found in numpy.core.umath *** \n",
      "\n",
      "     *** Repeat reference found in numpy.core.numeric *** \n",
      "\n",
      "     *** Repeat reference found in numpy.linalg.linalg *** \n",
      "\n",
      "     *** Repeat reference found in numpy.lib.function_base *** \n",
      "\n",
      "     *** Repeat reference found in numpy.ma.core *** \n",
      "\n",
      "     *** Repeat reference found in numpy.ma.extras *** \n",
      "     *** Found in operator ***\n",
      "Same as a + b.\n",
      "----------------------------------------------------------------------------\n",
      "\n",
      "     *** Total of 13 references found. ***\n"
     ]
    }
   ],
   "source": [
    "# [과제] numpy 함수의 도움말 기능을 볼수 있는 방법을 수행하여 add 함수의 가이드를 출력하세요.\n",
    "np.info(np.add)\n",
    "np.info('add')"
   ]
  },
  {
   "cell_type": "code",
   "execution_count": null,
   "id": "999467b5",
   "metadata": {},
   "outputs": [],
   "source": [
    "# [과제] zeros 함수를 이용해서 아래와 같이 출력하세요.\n",
    "# array([0., 0., 0., 0., 1., 0., 0., 0., 0., 0.])\n",
    "arr = np.zeros(10)\n",
    "arr[4]=1\n",
    "arr"
   ]
  },
  {
   "cell_type": "code",
   "execution_count": 4,
   "id": "c3aed66c",
   "metadata": {},
   "outputs": [
    {
     "data": {
      "text/plain": [
       "array([9, 8, 7, 6, 5, 4, 3, 2, 1, 0])"
      ]
     },
     "execution_count": 4,
     "metadata": {},
     "output_type": "execute_result"
    }
   ],
   "source": [
    "# [과제] 인덱싱을 이용하여 아래 배열을 내림차순으로 정렬하세요. 복습시험출제\n",
    "arr = np.array([0, 1, 2, 3, 4, 5, 6, 7, 8, 9])\n",
    "arr[::-1]"
   ]
  },
  {
   "cell_type": "code",
   "execution_count": 5,
   "id": "20ffa34f",
   "metadata": {},
   "outputs": [
    {
     "data": {
      "text/plain": [
       "array([1, 2, 4])"
      ]
     },
     "execution_count": 5,
     "metadata": {},
     "output_type": "execute_result"
    }
   ],
   "source": [
    "# [과제] [1,2,0,0,4,0]에서 zero가 아닌 인덱스를 배열 형태로 출력하세요.\n",
    "arr = np.array([1,2,0,0,4,0])\n",
    "arr[arr>0]"
   ]
  },
  {
   "cell_type": "code",
   "execution_count": 10,
   "id": "91d8b731",
   "metadata": {},
   "outputs": [
    {
     "data": {
      "text/plain": [
       "(array([0, 1, 4], dtype=int64),)"
      ]
     },
     "execution_count": 10,
     "metadata": {},
     "output_type": "execute_result"
    }
   ],
   "source": [
    "# nonzero 는 0이아닌 값의 인덱스를 반환\n",
    "a= np.array([1,2,0,0,4,0])\n",
    "np.nonzero(a) "
   ]
  },
  {
   "cell_type": "code",
   "execution_count": 15,
   "id": "202a1b08",
   "metadata": {},
   "outputs": [
    {
     "data": {
      "text/plain": [
       "array([[0., 0., 0., 0.],\n",
       "       [1., 1., 1., 1.],\n",
       "       [2., 2., 2., 2.],\n",
       "       [3., 3., 3., 3.],\n",
       "       [4., 4., 4., 4.],\n",
       "       [5., 5., 5., 5.],\n",
       "       [6., 6., 6., 6.],\n",
       "       [7., 7., 7., 7.]])"
      ]
     },
     "execution_count": 15,
     "metadata": {},
     "output_type": "execute_result"
    }
   ],
   "source": [
    "# Fancy Indexing 복습시험출제 밑에 다 볼것 오래함\n",
    "arr = np.empty((8,4))\n",
    "arr\n",
    "for i in range(8):\n",
    "    arr[i] = i\n",
    "arr"
   ]
  },
  {
   "cell_type": "code",
   "execution_count": 16,
   "id": "ecbe98aa",
   "metadata": {},
   "outputs": [
    {
     "data": {
      "text/plain": [
       "array([[4., 4., 4., 4.],\n",
       "       [3., 3., 3., 3.],\n",
       "       [0., 0., 0., 0.],\n",
       "       [6., 6., 6., 6.]])"
      ]
     },
     "execution_count": 16,
     "metadata": {},
     "output_type": "execute_result"
    }
   ],
   "source": [
    "arr[[4,3,0,6]]"
   ]
  },
  {
   "cell_type": "code",
   "execution_count": 17,
   "id": "4318b161",
   "metadata": {},
   "outputs": [
    {
     "data": {
      "text/plain": [
       "array([[7., 7., 7., 7.],\n",
       "       [3., 3., 3., 3.],\n",
       "       [2., 2., 2., 2.]])"
      ]
     },
     "execution_count": 17,
     "metadata": {},
     "output_type": "execute_result"
    }
   ],
   "source": [
    "arr[[-1,-5,-6]]"
   ]
  },
  {
   "cell_type": "code",
   "execution_count": 28,
   "id": "8884923b",
   "metadata": {},
   "outputs": [
    {
     "name": "stdout",
     "output_type": "stream",
     "text": [
      "[[ 0  1  2  3]\n",
      " [ 4  5  6  7]\n",
      " [ 8  9 10 11]\n",
      " [12 13 14 15]\n",
      " [16 17 18 19]\n",
      " [20 21 22 23]\n",
      " [24 25 26 27]\n",
      " [28 29 30 31]] \n",
      "\n"
     ]
    },
    {
     "data": {
      "text/plain": [
       "array([ 4, 23, 29, 10])"
      ]
     },
     "execution_count": 28,
     "metadata": {},
     "output_type": "execute_result"
    }
   ],
   "source": [
    "arr = np.arange(32).reshape((8,4))\n",
    "print(arr,'\\n')\n",
    "arr[[1,5,7,2],[0,3,1,2]]"
   ]
  },
  {
   "cell_type": "code",
   "execution_count": 24,
   "id": "2fa70016",
   "metadata": {},
   "outputs": [
    {
     "name": "stdout",
     "output_type": "stream",
     "text": [
      "[[ 4  5  6  7]\n",
      " [20 21 22 23]\n",
      " [28 29 30 31]\n",
      " [ 8  9 10 11]] \n",
      "\n",
      "[[ 4  7  5  6]\n",
      " [20 23 21 22]\n",
      " [28 31 29 30]\n",
      " [ 8 11  9 10]]\n"
     ]
    }
   ],
   "source": [
    "print(arr[[1,5,7,2]],'\\n')\n",
    "print(arr[[1,5,7,2]][:,[0,3,1,2]])#열 순서 뒤바꾸기"
   ]
  },
  {
   "cell_type": "code",
   "execution_count": 27,
   "id": "fe71cbda",
   "metadata": {},
   "outputs": [
    {
     "name": "stdout",
     "output_type": "stream",
     "text": [
      "[[ 0  1  2  3  4]\n",
      " [ 5  6  7  8  9]\n",
      " [10 11 12 13 14]] \n",
      "\n",
      "[[ 0  5 10]\n",
      " [ 1  6 11]\n",
      " [ 2  7 12]\n",
      " [ 3  8 13]\n",
      " [ 4  9 14]]\n"
     ]
    }
   ],
   "source": [
    "# 배열 전치와 축 바꾸기\n",
    "arr = np.arange(15).reshape((3,5))\n",
    "print(arr,'\\n')\n",
    "print(arr.T)"
   ]
  }
 ],
 "metadata": {
  "kernelspec": {
   "display_name": "Python 3 (ipykernel)",
   "language": "python",
   "name": "python3"
  },
  "language_info": {
   "codemirror_mode": {
    "name": "ipython",
    "version": 3
   },
   "file_extension": ".py",
   "mimetype": "text/x-python",
   "name": "python",
   "nbconvert_exporter": "python",
   "pygments_lexer": "ipython3",
   "version": "3.8.12"
  }
 },
 "nbformat": 4,
 "nbformat_minor": 5
}
