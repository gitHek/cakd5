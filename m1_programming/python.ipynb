{
 "cells": [
  {
   "cell_type": "code",
   "execution_count": 116,
   "id": "251525f2",
   "metadata": {},
   "outputs": [
    {
     "name": "stdout",
     "output_type": "stream",
     "text": [
      "12345\n",
      "     12345\n",
      "12.345679\n",
      "          12.346\n"
     ]
    }
   ],
   "source": [
    "# [과제] 아래와 같이 출력하세요.\n",
    "x = 12345\n",
    "print(f'{x:5}')\n",
    "print(f'{x:10}')\n",
    "x = 12.3456789\n",
    "print(f'{x:0.8}')\n",
    "print(f'{x:16.5}')"
   ]
  },
  {
   "cell_type": "code",
   "execution_count": 3,
   "id": "c9583cb2",
   "metadata": {},
   "outputs": [
    {
     "name": "stdout",
     "output_type": "stream",
     "text": [
      "빛이 증가\n"
     ]
    }
   ],
   "source": [
    "# 제어문 - if~elif~else\n",
    "# \"수입과 지출금액을 비교해서 수입이 많은면 저축 증가, 반대이면 빚이 증가, \n",
    "# 같으면 현상 유지\"\n",
    "i = 3,000,000\n",
    "e = 5,000,000\n",
    "\n",
    "if i > e:\n",
    "    print(\"저축 증가\")\n",
    "elif i < e:\n",
    "    print(\"빛이 증가\")\n",
    "else:\n",
    "    print(\"현상유지\")\n",
    "    "
   ]
  },
  {
   "cell_type": "code",
   "execution_count": 6,
   "id": "ca8b79f7",
   "metadata": {},
   "outputs": [
    {
     "name": "stdout",
     "output_type": "stream",
     "text": [
      "5 15 6 20 7 25 "
     ]
    }
   ],
   "source": [
    "# for 반복문\n",
    "numbers = [5,15,6,20,7,25]\n",
    "for number in numbers:\n",
    "    print(number,end=' ')"
   ]
  },
  {
   "cell_type": "code",
   "execution_count": 15,
   "id": "ed4376a0",
   "metadata": {},
   "outputs": [
    {
     "name": "stdout",
     "output_type": "stream",
     "text": [
      "1 2 3 4 5 "
     ]
    }
   ],
   "source": [
    "# for ~ continue ~ break\n",
    "# 1-10  범위의 정수에서 1부터 5까지만 출력하세요\n",
    "for i in range(1,11):\n",
    "    print(i,end=(' '))\n",
    "    if i < 5:\n",
    "        continue\n",
    "    else:\n",
    "        break"
   ]
  },
  {
   "cell_type": "code",
   "execution_count": 41,
   "id": "9bd2e26c",
   "metadata": {},
   "outputs": [
    {
     "name": "stdout",
     "output_type": "stream",
     "text": [
      "15\n",
      "20\n",
      "25\n"
     ]
    }
   ],
   "source": [
    "# numbers 리스트에서 15,20,25를 출력하세요 (for문과 if 조건 사용필수)\n",
    "numbers = [5,15,6,20,7,25]\n",
    "\n",
    "for number in numbers:\n",
    "    if number > 10:\n",
    "        print(number)\n",
    "    else:\n",
    "        continue\n"
   ]
  },
  {
   "cell_type": "code",
   "execution_count": 46,
   "id": "d0063823",
   "metadata": {},
   "outputs": [
    {
     "name": "stdout",
     "output_type": "stream",
     "text": [
      "45\n",
      "1035\n"
     ]
    }
   ],
   "source": [
    "# while \n",
    "# 정수 1부터 n까지  더할 때 그 합이 1000보다 커지게 되는 n과 합을 구하시오\n",
    "n = 1\n",
    "sum = 0\n",
    "while 1: # 1은 true와 같고 0이 false\n",
    "    sum = sum + n\n",
    "    if sum > 1000:\n",
    "        print(n)\n",
    "        print(sum)\n",
    "        break\n",
    "    n = n+1      # 들여쓰기 잘보기"
   ]
  },
  {
   "cell_type": "code",
   "execution_count": 57,
   "id": "e1e0e670",
   "metadata": {},
   "outputs": [
    {
     "name": "stdout",
     "output_type": "stream",
     "text": [
      "166833\n"
     ]
    }
   ],
   "source": [
    "# while 문을 사용해서 1부터 1000까지 정수중에서 3의 배수의 합을 구해보세요\n",
    "n = 0\n",
    "sum = 0\n",
    "while n<1000:\n",
    "    n = n+1\n",
    "    if n%3==0:\n",
    "        sum = sum + n\n",
    "print(sum)"
   ]
  },
  {
   "cell_type": "code",
   "execution_count": 8,
   "id": "196f0994",
   "metadata": {},
   "outputs": [
    {
     "name": "stdout",
     "output_type": "stream",
     "text": [
      "4550\n"
     ]
    }
   ],
   "source": [
    "# [과제] 1부터 100까지의 정수중 5에서 95까지의 합을 구하시오\n",
    "n = 0\n",
    "sum = 0\n",
    "\n",
    "while n < 100:\n",
    "    n = n + 1\n",
    "    if 5<=n<=95:\n",
    "        sum = sum + n\n",
    "print(sum)\n",
    "        "
   ]
  },
  {
   "cell_type": "code",
   "execution_count": 7,
   "id": "07129a9f",
   "metadata": {},
   "outputs": [
    {
     "name": "stdout",
     "output_type": "stream",
     "text": [
      "몫 2\n",
      "나머지 1\n"
     ]
    }
   ],
   "source": [
    "# 5를 2로 나누었을때의 몫과 나머지를 구하세요.\n",
    "a = 5\n",
    "b = 2\n",
    "print(\"몫\",a//b)\n",
    "print(\"나머지\",a%b)"
   ]
  },
  {
   "cell_type": "code",
   "execution_count": 9,
   "id": "74186dab",
   "metadata": {},
   "outputs": [
    {
     "name": "stdout",
     "output_type": "stream",
     "text": [
      "1030301\n"
     ]
    }
   ],
   "source": [
    "# 101의 3승을 구하세요\n",
    "print(101**3)\n"
   ]
  },
  {
   "cell_type": "code",
   "execution_count": 13,
   "id": "ad792c9e",
   "metadata": {},
   "outputs": [
    {
     "name": "stdout",
     "output_type": "stream",
     "text": [
      "Python 3.8.3\n"
     ]
    }
   ],
   "source": [
    "# Python과 3.8.3을 합쳐서 Python 3.8.3으로 출력하세요\n",
    "s1 = \"Python\"\n",
    "s2 = \"3.8.3\"\n",
    "print(s1+\" \"+s2)"
   ]
  },
  {
   "cell_type": "code",
   "execution_count": 5,
   "id": "45cd2e15",
   "metadata": {},
   "outputs": [
    {
     "name": "stdout",
     "output_type": "stream",
     "text": [
      "<class 'int'>\n",
      "<class 'str'>\n",
      "<class 'int'>\n"
     ]
    }
   ],
   "source": [
    "# a = 5 a = '10' a = 15일때 a의 자료형은 무엇인가?\n",
    "a = 5\n",
    "print(type(a))\n",
    "a = '10'\n",
    "print(type(a))\n",
    "a = 15\n",
    "print(type(a))"
   ]
  },
  {
   "cell_type": "code",
   "execution_count": 7,
   "id": "87e50286",
   "metadata": {},
   "outputs": [
    {
     "name": "stdout",
     "output_type": "stream",
     "text": [
      "2\n"
     ]
    }
   ],
   "source": [
    "# 5의 3승을 3으로 나누었을때의 나머지를 복합 대입 연산자를 이용해서 구하세요.\n",
    "a=5\n",
    "a**=3\n",
    "a%=3\n",
    "print(a)"
   ]
  },
  {
   "cell_type": "code",
   "execution_count": 4,
   "id": "e938e528",
   "metadata": {},
   "outputs": [
    {
     "name": "stdout",
     "output_type": "stream",
     "text": [
      "이름을 입력하세요 : 권혁종\n",
      "권혁종님 반갑습니다.\n"
     ]
    }
   ],
   "source": [
    "# 이름을 물어보고 답하는 내용을 출력하세요\n",
    "name = input(\"이름을 입력하세요 : \")\n",
    "print(name+'님 반갑습니다.')"
   ]
  },
  {
   "cell_type": "code",
   "execution_count": 4,
   "id": "54091043",
   "metadata": {},
   "outputs": [
    {
     "name": "stdout",
     "output_type": "stream",
     "text": [
      "첫번째 숫자를 입력하세요3\n",
      "두번째 숫자를 입력하세요7\n",
      "세번째 숫자를 입력하세요9\n",
      "243.0\n"
     ]
    }
   ],
   "source": [
    "# 숫자 3개를 입력해서 첫번째 숫자를 두번째 숫자 승한 뒤에 세번째 숫자로 나누었을 때 \n",
    "# 몫을 구하세요.\n",
    "a=int(input(\"첫번째 숫자를 입력하세요\"))\n",
    "b=int(input(\"두번째 숫자를 입력하세요\"))\n",
    "c=int(input(\"세번째 숫자를 입력하세요\"))\n",
    "print((a**b)/c)"
   ]
  },
  {
   "cell_type": "code",
   "execution_count": 59,
   "id": "177ba10c",
   "metadata": {},
   "outputs": [
    {
     "name": "stdout",
     "output_type": "stream",
     "text": [
      "33165\n"
     ]
    }
   ],
   "source": [
    "#[과제]\n",
    "# Q. while문을 사용해 1부터 1000까지의 정수 중 3과 5의 공배수의 합을 구해보세요.\n",
    "n = 0\n",
    "sum = 0\n",
    "\n",
    "while n<1000:\n",
    "    n = n+1\n",
    "    if n%3==0 and n%5==0:\n",
    "        sum = sum + n\n",
    "print(sum)"
   ]
  },
  {
   "cell_type": "code",
   "execution_count": 9,
   "id": "16b6a5ff",
   "metadata": {},
   "outputs": [
    {
     "name": "stdout",
     "output_type": "stream",
     "text": [
      "첫번째 숫자를 입력하세요 : 1\n",
      "두번째 숫자를 입력하세요 : 2\n",
      "세번째 숫자를 입력하세요 : 3\n",
      "네번째 숫자를 입력하세요 : 4\n",
      "다섯번째 숫자를 입력하세요 : 5\n",
      "12345\n"
     ]
    }
   ],
   "source": [
    "# 1부터 5까지 입력해서 12345를 출력하세요\n",
    "a=input(\"첫번째 숫자를 입력하세요 : \")\n",
    "b=input(\"두번째 숫자를 입력하세요 : \")\n",
    "c=input(\"세번째 숫자를 입력하세요 : \")\n",
    "d=input(\"네번째 숫자를 입력하세요 : \")\n",
    "e=input(\"다섯번째 숫자를 입력하세요 : \")\n",
    "print(a+b+c+d+e)"
   ]
  },
  {
   "cell_type": "code",
   "execution_count": 60,
   "id": "2ed5be27",
   "metadata": {},
   "outputs": [
    {
     "name": "stdout",
     "output_type": "stream",
     "text": [
      "[0, 1, 2, 3, 4, 5, 6, 7, 8, 'b', 'c']\n"
     ]
    }
   ],
   "source": [
    "# [0, 1, 2, 3, 4, 5, 6, 7, 8, 9, 'a', 'b', 'c']에서 9와 'a'를 삭제 후 \n",
    "# 리스트로 출력하세요\n",
    "list = [0,1,2,3,4,5,6,7,8,9,'a','b','c']\n",
    "del list[-4],list[-3]\n",
    "print(list)"
   ]
  },
  {
   "cell_type": "code",
   "execution_count": 61,
   "id": "a19e4303",
   "metadata": {},
   "outputs": [
    {
     "name": "stdout",
     "output_type": "stream",
     "text": [
      "[0, 1, 2, 3, 4, 5, 6, 7, 8, 'b']\n"
     ]
    }
   ],
   "source": [
    "# [0, 1, 2, 3, 4, 5, 6, 7, 8, 'b', 'c']에서 'c'를 삭제 후 출력하세요.\n",
    "list = [0, 1, 2, 3, 4, 5, 6, 7, 8, 'b', 'c']\n",
    "del list[-1]\n",
    "print(list)"
   ]
  },
  {
   "cell_type": "code",
   "execution_count": 63,
   "id": "cdac9634",
   "metadata": {},
   "outputs": [
    {
     "name": "stdout",
     "output_type": "stream",
     "text": [
      "[9, 9, 8, 8, 5, 4, 4, 4, 3, 1]\n"
     ]
    }
   ],
   "source": [
    "# [4, 8, 5, 4, 8, 4, 3, 9, 1, 9]를 내림차순으로 정렬하세요\n",
    "list = [4, 8, 5, 4, 8, 4, 3, 9, 1, 9]\n",
    "list.sort()\n",
    "list.reverse()\n",
    "print(list)"
   ]
  },
  {
   "cell_type": "code",
   "execution_count": 1,
   "id": "399b227c",
   "metadata": {},
   "outputs": [
    {
     "name": "stdout",
     "output_type": "stream",
     "text": [
      "2021년 12월 29일 19시 3분 31초\n"
     ]
    }
   ],
   "source": [
    "# [과제] format 합수를 이용해서 다음과 같은 형식으로 현재 날짜/시간을 출력하세요.\n",
    "# 2021년 12월 29일 15시 47분 32초\n",
    "import datetime\n",
    "t = datetime.datetime.now()\n",
    "f1=\"{}년 {}월 {}일 {}시 {}분 {}초\".format(t.year,t.month,t.day,t.hour,t.minute,t.second)\n",
    "print(f1)"
   ]
  },
  {
   "cell_type": "code",
   "execution_count": 72,
   "id": "c434e980",
   "metadata": {},
   "outputs": [
    {
     "name": "stdout",
     "output_type": "stream",
     "text": [
      "오후입니다.\n"
     ]
    }
   ],
   "source": [
    "# [과제] 현재 시간을 오전과 오후로 구분하는 프로그램을 작성하세요.\n",
    "import datetime\n",
    "t = datetime.datetime.now()\n",
    "if t.hour >= 12:\n",
    "    print(\"오후입니다.\")\n",
    "else:\n",
    "    print(\"오전입니다.\")"
   ]
  },
  {
   "cell_type": "code",
   "execution_count": 76,
   "id": "eef4355c",
   "metadata": {},
   "outputs": [
    {
     "name": "stdout",
     "output_type": "stream",
     "text": [
      "숫자를 입력하세요 : 4\n",
      "짝수입니다.\n"
     ]
    }
   ],
   "source": [
    "# [과제] 함수를 입력하면 홀수 짝수를 판별하는 프로그램 작성\n",
    "n = int(input(\"숫자를 입력하세요 : \"))\n",
    "if n%2==0:\n",
    "    print(\"짝수입니다.\")\n",
    "else:\n",
    "    print(\"홀수입니다.\")"
   ]
  },
  {
   "cell_type": "code",
   "execution_count": 175,
   "id": "a71fd61d",
   "metadata": {},
   "outputs": [
    {
     "name": "stdout",
     "output_type": "stream",
     "text": [
      "태어난 년도를 입력하세요 : 1997\n",
      "당신의 띠는 소띠 입니다.\n"
     ]
    }
   ],
   "source": [
    "# Q. 태어난 연도를 입력받아 띠를 출력하는 프로그램을 작성하세요.\n",
    "# 원숭이, 닭, 개, 돼지, 쥐, 소, 범, 토끼, 용, 뱀, 말, 양띠\n",
    "year = int(input(\"태어난 년도를 입력하세요 : \"))\n",
    "num = year%12\n",
    "animal={'0':'원숭이','1':'닭','2':'개','3':'돼지','4':'쥐','5':'소','6':'범','7':'토끼','8':'용','9':'뱀','10':'말','11':'얌'}\n",
    "print(\"당신의 띠는 \"+animal[str(num)]+\"띠 입니다.\")"
   ]
  },
  {
   "cell_type": "code",
   "execution_count": 95,
   "id": "7860a3d2",
   "metadata": {},
   "outputs": [
    {
     "name": "stdout",
     "output_type": "stream",
     "text": [
      "현재 계절은 추운 겨울입니다.\n"
     ]
    }
   ],
   "source": [
    "#[과제] 계절 구분 프로그램\n",
    "\n",
    "#각 계절별 출력 멘트는 계절에 맞게 창작\n",
    "#if 조건문으로 datetime 모듈을 import해서 datetime.now 함수를 사용해서 작성\n",
    "import datetime\n",
    "now = datetime.datetime.now()\n",
    "if now.month<3 or now.month>11:\n",
    "    print(\"현재 계절은 추운 겨울입니다.\")\n",
    "elif 3<now.month<7:\n",
    "    print(\"현재 계절은 따뜻한 봄입니다.\")\n",
    "elif 6<now.month<9:\n",
    "    print(\"현재 계절은 더운 여름입니다.\")\n",
    "else:\n",
    "    print(\"현재 계절은 쌀쌀한 가을입니다.\")\n"
   ]
  },
  {
   "cell_type": "code",
   "execution_count": null,
   "id": "b7694061",
   "metadata": {},
   "outputs": [],
   "source": [
    "# [과제] 람다 함수를 이용해서 a의 b제곱을 구하는 식을 만들고\n",
    "# a, b가 아래와 같이 주어졌을 때 각각의 값을 구하세요. \n",
    "# a = 2, b = 5\n",
    "# a= 5, b = 2\n"
   ]
  },
  {
   "cell_type": "markdown",
   "id": "e2349593",
   "metadata": {},
   "source": [
    "[과제] 커피 자판기 프로그램\n",
    "\n",
    "시나리오 : 자판기 커피 재고 5잔, 커피 1잔 가격 300원, 재고 범위내에서 300원 이상 돈을 넣으면 거스름돈과 커피를 주고 그렇지 않으면 반환하며 \n",
    " 재고가 소진되면 안내멘트 출력\n",
    "각 Case별 멘트 출력은 상황에 맞게 창작\n",
    "while, if ~ elif ~ else 제어문을 사용하여 작성"
   ]
  },
  {
   "cell_type": "code",
   "execution_count": 165,
   "id": "7c41ffa9",
   "metadata": {
    "scrolled": true
   },
   "outputs": [
    {
     "name": "stdout",
     "output_type": "stream",
     "text": [
      "돈을 넣어주십시오 : 900\n",
      "커피 3잔과 잔돈 0원 나왔습니다.\n",
      "돈을 넣어주십시오 : 1800\n",
      "커피 2잔과 잔돈 1200원 나왔습니다.\n",
      "커피 재고가 부족합니다.\n"
     ]
    }
   ],
   "source": [
    "n = 5\n",
    "while n>0:\n",
    "    m = int(input(\"돈을 넣어주십시오 : \"))\n",
    "    g = (int(m)//300)\n",
    "    if m>1500:\n",
    "        print(\"커피 \"+str(n)+\"잔과 \"+\"잔돈 \"+str(m-(n*300))+\"원 나왔습니다.\")\n",
    "        n = n - g\n",
    "    elif m<300:\n",
    "        print(\"돈이 부족합니다 잔돈 \"+str(m)+\"원 나왔습니다.\")\n",
    "        n = n - g\n",
    "    elif m>300:\n",
    "        print(\"커피 \"+str(g)+\"잔과 \"+\"잔돈 \"+str(m-(300*g))+\"원 나왔습니다.\")\n",
    "        n = n - g\n",
    "    else:\n",
    "        print(\"커피 1잔 나왔습니다.\")\n",
    "        n = n - g\n",
    "        \n",
    "\n",
    "print(\"커피 재고가 부족합니다.\")"
   ]
  }
 ],
 "metadata": {
  "kernelspec": {
   "display_name": "Python 3 (ipykernel)",
   "language": "python",
   "name": "python3"
  },
  "language_info": {
   "codemirror_mode": {
    "name": "ipython",
    "version": 3
   },
   "file_extension": ".py",
   "mimetype": "text/x-python",
   "name": "python",
   "nbconvert_exporter": "python",
   "pygments_lexer": "ipython3",
   "version": "3.8.12"
  }
 },
 "nbformat": 4,
 "nbformat_minor": 5
}
