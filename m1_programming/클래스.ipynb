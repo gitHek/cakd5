{
 "cells": [
  {
   "cell_type": "markdown",
   "id": "1563ede7",
   "metadata": {},
   "source": [
    "## 클래스\n",
    "-클래스(class)란 똑같은 무엇인가를 계속해서 만들어 낼 수 있는 설계 도면이고(과자 틀), 객체(object)란 클래스로 만든 피조물(과자 틀을 사용해 만든 과자)을 뜻한다.\n",
    "-과자 틀 → 클래스 (class)\n",
    "-과자 틀에 의해서 만들어진 과자 → 객체 (object)\n",
    "\n",
    "- class : 함수 + 변수 모아놓은 것\n",
    "- 오브젝트(object) : 클래스를 써서 만든 것\n",
    "- 오브젝트(object) == 인스턴스(instance)\n",
    "- 클래스를 정의한 후, 그 클래스를 사용해서 데이터 객체(인스턴스)를 만들 수 있다.\n",
    "- 동일한 클래스에 의해 만들어진 각 객체들은 유사한 특징을 공유한다.\n",
    "- 모든 인스턴스에서 메소드(=코드)는 동일하지만, 속성(데이터)는 다르다.\n",
    "    - 메소드 : 코드\n",
    "    - 속성 : 데이터\n",
    "    - 인스턴스 : 클래스에 의해 만들어진 데이터 객체\n",
    "    - a = 클래스() 이렇게 만든 a는 객체이다. 그리고 a 객체는 클래스의 인스턴스이다. 즉 인스턴스라는 말은 특정 객체(a)가 어떤 클래스의 객체인지를 관계 위주로 설명할 때 사용\n"
   ]
  },
  {
   "cell_type": "code",
   "execution_count": 4,
   "id": "66abbb7d",
   "metadata": {},
   "outputs": [],
   "source": [
    "#[과제] 클래스의 정의 및 사용하는 방법을 설명"
   ]
  },
  {
   "cell_type": "code",
   "execution_count": 15,
   "id": "41a03a2c",
   "metadata": {},
   "outputs": [
    {
     "name": "stdout",
     "output_type": "stream",
     "text": [
      "손창효\n",
      "25\n",
      "computer\n"
     ]
    }
   ],
   "source": [
    "# 클래스 생성자 (인자가 있는 경우)\n",
    "\n",
    "class Cakd: #클래스의 첫글자는 대문자\n",
    "    def __init__(self,name,age,major):\n",
    "        self.name = name\n",
    "        self.age = age\n",
    "        self.major = major\n",
    "#         print(f'{self.name}는 {self.age}세이며 {self.major}을 전공했습니다.')\n",
    "손창효 = Cakd('손창효',25,'computer')\n",
    "print(손창효.name)\n",
    "print(손창효.age)\n",
    "print(손창효.major)"
   ]
  },
  {
   "cell_type": "code",
   "execution_count": 18,
   "id": "3b4c69c2",
   "metadata": {},
   "outputs": [
    {
     "name": "stdout",
     "output_type": "stream",
     "text": [
      "Cakd 인스턴스 객체가 메모리에서 제거됩니다.\n"
     ]
    }
   ],
   "source": [
    "# 클래스 소멸자 \n",
    "# 클래스 인스턴스 객체가 메모리에서 제거될 때 자동으로 호출되는 클래스 메소드\n",
    "\n",
    "class Cakd:\n",
    "    def __del__(self):\n",
    "        print('Cakd 인스턴스 객체가 메모리에서 제거됩니다.')\n",
    "obj = Cakd()\n",
    "del obj"
   ]
  },
  {
   "cell_type": "markdown",
   "id": "0b133a35",
   "metadata": {},
   "source": [
    "## 클래스 멤버, 클래스 메소드\n",
    "- 클래스를 구성하는 주요 요소는 클래스 멤버(변수)와 클래스 메소드(함수)로 클래스 공간내에서 정의\n",
    "- 클래스 멤버는 클래스 메소드내에서 정의되는 지역변수나 인스턴스 멤버와는 다름\n",
    "- 클래스 메소드는 첫번째 인자가 반드시 self로 시작\n",
    "- self는 이 클래스의 인스턴스 객체를 가리키는 참조자\n",
    "- 인스턴스 객체에서 클래스 메소드 호출시 첫번째 인자인 self를 생략"
   ]
  },
  {
   "cell_type": "code",
   "execution_count": 30,
   "id": "fc43b01a",
   "metadata": {},
   "outputs": [
    {
     "name": "stdout",
     "output_type": "stream",
     "text": [
      "안녕하세요\n",
      "안녕하세요\n"
     ]
    }
   ],
   "source": [
    "class MyClass:\n",
    "    var = '안녕하세요' # 클래스 멤버\n",
    "    def sayHello(self): # 클래스 메소드\n",
    "        return self.var\n",
    "obj = MyClass()\n",
    "print(obj.var)\n",
    "print(obj.sayHello())"
   ]
  },
  {
   "cell_type": "code",
   "execution_count": 37,
   "id": "b4d478ab",
   "metadata": {},
   "outputs": [
    {
     "name": "stdout",
     "output_type": "stream",
     "text": [
      "안녕하세요\n",
      "안녕\n",
      "안녕하세요\n"
     ]
    }
   ],
   "source": [
    "# 클래스 멤버와 인스턴스 멤버\n",
    "# 클래스 멤버는 클래스 메소드 바깥에서 선언되고 인스턴스 멤버는 클래스 메소드 안에서 self와 함께 선언된다\n",
    "\n",
    "class MyClass:\n",
    "    var = '안녕하세요'       # 클래스 멤버\n",
    "    def sayHello(self):      # 클래스 메소드\n",
    "        param1 = '안녕'       # 지역 변수\n",
    "        self.param2 = '하이' # 인스턴스 멤버\n",
    "        print(param1)\n",
    "        print(self.var)\n",
    "\n",
    "obj = MyClass()\n",
    "print(obj.var)\n",
    "obj.sayHello()"
   ]
  },
  {
   "cell_type": "code",
   "execution_count": 48,
   "id": "e8e72870",
   "metadata": {},
   "outputs": [
    {
     "name": "stdout",
     "output_type": "stream",
     "text": [
      "안녕하세요\n",
      "kevin! 다음에 보자\n"
     ]
    }
   ],
   "source": [
    "# 클래스 메소드\n",
    "# 클래스내에서 정의도는 클래스 메소드는 첫번째 인자가 반드시 self여야 한다.\n",
    "\n",
    "class MyClass:\n",
    "    def sayHello(self):\n",
    "        print('안녕하세요')\n",
    "    def sayBye(self,name):\n",
    "        print(f'{name}! 다음에 보자')\n",
    "\n",
    "obj = MyClass()\n",
    "obj.sayHello()\n",
    "obj.sayBye('kevin')"
   ]
  },
  {
   "cell_type": "markdown",
   "id": "20206d2f",
   "metadata": {},
   "source": [
    "## 객체 지향 프로그래밍(Object-Oriented Programming)\n",
    "- 클래스 인스턴스는 객체(object)라고도 하며 이렇게 클래스를 정의하고 객체를 만드는 패턴을 객체 지향 프로그래밍(OOP)이라고 함.\n",
    "- 인스턴스를 불러온다는 것은 클래스를 가져와 객체로 바꿔준다는 것인데 type() 함수를 사용하는 것은 그 반대 \n",
    "- 객체의 type을 확인해 보면 해당 객체가 어떤 클래스의 인스턴스인지를 확인\n",
    "- 파이썬에서 main은 \"현재 실행중인 파일\"을 의미"
   ]
  },
  {
   "cell_type": "code",
   "execution_count": 50,
   "id": "a3a1828d",
   "metadata": {},
   "outputs": [
    {
     "name": "stdout",
     "output_type": "stream",
     "text": [
      "<class '__main__.Test'>\n"
     ]
    }
   ],
   "source": [
    "# 임의의 클래스를 작성한 후 인스턴스를 생성하고 그것의 타입을 확인\n",
    "\n",
    "class Test:\n",
    "    pass\n",
    "\n",
    "test = Test()\n",
    "print(type(test))"
   ]
  },
  {
   "cell_type": "markdown",
   "id": "009cfdf7",
   "metadata": {},
   "source": [
    "## 클래스 상속\n",
    "- 어떤 클래스가 가지고 있는 모든 멤버나 메소드에 대해서 상속받는 클래스가 모두 사용할 수 있도록 해주는 것\n",
    "- 상속을 해주는 클래스가 부모클래스(슈퍼), 상속을 받는 클래스가 자식클래스(서브)라 함. class 자식클래스명(부모클래스명)\n",
    "- 자식클래스는 여러 부모클래스로부터 상속받을 수 있으며 다중상속이라 함 class 자식클래스명(부모클래스1,부모클래스2,...)\n"
   ]
  },
  {
   "cell_type": "code",
   "execution_count": 53,
   "id": "464f4b8a",
   "metadata": {},
   "outputs": [
    {
     "name": "stdout",
     "output_type": "stream",
     "text": [
      "3\n",
      "6\n",
      "4\n",
      "2.0\n"
     ]
    }
   ],
   "source": [
    "class Sum:\n",
    "    def sum(self, n1, n2):\n",
    "        return n1 + n2\n",
    "\n",
    "class Mul:\n",
    "    def mul(self, n1, n2):\n",
    "        return n1*n2\n",
    "    \n",
    "class Cal(Sum,Mul):\n",
    "    def sub(self,n1, n2):\n",
    "        return n1-n2\n",
    "    def div(self,n1,n2):\n",
    "        return n1/n2\n",
    "\n",
    "obj = Cal()\n",
    "print(obj.sum(2,1))\n",
    "print(obj.mul(3,2))\n",
    "print(obj.sub(5,1))\n",
    "print(obj.div(6,3))"
   ]
  },
  {
   "cell_type": "code",
   "execution_count": 63,
   "id": "5c3c858e",
   "metadata": {
    "scrolled": true
   },
   "outputs": [
    {
     "name": "stdout",
     "output_type": "stream",
     "text": [
      "hj, 안녕하세요\n",
      "hj, 다음에 보자\n"
     ]
    }
   ],
   "source": [
    "# Q. 클래스 MyClass를 작성하고 객체를 생성하여 아래와 같이 출력하세요(생성자 사용)\n",
    "# 혁종, 안녕하세요\n",
    "# 혁종, 다음에 보자\n",
    "\n",
    "class MyClass:\n",
    "    def sayHello(self,name):\n",
    "        print(f'{name}, 안녕하세요')\n",
    "    def sayBye(self,name):\n",
    "        print(f'{name}, 다음에 보자')\n",
    "        \n",
    "obj = MyClass()\n",
    "obj.sayHello('hj')\n",
    "obj.sayBye('hj')"
   ]
  },
  {
   "cell_type": "code",
   "execution_count": 64,
   "id": "80363a3d",
   "metadata": {},
   "outputs": [
    {
     "name": "stdout",
     "output_type": "stream",
     "text": [
      "hj, 안녕하세요\n",
      "hj, 다음에 보자\n"
     ]
    }
   ],
   "source": [
    "# 예제\n",
    "class MyClass:\n",
    "    def __init__(self,name):   # 생성자\n",
    "        self.name=name\n",
    "    def sayHello(self):\n",
    "        print(f'{self.name}, 안녕하세요')\n",
    "    def sayBye(self):\n",
    "        print(f'{self.name}, 다음에 보자')\n",
    "obj=MyClass('hj')\n",
    "obj.sayHello()\n",
    "obj.sayBye()"
   ]
  },
  {
   "cell_type": "code",
   "execution_count": 144,
   "id": "6f906592",
   "metadata": {},
   "outputs": [
    {
     "name": "stdout",
     "output_type": "stream",
     "text": [
      "추가할 값을 입력 : 811\n",
      "1811\n",
      "default 값 :  1000\n",
      "1811\n"
     ]
    }
   ],
   "source": [
    "# [과제] 사용자 함수를 작성햐여 기본가격 1000에 입력 받은 값을 추가한 가격을 산출하세요. (지역변수, 전역변수 2가지 방법)\n",
    "    def add1(a):\n",
    "        default = 1000     # 지역변수\n",
    "        default += int(a)\n",
    "        return default\n",
    "    def add2(a):\n",
    "        global default    # 전역변수\n",
    "        default += int(a)\n",
    "\n",
    "    default = 1000\n",
    "    a = input(\"추가할 값을 입력 : \")\n",
    "    print(add1(a))\n",
    "    print('default 값 :',default)\n",
    "    add2(a)\n",
    "    print(default)"
   ]
  },
  {
   "cell_type": "code",
   "execution_count": 2,
   "id": "1b6c521f",
   "metadata": {},
   "outputs": [
    {
     "name": "stdout",
     "output_type": "stream",
     "text": [
      "추가 가격을  입력해주세요 : 100\n",
      "가격:1100원\n"
     ]
    }
   ],
   "source": [
    "# 교수님 예제\n",
    "p = int(input('추가 가격을  입력해주세요 : '))\n",
    "def price(p):\n",
    "    b = 1000\n",
    "    b += p\n",
    "    return b\n",
    "print(f'가격:{price(p)}원')"
   ]
  },
  {
   "cell_type": "code",
   "execution_count": 4,
   "id": "8507cd42",
   "metadata": {},
   "outputs": [
    {
     "name": "stdout",
     "output_type": "stream",
     "text": [
      "추가 가격을  입력해주세요 : 100\n",
      "1100\n"
     ]
    }
   ],
   "source": [
    "b = 1000\n",
    "def price():\n",
    "    global b\n",
    "    p = int(input('추가 가격을  입력해주세요 : '))\n",
    "    b += p\n",
    "\n",
    "price()\n",
    "print(b)"
   ]
  },
  {
   "cell_type": "code",
   "execution_count": 16,
   "id": "e8df2c95",
   "metadata": {},
   "outputs": [
    {
     "name": "stdout",
     "output_type": "stream",
     "text": [
      "첫 번째 숫자 입력: 5\n",
      "두 번째 숫자 입력: 3\n",
      "8\n",
      "2\n",
      "15\n",
      "1.6666666666666667\n"
     ]
    }
   ],
   "source": [
    "# [과제] 4칙 연산 기능을 포함한 Cal4 클래스 (생성자 이용)을 작성하고 이 클래스를 이용하여 Cal 계산기 객체를 만든 후 \n",
    "# 적절한 수를 적용하여 사칙연산 수행결과를 출력하세요.\n",
    "\n",
    "class Cal4:\n",
    "    def __init__(self,n1,n2):\n",
    "        self.n1 = n1\n",
    "        self.n2 = n2\n",
    "    def sum(self):\n",
    "        return self.n1+self.n2\n",
    "    def sub(self):\n",
    "        return self.n1-self.n2\n",
    "    def mul(self):\n",
    "        return self.n1*self.n2\n",
    "    def div(self):\n",
    "        if self.n2 == 0:\n",
    "            return '계산 불가'\n",
    "        else:\n",
    "            return self.n1/self.n2\n",
    "while 1:\n",
    "    try:         \n",
    "        x=int(input(\"첫 번째 숫자 입력: \"))\n",
    "        y=int(input(\"두 번째 숫자 입력: \"))\n",
    "    except:\n",
    "        print(\"숫자를 입력해주세요\")\n",
    "    else:\n",
    "        Cal = Cal4(x,y)\n",
    "        print(Cal.sum())\n",
    "        print(Cal.sub())\n",
    "        print(Cal.mul())\n",
    "        print(Cal.div())\n",
    "        break"
   ]
  },
  {
   "cell_type": "code",
   "execution_count": 17,
   "id": "484a041e",
   "metadata": {},
   "outputs": [
    {
     "name": "stdout",
     "output_type": "stream",
     "text": [
      "첫 번째 숫자 입력: \n",
      "숫자를 입력해주세요.\n",
      "\n",
      "첫 번째 숫자 입력: \n",
      "숫자를 입력해주세요.\n",
      "\n",
      "첫 번째 숫자 입력: 5\n",
      "두 번째 숫자 입력: 3\n",
      "\n",
      "5 + 3 = 8\n",
      "5 - 3 = 2\n",
      "5 * 3 = 15\n",
      "5 / 3 = 1.6666666666666667\n"
     ]
    }
   ],
   "source": [
    "class Cal():\n",
    "    def __init__(cal, x, y):\n",
    "        cal.x=x\n",
    "        cal.y=y\n",
    "        \n",
    "    def getSum(cal):\n",
    "        print(f'{cal.x} + {cal.y} = {cal.x+cal.y}')\n",
    "    def getSub(cal):\n",
    "        print(f'{cal.x} - {cal.y} = {cal.x-cal.y}')\n",
    "    def getMul(cal):\n",
    "        print(f'{cal.x} * {cal.y} = {cal.x*cal.y}')\n",
    "    def getDiv(cal):\n",
    "        print(f'{cal.x} / {cal.y} = {cal.x/cal.y}')\n",
    "            \n",
    "    def getAll(cal):\n",
    "        cal.getSum()\n",
    "        cal.getSub()\n",
    "        cal.getMul()\n",
    "        cal.getDiv()       \n",
    "\n",
    "while 1:\n",
    "    try:         \n",
    "        x=int(input(\"첫 번째 숫자 입력: \"))\n",
    "        y=int(input(\"두 번째 숫자 입력: \"))\n",
    "        if y==0:\n",
    "            print(\"약수로 0을 사용할 순 없습니다. 다시 입력해주세요.\")\n",
    "            print()\n",
    "            continue\n",
    "    except ValueError:\n",
    "        print(\"숫자를 입력해주세요.\")\n",
    "        print()\n",
    "    else:\n",
    "        print()\n",
    "        cal=Cal(x, y)\n",
    "        cal.getAll()\n",
    "        break\n"
   ]
  },
  {
   "cell_type": "code",
   "execution_count": 20,
   "id": "97b6f78f",
   "metadata": {},
   "outputs": [
    {
     "name": "stdout",
     "output_type": "stream",
     "text": [
      "첫 번째 숫자 입력: 1\n",
      "두 번째 숫자 입력: 2\n",
      "1 + 2 = 3\n",
      "1 - 2 = -1\n",
      "1 * 2 = 2\n",
      "1 / 2 = 0.5\n"
     ]
    }
   ],
   "source": [
    "while 1:       \n",
    "    x=int(input(\"첫 번째 숫자 입력: \"))\n",
    "    y=int(input(\"두 번째 숫자 입력: \"))\n",
    "    if x ==0 or y == 0:\n",
    "        print(\"0이 아닌 숫자를 입력하세요\")\n",
    "    else:\n",
    "        cal=Cal(x, y)\n",
    "        cal.getAll()\n",
    "        break\n",
    "        "
   ]
  },
  {
   "cell_type": "code",
   "execution_count": null,
   "id": "393c047d",
   "metadata": {},
   "outputs": [],
   "source": [
    "# [과제] 관심 주제에 대하여 100~ 200라인 정도의 프로그램을 구조지향적으로 \n",
    "# 작성하신 후 클래스를 이용한 객체지향 프로그래밍으로 수정하세요.(필요시 상속 이용)\n"
   ]
  },
  {
   "cell_type": "code",
   "execution_count": 8,
   "id": "5b1e3ab3",
   "metadata": {},
   "outputs": [
    {
     "name": "stdout",
     "output_type": "stream",
     "text": [
      "2000\n",
      "3000\n",
      "4000\n"
     ]
    }
   ],
   "source": [
    "# Q. 기본가격 1000원인 3개의 상품에 대하여 임의의 추가 가격을 인수로 대입시 더한 가격을 산출하세요\n",
    "\n",
    "class Order():\n",
    "    def __init__(self):\n",
    "        self.p =1000\n",
    "    def order(self,price):\n",
    "        self.p += price\n",
    "        return self.p\n",
    "    \n",
    "        \n",
    "pd1 = Order()\n",
    "pd2 = Order()\n",
    "pd3 = Order()\n",
    "print(pd1.order(1000))\n",
    "print(pd2.order(2000))\n",
    "print(pd3.order(3000))"
   ]
  },
  {
   "cell_type": "code",
   "execution_count": 15,
   "id": "7d0d963f",
   "metadata": {
    "scrolled": true
   },
   "outputs": [
    {
     "name": "stdout",
     "output_type": "stream",
     "text": [
      "기본가격 + 추가가격 = 3000원\n",
      "(기본가격 + 추가가격 * 90%) = 2700.0원\n"
     ]
    }
   ],
   "source": [
    "# Q. 기본가격 1000원인 2개의 상풍에 대하여 임의의 추가가격을 입력시 아래 두개의 방식으로 산출하시오\n",
    "# price1 :  기본가격 + 추가가격\n",
    "# price2 : (기본가격 + 추가가격) *90\n",
    "class Order():\n",
    "    def __init__(self):\n",
    "        self.p =1000\n",
    "    def add(self,price):\n",
    "        self.p += price\n",
    "        return self.p\n",
    "    def addsale(self,price):\n",
    "        self.p = (self.p+price)*0.9\n",
    "        return self.p\n",
    "price1 = Order()\n",
    "price2 = Order()\n",
    "print(f'기본가격 + 추가가격 = {price1.add(2000)}원')\n",
    "print(f'(기본가격 + 추가가격 * 90%) = {price2.addsale(2000)}원')\n"
   ]
  },
  {
   "cell_type": "code",
   "execution_count": 43,
   "id": "6b549b69",
   "metadata": {},
   "outputs": [
    {
     "name": "stdout",
     "output_type": "stream",
     "text": [
      "3000\n",
      "2700.0\n"
     ]
    }
   ],
   "source": [
    "class Order():\n",
    "    def __init__(self):\n",
    "        self.p =1000\n",
    "    def add(self,price):\n",
    "        self.p += price\n",
    "        return self.p\n",
    "    def sale(self):\n",
    "        return self.p*0.9\n",
    "price1 = Order()\n",
    "price2 = Order()\n",
    "print(price1.add(2000))\n",
    "print(price1.sale())\n"
   ]
  },
  {
   "cell_type": "code",
   "execution_count": 37,
   "id": "5b254b92",
   "metadata": {},
   "outputs": [
    {
     "name": "stdout",
     "output_type": "stream",
     "text": [
      "당신의 이름은?아아\n",
      "업무미팅 시간은?2\n",
      "안녕하세요 아아님 업무미팅은 2시입니다.\n"
     ]
    }
   ],
   "source": [
    "# [과제] 업무미팅이 2시임을 알려주는 자동 이메일을 클래스 AutoEmal을 작성하여 아래와 같이 출력하세요\n",
    "# 안녕하세요. Kevin님, 업무미팅은 2시입니다.\n",
    "class AutoEmail():\n",
    "    def __init__(self,name,time):\n",
    "        self.name = name\n",
    "        self.time = time\n",
    "    def alarm(self):\n",
    "        return print(f'안녕하세요 {self.name}님 업무미팅은 {self.time}시입니다.')\n",
    "        \n",
    "a = input('당신의 이름은?')\n",
    "b = input('업무미팅 시간은?')\n",
    "c = AutoEmail(a,b)\n",
    "c.alarm()"
   ]
  },
  {
   "cell_type": "code",
   "execution_count": 58,
   "id": "dfd54147",
   "metadata": {},
   "outputs": [
    {
     "data": {
      "text/plain": [
       "'1000원'"
      ]
     },
     "execution_count": 58,
     "metadata": {},
     "output_type": "execute_result"
    }
   ],
   "source": [
    "# Q. Order 클래스를 상속받아 extraOrder 클래스에서 메소드오버리이딩하여 출력가격에 원이 추가되도록 출력하세요\n",
    "class Order():\n",
    "    def __init__(self):\n",
    "        self.p = 1000\n",
    "class extraOrder(Order):\n",
    "    def w(self):\n",
    "        return str(self.p)+'원'\n",
    "price = extraOrder()\n",
    "price.w()"
   ]
  },
  {
   "cell_type": "code",
   "execution_count": 60,
   "id": "40ff3b11",
   "metadata": {
    "scrolled": true
   },
   "outputs": [
    {
     "name": "stdout",
     "output_type": "stream",
     "text": [
      "1000\n",
      "1000원\n"
     ]
    }
   ],
   "source": [
    "class Order:\n",
    "    def __init__(self,name):\n",
    "        self.customer = 0\n",
    "        self.name = name\n",
    "    def order(self,price):\n",
    "        self.customer += price\n",
    "        return self.customer\n",
    "class ExtraOrder(Order):\n",
    "    def order(self,price):        # 메소드오버라이딩\n",
    "        self.customer += price    # order라는 메소드를 덮어씌움\n",
    "        return str(self.customer)+'원'\n",
    "order = Order('Kevin')\n",
    "print(order.order(1000))\n",
    "extraCustomer = ExtraOrder('Kevin')\n",
    "print(extraCustomer.order(1000))"
   ]
  },
  {
   "cell_type": "markdown",
   "id": "edce765d",
   "metadata": {},
   "source": [
    "클래스 사용법과 언더스코어 사용법 참조 사이트\n",
    "# https://ebbnflow.tistory.com/255"
   ]
  },
  {
   "cell_type": "code",
   "execution_count": 62,
   "id": "46c79df9",
   "metadata": {},
   "outputs": [
    {
     "data": {
      "text/plain": [
       "2"
      ]
     },
     "execution_count": 62,
     "metadata": {},
     "output_type": "execute_result"
    }
   ],
   "source": [
    "# 인터프리터에서 마지막 실행결과 값을 가지는 변수로 사용\n",
    "1+1\n",
    "_"
   ]
  },
  {
   "cell_type": "code",
   "execution_count": 70,
   "id": "4e3a0e03",
   "metadata": {},
   "outputs": [
    {
     "name": "stdout",
     "output_type": "stream",
     "text": [
      "hello world!\n",
      "hello world!\n",
      "hello world!\n",
      "hello world!\n",
      "hello world!\n",
      "\n",
      "0\n",
      "1\n",
      "2\n",
      "1 2\n"
     ]
    }
   ],
   "source": [
    "# 변수 값을 굳이 사용할 필요가 없는 경우\n",
    "\n",
    "for _ in range(5):\n",
    "    print('hello world!')\n",
    "print()    \n",
    "for _ in range(3):\n",
    "    print(_)\n",
    "def values():\n",
    "    return (1,2,3,4)  #튜플을 반환\n",
    "\n",
    "a, b,_ ,_= values()    # 반환된 튜플 값중 2개만 필요\n",
    "print(a,b)"
   ]
  },
  {
   "cell_type": "code",
   "execution_count": 81,
   "id": "71f297c9",
   "metadata": {},
   "outputs": [
    {
     "name": "stdout",
     "output_type": "stream",
     "text": [
      "<class '__main__.Order'>\n"
     ]
    }
   ],
   "source": [
    "# 예약어를 변수명으로 사용할 수 없는 경우\n",
    "class Order:\n",
    "    def __init__(self):\n",
    "        self.coffee = \"Americano\"\n",
    "        self.price = 3000\n",
    "        \n",
    "def printClassName(class_):\n",
    "     print(class_)\n",
    "        \n",
    "order = Order()\n",
    "printClassName(order.__class__)"
   ]
  },
  {
   "cell_type": "code",
   "execution_count": 3,
   "id": "630c874f",
   "metadata": {},
   "outputs": [
    {
     "name": "stdout",
     "output_type": "stream",
     "text": [
      "abc\n"
     ]
    }
   ],
   "source": [
    "# 클래스 변수 : 인스턴스 변수와 달리 모든 인스턴스 사이에 공유된 값을 가진 변수\n",
    "\n",
    "class MyClass:\n",
    "    value = 'abc'  # 클래스 변수를 선어\n",
    "\n",
    "if __name__ == '__main__':\n",
    "    print(MyClass.value)\n"
   ]
  },
  {
   "cell_type": "code",
   "execution_count": 32,
   "id": "fbb5e0ec",
   "metadata": {},
   "outputs": [
    {
     "name": "stdout",
     "output_type": "stream",
     "text": [
      "1\n",
      "2\n",
      "3\n"
     ]
    }
   ],
   "source": [
    "class MyClass:   #\n",
    "    value = 0\n",
    "    def __init__(self): # 생성자 객체가 생성될때 자동으로 실행\n",
    "        \n",
    "        MyClass.value += 1  \n",
    "if __name__ == '__main__':\n",
    "    a = MyClass()   # 인스턴스 a 생성\n",
    "    print(MyClass.value)\n",
    "    b = MyClass()   # 인스턴스 b 생성\n",
    "    print(MyClass.value)\n",
    "    c = MyClass()   # 인스턴스 c 생성\n",
    "    print(MyClass.value)"
   ]
  },
  {
   "cell_type": "code",
   "execution_count": 26,
   "id": "5909962e",
   "metadata": {},
   "outputs": [
    {
     "name": "stdout",
     "output_type": "stream",
     "text": [
      "1 honux\n",
      "2 crong\n"
     ]
    }
   ],
   "source": [
    "# 인스턴스 변수\n",
    "class User:\n",
    "    num_users = 0               # 클래스 변수\n",
    "    def __init__(self,name):\n",
    "        self.name = name        # 인스턴스 변수\n",
    "        User.num_users += 1\n",
    "u = User('honux')\n",
    "print(User.num_users,u.name)\n",
    "u2 = User('crong')\n",
    "print(User.num_users,u2.name)"
   ]
  },
  {
   "cell_type": "code",
   "execution_count": 12,
   "id": "9937c0ad",
   "metadata": {},
   "outputs": [
    {
     "name": "stdout",
     "output_type": "stream",
     "text": [
      "I am a Rockstar!\n"
     ]
    }
   ],
   "source": [
    "# 메소드 : 메소드는 클래스 안에서 정의된 함수. 첫번쨰 인수를 항상 self로 지정\n",
    "\n",
    "class Musician:\n",
    "    title = 'Rockstar'\n",
    "    def explanation(self):\n",
    "        print(f'I am a {self.title}!')\n",
    "\n",
    "drummer = Musician()\n",
    "drummer.explanation()"
   ]
  },
  {
   "cell_type": "code",
   "execution_count": 20,
   "id": "5941eaf9",
   "metadata": {},
   "outputs": [
    {
     "name": "stdout",
     "output_type": "stream",
     "text": [
      "113.04\n",
      "28.26\n"
     ]
    }
   ],
   "source": [
    "# 다른 인수가 있는 경우\n",
    "\n",
    "class Circle:\n",
    "    pi = 3.14\n",
    "    def area(self, radius):\n",
    "        return radius**2*self.pi\n",
    "\n",
    "circle = Circle()\n",
    "pizza_area = circle.area(6)\n",
    "print(pizza_area)\n",
    "\n",
    "circle2 = Circle()\n",
    "bottle_area = circle2.area(3)\n",
    "print(bottle_area)"
   ]
  },
  {
   "cell_type": "code",
   "execution_count": 30,
   "id": "d9a298c4",
   "metadata": {
    "scrolled": true
   },
   "outputs": [
    {
     "name": "stdout",
     "output_type": "stream",
     "text": [
      "Hello?!\n"
     ]
    }
   ],
   "source": [
    "# 생성자 (Constructor)\n",
    "# 클래스를 호출할 때 자동으로 어떤 함수를 실행하거나 값을 호출하고 싶은 경우, __init__을 사용한다.\n",
    "\n",
    "# Shouter라는 클래스를 객체로 불러올 때마다 \"Hello?!\"라는 문자열을 출력하세요\n",
    "\n",
    "class Shouter:\n",
    "    def __init__(self):\n",
    "        print('Hello?!')\n",
    "shout = Shouter()"
   ]
  },
  {
   "cell_type": "code",
   "execution_count": 39,
   "id": "96925f90",
   "metadata": {},
   "outputs": [
    {
     "data": {
      "text/plain": [
       "10"
      ]
     },
     "execution_count": 39,
     "metadata": {},
     "output_type": "execute_result"
    }
   ],
   "source": [
    "class ANN:\n",
    "    user = 10\n",
    "class BNN(ANN):\n",
    "    def __init__(self):\n",
    "        self.customer = 15\n",
    "        \n",
    "a = BNN()\n",
    "a.user"
   ]
  }
 ],
 "metadata": {
  "kernelspec": {
   "display_name": "Python 3 (ipykernel)",
   "language": "python",
   "name": "python3"
  },
  "language_info": {
   "codemirror_mode": {
    "name": "ipython",
    "version": 3
   },
   "file_extension": ".py",
   "mimetype": "text/x-python",
   "name": "python",
   "nbconvert_exporter": "python",
   "pygments_lexer": "ipython3",
   "version": "3.8.12"
  }
 },
 "nbformat": 4,
 "nbformat_minor": 5
}
