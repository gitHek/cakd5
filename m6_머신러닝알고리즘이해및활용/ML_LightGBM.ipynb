{
 "cells": [
  {
   "cell_type": "code",
   "execution_count": 1,
   "metadata": {},
   "outputs": [
    {
     "name": "stdout",
     "output_type": "stream",
     "text": [
      "Collecting lightgbm\n",
      "  Downloading lightgbm-3.3.2-py3-none-win_amd64.whl (1.0 MB)\n",
      "Requirement already satisfied: scikit-learn!=0.22.0 in c:\\anaconda3\\envs\\cakd5\\lib\\site-packages (from lightgbm) (1.0.2)\n",
      "Requirement already satisfied: scipy in c:\\anaconda3\\envs\\cakd5\\lib\\site-packages (from lightgbm) (1.7.3)\n",
      "Requirement already satisfied: numpy in c:\\anaconda3\\envs\\cakd5\\lib\\site-packages (from lightgbm) (1.21.5)\n",
      "Requirement already satisfied: wheel in c:\\anaconda3\\envs\\cakd5\\lib\\site-packages (from lightgbm) (0.37.1)\n",
      "Requirement already satisfied: threadpoolctl>=2.0.0 in c:\\anaconda3\\envs\\cakd5\\lib\\site-packages (from scikit-learn!=0.22.0->lightgbm) (3.1.0)\n",
      "Requirement already satisfied: joblib>=0.11 in c:\\anaconda3\\envs\\cakd5\\lib\\site-packages (from scikit-learn!=0.22.0->lightgbm) (1.1.0)\n",
      "Installing collected packages: lightgbm\n",
      "Successfully installed lightgbm-3.3.2\n",
      "Note: you may need to restart the kernel to use updated packages.\n"
     ]
    }
   ],
   "source": [
    "# %pip install lightgbm"
   ]
  },
  {
   "cell_type": "markdown",
   "metadata": {},
   "source": [
    "## LightGBM\n",
    "\n",
    "LightGBM의 트리 분할 방식\n",
    "- 일반적인 GBM 계열의 트리 분할 방식은 균형 트리 분할(Level Wise) 방식을 이용합니다. 이 방법을 이용하면 최대한 균형 잡힌 트리를 생성하면서도 트리의 깊이를 최소화 할 수 있다는 장점이 있습니다. 이러한 방식으로 트리를 생성할 경우 과적합 문제에 더 강한 구조를 갖게 되지만 균형을 맞추기 위한 시간이 필요하다는 단점이 있습니다.\n",
    "- 반면 LightGBM의 경우 일반적인 균형 트리 분할 방식과 다르게 리프 중심 트리 분할(Leaf Wise) 방식을 이용합니다.\n",
    "- 이 방법은 트리의 균형을 맞추지 않고 최대 손실 값(max delta loss)을 가지는 리프 노드를 지속적으로 분할하면서 트리가 깊어지고 비대칭 적인 트리를 만듭니다. 하지만 이러한 방식으로 트리를 계속해서 분할하게 되면 결국 균형 트리 분할 방식보다 예측 오류 손실을 최소화 한다는 방법을 이용\n",
    "\n",
    "LightGBM과 XGBoost를 비교시 장점\n",
    "\n",
    "- 빠른 학습 및 예측 수행 시간\n",
    "- 더 작은 메모리 사용량\n",
    "- 카테코리형 피처의 자동 변환 및 최적 분할\n",
    "\n",
    "LightGBM은 이러한 장점을 가지고 있지만 공식 문서에 따르면 일반적으로 10,000 건 이하의 데이터 세트를 다루는 경우 과적합 문제가 발생하기 쉽다는 단점이 있음\n",
    "\n",
    "https://kimdingko-world.tistory.com/184\n"
   ]
  },
  {
   "cell_type": "code",
   "execution_count": 1,
   "metadata": {},
   "outputs": [],
   "source": [
    "from sklearn.metrics import accuracy_score,precision_score,recall_score,f1_score,roc_auc_score,confusion_matrix\n",
    "def get_clf_eval(y_test,pred=None,pred_proba=None):\n",
    "    con_mat = confusion_matrix(y_test,pred)\n",
    "    acc = accuracy_score(y_test,pred)\n",
    "    pre = precision_score(y_test,pred)\n",
    "    rec = recall_score(y_test,pred)\n",
    "    f1 = f1_score(y_test,pred)\n",
    "    roc_auc = roc_auc_score(y_test,pred_proba)\n",
    "    print(f'오차행렬 : \\n{con_mat}\\n\\nTN = {con_mat[0, 0]}, FP = {con_mat[0, 1]}\\nFN = {con_mat[1, 0]}, TP = {con_mat[1, 1]}\\n')\n",
    "    print(f'정확도 : {acc:.4f}, 정밀도 : {pre:.4f}, 재현율 : {rec:.4f}, f1 점수 : {f1:.4f}, roc_auc : {roc_auc:.4f}')"
   ]
  },
  {
   "cell_type": "code",
   "execution_count": 2,
   "metadata": {},
   "outputs": [
    {
     "name": "stdout",
     "output_type": "stream",
     "text": [
      "[1]\tvalid_0's binary_logloss: 0.575695\n",
      "[2]\tvalid_0's binary_logloss: 0.516024\n",
      "[3]\tvalid_0's binary_logloss: 0.465233\n",
      "[4]\tvalid_0's binary_logloss: 0.422812\n",
      "[5]\tvalid_0's binary_logloss: 0.385791\n",
      "[6]\tvalid_0's binary_logloss: 0.351519\n",
      "[7]\tvalid_0's binary_logloss: 0.323207\n",
      "[8]\tvalid_0's binary_logloss: 0.297094\n",
      "[9]\tvalid_0's binary_logloss: 0.27555\n",
      "[10]\tvalid_0's binary_logloss: 0.256884\n",
      "[11]\tvalid_0's binary_logloss: 0.240112\n",
      "[12]\tvalid_0's binary_logloss: 0.223595\n",
      "[13]\tvalid_0's binary_logloss: 0.208079\n",
      "[14]\tvalid_0's binary_logloss: 0.19438\n",
      "[15]\tvalid_0's binary_logloss: 0.182284\n",
      "[16]\tvalid_0's binary_logloss: 0.170458\n",
      "[17]\tvalid_0's binary_logloss: 0.161145\n",
      "[18]\tvalid_0's binary_logloss: 0.152538\n",
      "[19]\tvalid_0's binary_logloss: 0.145628\n",
      "[20]\tvalid_0's binary_logloss: 0.139185\n",
      "[21]\tvalid_0's binary_logloss: 0.132344\n",
      "[22]\tvalid_0's binary_logloss: 0.127795\n",
      "[23]\tvalid_0's binary_logloss: 0.121971\n",
      "[24]\tvalid_0's binary_logloss: 0.118614\n",
      "[25]\tvalid_0's binary_logloss: 0.114915\n",
      "[26]\tvalid_0's binary_logloss: 0.111384\n",
      "[27]\tvalid_0's binary_logloss: 0.108672\n",
      "[28]\tvalid_0's binary_logloss: 0.106115\n",
      "[29]\tvalid_0's binary_logloss: 0.103932\n",
      "[30]\tvalid_0's binary_logloss: 0.10296\n",
      "[31]\tvalid_0's binary_logloss: 0.10165\n",
      "[32]\tvalid_0's binary_logloss: 0.100916\n",
      "[33]\tvalid_0's binary_logloss: 0.100212\n",
      "[34]\tvalid_0's binary_logloss: 0.0996694\n",
      "[35]\tvalid_0's binary_logloss: 0.0996648\n",
      "[36]\tvalid_0's binary_logloss: 0.0975385\n",
      "[37]\tvalid_0's binary_logloss: 0.0966886\n",
      "[38]\tvalid_0's binary_logloss: 0.0969458\n",
      "[39]\tvalid_0's binary_logloss: 0.0966207\n",
      "[40]\tvalid_0's binary_logloss: 0.0943586\n",
      "[41]\tvalid_0's binary_logloss: 0.0945009\n",
      "[42]\tvalid_0's binary_logloss: 0.0940704\n",
      "[43]\tvalid_0's binary_logloss: 0.0949381\n",
      "[44]\tvalid_0's binary_logloss: 0.0938419\n",
      "[45]\tvalid_0's binary_logloss: 0.0945219\n",
      "[46]\tvalid_0's binary_logloss: 0.0946505\n",
      "[47]\tvalid_0's binary_logloss: 0.0935516\n",
      "[48]\tvalid_0's binary_logloss: 0.0947459\n",
      "[49]\tvalid_0's binary_logloss: 0.0926211\n",
      "[50]\tvalid_0's binary_logloss: 0.0927488\n",
      "[51]\tvalid_0's binary_logloss: 0.091617\n",
      "[52]\tvalid_0's binary_logloss: 0.0924353\n",
      "[53]\tvalid_0's binary_logloss: 0.0919835\n",
      "[54]\tvalid_0's binary_logloss: 0.0923351\n",
      "[55]\tvalid_0's binary_logloss: 0.0922107\n",
      "[56]\tvalid_0's binary_logloss: 0.0935746\n",
      "[57]\tvalid_0's binary_logloss: 0.09317\n",
      "[58]\tvalid_0's binary_logloss: 0.093216\n",
      "[59]\tvalid_0's binary_logloss: 0.0929495\n",
      "[60]\tvalid_0's binary_logloss: 0.0930491\n",
      "[61]\tvalid_0's binary_logloss: 0.0947401\n",
      "[62]\tvalid_0's binary_logloss: 0.0932301\n",
      "[63]\tvalid_0's binary_logloss: 0.0948074\n",
      "[64]\tvalid_0's binary_logloss: 0.0946396\n",
      "[65]\tvalid_0's binary_logloss: 0.0954745\n",
      "[66]\tvalid_0's binary_logloss: 0.0964581\n",
      "[67]\tvalid_0's binary_logloss: 0.0963158\n",
      "[68]\tvalid_0's binary_logloss: 0.0977593\n",
      "[69]\tvalid_0's binary_logloss: 0.0979199\n",
      "[70]\tvalid_0's binary_logloss: 0.0975124\n",
      "[71]\tvalid_0's binary_logloss: 0.0993251\n",
      "[72]\tvalid_0's binary_logloss: 0.0991618\n",
      "[73]\tvalid_0's binary_logloss: 0.101058\n",
      "[74]\tvalid_0's binary_logloss: 0.100438\n",
      "[75]\tvalid_0's binary_logloss: 0.101506\n",
      "[76]\tvalid_0's binary_logloss: 0.102402\n",
      "[77]\tvalid_0's binary_logloss: 0.10309\n",
      "[78]\tvalid_0's binary_logloss: 0.104374\n",
      "[79]\tvalid_0's binary_logloss: 0.105506\n",
      "[80]\tvalid_0's binary_logloss: 0.105448\n",
      "[81]\tvalid_0's binary_logloss: 0.107195\n",
      "[82]\tvalid_0's binary_logloss: 0.108339\n",
      "[83]\tvalid_0's binary_logloss: 0.109736\n",
      "[84]\tvalid_0's binary_logloss: 0.110153\n",
      "[85]\tvalid_0's binary_logloss: 0.110632\n",
      "[86]\tvalid_0's binary_logloss: 0.111081\n",
      "[87]\tvalid_0's binary_logloss: 0.11215\n",
      "[88]\tvalid_0's binary_logloss: 0.111334\n",
      "[89]\tvalid_0's binary_logloss: 0.112906\n",
      "[90]\tvalid_0's binary_logloss: 0.114711\n",
      "[91]\tvalid_0's binary_logloss: 0.114965\n",
      "[92]\tvalid_0's binary_logloss: 0.115308\n",
      "[93]\tvalid_0's binary_logloss: 0.116647\n",
      "[94]\tvalid_0's binary_logloss: 0.117339\n",
      "[95]\tvalid_0's binary_logloss: 0.117156\n",
      "[96]\tvalid_0's binary_logloss: 0.119287\n",
      "[97]\tvalid_0's binary_logloss: 0.118702\n",
      "[98]\tvalid_0's binary_logloss: 0.120836\n",
      "[99]\tvalid_0's binary_logloss: 0.122046\n",
      "[100]\tvalid_0's binary_logloss: 0.122189\n",
      "[101]\tvalid_0's binary_logloss: 0.122953\n",
      "[102]\tvalid_0's binary_logloss: 0.1225\n",
      "[103]\tvalid_0's binary_logloss: 0.121481\n",
      "[104]\tvalid_0's binary_logloss: 0.121278\n",
      "[105]\tvalid_0's binary_logloss: 0.120787\n",
      "[106]\tvalid_0's binary_logloss: 0.119195\n",
      "[107]\tvalid_0's binary_logloss: 0.121698\n",
      "[108]\tvalid_0's binary_logloss: 0.123374\n",
      "[109]\tvalid_0's binary_logloss: 0.122973\n",
      "[110]\tvalid_0's binary_logloss: 0.124496\n",
      "[111]\tvalid_0's binary_logloss: 0.124681\n",
      "[112]\tvalid_0's binary_logloss: 0.12493\n",
      "[113]\tvalid_0's binary_logloss: 0.126587\n",
      "[114]\tvalid_0's binary_logloss: 0.126413\n",
      "[115]\tvalid_0's binary_logloss: 0.128548\n",
      "[116]\tvalid_0's binary_logloss: 0.129725\n",
      "[117]\tvalid_0's binary_logloss: 0.131293\n",
      "[118]\tvalid_0's binary_logloss: 0.130029\n",
      "[119]\tvalid_0's binary_logloss: 0.129651\n",
      "[120]\tvalid_0's binary_logloss: 0.128955\n",
      "[121]\tvalid_0's binary_logloss: 0.128756\n",
      "[122]\tvalid_0's binary_logloss: 0.129203\n",
      "[123]\tvalid_0's binary_logloss: 0.128834\n",
      "[124]\tvalid_0's binary_logloss: 0.129117\n",
      "[125]\tvalid_0's binary_logloss: 0.129237\n",
      "[126]\tvalid_0's binary_logloss: 0.127435\n",
      "[127]\tvalid_0's binary_logloss: 0.127942\n",
      "[128]\tvalid_0's binary_logloss: 0.127419\n",
      "[129]\tvalid_0's binary_logloss: 0.126508\n",
      "[130]\tvalid_0's binary_logloss: 0.126198\n",
      "[131]\tvalid_0's binary_logloss: 0.12631\n",
      "[132]\tvalid_0's binary_logloss: 0.127878\n",
      "[133]\tvalid_0's binary_logloss: 0.127473\n",
      "[134]\tvalid_0's binary_logloss: 0.12791\n",
      "[135]\tvalid_0's binary_logloss: 0.129837\n",
      "[136]\tvalid_0's binary_logloss: 0.131347\n",
      "[137]\tvalid_0's binary_logloss: 0.132297\n",
      "[138]\tvalid_0's binary_logloss: 0.134607\n",
      "[139]\tvalid_0's binary_logloss: 0.134932\n",
      "[140]\tvalid_0's binary_logloss: 0.135356\n",
      "[141]\tvalid_0's binary_logloss: 0.134643\n",
      "[142]\tvalid_0's binary_logloss: 0.13625\n",
      "[143]\tvalid_0's binary_logloss: 0.138629\n",
      "[144]\tvalid_0's binary_logloss: 0.137442\n",
      "[145]\tvalid_0's binary_logloss: 0.136317\n",
      "[146]\tvalid_0's binary_logloss: 0.13744\n",
      "[147]\tvalid_0's binary_logloss: 0.139338\n",
      "[148]\tvalid_0's binary_logloss: 0.141424\n",
      "[149]\tvalid_0's binary_logloss: 0.14076\n",
      "[150]\tvalid_0's binary_logloss: 0.140955\n",
      "[151]\tvalid_0's binary_logloss: 0.140244\n"
     ]
    }
   ],
   "source": [
    "import pandas as pd\n",
    "import numpy as np\n",
    "from sklearn.datasets import load_breast_cancer\n",
    "from sklearn.model_selection import train_test_split\n",
    "from lightgbm import LGBMClassifier\n",
    "import warnings\n",
    "warnings.filterwarnings('ignore')\n",
    "\n",
    "dataset = load_breast_cancer()\n",
    "ftr = dataset.data\n",
    "target = dataset.target\n",
    "\n",
    "X_train,X_test,y_train,y_test = train_test_split(ftr,target,test_size = 0.2,random_state = 10)\n",
    "lgbm_wrapper = LGBMClassifier(n_estimators=400)\n",
    "evals = [(X_test,y_test)]\n",
    "lgbm_wrapper.fit(X_train,y_train,early_stopping_rounds=100,eval_metric = 'logloss',eval_set=evals,verbose=True)\n",
    "preds = lgbm_wrapper.predict(X_test)\n",
    "pred_proba = lgbm_wrapper.predict_proba(X_test)[:,1]"
   ]
  },
  {
   "cell_type": "code",
   "execution_count": 3,
   "metadata": {},
   "outputs": [
    {
     "name": "stdout",
     "output_type": "stream",
     "text": [
      "오차행렬 : \n",
      "[[39  0]\n",
      " [ 3 72]]\n",
      "\n",
      "TN = 39, FP = 0\n",
      "FN = 3, TP = 72\n",
      "\n",
      "정확도 : 0.9737, 정밀도 : 1.0000, 재현율 : 0.9600, f1 점수 : 0.9796, roc_auc : 0.9959\n"
     ]
    }
   ],
   "source": [
    "get_clf_eval(y_test,preds,pred_proba)"
   ]
  },
  {
   "cell_type": "code",
   "execution_count": 4,
   "metadata": {},
   "outputs": [
    {
     "name": "stdout",
     "output_type": "stream",
     "text": [
      "0 : mean radius\n",
      "1 : mean texture\n",
      "2 : mean perimeter\n",
      "3 : mean area\n",
      "4 : mean smoothness\n",
      "5 : mean compactness\n",
      "6 : mean concavity\n",
      "7 : mean concave points\n",
      "8 : mean symmetry\n",
      "9 : mean fractal dimension\n",
      "10 : radius error\n",
      "11 : texture error\n",
      "12 : perimeter error\n",
      "13 : area error\n",
      "14 : smoothness error\n",
      "15 : compactness error\n",
      "16 : concavity error\n",
      "17 : concave points error\n",
      "18 : symmetry error\n",
      "19 : fractal dimension error\n",
      "20 : worst radius\n",
      "21 : worst texture\n",
      "22 : worst perimeter\n",
      "23 : worst area\n",
      "24 : worst smoothness\n",
      "25 : worst compactness\n",
      "26 : worst concavity\n",
      "27 : worst concave points\n",
      "28 : worst symmetry\n",
      "29 : worst fractal dimension\n"
     ]
    }
   ],
   "source": [
    "for i , name in enumerate(dataset.feature_names):\n",
    "    print(f'{i} : {name}')"
   ]
  },
  {
   "cell_type": "code",
   "execution_count": 5,
   "metadata": {},
   "outputs": [
    {
     "data": {
      "text/plain": [
       "<AxesSubplot:title={'center':'Feature importance'}, xlabel='Feature importance', ylabel='Features'>"
      ]
     },
     "execution_count": 5,
     "metadata": {},
     "output_type": "execute_result"
    },
    {
     "data": {
      "image/png": "[encoded data removed]",
      "text/plain": [
       "<Figure size 720x864 with 1 Axes>"
      ]
     },
     "metadata": {
      "needs_background": "light"
     },
     "output_type": "display_data"
    }
   ],
   "source": [
    "from lightgbm import plot_importance\n",
    "import matplotlib.pyplot as plt\n",
    "\n",
    "fig , ax = plt.subplots(figsize = (10,12))\n",
    "plot_importance(lgbm_wrapper,ax=ax)"
   ]
  }
 ],
 "metadata": {
  "interpreter": {
   "hash": "920a39406dfdb36f67557ac5da90b10b9d5ec29f943ddf35185db243b71dc8bd"
  },
  "kernelspec": {
   "display_name": "Python 3.9.7 ('cakd5')",
   "language": "python",
   "name": "python3"
  },
  "language_info": {
   "codemirror_mode": {
    "name": "ipython",
    "version": 3
   },
   "file_extension": ".py",
   "mimetype": "text/x-python",
   "name": "python",
   "nbconvert_exporter": "python",
   "pygments_lexer": "ipython3",
   "version": "3.9.7"
  },
  "orig_nbformat": 4
 },
 "nbformat": 4,
 "nbformat_minor": 2
}
