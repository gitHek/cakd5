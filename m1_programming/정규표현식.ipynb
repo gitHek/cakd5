{
 "cells": [
  {
   "cell_type": "markdown",
   "id": "4a6a9db1",
   "metadata": {},
   "source": [
    "## 정규표현식의 기초, 메타문자\n",
    "\n",
    "- . , ^ , $ , * , + , ? , {} , [] , \\ , | , ()\n",
    "- [] 문자 클래스\n",
    " - \\d 숫자와 매치, [0-9]와 동일한 표현식\n",
    " - \\D 숫자가 아닌 것과 매치, [^0-9]와 동일한 표현식\n",
    " - \\s whitespace 문자와 매치, [ \\t\\n\\r\\f\\v]와 동일한 표현식\n",
    " - \\S whitrespace 문자가 아닌 것과 매치, [^ \\t\\n\\r\\f\\v]와 동일한 표현식\n",
    " - \\w 문자 + 숫자와 매치, [a-zA-z0-9]와 동일한 표현식\n",
    " - \\W 문자 + 숫자가 아닌 것과 매치, [^a-zA-Z0-9]와 동일한 표현식\n",
    "\n",
    "- whitespace\n",
    " - 스페이스 바(아스키코드 32)\n",
    " - \\b 뒤로 한 칸 이동(Backspace) (아스키코드 8)\n",
    " - \\t 수평탭 간격 띄우기 (아스키코드)\n",
    " - \\n 줄바꿈\n",
    " - \\v 수직탭 간격 띄우기\n",
    " - \\f 프린트 출력 용지를 한 페이지 넘김\n",
    " - \\r 동일한 줄의 맨 앞에서 커서이동\n",
    " \n",
    "- Dot (.) 메타 문자는 줄바꿈 문자인 \\n를 제외한 모든 문자와 매치됨을 의미\n",
    "- 반복(\\*) ca*t 0부터 무한대로 반복되면 매치 ex) ct, caaaat\n",
    "- 반복(\\+) ca+t 최소 1번 이상 반복 ex) cat, caaaat (ct는 매치안됨)\n",
    "- ca[m,n] a 반복 횟수가 m부터 n까지인것을 매치\n",
    "- ca{2}t는 c+a(2번 반복)+t 의 의미\n",
    "- 반복 횟수가 [1,]은 1이상, [0,]은 0이상인 경우로 +,*과 동일하며 [,1]은 반복횟수가 1이하를 의미\n",
    "- ab?c b가 0~1번 사용되면 매치되는 것으로 ?는 앞에 v가 있어도 되고 없어도 된다.\n",
    "\n",
    "re 모듈 : 파이썬은 정규표현식을 지원하기 위해 기본으로 제고\n",
    "- re.compile의 결과로 리턴되는 객체를 이용하여 그 이후 작업 수행\n",
    "\n",
    "정규표현식을 이용한 문자열 검색\n",
    "- match() :  문자열의 처음부터 정규식과 매치되는지를 조사 (처음 1개만 출력)\n",
    "- serach() : 문자열의 전체를 검색하여 정규식과 매치되는지 조사 (처음 1개만 출력)\n",
    "- findall() : 정규식과 매치되는 모든 문자열을 리스트로 리턴\n",
    "- finditer() : 정규식과 매치되는 모든 문자열을 반복 가능한 객체로 리턴"
   ]
  },
  {
   "cell_type": "code",
   "execution_count": 5,
   "id": "31776191",
   "metadata": {},
   "outputs": [
    {
     "name": "stdout",
     "output_type": "stream",
     "text": [
      "<re.Match object; span=(0, 7), match='python '>\n"
     ]
    }
   ],
   "source": [
    "import re\n",
    "p = re.compile('[a-z]+\\s')\n",
    "m = p.match('python python')\n",
    "print(m)"
   ]
  },
  {
   "cell_type": "code",
   "execution_count": 11,
   "id": "62205faf",
   "metadata": {},
   "outputs": [
    {
     "data": {
      "text/plain": [
       "<re.Match object; span=(0, 7), match='python '>"
      ]
     },
     "execution_count": 11,
     "metadata": {},
     "output_type": "execute_result"
    }
   ],
   "source": [
    "re.match('[a-z]+\\s','python python')"
   ]
  },
  {
   "cell_type": "code",
   "execution_count": 8,
   "id": "c7267529",
   "metadata": {},
   "outputs": [
    {
     "data": {
      "text/plain": [
       "['python ']"
      ]
     },
     "execution_count": 8,
     "metadata": {},
     "output_type": "execute_result"
    }
   ],
   "source": [
    "p.findall('python python')"
   ]
  },
  {
   "cell_type": "code",
   "execution_count": 13,
   "id": "c98a7434",
   "metadata": {},
   "outputs": [
    {
     "name": "stdout",
     "output_type": "stream",
     "text": [
      "None\n"
     ]
    }
   ],
   "source": [
    "m = p.match('3python ')\n",
    "print(m)"
   ]
  },
  {
   "cell_type": "code",
   "execution_count": 17,
   "id": "85a99b17",
   "metadata": {},
   "outputs": [
    {
     "name": "stdout",
     "output_type": "stream",
     "text": [
      "<re.Match object; span=(1, 8), match='python '>\n"
     ]
    }
   ],
   "source": [
    "s = p.search('3python ')\n",
    "print(s)"
   ]
  },
  {
   "cell_type": "code",
   "execution_count": 63,
   "id": "b7e6b679",
   "metadata": {},
   "outputs": [
    {
     "name": "stdout",
     "output_type": "stream",
     "text": [
      "<re.Match object; span=(1, 4), match='ank'>\n",
      "<re.Match object; span=(0, 6), match='banker'>\n"
     ]
    }
   ],
   "source": [
    "# 문자 클래스 : []\n",
    "pattern = re.compile('[a-z]+')\n",
    "p1 = pattern.search('Banker')\n",
    "p2 = pattern.search('banker')\n",
    "print(p1)\n",
    "print(p2)"
   ]
  },
  {
   "cell_type": "code",
   "execution_count": 28,
   "id": "efd3da53",
   "metadata": {},
   "outputs": [
    {
     "data": {
      "text/plain": [
       "'a'"
      ]
     },
     "execution_count": 28,
     "metadata": {},
     "output_type": "execute_result"
    }
   ],
   "source": [
    "# Q. '12345abc'에서 'a'만 출력하세요\n",
    "a = re.compile('[a]')\n",
    "text = '1234abc'\n",
    "b = a.findall(text)\n",
    "m = a.search(text)\n",
    "m.group()"
   ]
  },
  {
   "cell_type": "code",
   "execution_count": 54,
   "id": "56c8b9c0",
   "metadata": {},
   "outputs": [
    {
     "data": {
      "text/plain": [
       "'A'"
      ]
     },
     "execution_count": 54,
     "metadata": {},
     "output_type": "execute_result"
    }
   ],
   "source": [
    "# Q. '12345Abc'에서 A만 출력하세요\n",
    "pattern = re.compile('[A]')\n",
    "text = '12345Abc'\n",
    "s = pattern.search(text)\n",
    "s.group()"
   ]
  },
  {
   "cell_type": "code",
   "execution_count": 15,
   "id": "5071c16e",
   "metadata": {},
   "outputs": [
    {
     "data": {
      "text/plain": [
       "'대'"
      ]
     },
     "execution_count": 15,
     "metadata": {},
     "output_type": "execute_result"
    }
   ],
   "source": [
    "# [과제] 'KOREA 대한민국'에서 '대'만 출력하세요.\n",
    "pattern = re.compile('[대]')\n",
    "text = 'KOREA 대한민국'\n",
    "s = pattern.search(text)\n",
    "s.group()"
   ]
  },
  {
   "cell_type": "code",
   "execution_count": 27,
   "id": "bcc2191e",
   "metadata": {},
   "outputs": [
    {
     "data": {
      "text/plain": [
       "'대한민국'"
      ]
     },
     "execution_count": 27,
     "metadata": {},
     "output_type": "execute_result"
    }
   ],
   "source": [
    "# 교수님 예제\n",
    "import re\n",
    "p = re.compile('[가-힣]+') # [가-힣] = 모든 한글문자열\n",
    "s = p.search('KOREA 대한민국')\n",
    "s.group()\n"
   ]
  },
  {
   "cell_type": "code",
   "execution_count": 25,
   "id": "8b5d4ed0",
   "metadata": {},
   "outputs": [
    {
     "data": {
      "text/plain": [
       "'122333c'"
      ]
     },
     "execution_count": 25,
     "metadata": {},
     "output_type": "execute_result"
    }
   ],
   "source": [
    "# Q. '122333c'를 모두 출력하세요.\n",
    "import re\n",
    "p = re.compile('12{2}3{3}c')\n",
    "text = '122333c'\n",
    "m = p.search(text)\n",
    "m.group()"
   ]
  },
  {
   "cell_type": "code",
   "execution_count": 26,
   "id": "e08a2759",
   "metadata": {},
   "outputs": [
    {
     "data": {
      "text/plain": [
       "'aaaaBBBcccDDDeee'"
      ]
     },
     "execution_count": 26,
     "metadata": {},
     "output_type": "execute_result"
    }
   ],
   "source": [
    "# [과제] 'aaaaBBBcccDDDeee'를 모두 출력하세요\n",
    "pattern = re.compile('\\w+')\n",
    "text = 'aaaaBBBcccDDDeee'\n",
    "s = pattern.search(text)\n",
    "s.group()"
   ]
  },
  {
   "cell_type": "code",
   "execution_count": 34,
   "id": "72b2ac3f",
   "metadata": {
    "scrolled": false
   },
   "outputs": [
    {
     "name": "stdout",
     "output_type": "stream",
     "text": [
      "<re.Match object; span=(1, 2), match='C'>\n",
      "<re.Match object; span=(0, 1), match='C'>\n",
      "<re.Match object; span=(2, 3), match='C'>\n"
     ]
    }
   ],
   "source": [
    "# [과제] BC, CC, ABC 모두 C가 출력되는 정규 표현식을 () 에 작성하세요\n",
    "import re\n",
    "pattern = re.compile('[C]')\n",
    "text1 = 'BC'\n",
    "text2 = 'CC'\n",
    "text3 = 'ABC'\n",
    "p1 = pattern.search(text1)\n",
    "p2 = pattern.search(text2)\n",
    "p3 = pattern.search(text3)\n",
    "print(p1)\n",
    "print(p2)\n",
    "print(p3)"
   ]
  },
  {
   "cell_type": "code",
   "execution_count": 51,
   "id": "6d9e3794",
   "metadata": {},
   "outputs": [
    {
     "name": "stdout",
     "output_type": "stream",
     "text": [
      "<re.Match object; span=(1, 2), match='C'>\n",
      "<re.Match object; span=(0, 1), match='C'>\n",
      "<re.Match object; span=(2, 3), match='C'>\n"
     ]
    }
   ],
   "source": [
    "import re\n",
    "pattern = re.compile('A?C')\n",
    "text1 = 'BC'\n",
    "text2 = 'CC'\n",
    "text3 = 'ABC'\n",
    "p1 = pattern.search(text1)\n",
    "p2 = pattern.search(text2)\n",
    "p3 = pattern.search(text3)\n",
    "print(p1)\n",
    "print(p2)\n",
    "print(p3)"
   ]
  },
  {
   "cell_type": "code",
   "execution_count": 31,
   "id": "112e0c74",
   "metadata": {},
   "outputs": [
    {
     "name": "stdout",
     "output_type": "stream",
     "text": [
      "['C']\n",
      "['C']\n",
      "['C']\n"
     ]
    }
   ],
   "source": [
    "import re\n",
    "pattern = re.compile('[C]$')\n",
    "text1 = 'BC'\n",
    "text2 = 'CC'\n",
    "text3 = 'ABC'\n",
    "p1 = pattern.findall(text1)\n",
    "p2 = pattern.findall(text2)\n",
    "p3 = pattern.findall(text3)\n",
    "print(p1)\n",
    "print(p2)\n",
    "print(p3)"
   ]
  },
  {
   "cell_type": "code",
   "execution_count": 55,
   "id": "b739203d",
   "metadata": {},
   "outputs": [
    {
     "name": "stdout",
     "output_type": "stream",
     "text": [
      "['life', 'is', 'too', 'short']\n",
      "<re.Match object; span=(0, 4), match='life'>\n",
      "<re.Match object; span=(0, 4), match='life'>\n"
     ]
    }
   ],
   "source": [
    "p = re.compile('[a-z]+')\n",
    "result1 = p.findall('life is too short')\n",
    "result2 = p.match('life is too short')\n",
    "result3 = p.search('life is too short')\n",
    "\n",
    "print(result1)\n",
    "print(result2)\n",
    "print(result3)"
   ]
  },
  {
   "cell_type": "code",
   "execution_count": 44,
   "id": "24cf9a75",
   "metadata": {},
   "outputs": [
    {
     "name": "stdout",
     "output_type": "stream",
     "text": [
      "life\n",
      "is\n",
      "too\n",
      "short\n"
     ]
    }
   ],
   "source": [
    "# finditer는 findall과 동일하지만 그 결과로 반복 가능한 객체를 돌려준다\n",
    "result = p.finditer('life is too short')\n",
    "\n",
    "#list(result)\n",
    "for r in result:print(r.group())"
   ]
  },
  {
   "cell_type": "code",
   "execution_count": 43,
   "id": "67638c43",
   "metadata": {},
   "outputs": [
    {
     "data": {
      "text/plain": [
       "'032-232-3245'"
      ]
     },
     "execution_count": 43,
     "metadata": {},
     "output_type": "execute_result"
    }
   ],
   "source": [
    "# [과제] 정규표현식을 사용하여 text에서 전화번호만 출력하세요.\n",
    "# text = \"문의사항이 있으면 032-232-3245로 연락주시기 바랍니다.\"\n",
    "import re\n",
    "petten = re.compile(r'(\\d+)-(\\d+)-(\\d+)')\n",
    "text = \"문의사항이 있으면 032-232-3245로 연락주시기 바랍니다.\"\n",
    "a = petten.search(text)\n",
    "a.group()"
   ]
  },
  {
   "cell_type": "code",
   "execution_count": 60,
   "id": "88bd3f5f",
   "metadata": {},
   "outputs": [
    {
     "data": {
      "text/plain": [
       "['1', '2', '3', '4', '1', '2', '3', '4']"
      ]
     },
     "execution_count": 60,
     "metadata": {},
     "output_type": "execute_result"
    }
   ],
   "source": [
    "# Q. '1234a1234'에서 '1','2','3','4',를 모두 출력하세요.\n",
    "\n",
    "p = re.compile('\\d')\n",
    "text = '1234a1234'\n",
    "p.findall(text)"
   ]
  },
  {
   "cell_type": "code",
   "execution_count": 39,
   "id": "93f15b9b",
   "metadata": {},
   "outputs": [
    {
     "name": "stdout",
     "output_type": "stream",
     "text": [
      "['1', '2', '3', '4']\n"
     ]
    }
   ],
   "source": [
    "p = re.compile('\\d')\n",
    "text = '1234a1234'\n",
    "text1 = p.findall(text)\n",
    "print(sorted(set(text1)))\n"
   ]
  },
  {
   "cell_type": "code",
   "execution_count": 88,
   "id": "57c66db4",
   "metadata": {},
   "outputs": [
    {
     "data": {
      "text/plain": [
       "['Python', 'is', 'very', 'good', 'programming', 'language']"
      ]
     },
     "execution_count": 88,
     "metadata": {},
     "output_type": "execute_result"
    }
   ],
   "source": [
    "#  ' Python3 is very good programming language!' 에서 ['Python','is',very','good','programming','language']를 모두 출력하세요\n",
    "p = re.compile('[A-Za-z]+')\n",
    "text = ' Python3 is very good programming language!'\n",
    "p.findall(text)"
   ]
  },
  {
   "cell_type": "code",
   "execution_count": 159,
   "id": "a0e8e6d7",
   "metadata": {},
   "outputs": [
    {
     "name": "stdout",
     "output_type": "stream",
     "text": [
      "python\n",
      "0\n",
      "6\n",
      "(0, 6)\n"
     ]
    }
   ],
   "source": [
    "# match 객체의 메소드\n",
    "import re\n",
    "p = re.compile('[a-z]+')\n",
    "m = p.match('python')\n",
    "print(m.group())\n",
    "print(m.start())\n",
    "print(m.end())\n",
    "print(m.span())"
   ]
  },
  {
   "cell_type": "code",
   "execution_count": 156,
   "id": "b44912be",
   "metadata": {},
   "outputs": [
    {
     "name": "stdout",
     "output_type": "stream",
     "text": [
      "python\n",
      "2\n",
      "8\n",
      "(2, 8)\n"
     ]
    }
   ],
   "source": [
    "m = p.search('3 python')\n",
    "print(m.group())\n",
    "print(m.start())\n",
    "print(m.end())\n",
    "print(m.span())"
   ]
  },
  {
   "cell_type": "code",
   "execution_count": 161,
   "id": "c1e0d670",
   "metadata": {},
   "outputs": [
    {
     "name": "stdout",
     "output_type": "stream",
     "text": [
      "python\n",
      "0\n",
      "6\n",
      "(0, 6)\n"
     ]
    }
   ],
   "source": [
    "# 모듈 단위로 수행하기\n",
    "p = re.match('[a-z]+','python')\n",
    "print(m.group())\n",
    "print(m.start())\n",
    "print(m.end())\n",
    "print(m.span())"
   ]
  },
  {
   "cell_type": "code",
   "execution_count": 168,
   "id": "12560a4c",
   "metadata": {},
   "outputs": [
    {
     "name": "stdout",
     "output_type": "stream",
     "text": [
      "None\n",
      "acb\n",
      "a12!!???aAb\n"
     ]
    }
   ],
   "source": [
    "# Dot(.) 메타 문자   모든문자지만 개행만 포함안됨\n",
    "import re\n",
    "p = re.compile('a.+b')\n",
    "m1 = p.match('a\\nb')\n",
    "m2 = p.match('acb')\n",
    "m3 = p.match('a12!!???aAb')\n",
    "print(m1)\n",
    "print(m2.group())\n",
    "print(m3.group())"
   ]
  },
  {
   "cell_type": "code",
   "execution_count": 171,
   "id": "c7c140b0",
   "metadata": {},
   "outputs": [
    {
     "data": {
      "text/plain": [
       "'a\\nb'"
      ]
     },
     "execution_count": 171,
     "metadata": {},
     "output_type": "execute_result"
    }
   ],
   "source": [
    "p = re.compile('a.b',re.DOTALL)  # re.DOTALL을 쓰면 개행까지 포함\n",
    "m = p.match('a\\nb')\n",
    "m.group()"
   ]
  },
  {
   "cell_type": "code",
   "execution_count": 174,
   "id": "da2ec53c",
   "metadata": {
    "scrolled": true
   },
   "outputs": [
    {
     "name": "stdout",
     "output_type": "stream",
     "text": [
      "<re.Match object; span=(0, 6), match='python'>\n",
      "<re.Match object; span=(0, 6), match='Python'>\n",
      "<re.Match object; span=(0, 6), match='PYTHON'>\n",
      "<re.Match object; span=(2, 8), match='python'>\n",
      "<re.Match object; span=(2, 8), match='Python'>\n",
      "<re.Match object; span=(2, 8), match='PYTHON'>\n"
     ]
    }
   ],
   "source": [
    "# re.IGNORANCE 또는 re.I 옵션은 대소문자 구분없이 매치를 수행 시 사용\n",
    "p = re.compile('[a-z]+',re.I)\n",
    "\n",
    "print(p.match('python'))\n",
    "print(p.match('Python'))\n",
    "print(p.match('PYTHON'))\n",
    "\n",
    "print(p.search('3 python'))\n",
    "print(p.search('3 Python'))\n",
    "print(p.search('3 PYTHON'))"
   ]
  },
  {
   "cell_type": "code",
   "execution_count": 183,
   "id": "192e22d7",
   "metadata": {},
   "outputs": [
    {
     "name": "stdout",
     "output_type": "stream",
     "text": [
      "['python one']\n"
     ]
    }
   ],
   "source": [
    "# ^ 문자열의 맨 처음\n",
    "p = re.compile('^python\\s\\w+')\n",
    "\n",
    "data = '''python one\n",
    "life is too short\n",
    "python two\n",
    "you need python\n",
    "python three'''\n",
    "\n",
    "print(p.findall(data))"
   ]
  },
  {
   "cell_type": "code",
   "execution_count": 182,
   "id": "12920594",
   "metadata": {},
   "outputs": [
    {
     "name": "stdout",
     "output_type": "stream",
     "text": [
      "['python three']\n"
     ]
    }
   ],
   "source": [
    "# $ 문자열의 끝과 매치\n",
    "p = re.compile('python\\s\\w+$')\n",
    "\n",
    "data = '''python one\n",
    "life is too short\n",
    "python two\n",
    "you need python\n",
    "python three'''\n",
    "\n",
    "print(p.findall(data))"
   ]
  },
  {
   "cell_type": "code",
   "execution_count": 192,
   "id": "a0c1ce92",
   "metadata": {},
   "outputs": [
    {
     "name": "stdout",
     "output_type": "stream",
     "text": [
      "<re.Match object; span=(0, 4), match='Crow'>\n"
     ]
    }
   ],
   "source": [
    "# | or와 동일한 의미\n",
    "\n",
    "p = re.compile('Crow|Servo')\n",
    "m = p.match('CrowHello')\n",
    "print(m)"
   ]
  },
  {
   "cell_type": "code",
   "execution_count": 35,
   "id": "f2c1339d",
   "metadata": {},
   "outputs": [
    {
     "name": "stdout",
     "output_type": "stream",
     "text": [
      "<re.Match object; span=(0, 8), match='\\\\section'>\n"
     ]
    },
    {
     "data": {
      "text/plain": [
       "['\\\\section', '\\\\section']"
      ]
     },
     "execution_count": 35,
     "metadata": {},
     "output_type": "execute_result"
    }
   ],
   "source": [
    "# Raw String 규칙\n",
    "# \n",
    "p = re.compile(r'\\\\section')\n",
    "print(p.match('\\\\section'))\n",
    "p.findall('\\\\section\\\\section')"
   ]
  },
  {
   "cell_type": "code",
   "execution_count": 5,
   "id": "9eaa7730",
   "metadata": {
    "scrolled": true
   },
   "outputs": [
    {
     "name": "stdout",
     "output_type": "stream",
     "text": [
      "<re.Match object; span=(13, 17), match='home'>\n"
     ]
    }
   ],
   "source": [
    "# Q. 'we are going home'에서 home만 출력하세요\n",
    "import re\n",
    "p = re.compile('home$')\n",
    "a = p.search('we are going home')\n",
    "print(a)"
   ]
  },
  {
   "cell_type": "code",
   "execution_count": 7,
   "id": "04e7e3e6",
   "metadata": {},
   "outputs": [
    {
     "data": {
      "text/plain": [
       "<re.Match object; span=(0, 4), match='home'>"
      ]
     },
     "execution_count": 7,
     "metadata": {},
     "output_type": "execute_result"
    }
   ],
   "source": [
    "# [과제] 'home sweet'에서 home만 출력하세요\n",
    "import re\n",
    "p = re.compile('^home')\n",
    "p.search('home sweet')"
   ]
  },
  {
   "cell_type": "code",
   "execution_count": 5,
   "id": "4414a9a1",
   "metadata": {},
   "outputs": [
    {
     "data": {
      "text/plain": [
       "'199305'"
      ]
     },
     "execution_count": 5,
     "metadata": {},
     "output_type": "execute_result"
    }
   ],
   "source": [
    "# [과제] '199305, 1923A, a93247'에서 '199305'만 출력하세요\n",
    "import re\n",
    "p = re.compile('\\d+')\n",
    "m = p.search('199305, 1923A, a93247')\n",
    "m.group()"
   ]
  },
  {
   "cell_type": "code",
   "execution_count": 25,
   "id": "b6258c48",
   "metadata": {},
   "outputs": [
    {
     "name": "stdout",
     "output_type": "stream",
     "text": [
      "<re.Match object; span=(3, 9), match='ABCDEF'>\n",
      "ABCDEF\n",
      "AB\n",
      "CD\n"
     ]
    }
   ],
   "source": [
    "# 그룹핑 : 매치된 문자열 중에서 특정 부분의 문자열만 뽑아내는 경우 ()을 만들어준다\n",
    "# group(0) 매치된 전체 문자열, 1 첫번째 그룹, 2 두번째 그룹, n n번째 그룹\n",
    "\n",
    "p = re.compile('(AB)(CD)(EF)+')\n",
    "m = p.search('DEFABCDEF OK?')\n",
    "print(m)\n",
    "print(m.group(0))\n",
    "print(m.group(1))\n",
    "print(m.group(2))"
   ]
  },
  {
   "cell_type": "code",
   "execution_count": 6,
   "id": "234134ca",
   "metadata": {},
   "outputs": [
    {
     "name": "stdout",
     "output_type": "stream",
     "text": [
      "abcdefghi\n",
      "e\n"
     ]
    }
   ],
   "source": [
    "# [과제] 'abcdefghij'에 대하여 중첩을 적용한 서브그룹 5개로 컴파일하여 group() 함수를 이용하여 'abcdefghi'와 'e'를 출력하세요\n",
    "text = 'abcdefghij'\n",
    "p = re.compile('(\\w{4}(\\w)(\\w{2})(\\w{2}))(\\w)')\n",
    "a = p.search(text)\n",
    "print(a.group(1))\n",
    "print(a.group(2))"
   ]
  },
  {
   "cell_type": "code",
   "execution_count": 11,
   "id": "9d96b2db",
   "metadata": {},
   "outputs": [
    {
     "name": "stdout",
     "output_type": "stream",
     "text": [
      "abcdefghij\n",
      "abcdefghi\n",
      "bcdefgh\n",
      "cdefg\n",
      "def\n",
      "e\n"
     ]
    }
   ],
   "source": [
    "# 교수님 예제\n",
    "text = 'abcdefghij'\n",
    "p = re.compile('(a(b(c(d(e)f)g)h)i)j')\n",
    "a = p.search(text)\n",
    "print(a.group(0))\n",
    "print(a.group(1))\n",
    "print(a.group(2))\n",
    "print(a.group(3))\n",
    "print(a.group(4))\n",
    "print(a.group(5))"
   ]
  },
  {
   "cell_type": "code",
   "execution_count": 26,
   "id": "5146c8b7",
   "metadata": {
    "scrolled": true
   },
   "outputs": [
    {
     "name": "stdout",
     "output_type": "stream",
     "text": [
      "abcdefghi\n",
      "e\n"
     ]
    }
   ],
   "source": [
    "text = 'abcdefghij'\n",
    "p = re.compile('(abcd(e)(f)(g)(h)i)j')\n",
    "a = p.search(text)\n",
    "print(a.group(1))\n",
    "print(a.group(2))"
   ]
  },
  {
   "cell_type": "code",
   "execution_count": 7,
   "id": "a485b97a",
   "metadata": {},
   "outputs": [
    {
     "name": "stdout",
     "output_type": "stream",
     "text": [
      "abcdefghi\n",
      "e\n"
     ]
    }
   ],
   "source": [
    "import re\n",
    "\n",
    "pattern1 = re.compile('((ab(cd(e)fg)hi)(j))')\n",
    "#pattern1 = re.compile('(ab)(cd)(e)(fg)(hi)(j)')\n",
    "text = 'abcdefghij'\n",
    "m = pattern1.search(text)\n",
    "print(m.group(2))\n",
    "print(m.group(4))\n"
   ]
  }
 ],
 "metadata": {
  "kernelspec": {
   "display_name": "Python 3 (ipykernel)",
   "language": "python",
   "name": "python3"
  },
  "language_info": {
   "codemirror_mode": {
    "name": "ipython",
    "version": 3
   },
   "file_extension": ".py",
   "mimetype": "text/x-python",
   "name": "python",
   "nbconvert_exporter": "python",
   "pygments_lexer": "ipython3",
   "version": "3.8.12"
  }
 },
 "nbformat": 4,
 "nbformat_minor": 5
}
