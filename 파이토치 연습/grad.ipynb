{
 "cells": [
  {
   "cell_type": "code",
   "execution_count": 1,
   "metadata": {},
   "outputs": [
    {
     "name": "stdout",
     "output_type": "stream",
     "text": [
      "Collecting torch\n",
      "  Downloading torch-1.11.0-cp38-cp38-win_amd64.whl (158.0 MB)\n",
      "Collecting typing-extensions\n",
      "  Downloading typing_extensions-4.2.0-py3-none-any.whl (24 kB)\n",
      "Installing collected packages: typing-extensions, torch\n",
      "Successfully installed torch-1.11.0 typing-extensions-4.2.0\n",
      "Note: you may need to restart the kernel to use updated packages.\n"
     ]
    }
   ],
   "source": [
    "%pip install torch"
   ]
  },
  {
   "cell_type": "code",
   "execution_count": 2,
   "metadata": {},
   "outputs": [],
   "source": [
    "import torch"
   ]
  },
  {
   "cell_type": "code",
   "execution_count": 59,
   "metadata": {},
   "outputs": [
    {
     "name": "stdout",
     "output_type": "stream",
     "text": [
      "tensor([[1., 1., 1.],\n",
      "        [1., 1., 1.]], requires_grad=True)\n",
      "tensor([[6., 6., 6.],\n",
      "        [6., 6., 6.]], grad_fn=<AddBackward0>)\n",
      "tensor([[36., 36., 36.],\n",
      "        [36., 36., 36.]], grad_fn=<PowBackward0>)\n",
      "tensor(36., grad_fn=<MeanBackward0>)\n",
      "tensor([[2., 2., 2.],\n",
      "        [2., 2., 2.]])\n"
     ]
    }
   ],
   "source": [
    "a = torch.ones((2,3),requires_grad = True)\n",
    "print(a)\n",
    "b = a + 5\n",
    "print(b)\n",
    "c = b ** 2\n",
    "print(c)\n",
    "out = c.mean()\n",
    "print(out)\n",
    "out.backward()\n",
    "print(a.grad)"
   ]
  },
  {
   "cell_type": "code",
   "execution_count": 51,
   "metadata": {},
   "outputs": [
    {
     "name": "stdout",
     "output_type": "stream",
     "text": [
      "tensor([[6., 6., 6.],\n",
      "        [6., 6., 6.],\n",
      "        [6., 6., 6.]], grad_fn=<AddBackward0>)\n",
      "tensor([[36., 36., 36.],\n",
      "        [36., 36., 36.],\n",
      "        [36., 36., 36.]], grad_fn=<PowBackward0>)\n",
      "tensor(36., grad_fn=<MeanBackward0>)\n"
     ]
    }
   ],
   "source": [
    "a = torch.ones((3,3),requires_grad = True)\n",
    "print(a)\n",
    "b = a + 5\n",
    "print(b)\n",
    "c = b ** 2\n",
    "print(c)\n",
    "out = c.mean()\n",
    "print(out)\n",
    "out.backward()"
   ]
  },
  {
   "cell_type": "code",
   "execution_count": 52,
   "metadata": {},
   "outputs": [
    {
     "name": "stdout",
     "output_type": "stream",
     "text": [
      "tensor([[1.3333, 1.3333, 1.3333],\n",
      "        [1.3333, 1.3333, 1.3333],\n",
      "        [1.3333, 1.3333, 1.3333]])\n"
     ]
    }
   ],
   "source": [
    "print(a.grad)"
   ]
  },
  {
   "cell_type": "code",
   "execution_count": 54,
   "metadata": {},
   "outputs": [
    {
     "name": "stdout",
     "output_type": "stream",
     "text": [
      "tensor([[1., 1., 1.],\n",
      "        [1., 1., 1.],\n",
      "        [1., 1., 1.]], requires_grad=True)\n",
      "tensor([[6., 6., 6.],\n",
      "        [6., 6., 6.],\n",
      "        [6., 6., 6.]], grad_fn=<AddBackward0>)\n",
      "tensor([[36., 36., 36.],\n",
      "        [36., 36., 36.],\n",
      "        [36., 36., 36.]], grad_fn=<PowBackward0>)\n",
      "tensor(324., grad_fn=<SumBackward0>)\n",
      "tensor([[12., 12., 12.],\n",
      "        [12., 12., 12.],\n",
      "        [12., 12., 12.]])\n"
     ]
    }
   ],
   "source": [
    "a = torch.ones((3,3),requires_grad = True)\n",
    "print(a)\n",
    "b = a + 5\n",
    "print(b)\n",
    "c = b ** 2\n",
    "print(c)\n",
    "out = c.sum()\n",
    "print(out)\n",
    "out.backward()\n",
    "print(a.grad)"
   ]
  },
  {
   "cell_type": "code",
   "execution_count": 46,
   "metadata": {},
   "outputs": [
    {
     "name": "stdout",
     "output_type": "stream",
     "text": [
      "tensor([[2., 2.],\n",
      "        [2., 2.]], requires_grad=True)\n",
      "tensor([[7., 7.],\n",
      "        [7., 7.]], grad_fn=<AddBackward0>)\n",
      "tensor([[49., 49.],\n",
      "        [49., 49.]], grad_fn=<PowBackward0>)\n",
      "tensor(196., grad_fn=<SumBackward0>)\n"
     ]
    }
   ],
   "source": [
    "a = torch.tensor([[2.,2.],[2.,2.]],requires_grad = True)\n",
    "print(a)\n",
    "b = a + 5\n",
    "print(b)\n",
    "c = b ** 2\n",
    "print(c)\n",
    "out = c.sum()\n",
    "print(out)\n",
    "out.backward()"
   ]
  },
  {
   "cell_type": "code",
   "execution_count": 47,
   "metadata": {},
   "outputs": [
    {
     "name": "stdout",
     "output_type": "stream",
     "text": [
      "tensor([[14., 14.],\n",
      "        [14., 14.]])\n"
     ]
    }
   ],
   "source": [
    "print(a.grad)"
   ]
  },
  {
   "cell_type": "code",
   "execution_count": 38,
   "metadata": {},
   "outputs": [
    {
     "name": "stdout",
     "output_type": "stream",
     "text": [
      "tensor([[3., 3.],\n",
      "        [3., 3.]], requires_grad=True)\n",
      "tensor([[5., 5.],\n",
      "        [5., 5.]], grad_fn=<AddBackward0>)\n",
      "tensor([[25., 25.],\n",
      "        [25., 25.]], grad_fn=<PowBackward0>)\n",
      "tensor(100., grad_fn=<SumBackward0>)\n"
     ]
    }
   ],
   "source": [
    "a = torch.tensor([[3.,3.],[3.,3.]],requires_grad = True)\n",
    "print(a)\n",
    "b = a + 2\n",
    "print(b)\n",
    "c = b ** 2\n",
    "print(c)\n",
    "out = c.sum()\n",
    "print(out)\n",
    "out.backward()"
   ]
  },
  {
   "cell_type": "code",
   "execution_count": 39,
   "metadata": {},
   "outputs": [
    {
     "name": "stdout",
     "output_type": "stream",
     "text": [
      "tensor([[10., 10.],\n",
      "        [10., 10.]])\n"
     ]
    }
   ],
   "source": [
    "print(a.grad)"
   ]
  }
 ],
 "metadata": {
  "interpreter": {
   "hash": "05ac694886adde9125cb438ca1952c2124abc484b1a085dccba0cab67f4c2657"
  },
  "kernelspec": {
   "display_name": "Python 3.8.12 ('cakd5')",
   "language": "python",
   "name": "python3"
  },
  "language_info": {
   "codemirror_mode": {
    "name": "ipython",
    "version": 3
   },
   "file_extension": ".py",
   "mimetype": "text/x-python",
   "name": "python",
   "nbconvert_exporter": "python",
   "pygments_lexer": "ipython3",
   "version": "3.8.12"
  },
  "orig_nbformat": 4
 },
 "nbformat": 4,
 "nbformat_minor": 2
}
