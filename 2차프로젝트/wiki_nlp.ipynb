{
 "cells": [
  {
   "cell_type": "code",
   "execution_count": 1,
   "id": "3f028129",
   "metadata": {},
   "outputs": [
    {
     "data": {
      "text/plain": [
       "'3.7.13 (default, Mar 28 2022, 08:03:21) [MSC v.1916 64 bit (AMD64)]'"
      ]
     },
     "execution_count": 1,
     "metadata": {},
     "output_type": "execute_result"
    }
   ],
   "source": [
    "import sys\n",
    "\n",
    "sys.version"
   ]
  },
  {
   "cell_type": "markdown",
   "id": "9511be98",
   "metadata": {},
   "source": [
    "# 02. 텍스트 전처리(Text preprocessing)"
   ]
  },
  {
   "cell_type": "markdown",
   "id": "b7f9a805",
   "metadata": {},
   "source": [
    "### 01) 토큰화(Tokenization)"
   ]
  },
  {
   "cell_type": "markdown",
   "id": "3625826e",
   "metadata": {},
   "source": [
    "#### 1. 단어 토큰화(Word Tokenization)"
   ]
  },
  {
   "cell_type": "code",
   "execution_count": 1,
   "id": "7e1be9ce",
   "metadata": {},
   "outputs": [],
   "source": [
    "from nltk.tokenize import word_tokenize  "
   ]
  },
  {
   "cell_type": "code",
   "execution_count": 2,
   "id": "020abd10",
   "metadata": {},
   "outputs": [
    {
     "name": "stdout",
     "output_type": "stream",
     "text": [
      "['Do', \"n't\", 'be', 'fooled', 'by', 'the', 'dark', 'sounding', 'name', ',', 'Mr.', 'Jone', \"'s\", 'Orphanage', 'is', 'as', 'cheery', 'as', 'cheery', 'goes', 'for', 'a', 'pastry', 'shop', '.']\n"
     ]
    }
   ],
   "source": [
    "print(word_tokenize(\"Don't be fooled by the dark sounding name, Mr. Jone's Orphanage is as cheery as cheery goes for a pastry shop.\"))  "
   ]
  },
  {
   "cell_type": "code",
   "execution_count": 6,
   "id": "55d1bfad",
   "metadata": {},
   "outputs": [
    {
     "name": "stdout",
     "output_type": "stream",
     "text": [
      "['Despite', 'an', 'uneasy', 'time', 'in', 'the', 'travel', 'industry', ',', 'Hilton', 'pressed', 'ahead', 'with', 'its', 'commitment', 'to', 'building', 'a', 'more', 'inclusive', 'workforce', ',', 'including', 'requirements', 'that', 'managers', 'interview', 'a', 'diverse', 'slate', 'of', 'candidates', 'when', 'hiring', 'externally', '.', 'Hilton', 'offers', 'a', 'wide', 'range', 'of', '“', 'special', 'and', 'unique', '”', 'benefits', 'according', 'to', 'employees', '.', 'From', 'day', 'one', ',', 'they', 'can', 'take', 'advantage', 'of', 'at', 'least', '100', 'discounted', 'room', 'nights', 'per', 'year', 'at', 'Hilton', '-', 'branded', 'properties', '.', 'The', 'hotel', 'giant', 'has', 'also', 'expanded', 'remote', 'work', 'options', 'during', 'the', 'pandemic', '.', 'And', 'through', 'Thrive', 'at', 'Hilton', ',', 'employees', 'can', 'access', 'a', 'dedicated', 'counselor', 'in', 'the', 'U', '.', 'S', '.', 'Most', 'important', ',', 'workers', 'feel', 'heard', ':', '“', 'Leadership', 'is', 'very', 'open', 'and', 'willing', 'to', 'have', 'difficult', 'conversations', 'around', 'mental', 'well', '-', 'being', 'and', 'our', 'political', 'climate', 'through', 'initiatives', 'like', 'Courageous', 'Conversations', ',”', 'said', 'one', 'employee', '.']\n"
     ]
    }
   ],
   "source": [
    "from nltk.tokenize import WordPunctTokenizer \n",
    "\n",
    "print(WordPunctTokenizer().tokenize(\"Despite an uneasy time in the travel industry, Hilton pressed ahead with its commitment to building a more inclusive workforce, including requirements that managers interview a diverse slate of candidates when hiring externally. Hilton offers a wide range of “special and unique” benefits according to employees. From day one, they can take advantage of at least 100 discounted room nights per year at Hilton-branded properties. The hotel giant has also expanded remote work options during the pandemic. And through Thrive at Hilton, employees can access a dedicated counselor in the U.S. Most important, workers feel heard: “Leadership is very open and willing to have difficult conversations around mental well-being and our political climate through initiatives like Courageous Conversations,” said one employee.\"))"
   ]
  },
  {
   "cell_type": "raw",
   "id": "6d169793",
   "metadata": {},
   "source": [
    "from tensorflow.keras.preprocessing.text import text_to_word_sequence\n",
    "\n",
    "print(text_to_word_sequence(\"Don't be fooled by the dark sounding name, Mr. Jone's Orphanage is as cheery as cheery goes for a pastry shop.\"))\n",
    "\n",
    "\n",
    "[\"don't\", 'be', 'fooled', 'by', 'the', 'dark', 'sounding', 'name', 'mr', \"jone's\", 'orphanage', 'is', 'as', 'cheery', 'as', 'cheery', 'goes', 'for', 'a', 'pastry', 'shop']"
   ]
  },
  {
   "cell_type": "markdown",
   "id": "a767a3a7",
   "metadata": {},
   "source": [
    "#### 2. 문장 토큰화(Sentence Tokenization)"
   ]
  },
  {
   "cell_type": "code",
   "execution_count": 5,
   "id": "1224f4e3",
   "metadata": {},
   "outputs": [
    {
     "name": "stdout",
     "output_type": "stream",
     "text": [
      "[' Despite an uneasy time in the travel industry, Hilton pressed ahead with '\n",
      " 'its commitment to building a more inclusive workforce, including '\n",
      " 'requirements that managers interview a diverse slate of candidates when '\n",
      " 'hiring externally.',\n",
      " 'Hilton offers a wide range of “special and unique” benefits according to '\n",
      " 'employees.',\n",
      " 'From day one, they can take advantage of at least 100 discounted room nights '\n",
      " 'per year at Hilton-branded properties.',\n",
      " 'The hotel giant has also expanded remote work options during the pandemic.',\n",
      " 'And through Thrive at Hilton, employees can access a dedicated counselor in '\n",
      " 'the U.S.',\n",
      " 'Most important, workers feel heard: “Leadership is very open and willing to '\n",
      " 'have difficult conversations around mental well-being and our political '\n",
      " 'climate through initiatives like Courageous Conversations,” said one '\n",
      " 'employee.']\n"
     ]
    }
   ],
   "source": [
    "from nltk.tokenize import sent_tokenize\n",
    "import pprint\n",
    "\n",
    "text= \"\"\" Despite an uneasy time in the travel industry, Hilton pressed ahead with its commitment to building a more inclusive workforce, including requirements that managers interview a diverse slate of candidates when hiring externally. Hilton offers a wide range of “special and unique” benefits according to employees. From day one, they can take advantage of at least 100 discounted room nights per year at Hilton-branded properties. The hotel giant has also expanded remote work options during the pandemic. And through Thrive at Hilton, employees can access a dedicated counselor in the U.S. Most important, workers feel heard: “Leadership is very open and willing to have difficult conversations around mental well-being and our political climate through initiatives like Courageous Conversations,” said one employee.\n",
    "\"\"\"\n",
    "pprint.pprint(sent_tokenize(text))"
   ]
  },
  {
   "cell_type": "code",
   "execution_count": 7,
   "id": "0e9f1c1a",
   "metadata": {},
   "outputs": [
    {
     "name": "stdout",
     "output_type": "stream",
     "text": [
      "Collecting kss\n",
      "  Downloading kss-3.4.2.tar.gz (42.4 MB)\n",
      "Collecting emoji\n",
      "  Downloading emoji-1.7.0.tar.gz (175 kB)\n",
      "Requirement already satisfied: regex in c:\\users\\hky8100\\anaconda3\\envs\\j_nlp_torch37\\lib\\site-packages (from kss) (2022.3.15)\n",
      "Collecting more_itertools\n",
      "  Downloading more_itertools-8.12.0-py3-none-any.whl (54 kB)\n",
      "Building wheels for collected packages: kss, emoji\n",
      "  Building wheel for kss (setup.py): started\n",
      "  Building wheel for kss (setup.py): finished with status 'done'\n",
      "  Created wheel for kss: filename=kss-3.4.2-py3-none-any.whl size=42448069 sha256=8440bd3f3e899db03c22bf7551f5e22fa205a7ffb2e16166a4498753dd5d18a6\n",
      "  Stored in directory: c:\\users\\hky8100\\appdata\\local\\pip\\cache\\wheels\\ef\\22\\aa\\6399b60516a067ec97fa6599fb2d472aeb25e3f9ee6dae3224\n",
      "  Building wheel for emoji (setup.py): started\n",
      "  Building wheel for emoji (setup.py): finished with status 'done'\n",
      "  Created wheel for emoji: filename=emoji-1.7.0-py3-none-any.whl size=171046 sha256=d1376a4da5509843833d30ccb8047b671ad1b4aa080ddc376903f9706c0f3f8a\n",
      "  Stored in directory: c:\\users\\hky8100\\appdata\\local\\pip\\cache\\wheels\\8a\\4e\\b6\\57b01db010d17ef6ea9b40300af725ef3e210cb1acfb7ac8b6\n",
      "Successfully built kss emoji\n",
      "Installing collected packages: more-itertools, emoji, kss\n",
      "Successfully installed emoji-1.7.0 kss-3.4.2 more-itertools-8.12.0\n"
     ]
    }
   ],
   "source": [
    "!pip install kss"
   ]
  },
  {
   "cell_type": "code",
   "execution_count": 15,
   "id": "cf156579",
   "metadata": {},
   "outputs": [
    {
     "name": "stdout",
     "output_type": "stream",
     "text": [
      "['한국어 문장 분리기인 KSS가 파이썬으로 포팅되었습니다.', '덕분에 사용하기가 더 편해졌습니다.', '요즘 유용한 한글 자연어처리 도구들이 많아지고 있어서 다행입니다.']\n",
      "['정부가 현재, 금융·공공 등 일부 분야에만 도입된 마이데이터를 전 분야로 확산시키 위해 마이데이터 표준화 사업에 착수했다.', \"개인정보보호위원회는 12일 정부서울청사에서 '마이데이터 형식·전송방식 표준화 사업' 착수보고회를 개최했다고 밝혔다.\", '개인정보위는 이번 사업을 통해 이종 산업 간 마이데이터 표준화를 본격적으로 추진하게 된다.', '이번 사업을 통해 데이터 분야 간 마이데이터 공통 표준 항목 및 표준 용어 사전을 개발하고, 전송유형별 절차 구체화와 전송메세지 규격 확립 등 데이터 전송방식을 표준화하며, 마이데이터 인증·보안 체계를 마련할 계획이다.']\n"
     ]
    }
   ],
   "source": [
    "import kss\n",
    "\n",
    "text2 = \"\"\"정부가 현재, 금융·공공 등 일부 분야에만 도입된 마이데이터를 전 분야로 확산시키 위해 마이데이터 표준화 사업에 착수했다. 개인정보보호위원회는 12일 정부서울청사에서 '마이데이터 형식·전송방식 표준화 사업' 착수보고회를 개최했다고 밝혔다. 개인정보위는 이번 사업을 통해 이종 산업 간 마이데이터 표준화를 본격적으로 추진하게 된다. 이번 사업을 통해 데이터 분야 간 마이데이터 공통 표준 항목 및 표준 용어 사전을 개발하고, 전송유형별 절차 구체화와 전송메세지 규격 확립 등 데이터 전송방식을 표준화하며, 마이데이터 인증·보안 체계를 마련할 계획이다.\"\"\"\n",
    "print(kss.split_sentences(text2))"
   ]
  },
  {
   "cell_type": "markdown",
   "id": "02ca3331",
   "metadata": {},
   "source": [
    "#### 3. POS tagging"
   ]
  },
  {
   "cell_type": "code",
   "execution_count": 16,
   "id": "057b5609",
   "metadata": {},
   "outputs": [
    {
     "name": "stdout",
     "output_type": "stream",
     "text": [
      "['I', 'am', 'actively', 'looking', 'for', 'Ph.D.', 'students', '.', 'and', 'you', 'are', 'a', 'Ph.D.', 'student', '.']\n"
     ]
    }
   ],
   "source": [
    "from nltk.tokenize import word_tokenize\n",
    "\n",
    "text=\"I am actively looking for Ph.D. students. and you are a Ph.D. student.\"\n",
    "print(word_tokenize(text))"
   ]
  },
  {
   "cell_type": "code",
   "execution_count": 17,
   "id": "ebb61c0c",
   "metadata": {},
   "outputs": [
    {
     "data": {
      "text/plain": [
       "[('I', 'PRP'),\n",
       " ('am', 'VBP'),\n",
       " ('actively', 'RB'),\n",
       " ('looking', 'VBG'),\n",
       " ('for', 'IN'),\n",
       " ('Ph.D.', 'NNP'),\n",
       " ('students', 'NNS'),\n",
       " ('.', '.'),\n",
       " ('and', 'CC'),\n",
       " ('you', 'PRP'),\n",
       " ('are', 'VBP'),\n",
       " ('a', 'DT'),\n",
       " ('Ph.D.', 'NNP'),\n",
       " ('student', 'NN'),\n",
       " ('.', '.')]"
      ]
     },
     "execution_count": 17,
     "metadata": {},
     "output_type": "execute_result"
    }
   ],
   "source": [
    "from nltk.tag import pos_tag\n",
    "\n",
    "x=word_tokenize(text)\n",
    "pos_tag(x)"
   ]
  },
  {
   "cell_type": "code",
   "execution_count": 27,
   "id": "2dad0477",
   "metadata": {},
   "outputs": [
    {
     "name": "stdout",
     "output_type": "stream",
     "text": [
      "['그룹', '핑클', '출신', '배우', '성유리', '가', '제주도', '여행', '을', '떠난', '근황', '을', '공개', '했다', '.', '성유리', '는', '4월', '11일', '개인', 'SNS', '에', '\"', '달이', '와', '데이트', '\"', '라는', '글', '과', '함께', '사진', '을', '게재', '했다', '.']\n"
     ]
    }
   ],
   "source": [
    "from konlpy.tag import Okt\n",
    "\n",
    "\n",
    "text = '그룹 핑클 출신 배우 성유리가 제주도 여행을 떠난 근황을 공개했다.성유리는 4월 11일 개인 SNS에 \"달이와 데이트\"라는 글과 함께 사진을 게재했다.'\n",
    "okt = Okt()\n",
    "print(okt.morphs(text))"
   ]
  },
  {
   "cell_type": "code",
   "execution_count": 28,
   "id": "3791cf96",
   "metadata": {},
   "outputs": [
    {
     "name": "stdout",
     "output_type": "stream",
     "text": [
      "[('그룹', 'Noun'), ('핑클', 'Noun'), ('출신', 'Noun'), ('배우', 'Noun'), ('성유리', 'Noun'), ('가', 'Josa'), ('제주도', 'Noun'), ('여행', 'Noun'), ('을', 'Josa'), ('떠난', 'Verb'), ('근황', 'Noun'), ('을', 'Josa'), ('공개', 'Noun'), ('했다', 'Verb'), ('.', 'Punctuation'), ('성유리', 'Noun'), ('는', 'Josa'), ('4월', 'Number'), ('11일', 'Number'), ('개인', 'Noun'), ('SNS', 'Alpha'), ('에', 'Josa'), ('\"', 'Punctuation'), ('달이', 'Noun'), ('와', 'Josa'), ('데이트', 'Noun'), ('\"', 'Punctuation'), ('라는', 'Josa'), ('글', 'Noun'), ('과', 'Josa'), ('함께', 'Adverb'), ('사진', 'Noun'), ('을', 'Josa'), ('게재', 'Noun'), ('했다', 'Verb'), ('.', 'Punctuation')]\n"
     ]
    }
   ],
   "source": [
    "print(okt.pos(text))"
   ]
  },
  {
   "cell_type": "code",
   "execution_count": 29,
   "id": "9c40b5f0",
   "metadata": {},
   "outputs": [
    {
     "name": "stdout",
     "output_type": "stream",
     "text": [
      "['그룹', '핑', '크', 'ㄹ', '출신', '배우', '성', '유리', '가', '제주도', '여행', '을', '떠나', 'ㄴ', '근황', '을', '공개', '하', '었', '다', '.', '성', '유리', '는', '4', '월', '11', '일', '개인', 'SNS', '에', '\"', '달이', '와', '데이트', '\"', '이', '라는', '글', '과', '함께', '사진', '을', '게재', '하', '었', '다', '.']\n"
     ]
    }
   ],
   "source": [
    "from konlpy.tag import Kkma\n",
    "\n",
    "kkma = Kkma()\n",
    "print(kkma.morphs(text))"
   ]
  },
  {
   "cell_type": "code",
   "execution_count": 30,
   "id": "34117df1",
   "metadata": {},
   "outputs": [
    {
     "name": "stdout",
     "output_type": "stream",
     "text": [
      "[('그룹', 'NNG'), ('핑', 'MAG'), ('크', 'VA'), ('ㄹ', 'ETD'), ('출신', 'NNG'), ('배우', 'NNG'), ('성', 'NNG'), ('유리', 'NNG'), ('가', 'JKS'), ('제주도', 'NNP'), ('여행', 'NNG'), ('을', 'JKO'), ('떠나', 'VV'), ('ㄴ', 'ETD'), ('근황', 'NNG'), ('을', 'JKO'), ('공개', 'NNG'), ('하', 'XSV'), ('었', 'EPT'), ('다', 'EFN'), ('.', 'SF'), ('성', 'NNG'), ('유리', 'NNG'), ('는', 'JX'), ('4', 'NR'), ('월', 'NNM'), ('11', 'NR'), ('일', 'NNM'), ('개인', 'NNG'), ('SNS', 'OL'), ('에', 'JKM'), ('\"', 'SS'), ('달이', 'NNG'), ('와', 'JKM'), ('데이트', 'NNG'), ('\"', 'SS'), ('이', 'VCP'), ('라는', 'ETD'), ('글', 'NNG'), ('과', 'JKM'), ('함께', 'MAG'), ('사진', 'NNG'), ('을', 'JKO'), ('게재', 'NNG'), ('하', 'XSV'), ('었', 'EPT'), ('다', 'EFN'), ('.', 'SF')]\n"
     ]
    }
   ],
   "source": [
    "print(kkma.pos(text))"
   ]
  },
  {
   "cell_type": "code",
   "execution_count": 32,
   "id": "74eb74fe",
   "metadata": {},
   "outputs": [
    {
     "name": "stdout",
     "output_type": "stream",
     "text": [
      "['그룹', '출신', '배우', '성', '성유리', '유리', '제주', '제주도', '도', '여행', '근황', '공개', '4', '4월', '월', '11', '11일', '일', '개인', '달이', '데이트', '글', '사진', '게재']\n"
     ]
    }
   ],
   "source": [
    "print(kkma.nouns(text))"
   ]
  },
  {
   "cell_type": "markdown",
   "id": "423a5fca",
   "metadata": {},
   "source": [
    "#### 4. 어간추출 (stemming)과 표제어 추출(lemming)"
   ]
  },
  {
   "cell_type": "code",
   "execution_count": 37,
   "id": "0845485f",
   "metadata": {},
   "outputs": [
    {
     "name": "stdout",
     "output_type": "stream",
     "text": [
      "['policy', 'doing', 'organization', 'have', 'going', 'love', 'life', 'fly', 'dy', 'watched', 'ha', 'starting']\n"
     ]
    }
   ],
   "source": [
    "# lemming\n",
    "\n",
    "from nltk.stem import WordNetLemmatizer\n",
    "\n",
    "n=WordNetLemmatizer()\n",
    "words=['policy', 'doing', 'organization', 'have', 'going', 'love', 'lives', 'fly', 'dies', 'watched', 'has', 'starting']\n",
    "print([n.lemmatize(w) for w in words])"
   ]
  },
  {
   "cell_type": "code",
   "execution_count": 34,
   "id": "44ce034d",
   "metadata": {},
   "outputs": [
    {
     "data": {
      "text/plain": [
       "'die'"
      ]
     },
     "execution_count": 34,
     "metadata": {},
     "output_type": "execute_result"
    }
   ],
   "source": [
    "n.lemmatize('dies', 'v')"
   ]
  },
  {
   "cell_type": "code",
   "execution_count": 35,
   "id": "2a822e64",
   "metadata": {},
   "outputs": [
    {
     "data": {
      "text/plain": [
       "'watch'"
      ]
     },
     "execution_count": 35,
     "metadata": {},
     "output_type": "execute_result"
    }
   ],
   "source": [
    "n.lemmatize('watched', 'v')"
   ]
  },
  {
   "cell_type": "code",
   "execution_count": 36,
   "id": "c48a8f3c",
   "metadata": {},
   "outputs": [
    {
     "data": {
      "text/plain": [
       "'have'"
      ]
     },
     "execution_count": 36,
     "metadata": {},
     "output_type": "execute_result"
    }
   ],
   "source": [
    "n.lemmatize('has', 'v')"
   ]
  },
  {
   "cell_type": "code",
   "execution_count": 39,
   "id": "e134afc5",
   "metadata": {},
   "outputs": [
    {
     "name": "stdout",
     "output_type": "stream",
     "text": [
      "['With', 'more', 'companies', 'adopting', 'hybrid', 'work', ',', 'New', 'York', 'City', '’', 's', 'economy', ',', 'which', 'relies', 'on', 'commuters', 'and', 'full', 'office', 'buildings', ',', 'faces', 'an', 'uncertain', 'future', '.']\n",
      "['with', 'more', 'compani', 'adopt', 'hybrid', 'work', ',', 'new', 'york', 'citi', '’', 's', 'economi', ',', 'which', 'reli', 'on', 'commut', 'and', 'full', 'offic', 'build', ',', 'face', 'an', 'uncertain', 'futur', '.']\n"
     ]
    }
   ],
   "source": [
    "# stemming\n",
    "\n",
    "from nltk.stem import PorterStemmer\n",
    "from nltk.tokenize import word_tokenize\n",
    "s = PorterStemmer()\n",
    "\n",
    "text=\"With more companies adopting hybrid work, New York City’s economy, which relies on commuters and full office buildings, faces an uncertain future.\"\n",
    "words=word_tokenize(text)\n",
    "print(words)\n",
    "\n",
    "print([s.stem(w) for w in words])"
   ]
  },
  {
   "cell_type": "code",
   "execution_count": 41,
   "id": "4a4a05fa",
   "metadata": {},
   "outputs": [
    {
     "name": "stdout",
     "output_type": "stream",
     "text": [
      "['policy', 'doing', 'org', 'hav', 'going', 'lov', 'liv', 'fly', 'die', 'watch', 'has', 'start']\n"
     ]
    }
   ],
   "source": [
    "from nltk.stem import LancasterStemmer\n",
    "\n",
    "l=LancasterStemmer()\n",
    "words=['policy', 'doing', 'organization', 'have', 'going', 'love', 'lives', 'fly', 'dies', 'watched', 'has', 'starting']\n",
    "print([l.stem(w) for w in words])"
   ]
  },
  {
   "cell_type": "raw",
   "id": "fb2d4b52",
   "metadata": {},
   "source": [
    "(비교)\n",
    "\n",
    "* Stemming\n",
    "\n",
    "am → am\n",
    "the going → the go\n",
    "having → hav\n",
    "\n",
    "* Lemmatization\n",
    "\n",
    "am → be\n",
    "the going → the going\n",
    "having → have"
   ]
  },
  {
   "cell_type": "code",
   "execution_count": null,
   "id": "8fd33521",
   "metadata": {},
   "outputs": [],
   "source": []
  }
 ],
 "metadata": {
  "kernelspec": {
   "display_name": "Python 3 (ipykernel)",
   "language": "python",
   "name": "python3"
  },
  "language_info": {
   "codemirror_mode": {
    "name": "ipython",
    "version": 3
   },
   "file_extension": ".py",
   "mimetype": "text/x-python",
   "name": "python",
   "nbconvert_exporter": "python",
   "pygments_lexer": "ipython3",
   "version": "3.7.13"
  }
 },
 "nbformat": 4,
 "nbformat_minor": 5
}
