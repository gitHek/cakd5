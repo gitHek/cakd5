{
 "cells": [
  {
   "cell_type": "code",
   "execution_count": 7,
   "id": "27995dc9",
   "metadata": {},
   "outputs": [
    {
     "name": "stdout",
     "output_type": "stream",
     "text": [
      "HI\n"
     ]
    }
   ],
   "source": [
    "# 입력값이 없고 결과값만 있는 함수\n",
    "def say():\n",
    "    return 'HI'\n",
    "a = say()\n",
    "print(a)"
   ]
  },
  {
   "cell_type": "code",
   "execution_count": 8,
   "id": "947eff0e",
   "metadata": {},
   "outputs": [
    {
     "name": "stdout",
     "output_type": "stream",
     "text": [
      "3, 4의 합은 7입니다.\n"
     ]
    }
   ],
   "source": [
    "# 입력값은 있고 결과값이 없는 함수\n",
    "# 결과값은 오직 return 명령어로만 돌려받을 수 있음\n",
    "def add(a,b):\n",
    "    print('%d, %d의 합은 %d입니다.' %(a,b,a+b))\n",
    "add(3,4)"
   ]
  },
  {
   "cell_type": "code",
   "execution_count": 9,
   "id": "886c097b",
   "metadata": {},
   "outputs": [
    {
     "name": "stdout",
     "output_type": "stream",
     "text": [
      "HI\n"
     ]
    }
   ],
   "source": [
    "# 입력값도 결과값도 없는 함수\n",
    "\n",
    "def say():\n",
    "    print('HI')\n",
    "say()"
   ]
  },
  {
   "cell_type": "code",
   "execution_count": 21,
   "id": "55d19547",
   "metadata": {},
   "outputs": [
    {
     "data": {
      "text/plain": [
       "216801"
      ]
     },
     "execution_count": 21,
     "metadata": {},
     "output_type": "execute_result"
    }
   ],
   "source": [
    "# 입력값, 결과값이 모두 있는 함수\n",
    "\n",
    "def cal(a,b,c):\n",
    "    n=1\n",
    "    while 1:\n",
    "        if n%a==0 and n%b==0 and n%c==0:\n",
    "            break\n",
    "        else:\n",
    "            n+=1\n",
    "    return n\n",
    "cal(981,13,153)"
   ]
  },
  {
   "cell_type": "code",
   "execution_count": 27,
   "id": "627ceb55",
   "metadata": {},
   "outputs": [
    {
     "data": {
      "text/plain": [
       "15"
      ]
     },
     "execution_count": 27,
     "metadata": {},
     "output_type": "execute_result"
    }
   ],
   "source": [
    "# 여러 개의 입력값을 받는 함수 만들기\n",
    "# *args 처럼 입력 변수명 앞에 *를 붙이면 입력값들을 전부 모아서 튜플로 만들어 준다\n",
    "\n",
    "def add_many(*args):\n",
    "    sum = 0\n",
    "    for i in args:\n",
    "        sum += i\n",
    "    return sum\n",
    "\n",
    "add_many(1,2,3,4,5)"
   ]
  },
  {
   "cell_type": "code",
   "execution_count": 28,
   "id": "2871632a",
   "metadata": {},
   "outputs": [
    {
     "data": {
      "text/plain": [
       "(10, 21)"
      ]
     },
     "execution_count": 28,
     "metadata": {},
     "output_type": "execute_result"
    }
   ],
   "source": [
    "# 함수의 반환 값은 언제나 하나임 (리턴값이 여러개일 경우 튜플 1개로 반환)\n",
    "def add_and_mul(a,b):\n",
    "    return a+b, a*b\n",
    "\n",
    "add_and_mul(3,7)"
   ]
  },
  {
   "cell_type": "code",
   "execution_count": 30,
   "id": "5f4b188e",
   "metadata": {},
   "outputs": [
    {
     "data": {
      "text/plain": [
       "120"
      ]
     },
     "execution_count": 30,
     "metadata": {},
     "output_type": "execute_result"
    }
   ],
   "source": [
    "def add_mul(choice, *args):\n",
    "    if choice == '+':\n",
    "        result = 0\n",
    "        for i in args:\n",
    "            result += i\n",
    "        return result\n",
    "    elif choice == '*':\n",
    "        result = 1\n",
    "        for i in args:\n",
    "            result *= i\n",
    "        return result\n",
    "    else :\n",
    "        return 0\n",
    "\n",
    "add_mul('*',1,2,3,4,5)\n"
   ]
  },
  {
   "cell_type": "code",
   "execution_count": 39,
   "id": "715af75a",
   "metadata": {},
   "outputs": [
    {
     "data": {
      "text/plain": [
       "15"
      ]
     },
     "execution_count": 39,
     "metadata": {},
     "output_type": "execute_result"
    }
   ],
   "source": [
    "# add_mul() 함수를 정의하여 1,2,3,4,5,를 입력값으로 적용하여 덧셈, 곱셈 연산을 수행하세요\n",
    "\n",
    "def add_mul(choice, *args):\n",
    "    if choice == 'add':\n",
    "        result = 0\n",
    "        for i in args:\n",
    "            result += i\n",
    "        return result\n",
    "    elif choice == 'mul':\n",
    "        result = 1\n",
    "        for i in args:\n",
    "            result *= i\n",
    "        return result\n",
    "    \n",
    "add_mul('add',1,2,3,4,5)"
   ]
  },
  {
   "cell_type": "code",
   "execution_count": 43,
   "id": "062a2275",
   "metadata": {},
   "outputs": [
    {
     "data": {
      "text/plain": [
       "15"
      ]
     },
     "execution_count": 43,
     "metadata": {},
     "output_type": "execute_result"
    }
   ],
   "source": [
    "def add_mul(choice, *args):\n",
    "    if choice == 'add':\n",
    "        result = 0\n",
    "        for i in args:\n",
    "            result += i\n",
    "        return result\n",
    "    elif choice == 'mul':\n",
    "        result = 1\n",
    "        for i in args:\n",
    "            result *= i\n",
    "        return result\n",
    "\n",
    "add_mul('add',1,2,3,4,5)"
   ]
  },
  {
   "cell_type": "code",
   "execution_count": 48,
   "id": "7c6586b8",
   "metadata": {
    "scrolled": true
   },
   "outputs": [
    {
     "data": {
      "text/plain": [
       "0.026041666666666668"
      ]
     },
     "execution_count": 48,
     "metadata": {},
     "output_type": "execute_result"
    }
   ],
   "source": [
    "#[과제] 뺄셈 나눗셈 멀티계산 함수를 작성\n",
    "#('sub',2,4,6,8,10)\n",
    "#('div',2,4,6,8,10)\n",
    "def sub_div(choice, *args):\n",
    "    ma = max(args)\n",
    "    if choice == 'sub':\n",
    "        result = ma*2\n",
    "        for i in args:\n",
    "            result -= i\n",
    "        return result\n",
    "    elif choice == 'div':\n",
    "        result = ma*ma\n",
    "        for i in args:\n",
    "            if i == 0:\n",
    "                return print('0이 포함되어있어 나눗셈이 불가능합니다.')\n",
    "            else:\n",
    "                result /= i\n",
    "        return result\n",
    "    else:\n",
    "        return \"오류 div 나 sub를 사용해주세요\"\n",
    "\n",
    "sub_div('sub',2,4,6,8,10)\n",
    "sub_div('div',2,4,6,8,10)"
   ]
  },
  {
   "cell_type": "code",
   "execution_count": 29,
   "id": "50c04387",
   "metadata": {},
   "outputs": [
    {
     "name": "stdout",
     "output_type": "stream",
     "text": [
      "-26\n",
      "0.0010416666666666667\n"
     ]
    }
   ],
   "source": [
    "def sub_div(choice, *args):\n",
    "    if choice == 'sub':\n",
    "        result = args[0]\n",
    "        for i in args[1:]:\n",
    "             result -= i\n",
    "        return result\n",
    "    elif choice == 'div':\n",
    "        result = args[0]\n",
    "        for i in args[1:]:\n",
    "            if i == 0:\n",
    "                return print('0이 포함되어있어 나눗셈이 불가능합니다.')\n",
    "            else:\n",
    "                result /= i\n",
    "        return result\n",
    "print(sub_div('sub',2,4,6,8,10))\n",
    "print(sub_div('div',2,4,6,8,10))"
   ]
  },
  {
   "cell_type": "code",
   "execution_count": 2,
   "id": "7cafce60",
   "metadata": {},
   "outputs": [
    {
     "name": "stdout",
     "output_type": "stream",
     "text": [
      "-28\n",
      "0.0010416666666666667\n"
     ]
    }
   ],
   "source": [
    "# 다른사람이 한거\n",
    "def sub_div (choice, *args) :\n",
    "    if choice == \"sub\":\n",
    "        result = args[0]\n",
    "        for i in args : \n",
    "            result -= i\n",
    "        return result\n",
    "    elif choice == 'div':\n",
    "        result = args[0]*args[0]\n",
    "        for i in args :\n",
    "            if i == 0:\n",
    "                return print(\"오류\")\n",
    "            result /= i\n",
    "        return result \n",
    "\n",
    "print(sub_div('sub', 2,4,6,8,10))\n",
    "print(sub_div('div', 2,4,6,8,10))\n"
   ]
  },
  {
   "cell_type": "code",
   "execution_count": 17,
   "id": "44a0d51d",
   "metadata": {},
   "outputs": [
    {
     "name": "stdout",
     "output_type": "stream",
     "text": [
      "None\n",
      "None\n"
     ]
    }
   ],
   "source": [
    "# 함수 안에서 선언된 변수의 효력범위\n",
    "a = 1\n",
    "def vartest(a):     #함수 안에서 선언된 변수는 밖에서 못가져옴\n",
    "    a = 1\n",
    "    a = a + 1\n",
    "\n",
    "print(vartest(a))\n",
    "print(a)"
   ]
  },
  {
   "cell_type": "code",
   "execution_count": 16,
   "id": "c8c759c4",
   "metadata": {},
   "outputs": [
    {
     "name": "stdout",
     "output_type": "stream",
     "text": [
      "1\n"
     ]
    }
   ],
   "source": [
    "# 함수 안에서 함수 밖의 변수를 변경하는 방법 - return 이용\n",
    "\n",
    "a = 1 \n",
    "def vartest(a):\n",
    "    a = a + 1\n",
    "    return a\n",
    "\n",
    "a = vartest(a)\n",
    "print(a)"
   ]
  },
  {
   "cell_type": "code",
   "execution_count": 15,
   "id": "fc45adda",
   "metadata": {
    "scrolled": true
   },
   "outputs": [
    {
     "name": "stdout",
     "output_type": "stream",
     "text": [
      "2\n"
     ]
    }
   ],
   "source": [
    "# global 명령을 이용하는 방법\n",
    "a = 1\n",
    "def vartest():\n",
    "    global a\n",
    "    a = a + 1\n",
    "\n",
    "vartest()\n",
    "print(a)"
   ]
  },
  {
   "cell_type": "code",
   "execution_count": 2,
   "id": "cfc59626",
   "metadata": {},
   "outputs": [],
   "source": [
    "# 파일 읽고 쓰기\n",
    "f = open('test1.txt','w')\n",
    "f.close()"
   ]
  },
  {
   "cell_type": "code",
   "execution_count": 4,
   "id": "12c11f84",
   "metadata": {},
   "outputs": [],
   "source": [
    "f = open('test1.txt','w')\n",
    "for i in range(1,11):\n",
    "    data = '%d번째 줄입니다.\\n' %i\n",
    "    f.write(data)\n",
    "f.close()\n"
   ]
  },
  {
   "cell_type": "code",
   "execution_count": 3,
   "id": "43bdb641",
   "metadata": {},
   "outputs": [
    {
     "name": "stdout",
     "output_type": "stream",
     "text": [
      "1번째 줄입니다.\n",
      "\n"
     ]
    }
   ],
   "source": [
    "# f.readline() 한줄씩 읽음\n",
    "f = open('test1.txt', 'r')\n",
    "line = f.readline()\n",
    "print(line)\n",
    "f.close()"
   ]
  },
  {
   "cell_type": "code",
   "execution_count": 6,
   "id": "33c42843",
   "metadata": {
    "collapsed": true
   },
   "outputs": [
    {
     "name": "stdout",
     "output_type": "stream",
     "text": [
      "1번째 줄입니다.\n",
      "\n",
      "2번째 줄입니다.\n",
      "\n",
      "3번째 줄입니다.\n",
      "\n",
      "4번째 줄입니다.\n",
      "\n",
      "5번째 줄입니다.\n",
      "\n",
      "6번째 줄입니다.\n",
      "\n",
      "7번째 줄입니다.\n",
      "\n",
      "8번째 줄입니다.\n",
      "\n",
      "9번째 줄입니다.\n",
      "\n",
      "10번째 줄입니다.\n",
      "\n"
     ]
    }
   ],
   "source": [
    "f = open('test1.txt', 'r')\n",
    "for i in range(10):\n",
    "    line = f.readline()\n",
    "    print(line)\n",
    "f.close()"
   ]
  },
  {
   "cell_type": "code",
   "execution_count": 8,
   "id": "dc352f67",
   "metadata": {
    "collapsed": true
   },
   "outputs": [
    {
     "name": "stdout",
     "output_type": "stream",
     "text": [
      "1번째 줄입니다.\n",
      "\n",
      "2번째 줄입니다.\n",
      "\n",
      "3번째 줄입니다.\n",
      "\n",
      "4번째 줄입니다.\n",
      "\n",
      "5번째 줄입니다.\n",
      "\n",
      "6번째 줄입니다.\n",
      "\n",
      "7번째 줄입니다.\n",
      "\n",
      "8번째 줄입니다.\n",
      "\n",
      "9번째 줄입니다.\n",
      "\n",
      "10번째 줄입니다.\n",
      "\n"
     ]
    }
   ],
   "source": [
    "f = open('test1.txt', 'r')\n",
    "while 1: \n",
    "    line = f.readline()\n",
    "    if not line:\n",
    "        break\n",
    "    print(line)\n",
    "f.close()"
   ]
  },
  {
   "cell_type": "code",
   "execution_count": 9,
   "id": "683c2273",
   "metadata": {
    "collapsed": true
   },
   "outputs": [
    {
     "name": "stdout",
     "output_type": "stream",
     "text": [
      "1번째 줄입니다.\n",
      "2번째 줄입니다.\n",
      "3번째 줄입니다.\n",
      "4번째 줄입니다.\n",
      "5번째 줄입니다.\n",
      "6번째 줄입니다.\n",
      "7번째 줄입니다.\n",
      "8번째 줄입니다.\n",
      "9번째 줄입니다.\n",
      "10번째 줄입니다.\n",
      "\n"
     ]
    }
   ],
   "source": [
    "# f.read() 는 파일 내용 전체를 문자열로 반환\n",
    "f = open('test1.txt', 'r')\n",
    "data = f.read()\n",
    "print(data)\n",
    "f.close()"
   ]
  },
  {
   "cell_type": "code",
   "execution_count": 13,
   "id": "e0b50175",
   "metadata": {},
   "outputs": [],
   "source": [
    "f = open('test1.txt','a')\n",
    "for i in range(11,16):\n",
    "    data = '%d번째 줄입니다.\\n' %i\n",
    "    f.write(data)\n",
    "f.close()\n"
   ]
  },
  {
   "cell_type": "code",
   "execution_count": 15,
   "id": "66194002",
   "metadata": {
    "collapsed": true
   },
   "outputs": [
    {
     "name": "stdout",
     "output_type": "stream",
     "text": [
      "1번째 줄입니다.\n",
      "2번째 줄입니다.\n",
      "3번째 줄입니다.\n",
      "4번째 줄입니다.\n",
      "5번째 줄입니다.\n",
      "6번째 줄입니다.\n",
      "7번째 줄입니다.\n",
      "8번째 줄입니다.\n",
      "9번째 줄입니다.\n",
      "10번째 줄입니다.\n",
      "11번째 줄입니다.\n",
      "12번째 줄입니다.\n",
      "13번째 줄입니다.\n",
      "14번째 줄입니다.\n",
      "15번째 줄입니다.\n",
      "\n"
     ]
    }
   ],
   "source": [
    "f = open('test1.txt','r')\n",
    "data = f.read()\n",
    "print(data)\n",
    "f.close()"
   ]
  },
  {
   "cell_type": "code",
   "execution_count": 17,
   "id": "af3e636e",
   "metadata": {},
   "outputs": [],
   "source": [
    "# with 문과 같이 사용하면 f.close를 사용하지 않는다\n",
    "with open('foo.txt','w') as f:\n",
    "    f.write('파이썬을 배웁시다.')"
   ]
  },
  {
   "cell_type": "code",
   "execution_count": 18,
   "id": "74cff61f",
   "metadata": {},
   "outputs": [
    {
     "name": "stdout",
     "output_type": "stream",
     "text": [
      "파이썬을 배웁시다.\n"
     ]
    }
   ],
   "source": [
    "with open('foo.txt','r') as f:\n",
    "    data = f.read()\n",
    "    print(data)"
   ]
  },
  {
   "cell_type": "code",
   "execution_count": 28,
   "id": "5ea68f20",
   "metadata": {},
   "outputs": [],
   "source": [
    "with open('test2.txt','w') as f:\n",
    "    for i in range(1,11):\n",
    "        data = '%d번째 줄입니다.\\n'  %i\n",
    "        f.write(data)"
   ]
  },
  {
   "cell_type": "code",
   "execution_count": 29,
   "id": "b88bd98c",
   "metadata": {
    "collapsed": true
   },
   "outputs": [
    {
     "name": "stdout",
     "output_type": "stream",
     "text": [
      "1번째 줄입니다.\n",
      "2번째 줄입니다.\n",
      "3번째 줄입니다.\n",
      "4번째 줄입니다.\n",
      "5번째 줄입니다.\n",
      "6번째 줄입니다.\n",
      "7번째 줄입니다.\n",
      "8번째 줄입니다.\n",
      "9번째 줄입니다.\n",
      "10번째 줄입니다.\n",
      "\n"
     ]
    }
   ],
   "source": [
    "with open('test2.txt','r') as f:\n",
    "    data = f.read()\n",
    "    print(data)"
   ]
  },
  {
   "cell_type": "code",
   "execution_count": 30,
   "id": "deec3f1e",
   "metadata": {},
   "outputs": [],
   "source": [
    "with open('test2.txt','a') as f:\n",
    "    for i in range(11,16):\n",
    "        data = f'{i}번째 줄입니다.\\n'\n",
    "        f.write(data)"
   ]
  },
  {
   "cell_type": "code",
   "execution_count": 11,
   "id": "acde62b2",
   "metadata": {
    "collapsed": true
   },
   "outputs": [
    {
     "name": "stdout",
     "output_type": "stream",
     "text": [
      "1번째 줄입니다.\n",
      "2번째 줄입니다.\n",
      "3번째 줄입니다.\n",
      "4번째 줄입니다.\n",
      "5번째 줄입니다.\n",
      "6번째 줄입니다.\n",
      "7번째 줄입니다.\n",
      "8번째 줄입니다.\n",
      "9번째 줄입니다.\n",
      "10번째 줄입니다.\n",
      "11번째 줄입니다.\n",
      "12번째 줄입니다.\n",
      "13번째 줄입니다.\n",
      "14번째 줄입니다.\n",
      "15번째 줄입니다.\n",
      "\n"
     ]
    }
   ],
   "source": [
    "with open('test2.txt','r') as f:\n",
    "    data = f.read()\n",
    "    print(data)"
   ]
  },
  {
   "cell_type": "markdown",
   "id": "9158cdbb",
   "metadata": {},
   "source": [
    "#  내장함수"
   ]
  },
  {
   "cell_type": "code",
   "execution_count": 44,
   "id": "8ab4941d",
   "metadata": {},
   "outputs": [
    {
     "name": "stdout",
     "output_type": "stream",
     "text": [
      "3\n",
      "False\n",
      "True\n",
      "A\n",
      "97\n"
     ]
    }
   ],
   "source": [
    "print(abs(-3))\n",
    "print(all([1,2,3,0])) # x가 모두 참이면 True, 거짓이 하나라도 있으면 False\n",
    "print(any([1,2,3,0])) # x가 하나라도 참이면 True, 모두 거짓이면 False\n",
    "print(chr(65))   # 숫자의 아스키코드 문자를 출력"
   ]
  },
  {
   "cell_type": "code",
   "execution_count": 49,
   "id": "6c14c244",
   "metadata": {},
   "outputs": [
    {
     "data": {
      "text/plain": [
       "3"
      ]
     },
     "execution_count": 49,
     "metadata": {},
     "output_type": "execute_result"
    }
   ],
   "source": [
    "sum = lambda a,b : a+b  # lamvda 함수는 사용자함수와 비슷\n",
    "sum(1,2)"
   ]
  },
  {
   "cell_type": "code",
   "execution_count": 52,
   "id": "12769959",
   "metadata": {},
   "outputs": [
    {
     "name": "stdout",
     "output_type": "stream",
     "text": [
      "7\n",
      "12\n"
     ]
    }
   ],
   "source": [
    "myList = [lambda a,b: a+b, lambda a,b: a*b]\n",
    "print(myList[0](3,4))\n",
    "print(myList[1](3,4))"
   ]
  },
  {
   "cell_type": "code",
   "execution_count": 55,
   "id": "8f4bd5bb",
   "metadata": {},
   "outputs": [
    {
     "name": "stdout",
     "output_type": "stream",
     "text": [
      "6\n",
      "3\n",
      "3\n"
     ]
    }
   ],
   "source": [
    "print(len('python')) #len 문자열 길이, 리스트 개수 출력\n",
    "print(len([1,2,3]))\n",
    "print(len([1,2,'a']))"
   ]
  },
  {
   "cell_type": "code",
   "execution_count": 66,
   "id": "cb54bb86",
   "metadata": {},
   "outputs": [
    {
     "data": {
      "text/plain": [
       "[0, -1, -2, -3, -4, -5, -6, -7, -8, -9]"
      ]
     },
     "execution_count": 66,
     "metadata": {},
     "output_type": "execute_result"
    }
   ],
   "source": [
    "list(range(5))      # range 범위 설정\n",
    "list(range(1,6))\n",
    "list(range(1,10,2))  # 2 씩 간격\n",
    "list(range(0,-10,-1))   # -1씩 간격이라 거꾸로"
   ]
  },
  {
   "cell_type": "code",
   "execution_count": 68,
   "id": "e4c8c7a5",
   "metadata": {},
   "outputs": [
    {
     "name": "stdout",
     "output_type": "stream",
     "text": [
      "(2, 1)\n"
     ]
    }
   ],
   "source": [
    "print(divmod(7,3)) # 몫과 나머지 출력"
   ]
  },
  {
   "cell_type": "code",
   "execution_count": 1,
   "id": "54fc1726",
   "metadata": {},
   "outputs": [
    {
     "name": "stdout",
     "output_type": "stream",
     "text": [
      "0 james\n",
      "1 tom\n",
      "2 susan\n"
     ]
    }
   ],
   "source": [
    "# enumerate \n",
    "# 순서가 있는 자료형을 입력으로 받아 인덱스 값을 포함한 \n",
    "# enumerate 객체를 리턴\n",
    "\n",
    "for i, name in enumerate(['james','tom','susan']):\n",
    "    print(i, name)"
   ]
  },
  {
   "cell_type": "code",
   "execution_count": 70,
   "id": "83bedc6a",
   "metadata": {},
   "outputs": [
    {
     "name": "stdout",
     "output_type": "stream",
     "text": [
      "3\n"
     ]
    }
   ],
   "source": [
    "# eval 실행가능한 문자열을 입력으로 받아 \n",
    "# 문자열을 실행한 결과값을 리턴한다.\n",
    "\n",
    "print(eval('1+2'))"
   ]
  },
  {
   "cell_type": "code",
   "execution_count": 76,
   "id": "858a8f5c",
   "metadata": {},
   "outputs": [
    {
     "name": "stdout",
     "output_type": "stream",
     "text": [
      "[5, 4, 3, 2, 1, 0]\n"
     ]
    }
   ],
   "source": [
    "li = [0,1,2,3,5,4]\n",
    "li.sort(reverse=True)\n",
    "print(li)"
   ]
  },
  {
   "cell_type": "code",
   "execution_count": 30,
   "id": "8874c54d",
   "metadata": {
    "scrolled": true
   },
   "outputs": [
    {
     "name": "stdout",
     "output_type": "stream",
     "text": [
      "[5, 4, 2, 1, 0]\n"
     ]
    }
   ],
   "source": [
    "# 정령된 결과를 반환하는 함수는 본체는 변형되지 않는다\n",
    "\n",
    "li = [0,2,1,5,4]\n",
    "s = sorted(li,reverse=True)\n",
    "print(s)\n"
   ]
  },
  {
   "cell_type": "markdown",
   "id": "28ee83a4",
   "metadata": {},
   "source": [
    "# 외장함수  \n",
    "전 세계 파이썬 사용자들이 만든 유용한 프로그램을 모아 놓은 파이썬 라이브러리. 파이썬을 설치할 때 자동으로 설치됨"
   ]
  },
  {
   "cell_type": "code",
   "execution_count": 89,
   "id": "e359f540",
   "metadata": {},
   "outputs": [],
   "source": [
    "# pickle 함수 바이러니 타입으로 저장함 저장할때 dump\n",
    "import pickle\n",
    "f = open('test.txt','wb')\n",
    "data = {1:'python', 2:'you need'}\n",
    "pickle.dump(data,f)\n",
    "f.close()"
   ]
  },
  {
   "cell_type": "code",
   "execution_count": 91,
   "id": "c1f616f5",
   "metadata": {},
   "outputs": [
    {
     "name": "stdout",
     "output_type": "stream",
     "text": [
      "{1: 'python', 2: 'you need'}\n"
     ]
    }
   ],
   "source": [
    "# pickle 읽을 때 load\n",
    "import pickle\n",
    "f = open('test.txt','rb')\n",
    "data = pickle.load(f)\n",
    "print(data)\n",
    "f.close()"
   ]
  },
  {
   "cell_type": "code",
   "execution_count": 92,
   "id": "edea9842",
   "metadata": {
    "collapsed": true
   },
   "outputs": [
    {
     "data": {
      "text/plain": [
       "'C:\\\\Users\\\\admin\\\\anaconda3\\\\envs\\\\cakd5;C:\\\\Users\\\\admin\\\\anaconda3\\\\envs\\\\cakd5\\\\Library\\\\mingw-w64\\\\bin;C:\\\\Users\\\\admin\\\\anaconda3\\\\envs\\\\cakd5\\\\Library\\\\usr\\\\bin;C:\\\\Users\\\\admin\\\\anaconda3\\\\envs\\\\cakd5\\\\Library\\\\bin;C:\\\\Users\\\\admin\\\\anaconda3\\\\envs\\\\cakd5\\\\Scripts;C:\\\\WINDOWS\\\\system32;C:\\\\WINDOWS;C:\\\\WINDOWS\\\\System32\\\\Wbem;C:\\\\WINDOWS\\\\System32\\\\WindowsPowerShell\\\\v1.0\\\\;C:\\\\WINDOWS\\\\System32\\\\OpenSSH\\\\;C:\\\\Program Files\\\\Git\\\\cmd;C:\\\\Program Files\\\\Microsoft SQL Server\\\\150\\\\Tools\\\\Binn\\\\;C:\\\\Program Files\\\\Microsoft SQL Server\\\\Client SDK\\\\ODBC\\\\170\\\\Tools\\\\Binn\\\\;C:\\\\Users\\\\admin\\\\anaconda3;C:\\\\Users\\\\admin\\\\anaconda3\\\\Library\\\\mingw-w64\\\\bin;C:\\\\Users\\\\admin\\\\anaconda3\\\\Scripts;C:\\\\Users\\\\admin\\\\anaconda3\\\\Library\\\\bin;C:\\\\Users\\\\admin\\\\AppData\\\\Local\\\\Programs\\\\Python\\\\Python38\\\\Scripts\\\\;C:\\\\Users\\\\admin\\\\AppData\\\\Local\\\\Programs\\\\Python\\\\Python38\\\\;C:\\\\Users\\\\admin\\\\AppData\\\\Local\\\\Programs\\\\Python\\\\Python39\\\\Scripts\\\\;C:\\\\Users\\\\admin\\\\AppData\\\\Local\\\\Programs\\\\Python\\\\Python39\\\\;C:\\\\Users\\\\admin\\\\AppData\\\\Local\\\\Microsoft\\\\WindowsApps;;C:\\\\Program Files\\\\JetBrains\\\\PyCharm 2021.2.3\\\\bin;'"
      ]
     },
     "execution_count": 92,
     "metadata": {},
     "output_type": "execute_result"
    }
   ],
   "source": [
    "import os\n",
    "os.environ['PATH']"
   ]
  },
  {
   "cell_type": "code",
   "execution_count": 93,
   "id": "ed05d240",
   "metadata": {
    "scrolled": true
   },
   "outputs": [
    {
     "data": {
      "text/plain": [
       "'C:\\\\cakd5\\\\workspace\\\\m1_programming'"
      ]
     },
     "execution_count": 93,
     "metadata": {},
     "output_type": "execute_result"
    }
   ],
   "source": [
    "# 폴더 변경\n",
    "%pwd  # 경로보기\n",
    "# os.chdir('C:\\\\cakd5\\\\workspace\\\\m1_programming')"
   ]
  },
  {
   "cell_type": "code",
   "execution_count": 95,
   "id": "54696c90",
   "metadata": {
    "scrolled": true
   },
   "outputs": [
    {
     "data": {
      "text/plain": [
       "'C:\\\\cakd5\\\\workspace\\\\m1_programming'"
      ]
     },
     "execution_count": 95,
     "metadata": {},
     "output_type": "execute_result"
    }
   ],
   "source": [
    "os.getcwd()"
   ]
  },
  {
   "cell_type": "code",
   "execution_count": 99,
   "id": "1e22ec35",
   "metadata": {
    "collapsed": true
   },
   "outputs": [
    {
     "name": "stdout",
     "output_type": "stream",
     "text": [
      " C 드라이브의 볼륨에는 이름이 없습니다.\n",
      " 볼륨 일련 번호: B4B3-A327\n",
      "\n",
      " C:\\cakd5\\workspace\\m1_programming 디렉터리\n",
      "\n",
      "2021-12-31  오후 12:25    <DIR>          .\n",
      "2021-12-31  오후 12:25    <DIR>          ..\n",
      "2021-12-30  오후 02:49    <DIR>          .ipynb_checkpoints\n",
      "2021-12-31  오전 11:29                18 foo.txt\n",
      "2021-12-31  오후 12:16                40 test.txt\n",
      "2021-12-31  오전 11:35               261 test2.txt\n",
      "2021-12-31  오전 11:27               261 test_new.txt\n",
      "2021-12-31  오전 10:30            83,301 기초.ipynb\n",
      "2021-12-31  오후 12:25            27,062 함수.ipynb\n",
      "               6개 파일             110,943 바이트\n",
      "               3개 디렉터리  954,103,275,520 바이트 남음\n"
     ]
    }
   ],
   "source": [
    "# 디렉토리 보기\n",
    "!dir"
   ]
  },
  {
   "cell_type": "code",
   "execution_count": 98,
   "id": "4ec67036",
   "metadata": {
    "collapsed": true
   },
   "outputs": [
    {
     "ename": "FileNotFoundError",
     "evalue": "[WinError 2] 지정된 파일을 찾을 수 없습니다: 'test1.txt' -> 'test_new.txt'",
     "output_type": "error",
     "traceback": [
      "\u001b[1;31m---------------------------------------------------------------------------\u001b[0m",
      "\u001b[1;31mFileNotFoundError\u001b[0m                         Traceback (most recent call last)",
      "\u001b[1;32m~\\AppData\\Local\\Temp/ipykernel_8884/2375702792.py\u001b[0m in \u001b[0;36m<module>\u001b[1;34m\u001b[0m\n\u001b[1;32m----> 1\u001b[1;33m \u001b[0mos\u001b[0m\u001b[1;33m.\u001b[0m\u001b[0mrename\u001b[0m\u001b[1;33m(\u001b[0m\u001b[1;34m'test1.txt'\u001b[0m\u001b[1;33m,\u001b[0m\u001b[1;34m'test_new.txt'\u001b[0m\u001b[1;33m)\u001b[0m\u001b[1;33m\u001b[0m\u001b[1;33m\u001b[0m\u001b[0m\n\u001b[0m",
      "\u001b[1;31mFileNotFoundError\u001b[0m: [WinError 2] 지정된 파일을 찾을 수 없습니다: 'test1.txt' -> 'test_new.txt'"
     ]
    }
   ],
   "source": [
    "# 파일명 변경\n",
    "os.rename('test1.txt','test_new.txt')"
   ]
  },
  {
   "cell_type": "code",
   "execution_count": 106,
   "id": "34bfa501",
   "metadata": {
    "collapsed": true
   },
   "outputs": [
    {
     "data": {
      "text/plain": [
       "['C:\\\\cakd5\\\\workspace\\\\m1_programming\\\\foo.txt',\n",
       " 'C:\\\\cakd5\\\\workspace\\\\m1_programming\\\\test.txt',\n",
       " 'C:\\\\cakd5\\\\workspace\\\\m1_programming\\\\test2.txt',\n",
       " 'C:\\\\cakd5\\\\workspace\\\\m1_programming\\\\test_new.txt']"
      ]
     },
     "execution_count": 106,
     "metadata": {},
     "output_type": "execute_result"
    }
   ],
   "source": [
    "# glob 함수\n",
    "# 인자로 받은 패턴과 이름이 일치하는 \n",
    "# 모든 파일과 디렉토리의 리스트를 반환\n",
    "\n",
    "import glob\n",
    "glob.glob('C:\\cakd5\\workspace\\m1_programming/*.txt')"
   ]
  },
  {
   "cell_type": "code",
   "execution_count": 107,
   "id": "62098f5a",
   "metadata": {},
   "outputs": [
    {
     "data": {
      "text/plain": [
       "1640921411.997345"
      ]
     },
     "execution_count": 107,
     "metadata": {},
     "output_type": "execute_result"
    }
   ],
   "source": [
    "import time\n",
    "time.time()"
   ]
  },
  {
   "cell_type": "code",
   "execution_count": 110,
   "id": "a7ee3537",
   "metadata": {},
   "outputs": [
    {
     "data": {
      "text/plain": [
       "time.struct_time(tm_year=2021, tm_mon=12, tm_mday=31, tm_hour=12, tm_min=32, tm_sec=2, tm_wday=4, tm_yday=365, tm_isdst=0)"
      ]
     },
     "execution_count": 110,
     "metadata": {},
     "output_type": "execute_result"
    }
   ],
   "source": [
    "time.localtime(time.time())"
   ]
  },
  {
   "cell_type": "code",
   "execution_count": 112,
   "id": "61a70f5d",
   "metadata": {},
   "outputs": [
    {
     "data": {
      "text/plain": [
       "'Fri Dec 31 12:33:03 2021'"
      ]
     },
     "execution_count": 112,
     "metadata": {},
     "output_type": "execute_result"
    }
   ],
   "source": [
    "time.asctime(time.localtime(time.time()))"
   ]
  },
  {
   "cell_type": "code",
   "execution_count": 116,
   "id": "3fe7b912",
   "metadata": {
    "collapsed": true
   },
   "outputs": [
    {
     "name": "stdout",
     "output_type": "stream",
     "text": [
      "0\n",
      "1\n",
      "2\n",
      "3\n",
      "4\n",
      "5\n",
      "6\n",
      "7\n",
      "8\n",
      "9\n"
     ]
    }
   ],
   "source": [
    "# time.sleep() : 일정한 시간간격을 두고 루프를 실행할 수 있음\n",
    "\n",
    "import time\n",
    "for i in range(10):\n",
    "    print(i)\n",
    "    time.sleep(1)"
   ]
  },
  {
   "cell_type": "code",
   "execution_count": 9,
   "id": "3982c60b",
   "metadata": {},
   "outputs": [
    {
     "name": "stdout",
     "output_type": "stream",
     "text": [
      "    October 2021\n",
      "Mo Tu We Th Fr Sa Su\n",
      "             1  2  3\n",
      " 4  5  6  7  8  9 10\n",
      "11 12 13 14 15 16 17\n",
      "18 19 20 21 22 23 24\n",
      "25 26 27 28 29 30 31\n",
      "\n"
     ]
    }
   ],
   "source": [
    "import calendar\n",
    "print(calendar.month(2021,10))"
   ]
  },
  {
   "cell_type": "code",
   "execution_count": 120,
   "id": "63c6ab20",
   "metadata": {},
   "outputs": [
    {
     "name": "stdout",
     "output_type": "stream",
     "text": [
      "4\n"
     ]
    }
   ],
   "source": [
    "# 요일 (0 월요일 ~ 6 일요일)\n",
    "print(calendar.weekday(2021,12,31))"
   ]
  },
  {
   "cell_type": "code",
   "execution_count": 121,
   "id": "9f4e0f74",
   "metadata": {},
   "outputs": [
    {
     "data": {
      "text/plain": [
       "(5, 31)"
      ]
     },
     "execution_count": 121,
     "metadata": {},
     "output_type": "execute_result"
    }
   ],
   "source": [
    "# 1일의 요일, 날수\n",
    "calendar.monthrange(2022,1)"
   ]
  },
  {
   "cell_type": "code",
   "execution_count": 1,
   "id": "45a3afed",
   "metadata": {},
   "outputs": [
    {
     "data": {
      "text/plain": [
       "True"
      ]
     },
     "execution_count": 1,
     "metadata": {},
     "output_type": "execute_result"
    }
   ],
   "source": [
    "import webbrowser\n",
    "webbrowser.open('http://google.com')"
   ]
  },
  {
   "cell_type": "code",
   "execution_count": 50,
   "id": "420e81c5",
   "metadata": {
    "scrolled": true
   },
   "outputs": [
    {
     "name": "stdout",
     "output_type": "stream",
     "text": [
      "[0, 1, 3, 4, 5, 6]\n"
     ]
    }
   ],
   "source": [
    "# 내장함수를 이용해서 list = [0,1,2,3,4,5,6]에서 2를 삭제 후 출력하세요.\n",
    "li = [0,1,2,3,4,5,6]\n",
    "del li[2]\n",
    "print(li)"
   ]
  },
  {
   "cell_type": "code",
   "execution_count": 2,
   "id": "fd9014bb",
   "metadata": {},
   "outputs": [
    {
     "name": "stdout",
     "output_type": "stream",
     "text": [
      "[1, 3, 4, 5, 6]\n"
     ]
    }
   ],
   "source": [
    "li = [1,2,3,4,5,6]\n",
    "li.remove(2)\n",
    "print(li)"
   ]
  },
  {
   "cell_type": "code",
   "execution_count": 53,
   "id": "32bbc325",
   "metadata": {},
   "outputs": [
    {
     "name": "stdout",
     "output_type": "stream",
     "text": [
      "[0, 1, 3, 4, 5, 6]\n"
     ]
    }
   ],
   "source": [
    "li = [0,1,2,3,4,5,6]\n",
    "li.pop(2)\n",
    "print(li)"
   ]
  },
  {
   "cell_type": "code",
   "execution_count": 49,
   "id": "fc039843",
   "metadata": {},
   "outputs": [
    {
     "name": "stdout",
     "output_type": "stream",
     "text": [
      "[]\n",
      "[]\n"
     ]
    }
   ],
   "source": [
    "# 내장함수를 이용해서 list = [0,1,2,3,4,5,6]에서 모든 원소를 삭제 후 출력하세요.\n",
    "li = [0,1,2,3,4,5,6]\n",
    "for i in range(len(li)):\n",
    "    del li[0]\n",
    "print(li)\n",
    "\n",
    "li = [0,1,2,3,4,5,6]\n",
    "del li[:]\n",
    "print(li)"
   ]
  },
  {
   "cell_type": "code",
   "execution_count": 48,
   "id": "82d92e4f",
   "metadata": {},
   "outputs": [
    {
     "name": "stdout",
     "output_type": "stream",
     "text": [
      "[1, 4, 9, 16, 25]\n",
      "[1, 2]\n",
      "[1, 2]\n"
     ]
    }
   ],
   "source": [
    "# 람다함수와 적합한 내장함수를 사용하여 아래와 같이 출력하세요\n",
    "#  [1,2,3,4,5] -> [1,4,9,16,25]\n",
    "#  [1,2,3,4,5] -> [1,2]\n",
    "\n",
    "cal = lambda a: a**2\n",
    "\n",
    "li_a = [1,2,3,4,5]\n",
    "\n",
    "print(list(map(cal,li_a)))\n",
    "\n",
    "print(list(filter(lambda x: x<3 , li_a)))\n",
    "\n",
    "del li_a[2:]\n",
    "\n",
    "print(li_a)"
   ]
  },
  {
   "cell_type": "code",
   "execution_count": 60,
   "id": "9802ec70",
   "metadata": {},
   "outputs": [
    {
     "data": {
      "text/plain": [
       "[1, 2, 6]"
      ]
     },
     "execution_count": 60,
     "metadata": {},
     "output_type": "execute_result"
    }
   ],
   "source": [
    "#[1,-3,2,0,-5,6] 에서 양수만 필터링해서 출력하세요(내장함수, 사용자함수 각각 이용)\n",
    "def f(a):\n",
    "    if a > 0:\n",
    "        return a\n",
    "    else:\n",
    "        return\n",
    "\n",
    "li_a = [1,-3,2,0,-5,6]\n",
    "list(filter(f,li_a))\n",
    "\n",
    "x=[1,-3,2,0,-5,6]\n",
    "list(filter(lambda x: x > 0 , x))"
   ]
  },
  {
   "cell_type": "code",
   "execution_count": 40,
   "id": "7e34ade9",
   "metadata": {},
   "outputs": [
    {
     "name": "stdout",
     "output_type": "stream",
     "text": [
      "[(1, 4), (2, 5), (3, 6)]\n",
      "[(1, 4, 7), (2, 5, 8), (3, 6, 9)]\n",
      "[('a', 'd'), ('b', 'e'), ('c', 'f')]\n"
     ]
    }
   ],
   "source": [
    "# 내장함수를 이용하여 동일한 개수로 이루어진 자료형을 화살표 좌측에서 우측으로 변환하세요\n",
    "#  [1,2,3],[4,5,6] -> [(1,4),(2,5),(3,6)]\n",
    "#  [1,2,3],[4,5,6],[7,8,9] -> [(1,4,7),(2,5,8),(3,6,9)]\n",
    "#  ('abc','def') -> [('a','d'),('b','e'),('c','f')]\n",
    "li_a = [1,2,3]\n",
    "li_b = [4,5,6]\n",
    "li_c = [7,8,9]\n",
    "li_d = ['abc','def']\n",
    "result1 = []\n",
    "result2 = []\n",
    "for i in range(len(li_a)):\n",
    "    result1.append((li_a[i],li_b[i]))\n",
    "print(result1)\n",
    "for i in range(len(li_a)):\n",
    "    result2.append((li_a[i],li_b[i],li_c[i]))\n",
    "print(result2)\n",
    "a = list(li_d[0])\n",
    "b = list(li_d[1])\n",
    "c = []\n",
    "for i in range(len(a)):\n",
    "    c.append((a[i],b[i]))\n",
    "print(c)\n",
    "    "
   ]
  },
  {
   "cell_type": "code",
   "execution_count": 61,
   "id": "75a8f6c5",
   "metadata": {},
   "outputs": [
    {
     "name": "stdout",
     "output_type": "stream",
     "text": [
      "[(1, 4), (2, 5), (3, 6)]\n",
      "[(1, 4, 7), (2, 5, 8), (3, 6, 9)]\n",
      "[('a', 'd'), ('b', 'e'), ('c', 'f')]\n"
     ]
    }
   ],
   "source": [
    "# 내장함수를 이용하여 동일한 개수로 이루어진 자료형을 화살표 좌측에서 우측으로 변환하세요\n",
    "#  [1,2,3],[4,5,6] -> [(1,4),(2,5),(3,6)]\n",
    "#  [1,2,3],[4,5,6],[7,8,9] -> [(1,4,7),(2,5,8),(3,6,9)]\n",
    "#  ('abc','def') -> [('a','d'),('b','e'),('c','f')]\n",
    "li_a = [1,2,3]\n",
    "li_b = [4,5,6]\n",
    "li_c = [7,8,9]\n",
    "\n",
    "print(list(zip(li_a,li_b)))\n",
    "\n",
    "print(list(zip(li_a,li_b,li_c)))\n",
    "\n",
    "print(list(zip ('abc','def')))"
   ]
  },
  {
   "cell_type": "code",
   "execution_count": 63,
   "id": "d2e11640",
   "metadata": {},
   "outputs": [
    {
     "name": "stdout",
     "output_type": "stream",
     "text": [
      "(1, 'a')\n",
      "(2, 'b')\n",
      "(3, 'c')\n"
     ]
    }
   ],
   "source": [
    "num = [1,2,3]\n",
    "lt = ['a','b','c']\n",
    "for pair in zip(num,lt):\n",
    "    print(pair)    "
   ]
  },
  {
   "cell_type": "code",
   "execution_count": 67,
   "id": "319ffbe0",
   "metadata": {},
   "outputs": [
    {
     "data": {
      "text/plain": [
       "2.0"
      ]
     },
     "execution_count": 67,
     "metadata": {},
     "output_type": "execute_result"
    }
   ],
   "source": [
    "# 입력으로 들어오는 모든 수의 평균 값을 계산해 주는 함수를 \n",
    "# 작성한 후 1,2,3을 입력한 결과를 출력하세요\n",
    "\n",
    "def mid (*args):\n",
    "    sum = 0\n",
    "    for i in args:\n",
    "        sum += i\n",
    "    return sum/len(args)\n",
    "\n",
    "mid(1,2,3)"
   ]
  },
  {
   "cell_type": "code",
   "execution_count": 4,
   "id": "cb5ddefb",
   "metadata": {},
   "outputs": [
    {
     "name": "stdout",
     "output_type": "stream",
     "text": [
      "-1\n",
      "1\n",
      "4\n"
     ]
    }
   ],
   "source": [
    "x = input()\n",
    "y = input()\n",
    "x = int(x)\n",
    "y = int(y)\n",
    "if x>0 and y>0:\n",
    "    print('1')\n",
    "elif x>0 and y<0:\n",
    "    print('2')\n",
    "elif x<0 and y<0:\n",
    "    print('3')\n",
    "else:\n",
    "    print('4')"
   ]
  },
  {
   "cell_type": "code",
   "execution_count": 14,
   "id": "bef37fe2",
   "metadata": {},
   "outputs": [
    {
     "name": "stdout",
     "output_type": "stream",
     "text": [
      "('bar', 'ca', 'ababa', 'aaaa', 'a')\n"
     ]
    }
   ],
   "source": [
    "# [과제] strings를 다양한 문자가 포함된 순서로 정렬하세요.\n",
    "strings = ['a', 'ca', 'bar', 'aaaa', 'ababa']\n",
    "s1 = []\n",
    "for i in range(len(strings)):\n",
    "    s1.append(len(set(strings[i])))\n",
    "s2 = list(zip(s1,strings))\n",
    "s2.sort(reverse=True)\n",
    "s1, strings = zip(*s2)\n",
    "print(strings)"
   ]
  },
  {
   "cell_type": "code",
   "execution_count": 23,
   "id": "aa401c3a",
   "metadata": {},
   "outputs": [
    {
     "data": {
      "text/plain": [
       "['bar', 'ababa', 'ca', 'aaaa', 'a']"
      ]
     },
     "execution_count": 23,
     "metadata": {},
     "output_type": "execute_result"
    }
   ],
   "source": [
    "# 교수님 예제\n",
    "strings = ['a', 'ca', 'bar', 'aaaa', 'ababa']\n",
    "strings.sort(key=lambda x:len(set(x)))#,reverse=True\n",
    "strings[::-1]"
   ]
  },
  {
   "cell_type": "code",
   "execution_count": 24,
   "id": "08970748",
   "metadata": {},
   "outputs": [
    {
     "name": "stdout",
     "output_type": "stream",
     "text": [
      "('bar', 'ca', 'ababa', 'aaaa', 'a')\n"
     ]
    }
   ],
   "source": [
    "# [과제] 튜플 형태인 strings를 다양한 문자가 포함된 순서로 정렬하세요.\n",
    "strings = ('a', 'ca', 'bar', 'aaaa', 'ababa')\n",
    "s1 = []\n",
    "for i in range(len(strings)):\n",
    "    s1.append(len(set(strings[i])))\n",
    "s2 = list(zip(s1,strings))\n",
    "s2.sort(reverse=True)\n",
    "s1, strings = zip(*s2)\n",
    "print(strings)"
   ]
  },
  {
   "cell_type": "code",
   "execution_count": 24,
   "id": "2077ff7a",
   "metadata": {},
   "outputs": [
    {
     "data": {
      "text/plain": [
       "['bar', 'ababa', 'ca', 'aaaa', 'a']"
      ]
     },
     "execution_count": 24,
     "metadata": {},
     "output_type": "execute_result"
    }
   ],
   "source": [
    "# 교수님 예제\n",
    "strings = ('a', 'ca', 'bar', 'aaaa', 'ababa')\n",
    "s1 = list(strings)\n",
    "s1.sort(key=lambda x:len(set(x)))\n",
    "s1[::-1]"
   ]
  },
  {
   "cell_type": "code",
   "execution_count": 36,
   "id": "34d599ad",
   "metadata": {},
   "outputs": [
    {
     "name": "stdout",
     "output_type": "stream",
     "text": [
      "gfedcba\n"
     ]
    }
   ],
   "source": [
    "s = 'abcdefg'\n",
    "s_list = list(s)\n",
    "s_list.reverse()\n",
    "print(''.join(s_list))"
   ]
  },
  {
   "cell_type": "code",
   "execution_count": 45,
   "id": "3c8ac220",
   "metadata": {},
   "outputs": [
    {
     "name": "stdout",
     "output_type": "stream",
     "text": [
      "gfedcba\n"
     ]
    }
   ],
   "source": [
    "s = 'abcdefg'\n",
    "print(s[::-1])"
   ]
  },
  {
   "cell_type": "code",
   "execution_count": 47,
   "id": "92435d0e",
   "metadata": {},
   "outputs": [
    {
     "name": "stdout",
     "output_type": "stream",
     "text": [
      "dcb\n"
     ]
    }
   ],
   "source": [
    "# dcb만 출력\n",
    "s = 'abcdefg'\n",
    "print(s[3:0:-1])"
   ]
  },
  {
   "cell_type": "code",
   "execution_count": 50,
   "id": "407b89d6",
   "metadata": {},
   "outputs": [
    {
     "name": "stdout",
     "output_type": "stream",
     "text": [
      "gfedcba\n",
      "gfedcba\n"
     ]
    }
   ],
   "source": [
    "s = 'abcdefg'\n",
    "print(s[::-1])\n",
    "print(s[6::-1])"
   ]
  }
 ],
 "metadata": {
  "kernelspec": {
   "display_name": "Python 3 (ipykernel)",
   "language": "python",
   "name": "python3"
  },
  "language_info": {
   "codemirror_mode": {
    "name": "ipython",
    "version": 3
   },
   "file_extension": ".py",
   "mimetype": "text/x-python",
   "name": "python",
   "nbconvert_exporter": "python",
   "pygments_lexer": "ipython3",
   "version": "3.8.12"
  }
 },
 "nbformat": 4,
 "nbformat_minor": 5
}
