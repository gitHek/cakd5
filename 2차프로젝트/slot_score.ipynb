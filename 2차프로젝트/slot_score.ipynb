{
 "cells": [
  {
   "cell_type": "code",
   "execution_count": 22,
   "metadata": {},
   "outputs": [],
   "source": [
    "# 지금은 slots_score가 None으로 이루어진 행렬입니다. 아래의 예시를 바탕으로 y_slots를 이용하여 slots_score를 만들어보세요.\n",
    "# 예시)\n",
    "#           입력 문장: 아이유 노래 재생\n",
    "#           토크나이즈 된 문장: ['아이유_ / 노래_ / 재 / 생_']\n",
    "import numpy as np\n",
    "slots = [['아티스트', 'O', 'O', 'O']]\n",
    "y_slots = np.array([[0.00003171, 0.00454775, 0.9950228,  0.00019214, 0.00020573],\n",
    "                    [0.00000268, 0.9998349,  0.00004407, 0.00001392, 0.00010439],\n",
    "                    [0.00000056, 0.9999397,  0.00002303, 0.00000644, 0.00003024],\n",
    "                    [0.00000094, 0.99993575, 0.00002988, 0.00001607, 0.00001725]])\n",
    "slots_score = [[0.9950228,  0.9998349,  0.9999397,  0.99993575]] #-> 각 토큰의 슬롯에 대한 확률"
   ]
  },
  {
   "cell_type": "code",
   "execution_count": 23,
   "metadata": {},
   "outputs": [
    {
     "data": {
      "text/plain": [
       "4"
      ]
     },
     "execution_count": 23,
     "metadata": {},
     "output_type": "execute_result"
    }
   ],
   "source": [
    "y_slots.shape[0]"
   ]
  },
  {
   "cell_type": "code",
   "execution_count": 25,
   "metadata": {},
   "outputs": [
    {
     "name": "stdout",
     "output_type": "stream",
     "text": [
      "0.9950228\n",
      "0.9998349\n",
      "0.9999397\n",
      "0.99993575\n"
     ]
    }
   ],
   "source": [
    "for i in range(y_slots.shape[0]):\n",
    "    print(y_slots[i].max())"
   ]
  },
  {
   "cell_type": "code",
   "execution_count": null,
   "metadata": {},
   "outputs": [],
   "source": [
    "slots_score = [y_slots[i].max() for i in range(y_slots.shape[0])]"
   ]
  },
  {
   "cell_type": "code",
   "execution_count": 27,
   "metadata": {},
   "outputs": [
    {
     "data": {
      "text/plain": [
       "[0.9950228, 0.9998349, 0.9999397, 0.99993575]"
      ]
     },
     "execution_count": 27,
     "metadata": {},
     "output_type": "execute_result"
    }
   ],
   "source": [
    "slots_score"
   ]
  }
 ],
 "metadata": {
  "interpreter": {
   "hash": "05ac694886adde9125cb438ca1952c2124abc484b1a085dccba0cab67f4c2657"
  },
  "kernelspec": {
   "display_name": "Python 3.8.12 ('cakd5')",
   "language": "python",
   "name": "python3"
  },
  "language_info": {
   "codemirror_mode": {
    "name": "ipython",
    "version": 3
   },
   "file_extension": ".py",
   "mimetype": "text/x-python",
   "name": "python",
   "nbconvert_exporter": "python",
   "pygments_lexer": "ipython3",
   "version": "3.8.12"
  },
  "orig_nbformat": 4
 },
 "nbformat": 4,
 "nbformat_minor": 2
}
