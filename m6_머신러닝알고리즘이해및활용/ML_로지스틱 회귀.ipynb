{
 "cells": [
  {
   "cell_type": "markdown",
   "metadata": {},
   "source": [
    "https://hleecaster.com/ml-logistic-regression-concept/"
   ]
  },
  {
   "cell_type": "code",
   "execution_count": 39,
   "metadata": {},
   "outputs": [],
   "source": [
    "import pandas as pd\n",
    "import numpy as np\n",
    "from sklearn.datasets import load_breast_cancer\n",
    "from sklearn.model_selection import train_test_split\n",
    "import warnings\n",
    "warnings.filterwarnings('ignore')\n",
    "from sklearn.linear_model import LogisticRegression\n",
    "from sklearn.model_selection import GridSearchCV\n",
    "from sklearn.metrics import confusion_matrix,accuracy_score,precision_score,recall_score,f1_score,roc_auc_score\n",
    "\n",
    "dataset = load_breast_cancer()\n",
    "X = dataset.data\n",
    "y = dataset.target\n",
    "\n",
    "X_train,X_test,y_train,y_test = train_test_split(X,y,test_size = 0.2,random_state=0)\n"
   ]
  },
  {
   "cell_type": "code",
   "execution_count": 34,
   "metadata": {},
   "outputs": [
    {
     "data": {
      "text/plain": [
       "GridSearchCV(cv=3, estimator=LogisticRegression(),\n",
       "             param_grid={'C': [0.01, 0.1, 1, 3, 5, 7, 10],\n",
       "                         'penalty': ['l1', 'l2']},\n",
       "             scoring='accuracy')"
      ]
     },
     "execution_count": 34,
     "metadata": {},
     "output_type": "execute_result"
    }
   ],
   "source": [
    "params = {\n",
    "    'penalty':['l1','l2'],\n",
    "    'C':[0.01,0.1,1,3,5,7,10]\n",
    "}\n",
    "\n",
    "lr_clf = LogisticRegression()\n",
    "grid_clf = GridSearchCV(lr_clf,param_grid=params,cv=3,refit=True,scoring='accuracy')\n",
    "grid_clf.fit(X_train,y_train)"
   ]
  },
  {
   "cell_type": "code",
   "execution_count": 35,
   "metadata": {},
   "outputs": [],
   "source": [
    "def scores(y_test,pred=None,pred_proba=None):\n",
    "    con_mat = confusion_matrix(y_test,pred)\n",
    "    acc = accuracy_score(y_test,pred)\n",
    "    pre = precision_score(y_test,pred)\n",
    "    rec = recall_score(y_test,pred)\n",
    "    f1 = f1_score(y_test,pred)\n",
    "    roc_auc = roc_auc_score(y_test,pred_proba)\n",
    "    print(f'오차행렬 : \\n{con_mat}\\n정확도 : {acc:.4f}, 정밀도 : {pre:.4f}, 재현율 : {rec:.4f}, f1 점수 : {f1:.4f}, roc_auc : {roc_auc:.4f}')\n"
   ]
  },
  {
   "cell_type": "code",
   "execution_count": 44,
   "metadata": {},
   "outputs": [
    {
     "name": "stdout",
     "output_type": "stream",
     "text": [
      "테스트데이터 적용 점수\n",
      "오차행렬 : \n",
      "[[45  2]\n",
      " [ 4 63]]\n",
      "정확도 : 0.9474, 정밀도 : 0.9692, 재현율 : 0.9403, f1 점수 : 0.9545, roc_auc : 0.9940\n"
     ]
    }
   ],
   "source": [
    "lr_clf.fit(X_train,y_train)\n",
    "pred = lr_clf.predict(X_test)\n",
    "pred_proba = lr_clf.predict_proba(X_test)[:,1]\n",
    "print('테스트데이터 적용 점수')\n",
    "scores(y_test,pred,pred_proba)"
   ]
  },
  {
   "cell_type": "code",
   "execution_count": 36,
   "metadata": {},
   "outputs": [
    {
     "name": "stdout",
     "output_type": "stream",
     "text": [
      "최적 파라미터 :  {'C': 5, 'penalty': 'l2'}\n",
      "최적 평균 정확도 0.9494742651330311 \n",
      "\n",
      "테스트데이터 적용 점수\n",
      "오차행렬 : \n",
      "[[44  3]\n",
      " [ 3 64]]\n",
      "정확도 : 0.9474, 정밀도 : 0.9552, 재현율 : 0.9552, f1 점수 : 0.9552, roc_auc : 0.9898\n"
     ]
    }
   ],
   "source": [
    "print('최적 파라미터 : ',grid_clf.best_params_)\n",
    "print('최적 평균 정확도',grid_clf.best_score_,'\\n')\n",
    "\n",
    "best_grid = grid_clf.best_estimator_\n",
    "pred = best_grid.predict(X_test)\n",
    "pred_proba = best_grid.predict_proba(X_test)[:,1]\n",
    "\n",
    "print('테스트데이터 적용 점수')\n",
    "scores(y_test,pred,pred_proba)"
   ]
  },
  {
   "cell_type": "code",
   "execution_count": null,
   "metadata": {},
   "outputs": [],
   "source": []
  }
 ],
 "metadata": {
  "interpreter": {
   "hash": "920a39406dfdb36f67557ac5da90b10b9d5ec29f943ddf35185db243b71dc8bd"
  },
  "kernelspec": {
   "display_name": "Python 3.9.7 ('cakd5')",
   "language": "python",
   "name": "python3"
  },
  "language_info": {
   "codemirror_mode": {
    "name": "ipython",
    "version": 3
   },
   "file_extension": ".py",
   "mimetype": "text/x-python",
   "name": "python",
   "nbconvert_exporter": "python",
   "pygments_lexer": "ipython3",
   "version": "3.9.7"
  },
  "orig_nbformat": 4
 },
 "nbformat": 4,
 "nbformat_minor": 2
}
