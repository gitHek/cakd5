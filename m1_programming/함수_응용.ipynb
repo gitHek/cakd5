{
 "cells": [
  {
   "cell_type": "code",
   "execution_count": null,
   "id": "fa30049f",
   "metadata": {},
   "outputs": [],
   "source": [
    "# random은 난수를 발생시키는 모듈\n",
    "import random\n",
    "random.random() # 0.0에서 1.0 사이의 실수 중에서 난수값을 리턴"
   ]
  },
  {
   "cell_type": "code",
   "execution_count": null,
   "id": "06b85610",
   "metadata": {},
   "outputs": [],
   "source": [
    "# 0.0 ~ 10.0 사이의 실수값\n",
    "random.random() * 10"
   ]
  },
  {
   "cell_type": "code",
   "execution_count": null,
   "id": "d5c5ae99",
   "metadata": {},
   "outputs": [],
   "source": [
    "# 무작위로 섞기\n",
    "# random.shuffle()\n",
    "data = [1,2,3,4,5]\n",
    "random.shuffle(data)\n",
    "data"
   ]
  },
  {
   "cell_type": "code",
   "execution_count": null,
   "id": "be8a2d43",
   "metadata": {},
   "outputs": [],
   "source": [
    "# 1 ~ 100 사이의 임의 짝수를 출력\n",
    "random.randrange(2,101,2) # 1부터하면 홀수가 나옴"
   ]
  },
  {
   "cell_type": "code",
   "execution_count": null,
   "id": "b1ea8548",
   "metadata": {},
   "outputs": [],
   "source": [
    "# 1 ~ 55 사이의 정수중에서 난수값을 리턴\n",
    "random.randint(1,56)"
   ]
  },
  {
   "cell_type": "code",
   "execution_count": null,
   "id": "172c20b5",
   "metadata": {},
   "outputs": [],
   "source": [
    "# [1,2,3,4,5,6,7,8,9]에서 임의로 3개 선택\n",
    "li = [1,2,3,4,5,6,7,8,9]\n",
    "random.sample(li,3)    "
   ]
  },
  {
   "cell_type": "code",
   "execution_count": null,
   "id": "b75c8958",
   "metadata": {},
   "outputs": [],
   "source": [
    "# Q. numbers 내부에 들어있는 숫자가 몇 번 등장하는지를 출력하는 코드를 작성하세요\n",
    "numbers = [3,6,3,5,8,2,9,7,4,3,6,3,5,8,2,9,7,4]\n",
    "dic_num={}\n",
    "for i in set(numbers):\n",
    "    dic_num[i] = numbers.count(i)\n",
    "print(dic_num)"
   ]
  },
  {
   "cell_type": "code",
   "execution_count": null,
   "id": "25ce1745",
   "metadata": {},
   "outputs": [],
   "source": [
    "numbers = [3,6,3,5,8,2,9,7,4,3,6,3,5,8,2,9,7,4]\n",
    "counter = {}\n",
    "for num in numbers:\n",
    "    if num in counter:\n",
    "        counter[num] =counter[num] +1\n",
    "    else:\n",
    "        counter[num] = 1\n",
    "counter"
   ]
  },
  {
   "cell_type": "code",
   "execution_count": null,
   "id": "32ea74b0",
   "metadata": {},
   "outputs": [],
   "source": [
    "# Q. list [0,1,2,3,4,5,6]을 내림차순으로 출력하세요\n",
    "li = [0,1,2,3,4,5,6]\n",
    "# 1번째\n",
    "print(li[::-1])\n",
    "# 2번째\n",
    "li.reverse()\n",
    "print(li)"
   ]
  },
  {
   "cell_type": "code",
   "execution_count": null,
   "id": "aa9147ec",
   "metadata": {},
   "outputs": [],
   "source": [
    "# Q. list = ['a','b','c']를 for문을 사용해서 아래와 같이 출력하세요\n",
    "# 1번째는 a입니다.\n",
    "# 2번째는 b입니다.\n",
    "# 3번째는 c입니다.\n",
    "li = ['a','b','c']\n",
    "\n",
    "for i in range(len(li)):\n",
    "    print(f'{i+1}번째는 {li[i]}입니다.')\n"
   ]
  },
  {
   "cell_type": "code",
   "execution_count": null,
   "id": "2db05b54",
   "metadata": {},
   "outputs": [],
   "source": [
    "# enumerate 활용\n",
    "li = ['a','b','c']\n",
    "for i, value in enumerate(li):\n",
    "    print(f'{i+1}번째는 {value}입니다.')"
   ]
  },
  {
   "cell_type": "code",
   "execution_count": null,
   "id": "09304552",
   "metadata": {},
   "outputs": [],
   "source": [
    "# Q. 코딩을 한줄로 작성해서 동일한 결과를 출력하세요\n",
    "li = []\n",
    "for i in range(0,20,2):\n",
    "    li.append(i*i)\n",
    "print(li)"
   ]
  },
  {
   "cell_type": "code",
   "execution_count": null,
   "id": "dd696a70",
   "metadata": {
    "scrolled": false
   },
   "outputs": [],
   "source": [
    "print(list(map(lambda  x : x*x,range(0,20,2))))"
   ]
  },
  {
   "cell_type": "code",
   "execution_count": null,
   "id": "5be73601",
   "metadata": {},
   "outputs": [],
   "source": [
    "print([x*x for x in range(0,20,2)])"
   ]
  },
  {
   "cell_type": "code",
   "execution_count": null,
   "id": "7239fa81",
   "metadata": {},
   "outputs": [],
   "source": [
    "# Q. join 함수를 이용해서 ['a','b','c']를 아래와 같이 출력하세요.\n",
    "# a::b::c\n",
    "print(\"::\".join(['a','b','c']))"
   ]
  },
  {
   "cell_type": "code",
   "execution_count": null,
   "id": "40c840ea",
   "metadata": {},
   "outputs": [],
   "source": [
    "# Q. 두개의 숫자를 인자로 적용하면 4칙 연산을 수행하는 사용자 함수를 작성한 후 5,3을 대입한 결과를 튜플로 출력 하세요.(소숫점 없음)\n",
    "\n",
    "def cal(a,b):\n",
    "    return a+b, a-b, a*b, round(a/b)\n",
    "\n",
    "cal(5,3)"
   ]
  },
  {
   "cell_type": "code",
   "execution_count": null,
   "id": "c7bebd05",
   "metadata": {},
   "outputs": [],
   "source": [
    "# Q. 데이터를 입력하지 않으면 종료되는 코딩을 수행하세요. 단 반복적으로 작업을 수행할 수 있음.\n",
    "while 1:\n",
    "    key = input(\"데이터를 입력하세요   ;   \")\n",
    "    if not key:\n",
    "        break\n",
    "    print(key)"
   ]
  },
  {
   "cell_type": "code",
   "execution_count": null,
   "id": "bd6e772a",
   "metadata": {},
   "outputs": [],
   "source": [
    "def factorial(n):\n",
    "    output = 1\n",
    "    for i in range(1,n+1):\n",
    "        output *= i\n",
    "    return output\n",
    "\n",
    "print(factorial(5))\n",
    "print(factorial(7))"
   ]
  },
  {
   "cell_type": "code",
   "execution_count": null,
   "id": "fa654dec",
   "metadata": {},
   "outputs": [],
   "source": [
    "# 재귀란 '자기자신을 호출하는 것'을 의미한다;\n",
    "# 재귀함수를 이용해서 팩토리얼을 구하는 사용자 함수를 작성하고 1!, 5!, 10!을 구하세요\n",
    "# tactorial(n) = n * factorial(n-1) (n>=1)\n",
    "def factorial(n):\n",
    "    if n == 0:  # 0처리 중요\n",
    "        return 1\n",
    "    return n * factorial(n - 1)\n",
    " \n",
    "print(factorial(0))   # 0! 도 1이기 때문에 0도 저리를 해줘야함\n",
    "print(factorial(5))\n",
    "print(factorial(10))"
   ]
  },
  {
   "cell_type": "code",
   "execution_count": null,
   "id": "c93d6ea7",
   "metadata": {},
   "outputs": [],
   "source": [
    "# Q. 원의 면적과 둘레의 길이를 구하는 사용자 함수를 작성하여 반지름이 5와 10일때 면적과 둘레를 구하세요.\n",
    "def cir(n):\n",
    "    return round(n*n*3.14,2), round(n*2*3.14,2)\n",
    "# round(n,k) n을 소수점 k번째자리에서 반올림\n",
    "print(cir(5))\n",
    "print(cir(10))"
   ]
  },
  {
   "cell_type": "code",
   "execution_count": null,
   "id": "62cfcfaa",
   "metadata": {},
   "outputs": [],
   "source": [
    "# Q. list a의 모든 원수를 실수형으로 바꾸어 출력하세요.\n",
    "a = [1,2,3,4,5]\n",
    "for i in range(len(a)):\n",
    "    a[i] = float(a[i])\n",
    "print(b)"
   ]
  },
  {
   "cell_type": "code",
   "execution_count": null,
   "id": "8cc9818f",
   "metadata": {},
   "outputs": [],
   "source": [
    "a = [1,2,3,4,5]\n",
    "a = list(map(float,a))\n",
    "a"
   ]
  },
  {
   "cell_type": "code",
   "execution_count": null,
   "id": "e259de62",
   "metadata": {},
   "outputs": [],
   "source": [
    "# Q. 문자열 리스트 states를 정형화하여 아래와 같이 출력하세요.\n",
    "states = ['   Alabama ', 'Georgia!', 'Georgia', 'georgia', 'FlOrIda',\n",
    "          'south   carolina', 'West virginia']\n",
    "[출력]\n",
    "['Alabama',\n",
    " 'Georgia',\n",
    " 'Georgia',\n",
    " 'Georgia',\n",
    " 'Florida',\n",
    " 'South   Carolina',\n",
    " 'West Virginia']"
   ]
  },
  {
   "cell_type": "code",
   "execution_count": null,
   "id": "4c6ce416",
   "metadata": {},
   "outputs": [],
   "source": [
    "# 내가 하던거\n",
    "states = ['   Alabama ', 'Georgia!', 'Georgia', 'georgia', 'FlOrIda',\n",
    "          'south   carolina', 'West virginia']\n",
    "for i in range(len(states)):\n",
    "    states[i] = states[i].strip()"
   ]
  },
  {
   "cell_type": "code",
   "execution_count": null,
   "id": "a4f8fe7b",
   "metadata": {},
   "outputs": [],
   "source": [
    "def clean_strings(strings):\n",
    "    result = []\n",
    "    for value in strings:\n",
    "        value = value.strip()\n",
    "        result.append(value)\n",
    "    return result\n",
    "states = ['   Alabama ', 'Georgia!', 'Georgia', 'georgia', 'FlOrIda',\n",
    "          'south   carolina', 'West virginia']\n",
    "clean_strings(states)"
   ]
  },
  {
   "cell_type": "code",
   "execution_count": null,
   "id": "b6c78337",
   "metadata": {},
   "outputs": [],
   "source": [
    "# Q. 문자열 리스트 states를 정형화하여 아래와 같이 출력하세요.\n",
    "states = ['   Alabama ', 'Georgia!', 'Georgia', 'georgia', 'FlOrIda',\n",
    "          'south   carolina##', 'West virginia?']\n",
    "[출력]\n",
    "['Alabama',\n",
    " 'Georgia',\n",
    " 'Georgia',\n",
    " 'Georgia',\n",
    " 'Florida',\n",
    " 'South   Carolina',\n",
    " 'West Virginia']"
   ]
  },
  {
   "cell_type": "code",
   "execution_count": null,
   "id": "6de68396",
   "metadata": {},
   "outputs": [],
   "source": [
    "# 내가 한것\n",
    "states = ['   Alabama ', 'Georgia!', 'Georgia', 'georgia', 'FlOrIda',\n",
    "          'south   carolina##', 'West virginia?']\n",
    "def clean_strings(strings):\n",
    "    result = []\n",
    "    temp = []\n",
    "    for value in strings:\n",
    "        value = list(value)\n",
    "        for i in range(len(value)):\n",
    "            if value[i] == ' ' :\n",
    "                temp.append(value[i])\n",
    "            elif value[i].isalnum() == True:\n",
    "                temp.append(value[i])\n",
    "        result.append(\"\".join(temp).strip())\n",
    "        del temp[:]\n",
    "    return result\n",
    "def Big(strings):\n",
    "    result = []\n",
    "    for value in strings:\n",
    "        result.append(value.title())\n",
    "    return result\n",
    "def small(strings):\n",
    "    result = []\n",
    "    for value in strings:\n",
    "        result.append(value[:].lower())\n",
    "    return result\n",
    "    \n",
    "Big(small(clean_strings(states)))"
   ]
  },
  {
   "cell_type": "code",
   "execution_count": null,
   "id": "a703b7e8",
   "metadata": {},
   "outputs": [],
   "source": [
    "# 다른사람이 한것\n",
    "import re\n",
    "states = ['   Alabama ', 'Georgia!', 'Georgia', 'georgia', 'FlOrIda',\n",
    "          'south   carolina##', 'West virginia?']\n",
    "def clean_strings(strings):\n",
    "    result = []\n",
    "    for value in strings:\n",
    "        value = value.strip() # 양쪽 공백제거\n",
    "        value = re.sub('[!#?]','',value) # 특수문자 제거\n",
    "        value = value.title() # 첫 글자만 대문자로 변경\n",
    "        result.append(value)\n",
    "    return result\n",
    "# sub = 대치\n",
    "clean_strings(states)"
   ]
  },
  {
   "cell_type": "code",
   "execution_count": null,
   "id": "583f5b83",
   "metadata": {},
   "outputs": [],
   "source": [
    "# Q. url에서 호스트 도메인을 추출하여 출력하세요\n",
    "url = 'http://news.naver.com/main/read.nhn?mode=LSD&mid=shm&sid1=105&oid=028&aid=0002334601'\n",
    "domain = url.split('/')[2]\n",
    "print(domain)"
   ]
  },
  {
   "cell_type": "code",
   "execution_count": null,
   "id": "9171fa33",
   "metadata": {
    "scrolled": true
   },
   "outputs": [],
   "source": [
    "# Q. url에서 쿼리문을 추출하여 출력하세요\n",
    "# ?뒤에 표시되는 문자열을 퀴리 문자열이라고 하며 변수=값 사이 &로 구분되어 나열된다.\n",
    "url = 'http://news.naver.com/main/read.nhn?mode=LSD&mid=shm&sid1=105&oid=028&aid=0002334601'\n",
    "temp = url.split('?')\n",
    "q = temp[1].split('&')\n",
    "for query in q:\n",
    "    print(query)"
   ]
  },
  {
   "cell_type": "code",
   "execution_count": null,
   "id": "00da4c89",
   "metadata": {},
   "outputs": [],
   "source": [
    "# [과제] 게시물의 총 건수와 한 페이지에 보여 줄 게시물 수를 입력시 총 페이지 수를 출력하는 프로그램을 작성하세요.\n",
    "def cal(a,b):\n",
    "    if a%b == 0:\n",
    "        return a//b\n",
    "    else:\n",
    "        return a//b+1\n",
    "a = int(input(\"게시물의 총 건수를 입력하세요 : \"))\n",
    "b = int(input(\"한페이지에 보여줄 게시물 수를 입력하세요 : \"))\n",
    "print(f'총 페이지 수는 {cal(a,b)}페이지 입니다.')"
   ]
  },
  {
   "cell_type": "code",
   "execution_count": null,
   "id": "605f5cd8",
   "metadata": {},
   "outputs": [],
   "source": [
    "# 다른사람이 한것\n",
    "total_note=input(\"총 게시물의 수를 입력하세요 : \")\n",
    "note_per_page=input(\"한 페이지에 보여 줄 게시물의 수를 입력하세요 :\")\n",
    "total_page=(int(total_note)//int(note_per_page))\n",
    "f=(int(total_note)%int(note_per_page))\n",
    "if f==0:\n",
    "    print(f'총 페이지 수 : {total_page}')\n",
    "else:\n",
    "    print(f'총 페이지 수 : {total_page+1}')\n"
   ]
  },
  {
   "cell_type": "code",
   "execution_count": null,
   "id": "a6565f38",
   "metadata": {},
   "outputs": [],
   "source": [
    "# 랜덤하게 1000명의 이름.키와 몸무개 만들기\n",
    "import random\n",
    "random.randint(150,180)\n",
    "random.randint(50,90)\n",
    "h = []\n",
    "k = []\n",
    "n = 0\n",
    "while n < 1000:\n",
    "    h.append(random.randint(150,180))\n",
    "    k.append(random.randint(50,90))\n",
    "    n += 1\n",
    "match = zip(h,k)\n",
    "print(match)"
   ]
  },
  {
   "cell_type": "code",
   "execution_count": null,
   "id": "98cdf457",
   "metadata": {},
   "outputs": [],
   "source": [
    "# 교수님 예제\n",
    "import random\n",
    "hanguls = list('가나다라마바사아자차카타파하')\n",
    "hanguls\n",
    "with open('info.txt','w') as file:\n",
    "    for i in range(1000):\n",
    "        name = random.choice(hanguls)+random.choice(hanguls)\n",
    "        height = random.randrange(140,200)\n",
    "        weight = random.randrange(40,100)\n",
    "        file.write(f'{name},{height},{weight}\\n')\n",
    "with open(\"info.txt\",'r') as file:\n",
    "    data = file.read()\n",
    "    print(data)"
   ]
  },
  {
   "cell_type": "code",
   "execution_count": null,
   "id": "3c3e14fb",
   "metadata": {},
   "outputs": [],
   "source": [
    "# 출력 포멧\n",
    "with open('info.txt','r') as file:\n",
    "    for line in file:\n",
    "        (name,weight,height) = line.strip().split(\",\")\n",
    "        print('\\n'.join([\n",
    "            \"이름 : {}\",\n",
    "            \"몸무게 : {}\",\n",
    "            \"키 : {}\"\n",
    "            ]).format(name,height,weight))\n",
    "        print()"
   ]
  },
  {
   "cell_type": "code",
   "execution_count": null,
   "id": "c86a8480",
   "metadata": {},
   "outputs": [],
   "source": [
    "#[과제] 1000명에 대하여 아래와 같이 출력하세요.\n",
    "# BMI = round(int(weight)/((int(height)/100)**2),2)\n",
    "이름 :라바\n",
    "몸무게 : 80\n",
    "키 : 140\n",
    "BMI : 35.56789\n",
    "결과 : 과체충"
   ]
  },
  {
   "cell_type": "code",
   "execution_count": null,
   "id": "86ada901",
   "metadata": {},
   "outputs": [],
   "source": [
    "def BMI(a,b):\n",
    "    return round(int(a)/((int(b)/100)**2),2)\n",
    "with open('info.txt','r') as file:\n",
    "    for line in file:\n",
    "        (name,height,weight) = line.strip().split(\",\")\n",
    "        print('\\n'.join([\n",
    "            \"이름 : {}\",\n",
    "            \"키 : {}\",\n",
    "            \"몸무게 : {}\"\n",
    "            ]).format(name,height,weight))\n",
    "        print(f'BMI : {BMI(weight,height)}')\n",
    "        if BMI(weight,height)>25:\n",
    "            print(\"결과 : 비만\")\n",
    "        elif BMI(weight,height)>23:\n",
    "            print(\"결과 : 과체중\")\n",
    "        elif BMI(weight,height)>18.5:\n",
    "            print(\"결과 : 정상\")\n",
    "        else:\n",
    "            print(\"결과 : 저체중\")\n",
    "        print()"
   ]
  },
  {
   "cell_type": "code",
   "execution_count": null,
   "id": "56dad5f7",
   "metadata": {},
   "outputs": [],
   "source": [
    "# 내가 한것\n",
    "def BMI(a,b):\n",
    "    return round(int(a)/((int(b)/100)**2),2)\n",
    "with open('info.txt','r') as file:\n",
    "    for line in file:\n",
    "        (name,height,weight) = line.strip().split(\",\")\n",
    "        print(f'''\n",
    "이름   : {name}\n",
    "키     : {height}\n",
    "몸무게 : {weight}\n",
    "BMI    : {BMI(weight,height)}''')\n",
    "        if BMI(weight,height)>25:\n",
    "            print(\"결과   : 비만\")\n",
    "        elif BMI(weight,height)>23:\n",
    "            print(\"결과   : 과체중\")\n",
    "        elif BMI(weight,height)>18.5:\n",
    "            print(\"결과   : 정상\")\n",
    "        else:\n",
    "            print(\"결과   : 저체중\")"
   ]
  },
  {
   "cell_type": "code",
   "execution_count": null,
   "id": "6220f815",
   "metadata": {},
   "outputs": [],
   "source": [
    "# 다른사람이 한것 (파일을 새로 만듦)\n",
    "import random\n",
    "hanguls = list('가나다라마바사아자차카타파하')\n",
    "with open('info.txt','w') as file:\n",
    "    for i in range(1000):\n",
    "        name = random.choice(hanguls) + random.choice(hanguls)\n",
    "        height = random.randrange(140,200)\n",
    "        weight = random.randrange(40,100)\n",
    "        bmi = round(int(weight) / (int(height)/100)**2)\n",
    "        cons = ''\n",
    "        if bmi < 20:\n",
    "            cons = '저체중'\n",
    "        elif bmi <25:\n",
    "            cons = '정상'\n",
    "        elif bmi <30:\n",
    "            cons = '과체중'\n",
    "        else:\n",
    "            cons = '비만'\n",
    "\n",
    "        file.write(f'{name}, {height}, {weight}, {bmi}, {cons}\\n')\n",
    "with open('info.txt', 'r') as file:\n",
    "    for line in file:\n",
    "        (name,weight,height,bmi,cons) = line.strip().split(',')\n",
    "        print('\\n'.join([\n",
    "            \"이름  : {}\",\n",
    "            \"몸무게: {}\",\n",
    "            \"키    : {}\",\n",
    "            \"BMI   : {}\",\n",
    "            \"결과  : {}\"\n",
    "            ]).format(name,weight,height,bmi,cons))\n",
    "        print()\n"
   ]
  },
  {
   "cell_type": "code",
   "execution_count": null,
   "id": "abee5c55",
   "metadata": {},
   "outputs": [],
   "source": [
    "#\n",
    "def getTextFreq(filename):\n",
    "    with open(filename,'r') as f:\n",
    "        text = f.read()\n",
    "        fa = {}\n",
    "        for c in text:\n",
    "            if c in fa:\n",
    "                fa[c] += 1\n",
    "            else:\n",
    "                fa[c] = 1\n",
    "    return fa\n",
    "ret = getTextFreq('data/mydata.txt')\n",
    "ret = sorted(ret.items(), key=lambda x : x[1],reverse=True)\n",
    "print(ret)"
   ]
  },
  {
   "cell_type": "code",
   "execution_count": null,
   "id": "683e9f81",
   "metadata": {},
   "outputs": [],
   "source": [
    "[ ] -> [177]회 나타남\n",
    "[e] -> [97]회 나타남"
   ]
  },
  {
   "cell_type": "code",
   "execution_count": null,
   "id": "b73d0987",
   "metadata": {},
   "outputs": [],
   "source": [
    "def getTextFreq(filename):\n",
    "    with open(filename,'r') as f:\n",
    "        text = f.read()\n",
    "        fa = {}\n",
    "        for c in text:\n",
    "            if c in fa:\n",
    "                fa[c] += 1\n",
    "            else:\n",
    "                fa[c] = 1\n",
    "    return fa\n",
    "ret = getTextFreq('data/mydata.txt')\n",
    "ret = sorted(ret.items(), key=lambda x : x[1],reverse=True)\n",
    "for i in range(len(ret)):\n",
    "    print(f'[{ret[i][0]}] -> [{ret[i][1]}]회 나타남.\\n')"
   ]
  },
  {
   "cell_type": "code",
   "execution_count": null,
   "id": "1a609bc9",
   "metadata": {},
   "outputs": [],
   "source": [
    "def getTextFreq(filename):\n",
    "    with open(filename,'r') as f:\n",
    "        text = f.read()\n",
    "        fa = {}\n",
    "        for c in text:\n",
    "            if c in fa:\n",
    "                fa[c] += 1\n",
    "            else:\n",
    "                fa[c] = 1\n",
    "    return fa\n",
    "ret = getTextFreq('data/mydata.txt')\n",
    "ret = sorted(ret.items(), key=lambda x : x[1],reverse=True)\n",
    "for c,f in ret:\n",
    "    if c == '\\n':\n",
    "        continue\n",
    "    else:\n",
    "        print(f'[{c}] -> {[f]}회 나타남')"
   ]
  },
  {
   "cell_type": "code",
   "execution_count": null,
   "id": "e174e5eb",
   "metadata": {},
   "outputs": [],
   "source": [
    "with open('data/mydata.txt','r') as file:\n",
    "    text = file.read()\n",
    "    tmp = text.split(' ')\n",
    "    print(f'단어수 : {len(tmp)}개')"
   ]
  },
  {
   "cell_type": "code",
   "execution_count": null,
   "id": "c133e62d",
   "metadata": {},
   "outputs": [],
   "source": [
    "# [과제] mydata.txt 파일에서 특정단어 t1을 다른단어 t2로 변경하여 출력하세요(a -> A)\n",
    "with open('data/mydata.txt','r') as file:\n",
    "    text = file.read()\n",
    "text = text.replace('a','A')\n",
    "fa = {}\n",
    "for c in text:\n",
    "    if c in fa:\n",
    "        fa[c] += 1\n",
    "    else:\n",
    "        fa[c] = 1             \n",
    "fa = sorted(fa.items(), key=lambda x : x[1],reverse=True)\n",
    "for c,f in fa:\n",
    "    if c == '\\n':\n",
    "        continue\n",
    "    else:\n",
    "        print(f'[{c}] -> {[f]}회 나타남')"
   ]
  },
  {
   "cell_type": "code",
   "execution_count": null,
   "id": "5cfec94e",
   "metadata": {},
   "outputs": [],
   "source": [
    "# 교수님 예제\n",
    "with open('data/mydata.txt','r') as f:\n",
    "    with open('data/mydata2.txt','w') as h:\n",
    "        text = f.read()\n",
    "        text = text.replace('a','A')\n",
    "        h.write(text)\n",
    "print('%s를 %s로 번경했습니다. '%('a','A'))"
   ]
  },
  {
   "cell_type": "code",
   "execution_count": null,
   "id": "0925bdac",
   "metadata": {},
   "outputs": [],
   "source": [
    "ret = getTextFreq('data/mydata2.txt')\n",
    "ret = sorted(ret.items(), key=lambda x : x[1],reverse=True)\n",
    "\n",
    "for c,f in ret:\n",
    "    if c == '\\n':\n",
    "        continue\n",
    "    else:\n",
    "        print(f'[{c}] -> {[f]}회 나타남')"
   ]
  },
  {
   "cell_type": "code",
   "execution_count": null,
   "id": "4c2140d1",
   "metadata": {},
   "outputs": [],
   "source": [
    "with open('data/names/yob1880.txt','r') as f:\n",
    "    data = f.read()\n",
    "    print(data)"
   ]
  },
  {
   "cell_type": "code",
   "execution_count": null,
   "id": "68863579",
   "metadata": {},
   "outputs": [],
   "source": [
    "# [과제] 주어진 데이터에서 1880년에서 2015년까지 연도별 출생아 수를 출력하세요.\n",
    "# ex) 1880 201484\n",
    "# 내가한것\n",
    "for i in range(1880,2016):\n",
    "    with open(f'data/names/yob{i}.txt','r') as f:\n",
    "        n = 0\n",
    "        for line in f:\n",
    "            (name,sex,value)=line.split(',')\n",
    "            n += int(value)\n",
    "    print(f'{i}년도의 출생자 수는 {n}명 입니다.')\n",
    "        "
   ]
  },
  {
   "cell_type": "code",
   "execution_count": null,
   "id": "9aca5346",
   "metadata": {},
   "outputs": [],
   "source": [
    "# 다른사람이 한것\n",
    "def get_born(year):\n",
    "    filename=\"data/names/yob%d.txt\"%year\n",
    "    with open(filename,'r') as file:\n",
    "        count=0\n",
    "        for line in file:\n",
    "            (name,sex,people)=line.strip().split(',')\n",
    "            count+=int(people)\n",
    "        print(f'{year}년의 출생아 수 : {count}')\n",
    "for i in range(1880,2016):\n",
    "    get_born(i)"
   ]
  },
  {
   "cell_type": "code",
   "execution_count": null,
   "id": "6bec3846",
   "metadata": {},
   "outputs": [],
   "source": [
    "# [도전과제] 연도/성별/출생아수를 구하세요\n",
    "# 1880, 90994, 1109490\n",
    "# 내가한것\n",
    "# 저장까지 해보기\n",
    "for i in range(1880,2016):\n",
    "    with open(f'data/names/yob{i}.txt','r') as f:\n",
    "        n_all = 0\n",
    "        n_F = 0\n",
    "        n_M = 0\n",
    "        for line in f:\n",
    "            (name,sex,value)=line.split(',')\n",
    "            n_all += int(value)\n",
    "            if sex == 'F':\n",
    "                n_F += int(value)\n",
    "            if sex == 'M':\n",
    "                n_M += int(value)\n",
    "    print('='*80)\n",
    "    print(f'{i}년도 총 출생자 수는 {n_all}명 그 중 남자는 {n_M}명, 여자는 {n_F}명 입니다.')"
   ]
  },
  {
   "cell_type": "code",
   "execution_count": null,
   "id": "e99b4e97",
   "metadata": {},
   "outputs": [],
   "source": [
    "# 다른사람이 한것\n",
    "# 수정 보완\n",
    "w_c=0\n",
    "m_c=0\n",
    "def getTextFreq(filename):\n",
    "    global w_c\n",
    "    global m_c\n",
    "    with open(filename,'r') as f:\n",
    "        for line in f:     #읽기 파일을 라인 단위로 읽는다      \n",
    "            line=line.strip()   #공백제거\n",
    "            m_data=line.split(',')    #',' 기준으로 제거\n",
    "            #print(m_data)\n",
    "            #print(line)\n",
    "            if(m_data[1]=='F'):\n",
    "                w_c+=int(m_data[2]) \n",
    "            elif(m_data[1]=='M'):\n",
    "                m_c+=int(m_data[2])\n",
    "            else:\n",
    "                print(\"dhfb\")\n",
    "\n",
    "                \n",
    "                  \n",
    "for m in range(1880,2016):\n",
    "    m=str(m)\n",
    "    getTextFreq('data/names/yob'+m+'.txt')    \n",
    "   # print(s1)\n",
    "\n",
    "    print(\"%s년도 여아 출생 수:%d   남아 출생 수:%d\"%(m,w_c,m_c))\n"
   ]
  },
  {
   "cell_type": "code",
   "execution_count": null,
   "id": "95b2292c",
   "metadata": {},
   "outputs": [],
   "source": [
    "# [도도전과제] 연도별 인기있는 상위 10개 성별 출생아 이름 구하기\n",
    "# TOP_1 여자아기이름:('Emily',25057)\n",
    "for i in range(1880,2016):\n",
    "    with open(f'data/names/yob{i}.txt','r') as f:\n",
    "        dicF = {}\n",
    "        dicM = {}\n",
    "        for line in f:\n",
    "            (name,sex,value)=line.split(',')\n",
    "            if sex == 'F':\n",
    "                dicF[name] = int(value)\n",
    "            elif sex == 'M':\n",
    "                dicM[name] = int(value)\n",
    "        best_F = sorted(dicF.items(), key=lambda x : x[1],reverse=True)\n",
    "        best_M = sorted(dicM.items(), key=lambda x : x[1],reverse=True)\n",
    "        print('='*60)\n",
    "        for y in range(10):\n",
    "            print(f'''{i}년도의 TOP_{y+1} 여자아기이름 : {best_F[y]}''')\n",
    "        print('='*60)\n",
    "        for y in range(10):\n",
    "            print(f'''{i}년도의 TOP_{y+1} 남자아기이름 : {best_M[y]}''')"
   ]
  },
  {
   "cell_type": "code",
   "execution_count": null,
   "id": "d890b52b",
   "metadata": {},
   "outputs": [],
   "source": [
    "i = input(\"몇 년도의 인기 아이 이름을 보시겠습니까? (1880~2019)  :   \")\n",
    "with open(f'data/names/yob{i}.txt','r') as f:\n",
    "        dicF = {}\n",
    "        dicM = {}\n",
    "        for line in f:\n",
    "            (name,sex,value)=line.split(',')\n",
    "            if sex == 'F':\n",
    "                dicF[name] = int(value)\n",
    "            else:\n",
    "                dicM[name] = int(value)\n",
    "        best_F = sorted(dicF.items(), key=lambda x : x[1],reverse=True)\n",
    "        best_M = sorted(dicM.items(), key=lambda x : x[1],reverse=True)\n",
    "        print('='*60)\n",
    "        for y in range(10):\n",
    "            print(f'''{i}년도의 TOP_{y+1} 여자아기이름 : {best_F[y]}''')\n",
    "        print('='*60)\n",
    "        for y in range(10):\n",
    "            print(f'''{i}년도의 TOP_{y+1} 남자아기이름 : {best_M[y]}''')"
   ]
  },
  {
   "cell_type": "code",
   "execution_count": null,
   "id": "fb9fe4ce",
   "metadata": {
    "scrolled": false
   },
   "outputs": [],
   "source": [
    "import seaborn as sns\n",
    "\n",
    "tt = sns.load_dataset('titanic')\n",
    "tt.head()"
   ]
  },
  {
   "cell_type": "code",
   "execution_count": null,
   "id": "4beed048",
   "metadata": {
    "scrolled": true
   },
   "outputs": [],
   "source": [
    "tt.age.plot(kind='hist')"
   ]
  },
  {
   "cell_type": "code",
   "execution_count": null,
   "id": "be4e83f3",
   "metadata": {},
   "outputs": [],
   "source": [
    "# age 변수를 10, 20, 30, 40, 50, 60이상 범주로 구분하여 age_cat 변수를 생성하세요.\n",
    "tt.age"
   ]
  },
  {
   "cell_type": "code",
   "execution_count": null,
   "id": "24bf0edd",
   "metadata": {
    "scrolled": true
   },
   "outputs": [],
   "source": [
    "def age_cat(age):\n",
    "    cat = ''\n",
    "    if age < 20: cat = '10'\n",
    "    elif age < 30: cat = '20'\n",
    "    elif age < 40: cat = '30'\n",
    "    elif age < 50: cat = '40'\n",
    "    elif age < 60: cat = '50'\n",
    "    else: cat = '60'\n",
    "    return cat\n",
    "tt['age_cat'] = tt['age'].apply(lambda x:age_cat(x))\n",
    "tt.age_cat\n",
    "tt[['age','age_cat']].head()"
   ]
  },
  {
   "cell_type": "code",
   "execution_count": null,
   "id": "c966cf0c",
   "metadata": {},
   "outputs": [],
   "source": [
    "# 인터넷에서 사진파일 불러와서 저장하기\n",
    "from urllib.request import urlopen\n",
    "\n",
    "imgurl = 'https://imagescdn.gettyimagesbank.com/500/21/349/383/0/1324943224.jpg'\n",
    "imgname = imgurl.split('/')[-1]\n",
    "\n",
    "try: \n",
    "    with urlopen(imgurl) as f:\n",
    "        with open('data/imgname.jpg','wb') as h:\n",
    "            img = f.read()\n",
    "            h.write(img)\n",
    "except Exception as e:\n",
    "    print(e)"
   ]
  },
  {
   "cell_type": "code",
   "execution_count": null,
   "id": "c766e6bb",
   "metadata": {
    "scrolled": true
   },
   "outputs": [],
   "source": [
    "!pip install Pillow"
   ]
  },
  {
   "cell_type": "code",
   "execution_count": null,
   "id": "0b58de1d",
   "metadata": {},
   "outputs": [],
   "source": [
    "# 저장된 사진파일 열기\n",
    "from PIL import Image\n",
    "im = Image.open('data/imgname.jpg')\n",
    "im.show()"
   ]
  },
  {
   "cell_type": "markdown",
   "id": "aef912b0",
   "metadata": {},
   "source": [
    "### 모듈\n",
    "- 특정 기능들(함수, 변수, 클래스등)이 구현되어 있는 파이썬 파일(.py)\n",
    "\n",
    "### 패키지\n",
    "- 특정 기능과 관련된 여러 모듈들을 하나의 상위 폴더에 넣어놓은 것을 의미\n",
    "- 패키지안에 여러가지 폴더 존재가능\n",
    "- 패키지를 표현해주기 위해 \\_init_.py가 존재\n",
    "\n",
    "### 라이브러리\n",
    "- 여러 모듈과 패키지를 묶어 라이브러리라고 함\n",
    "- 파이썬 설치시 기본적으로 설치되는 라이브러리를 표준 라이브러리라고 함\n",
    "- 외부(3rd party)에서 개발한 모듈과 패키지를 묶어 외부 라이브러리라고 함"
   ]
  },
  {
   "cell_type": "code",
   "execution_count": null,
   "id": "51945b8a",
   "metadata": {},
   "outputs": [],
   "source": [
    "# 모듈 mod1 만들기\n",
    "with open('mod1.py','w') as f:\n",
    "    f.write('''\n",
    "def add(x,y):\n",
    "    return x+y\n",
    "print(add(3,4))\n",
    "''')"
   ]
  },
  {
   "cell_type": "code",
   "execution_count": null,
   "id": "d81343e4",
   "metadata": {},
   "outputs": [],
   "source": [
    "with open('mod1.py','r') as f:\n",
    "    data = f.read()\n",
    "    print(data)"
   ]
  },
  {
   "cell_type": "code",
   "execution_count": null,
   "id": "f8fe792e",
   "metadata": {},
   "outputs": [],
   "source": [
    "!python mod1.py # 주피터 노트북에서 실행하려면 !"
   ]
  },
  {
   "cell_type": "code",
   "execution_count": null,
   "id": "e8a3dff0",
   "metadata": {},
   "outputs": [],
   "source": [
    "import mod1"
   ]
  },
  {
   "cell_type": "code",
   "execution_count": null,
   "id": "63e1543e",
   "metadata": {},
   "outputs": [],
   "source": [
    "# 모듈 mod2 를 만들기\n",
    "with open('mod2.py','w') as f:\n",
    "    f.write('''\n",
    "def add(x,y):\n",
    "    return x+y\n",
    "    \n",
    "if __name__ == \"__main__\":\n",
    "    print(add(3,4))\n",
    "''')"
   ]
  },
  {
   "cell_type": "code",
   "execution_count": null,
   "id": "db9e8cad",
   "metadata": {
    "scrolled": true
   },
   "outputs": [],
   "source": [
    "with open('mod2.py','r') as f:\n",
    "    text = f.read()\n",
    "    print(text)"
   ]
  },
  {
   "cell_type": "code",
   "execution_count": null,
   "id": "fa19df8c",
   "metadata": {
    "scrolled": true
   },
   "outputs": [],
   "source": [
    "!python mod2.py"
   ]
  },
  {
   "cell_type": "code",
   "execution_count": null,
   "id": "eaa566e6",
   "metadata": {
    "scrolled": true
   },
   "outputs": [],
   "source": [
    "import mod2\n",
    "mod2.add(2,3)"
   ]
  },
  {
   "cell_type": "code",
   "execution_count": null,
   "id": "317a3314",
   "metadata": {},
   "outputs": [],
   "source": [
    "# 시스템 명령어의 결가값 리턴 받기\n",
    "import os\n",
    "f = os.popen('dir')\n",
    "print(f.read())"
   ]
  },
  {
   "cell_type": "code",
   "execution_count": null,
   "id": "4ed27392",
   "metadata": {},
   "outputs": [],
   "source": [
    "# 파일 복사\n",
    "import shutil\n",
    "shutil.copy('test.txt','test1.txt')"
   ]
  },
  {
   "cell_type": "code",
   "execution_count": null,
   "id": "4fcba40e",
   "metadata": {},
   "outputs": [],
   "source": [
    "!dir"
   ]
  },
  {
   "cell_type": "code",
   "execution_count": null,
   "id": "f5fb98e5",
   "metadata": {},
   "outputs": [],
   "source": [
    "import time\n",
    "\n",
    "def long_task(): # 5초의 시간이 걸리는 함수\n",
    "    for i in range(5):\n",
    "        time.sleep(1) # 1초 대기\n",
    "        print(f'working ; {i}\\n')\n",
    "        \n",
    "print('start')\n",
    "for i in range(5):\n",
    "    long_task()\n",
    "print('End')\n"
   ]
  },
  {
   "cell_type": "code",
   "execution_count": null,
   "id": "86b6de8c",
   "metadata": {},
   "outputs": [],
   "source": [
    "import time\n",
    "import threading\n",
    "\n",
    "def long_task():\n",
    "    for i in range(5):\n",
    "        time.sleep(1)\n",
    "        print(f'working : {i}\\n')\n",
    "        \n",
    "print('Start')\n",
    "\n",
    "threads = []\n",
    "for i in range(5):\n",
    "    t = threading.Thread(target=long_task)\n",
    "    threads.append(t)\n",
    "\n",
    "for t in threads:\n",
    "    t.start()\n",
    "\n",
    "for t in threads:\n",
    "    t.join() # join으로 스레드가 종료될 때까지 기다린다.\n",
    "\n",
    "print('End')"
   ]
  },
  {
   "cell_type": "code",
   "execution_count": null,
   "id": "da894d2f",
   "metadata": {},
   "outputs": [],
   "source": []
  }
 ],
 "metadata": {
  "kernelspec": {
   "display_name": "Python 3 (ipykernel)",
   "language": "python",
   "name": "python3"
  },
  "language_info": {
   "codemirror_mode": {
    "name": "ipython",
    "version": 3
   },
   "file_extension": ".py",
   "mimetype": "text/x-python",
   "name": "python",
   "nbconvert_exporter": "python",
   "pygments_lexer": "ipython3",
   "version": "3.8.12"
  }
 },
 "nbformat": 4,
 "nbformat_minor": 5
}
