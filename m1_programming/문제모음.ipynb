{
 "cells": [
  {
   "cell_type": "markdown",
   "id": "96f9c6ce",
   "metadata": {},
   "source": [
    "## 기초"
   ]
  },
  {
   "cell_type": "code",
   "execution_count": 4,
   "id": "fda35640",
   "metadata": {},
   "outputs": [
    {
     "name": "stdout",
     "output_type": "stream",
     "text": [
      "3\n",
      "3.3\n"
     ]
    },
    {
     "data": {
      "text/plain": [
       "6.3"
      ]
     },
     "execution_count": 4,
     "metadata": {},
     "output_type": "execute_result"
    }
   ],
   "source": [
    "# Q. 3과 3.3을 입력하고 숫자 연산을 수행하여 6.3을 출력하세요.\n",
    "a=int(input())\n",
    "b=float(input())\n",
    "a+b"
   ]
  },
  {
   "cell_type": "code",
   "execution_count": 6,
   "id": "d85d3ca1",
   "metadata": {},
   "outputs": [
    {
     "data": {
      "text/plain": [
       "'5252.273'"
      ]
     },
     "execution_count": 6,
     "metadata": {},
     "output_type": "execute_result"
    }
   ],
   "source": [
    "# Q. a = 52와 b = 52.273일때 a+b는 5252.273으로 출력되도록 a와 b를 문자열 \n",
    "# 자료형으로 변환하세요.\n",
    "a = 52\n",
    "b = 52.273\n",
    "str(a)+str(b)"
   ]
  },
  {
   "cell_type": "code",
   "execution_count": 10,
   "id": "67844517",
   "metadata": {},
   "outputs": [
    {
     "name": "stdout",
     "output_type": "stream",
     "text": [
      "{1, 2, 3, 4, 5, 6, 7, 8, 9}\n",
      "{4, 5, 6}\n"
     ]
    }
   ],
   "source": [
    "# Q. s1, s2의 합집합과 교집합을 각각 리스트로 출력하세요.\n",
    "# 합집합(s1 | s2), 교집합(s1 & s2)\n",
    "s1 = set([1, 2, 3, 4, 5, 6])\n",
    "s2 = set([4, 5, 6, 7, 8, 9])\n",
    "hap = set(s1|s2)\n",
    "print(hap)\n",
    "g = set(s1&s2)\n",
    "print(g)"
   ]
  },
  {
   "cell_type": "code",
   "execution_count": 21,
   "id": "39505e6b",
   "metadata": {},
   "outputs": [
    {
     "name": "stdout",
     "output_type": "stream",
     "text": [
      "12345\n",
      "     12345\n",
      "12.345679\n",
      "         12.346\n"
     ]
    }
   ],
   "source": [
    "# [과제] 아래와 같이 출력하세요.\n",
    "a = 12345\n",
    "print(f'{a:5}')\n",
    "print(f'{a:10}')\n",
    "a = 12.3456789\n",
    "print(f'{a:0.6f}')\n",
    "print(f'{a:15.3f}')"
   ]
  },
  {
   "cell_type": "markdown",
   "id": "94195bcc",
   "metadata": {},
   "source": [
    "12345\n",
    "     12345\n",
    "12.345679\n",
    "          12.346"
   ]
  },
  {
   "cell_type": "code",
   "execution_count": 22,
   "id": "6163d399",
   "metadata": {},
   "outputs": [
    {
     "name": "stdout",
     "output_type": "stream",
     "text": [
      "4550\n"
     ]
    }
   ],
   "source": [
    "# [과제] 1부터 100까지의 정수중 5에서 95까지의 합을 구하시오\n",
    "sum = 0\n",
    "for n in range(1,101):\n",
    "    if 96>n>4:\n",
    "        sum +=n\n",
    "    else:\n",
    "        pass\n",
    "print(sum)"
   ]
  },
  {
   "cell_type": "code",
   "execution_count": 1,
   "id": "658fa7aa",
   "metadata": {},
   "outputs": [
    {
     "name": "stdout",
     "output_type": "stream",
     "text": [
      "33165\n"
     ]
    }
   ],
   "source": [
    "#[과제] while문을 사용해 1부터 1000까지의 정수 중 3과 5의 공배수의 합을 구해보세요.\n",
    "n = 1\n",
    "sum = 0\n",
    "while n<=1000:\n",
    "    if n %3 ==0 and n%5==0:\n",
    "        sum += n\n",
    "        n += 1\n",
    "    else:\n",
    "        pass\n",
    "        n += 1\n",
    "print(sum)"
   ]
  },
  {
   "cell_type": "code",
   "execution_count": 6,
   "id": "26a6060a",
   "metadata": {},
   "outputs": [
    {
     "name": "stdout",
     "output_type": "stream",
     "text": [
      "2022년 1월 6일 17시 43분 22초\n"
     ]
    }
   ],
   "source": [
    "# [과제] format 합수를 이용해서 다음과 같은 형식으로 현재 날짜/시간을 출력하세요.\n",
    "# 2021년 12월 29일 15시 47분 32초\n",
    "import datetime\n",
    "t = datetime.datetime.now()\n",
    "print(f'{t.year}년 {t.month}월 {t.day}일 {t.hour}시 {t.minute}분 {t.second}초')"
   ]
  },
  {
   "cell_type": "code",
   "execution_count": null,
   "id": "05b8dc6f",
   "metadata": {},
   "outputs": [],
   "source": [
    "# [과제] 현재 시간을 오전과 오후로 구분하는 프로그램을 작성하세요.\n",
    "import datetime\n",
    "t = datetime.datetime.now()"
   ]
  },
  {
   "cell_type": "code",
   "execution_count": 11,
   "id": "d92807ca",
   "metadata": {},
   "outputs": [
    {
     "name": "stdout",
     "output_type": "stream",
     "text": [
      "년도1994\n",
      "띠는 개띠\n"
     ]
    }
   ],
   "source": [
    "# Q. 태어난 연도를 입력받아 띠를 출력하는 프로그램을 작성하세요.\n",
    "# 원숭이, 닭, 개, 돼지, 쥐, 소, 범, 토끼, 용, 뱀, 말, 양띠\n",
    "animal = ['원숭이', '닭', '개', '돼지', '쥐', '소', '범', '토끼', '용', '뱀', '말', '양']\n",
    "a=input('년도')\n",
    "print(f'띠는 {animal[int(a)%12]}띠')"
   ]
  },
  {
   "cell_type": "code",
   "execution_count": null,
   "id": "712adef2",
   "metadata": {},
   "outputs": [],
   "source": [
    "#[과제] 계절 구분 프로그램\n",
    "\n",
    "#각 계절별 출력 멘트는 계절에 맞게 창작\n",
    "#if 조건문으로 datetime 모듈을 import해서 datetime.now 함수를 사용해서 작성\n",
    "import datetime\n",
    "now = datetime.datetime.now()"
   ]
  },
  {
   "cell_type": "code",
   "execution_count": 14,
   "id": "40d7f561",
   "metadata": {},
   "outputs": [
    {
     "name": "stdout",
     "output_type": "stream",
     "text": [
      "32\n",
      "25\n"
     ]
    }
   ],
   "source": [
    "# [과제] 람다 함수를 이용해서 a의 b제곱을 구하는 식을 만들고\n",
    "# a, b가 아래와 같이 주어졌을 때 각각의 값을 구하세요. \n",
    "# a = 2, b = 5\n",
    "# a= 5, b = 2\n",
    "print((lambda x,y : x**y )(2,5))\n",
    "print((lambda x,y : x**y )(5,2))"
   ]
  },
  {
   "cell_type": "code",
   "execution_count": 15,
   "id": "99d8f68d",
   "metadata": {},
   "outputs": [
    {
     "name": "stdout",
     "output_type": "stream",
     "text": [
      "2500\n"
     ]
    }
   ],
   "source": [
    "# [과제] 1부터 100까지 아래와 같이 2개의 수를 곱해서 가장 큰 수를 구하세요.\n",
    "#1 *99, 2*98 ...99*1\n",
    "result = 0\n",
    "n = 1\n",
    "while n<100:\n",
    "    if n*(100-n) > result:\n",
    "        result = n*(100-n)\n",
    "    n+=1\n",
    "print(result)"
   ]
  },
  {
   "cell_type": "code",
   "execution_count": 18,
   "id": "0f261332",
   "metadata": {},
   "outputs": [
    {
     "name": "stdout",
     "output_type": "stream",
     "text": [
      "[[1, 4, 7], [2, 5, 8], [3, 6, 9]]\n"
     ]
    }
   ],
   "source": [
    "# [과제]  [    ]을 채워서 아래와 같이 출력하세요.\n",
    "# 출력 : \n",
    "# [[1,4,7],[2,5,8,],[3,6,9]]\n",
    "numbers = [1,2,3,4,5,6,7,8,9]\n",
    "output = [[],[],[]]\n",
    "\n",
    "for number in numbers:\n",
    "    output[(number+2)%3].append(number)\n",
    "print(output)"
   ]
  },
  {
   "cell_type": "code",
   "execution_count": null,
   "id": "ce38ffe6",
   "metadata": {},
   "outputs": [],
   "source": [
    "#[과제] 사용자가 입력한 게임횟수만큼 로또 번호를 출력하는 프로그램을 작성하세요."
   ]
  },
  {
   "cell_type": "code",
   "execution_count": null,
   "id": "5066759d",
   "metadata": {},
   "outputs": [],
   "source": [
    "# [과제] 남녀 파트너 정해주기 프로그램을 작성학세요(5개 커플)"
   ]
  },
  {
   "cell_type": "code",
   "execution_count": null,
   "id": "befa0b2c",
   "metadata": {},
   "outputs": [],
   "source": [
    "# [과제]Player가 3승할 때까지 계속 진행되는 가위바위보 게임 프로그램을 작성하세요.\n",
    "# 게임은 Player와 컴퓨터가 진행"
   ]
  },
  {
   "cell_type": "markdown",
   "id": "7259d9b2",
   "metadata": {},
   "source": [
    "## 함수\n",
    "- 함수는 예제 많이 없으니 그냥 공부.."
   ]
  },
  {
   "cell_type": "code",
   "execution_count": null,
   "id": "a151b87a",
   "metadata": {},
   "outputs": [],
   "source": [
    "#[과제] 뺄셈 나눗셈 멀티계산 함수를 작성\n",
    "#('sub',2,4,6,8,10)\n",
    "#('div',2,4,6,8,10)"
   ]
  },
  {
   "cell_type": "code",
   "execution_count": null,
   "id": "82d77210",
   "metadata": {},
   "outputs": [],
   "source": [
    "# [과제] strings를 다양한 문자가 포함된 순서로 정렬하세요.\n",
    "strings = ['a', 'ca', 'bar', 'aaaa', 'ababa']"
   ]
  },
  {
   "cell_type": "code",
   "execution_count": 10,
   "id": "4d551d83",
   "metadata": {},
   "outputs": [
    {
     "name": "stdout",
     "output_type": "stream",
     "text": [
      "[1, 4, 9, 16, 25]\n",
      "[1, 2]\n"
     ]
    }
   ],
   "source": [
    "# 람다함수와 적합한 내장함수를 사용하여 아래와 같이 출력하세요\n",
    "#  [1,2,3,4,5] -> [1,4,9,16,25]\n",
    "#  [1,2,3,4,5] -> [1,2]\n",
    "li = [1,2,3,4,5]\n",
    "lia = list(map(lambda x : x**2,li))\n",
    "print(lia)\n",
    "lib = list(filter(lambda x : x <3,li))\n",
    "print(lib)"
   ]
  },
  {
   "cell_type": "code",
   "execution_count": 12,
   "id": "7a9a1c3f",
   "metadata": {},
   "outputs": [
    {
     "name": "stdout",
     "output_type": "stream",
     "text": [
      "[1, 2, 6]\n"
     ]
    }
   ],
   "source": [
    "#[1,-3,2,0,-5,6] 에서 양수만 필터링해서 출력하세요(내장함수, 사용자함수 각각 이용)\n",
    "li = [1,-3,2,0,-5,6] \n",
    "lia = list(filter(lambda x : x >0 , li))\n",
    "print(lia)\n"
   ]
  },
  {
   "cell_type": "code",
   "execution_count": 16,
   "id": "c3e734a4",
   "metadata": {},
   "outputs": [
    {
     "name": "stdout",
     "output_type": "stream",
     "text": [
      "[(1, 4), (2, 5), (3, 6)]\n",
      "[(1, 4, 7), (2, 5, 8), (3, 6, 9)]\n",
      "[('a', 'd'), ('b', 'e'), ('c', 'f')]\n"
     ]
    }
   ],
   "source": [
    "# 내장함수를 이용하여 동일한 개수로 이루어진 자료형을 화살표 좌측에서 우측으로 변환하세요\n",
    "#  [1,2,3],[4,5,6] -> [(1,4),(2,5),(3,6)]\n",
    "#  [1,2,3],[4,5,6],[7,8,9] -> [(1,4,7),(2,5,8),(3,6,9)]\n",
    "#  ('abc','def') -> [('a','d'),('b','e'),('c','f')]\n",
    "a = [1,2,3]\n",
    "b = [4,5,6]\n",
    "c = [7,8,9]\n",
    "print(list(zip(a,b)))\n",
    "print(list(zip(a,b,c)))\n",
    "print(list(zip('abc','def')))"
   ]
  },
  {
   "cell_type": "code",
   "execution_count": 27,
   "id": "848ddcd1",
   "metadata": {},
   "outputs": [
    {
     "data": {
      "text/plain": [
       "['bar', 'ca', 'ababa', 'a', 'aaaa']"
      ]
     },
     "execution_count": 27,
     "metadata": {},
     "output_type": "execute_result"
    }
   ],
   "source": [
    "# [과제] strings를 다양한 문자가 포함된 순서로 정렬하세요.\n",
    "strings = ['a', 'ca', 'bar', 'aaaa', 'ababa']\n",
    "a = list(strings)\n",
    "a.sort(key = lambda x : len(set(x)),reverse = True)\n",
    "a"
   ]
  },
  {
   "cell_type": "code",
   "execution_count": 28,
   "id": "fc1463e5",
   "metadata": {},
   "outputs": [
    {
     "name": "stdout",
     "output_type": "stream",
     "text": [
      "[0, 4, 16, 36, 64, 100, 144, 196, 256, 324]\n"
     ]
    }
   ],
   "source": [
    "# Q. 코딩을 한줄로 작성해서 동일한 결과를 출력하세요\n",
    "li = []\n",
    "for i in range(0,20,2):\n",
    "    li.append(i*i)\n",
    "print(li)"
   ]
  },
  {
   "cell_type": "code",
   "execution_count": 31,
   "id": "a91ebd38",
   "metadata": {},
   "outputs": [
    {
     "name": "stdout",
     "output_type": "stream",
     "text": [
      "[0, 4, 16, 36, 64, 100, 144, 196, 256, 324]\n"
     ]
    }
   ],
   "source": [
    "print(list(map(lambda x : x**2,range(0,20,2))))"
   ]
  },
  {
   "cell_type": "code",
   "execution_count": 37,
   "id": "1e0341f5",
   "metadata": {},
   "outputs": [
    {
     "name": "stdout",
     "output_type": "stream",
     "text": [
      "[0, 4, 16, 36, 64, 100, 144, 196, 256, 324]\n"
     ]
    }
   ],
   "source": [
    "print([x**2 for x in range(0,20,2)])"
   ]
  },
  {
   "cell_type": "code",
   "execution_count": null,
   "id": "3a650ca8",
   "metadata": {},
   "outputs": [],
   "source": []
  },
  {
   "cell_type": "code",
   "execution_count": null,
   "id": "44402b9a",
   "metadata": {},
   "outputs": [],
   "source": []
  },
  {
   "cell_type": "code",
   "execution_count": null,
   "id": "b0fb9606",
   "metadata": {},
   "outputs": [],
   "source": []
  },
  {
   "cell_type": "code",
   "execution_count": null,
   "id": "574e4d68",
   "metadata": {},
   "outputs": [],
   "source": []
  },
  {
   "cell_type": "code",
   "execution_count": null,
   "id": "771bda04",
   "metadata": {},
   "outputs": [],
   "source": []
  },
  {
   "cell_type": "code",
   "execution_count": null,
   "id": "87c5273d",
   "metadata": {},
   "outputs": [],
   "source": []
  },
  {
   "cell_type": "code",
   "execution_count": null,
   "id": "1a3db9a2",
   "metadata": {},
   "outputs": [],
   "source": []
  },
  {
   "cell_type": "code",
   "execution_count": null,
   "id": "8b53ddf6",
   "metadata": {},
   "outputs": [],
   "source": []
  },
  {
   "cell_type": "code",
   "execution_count": null,
   "id": "4a1f650c",
   "metadata": {},
   "outputs": [],
   "source": []
  },
  {
   "cell_type": "code",
   "execution_count": null,
   "id": "58ea270c",
   "metadata": {},
   "outputs": [],
   "source": []
  },
  {
   "cell_type": "code",
   "execution_count": null,
   "id": "0b12f5c8",
   "metadata": {},
   "outputs": [],
   "source": []
  },
  {
   "cell_type": "code",
   "execution_count": null,
   "id": "79476927",
   "metadata": {},
   "outputs": [],
   "source": []
  },
  {
   "cell_type": "code",
   "execution_count": null,
   "id": "76ab6f51",
   "metadata": {},
   "outputs": [],
   "source": []
  },
  {
   "cell_type": "code",
   "execution_count": null,
   "id": "62818421",
   "metadata": {},
   "outputs": [],
   "source": []
  }
 ],
 "metadata": {
  "kernelspec": {
   "display_name": "Python 3 (ipykernel)",
   "language": "python",
   "name": "python3"
  },
  "language_info": {
   "codemirror_mode": {
    "name": "ipython",
    "version": 3
   },
   "file_extension": ".py",
   "mimetype": "text/x-python",
   "name": "python",
   "nbconvert_exporter": "python",
   "pygments_lexer": "ipython3",
   "version": "3.8.12"
  }
 },
 "nbformat": 4,
 "nbformat_minor": 5
}
