{
 "cells": [
  {
   "cell_type": "markdown",
   "metadata": {},
   "source": [
    "## 추천시스템 개발 코드"
   ]
  },
  {
   "cell_type": "markdown",
   "metadata": {},
   "source": [
    "추천시스템은 고객별 최근 6개월의 데이터를 바탕으로 구축하였으며 6~3개월 전의 데이터를 1반기, 3개월~최근까지의 데이터를 2반기로 설정  \n",
    "추천시스템은 2가지의 방식으로 구성되어 있으며 1번째 방식은 1반기에 많이 구매한 품목을 2반기에 구매하지 않은 경우 재구매를 추천하는것과  \n",
    "2반기의 데이터를 바탕으로 knn최근접이웃방식과 잠재요인협업필터링의 방식을 통해 사용자,아이템사이의 유사도를 바탕으로 추천하는 방식 2가지를 사용  \n",
    "이 중 2번째 방식에는 각 군집별로 가중치를 다르게 두어 맞춤형 추천시스템을 구현하였다."
   ]
  },
  {
   "cell_type": "markdown",
   "metadata": {},
   "source": [
    "### 1. 데이터 로딩 및 전처리"
   ]
  },
  {
   "cell_type": "code",
   "execution_count": 2,
   "metadata": {},
   "outputs": [],
   "source": [
    "import pandas as pd\n",
    "data = pd.read_csv('../../lmembers/data/purprod2.csv',encoding='ms949')\n",
    "label_df = pd.read_excel('군집3(target_label=1).xlsx')\n",
    "cate = pd.read_csv('../../lmembers/data/prodcl2.csv')\n",
    "df = pd.merge(label_df,data)"
   ]
  },
  {
   "cell_type": "code",
   "execution_count": 3,
   "metadata": {},
   "outputs": [],
   "source": [
    "\n",
    "def load_pdf(df,cate,N):\n",
    "    data3 = df.loc[(df.구매일자>=20151001)&(df.라벨 == N)]\n",
    "    data6 = df.loc[(df.구매일자<20151001)&(df.구매일자>=20150601)&(df.라벨 == N)]\n",
    "    data3_cate = pd.merge(data3,cate,on='소분류코드')\n",
    "    data6_cate = pd.merge(data6,cate,on='소분류코드')\n",
    "    # 상품분류명별 구매횟수를 기준으로 아이템 추천하기 위하여 피벗 생성\n",
    "    pdf3_ori = pd.pivot_table(data3_cate,\n",
    "                        index = ['고객번호'],              # 행위치에 들어갈 열\n",
    "                        columns = ['상품분류명'],         # 열위치에 들어갈 열\n",
    "                        values = ['영수증번호'],              # 데이터로 사용할 열\n",
    "                        aggfunc = ['count'])         # 데이터 집계 함수\n",
    "    pdf6_ori = pd.pivot_table(data6_cate,\n",
    "                        index = ['고객번호'],           \n",
    "                        columns = ['상품분류명'],       \n",
    "                        values = ['영수증번호'],           \n",
    "                        aggfunc = ['count'])    \n",
    "    pdf3=pdf3_ori.copy()\n",
    "    pdf6=pdf6_ori.copy()\n",
    "    # Nan값 0으로 대체 및 데이터프레임 정리\n",
    "    pdf3.fillna(0,inplace=True)\n",
    "    pdf3 = pdf3['count']['영수증번호']\n",
    "    pdf6.fillna(0,inplace=True)\n",
    "    pdf6 = pdf6['count']['영수증번호']\n",
    "    return pdf3, pdf6"
   ]
  },
  {
   "cell_type": "code",
   "execution_count": 4,
   "metadata": {},
   "outputs": [],
   "source": [
    "pdf3_0, pdf6_0 = load_pdf(df,cate,0)\n",
    "pdf3_1, pdf6_1 = load_pdf(df,cate,1)\n",
    "pdf3_2, pdf6_2 = load_pdf(df,cate,2)"
   ]
  },
  {
   "cell_type": "markdown",
   "metadata": {},
   "source": [
    "### 2. 추천시스템 코드"
   ]
  },
  {
   "cell_type": "markdown",
   "metadata": {},
   "source": [
    "**2.1 아이템 기반 최근접 이웃 협업 필터링**"
   ]
  },
  {
   "cell_type": "code",
   "execution_count": 5,
   "metadata": {},
   "outputs": [],
   "source": [
    "from sklearn.metrics.pairwise import cosine_similarity\n",
    "import numpy as np\n",
    "\n",
    "def predict_rating(ratings_arr, item_sim_arr):\n",
    "    ratings_pred = ratings_arr.dot(item_sim_arr)/ np.array([np.abs(item_sim_arr).sum(axis=1)])\n",
    "    return ratings_pred\n",
    "\n",
    "def get_not_buy_list(ratings_matrix, custid):\n",
    "    # custid로 입력받은 사용자의 모든 구매정보 추출하여 Series로 반환함. \n",
    "\n",
    "    # 반환된 user_rating 은 중분류명을 index로 가지는 Series 객체임. \n",
    "    user_rating = ratings_matrix.loc[custid,:]\n",
    "    # user_rating이 0보다 크면 기존에 구매한 물품임. 대상 index를 추출하여 list 객체로 만듬\n",
    "    already_buy = user_rating[ user_rating > 0].index.tolist()\n",
    "    # 모든 중분류명을 list 객체로 만듬. \n",
    "    buy_list = ratings_matrix.columns.tolist()\n",
    "    # 간편한 for문으로 already_buy에 해당하는 물품은 buy_list에서 제외함. \n",
    "    notbuy_list = [ item for item in buy_list if item not in already_buy]\n",
    "    return notbuy_list\n",
    "\n",
    "def recomm_item_by_custid(pred_df, custid, notbuy_list, top_n=10):\n",
    "    # 구매예측 DataFrame에서 사용자id index와 notbuy_list로 들어온 중분류명 컬럼을 추출하여 가장 예측 구매횟수가 높은 순으로 정렬함. \n",
    "    recomm_items = pred_df.loc[custid, notbuy_list].sort_values(ascending=False)[:top_n]\n",
    "    return recomm_items\n",
    "    \n",
    "def knn_recommend_pre(pdf3):\n",
    "    # 코사인유사도는 행기준으로 작동하기에 transpose 함수로 전치\n",
    "    pdf_T = pdf3.transpose()\n",
    "    # 코사인 유사도 산출 (행인 아이템들을 기준으로 사용자간의 유사도)\n",
    "    pdf_sim = cosine_similarity(pdf_T, pdf_T)\n",
    "    # cosine_similarity()로 반환된 Numpy 행렬을 상품분류명으로 매핑해 DataFrame으로 변환\n",
    "    pdf_sim_df = pd.DataFrame(data=pdf_sim, index=pdf3.columns,\n",
    "                            columns=pdf3.columns)\n",
    "    ratings_pred_knn = predict_rating(pdf3.values , pdf_sim_df.values)\n",
    "    ratings_pred_matrix_knn = pd.DataFrame(data=ratings_pred_knn, index= pdf3.index,\n",
    "                                    columns = pdf3.columns)\n",
    "    \n",
    "    return ratings_pred_matrix_knn"
   ]
  },
  {
   "cell_type": "markdown",
   "metadata": {},
   "source": [
    "**2.2 잠재요인 협업 필터링**"
   ]
  },
  {
   "cell_type": "code",
   "execution_count": 6,
   "metadata": {},
   "outputs": [],
   "source": [
    "import numpy as np\n",
    "from sklearn.metrics import mean_squared_error\n",
    "\n",
    "def get_rmse(R, P, Q, non_zeros):\n",
    "    error = 0\n",
    "    # 두개의 분해된 행렬 P와 Q.T의 내적 곱으로 예측 R 행렬 생성\n",
    "    full_pred_matrix = np.dot(P,Q.T)\n",
    "    \n",
    "    # 실제 R 행렬에서 NULL이 아닌 값의 위치 인덱스 추출하여 실제 R 행렬과 예측 행렬의 RMSE 추출\n",
    "    x_non_zero_ind = [non_zero[0] for non_zero in non_zeros]\n",
    "    y_non_zero_ind = [non_zero[1] for non_zero in non_zeros]\n",
    "    R_non_zeros = R[x_non_zero_ind, y_non_zero_ind]\n",
    "    \n",
    "    full_pred_matrix_non_zeros = full_pred_matrix[x_non_zero_ind,y_non_zero_ind]\n",
    "    \n",
    "    mse = mean_squared_error(R_non_zeros, full_pred_matrix_non_zeros)\n",
    "    rmse = np.sqrt(mse)\n",
    "    \n",
    "    return rmse\n",
    "\n",
    "# 행렬 분해\n",
    "def matrix_factorization(R, K, steps=200, learning_rate=0.01, r_lambda=0.01):\n",
    "    num_users, num_items = R.shape\n",
    "    np.random.seed(1)\n",
    "    P = np.random.normal(scale=1./K, size = (num_users,K))\n",
    "    Q = np.random.normal(scale=1./K, size = (num_items,K))\n",
    "    \n",
    "    break_count = 0\n",
    "    \n",
    "    # R > 0인 행 위치, 열 위치, 값을 non_zeros 리스트 객체에 저장\n",
    "    non_zeros = [(i,j,R[i,j]) for i in range(num_users) for j in range(num_items) if R[i,j] > 0]\n",
    "    \n",
    "    # SGD 기법으로 P와 Q 매트릭스를 계속 업데이트\n",
    "    for step in range(steps):  # steps는 SGD의 반복횟수\n",
    "        for i, j, r in non_zeros:\n",
    "            # 실제 값과 예측 값의 차이인 오류 값 구함\n",
    "            eij = r - np.dot(P[i,:],Q[j,:].T)\n",
    "            \n",
    "            P[i,:] = P[i,:] + learning_rate*(eij * Q[j,:] - r_lambda*P[i,:])\n",
    "            Q[j,:] = Q[j,:] + learning_rate*(eij * P[i,:] - r_lambda*Q[j,:])\n",
    "            \n",
    "        rmse = get_rmse(R,P,Q, non_zeros)\n",
    "        if ( step % 10) == 0: # 10회 반복할 때마다 오류 값 출력\n",
    "            print(f'iteration step: {step}, rmse: {rmse}')\n",
    "    return P, Q\n",
    "    \n",
    "def SGD_fac_recommend_pre(pdf3,steps=200,K=50,learning_rate=0.001,r_lambda = 0.001):\n",
    "    P, Q = matrix_factorization(pdf3.values, steps=steps, K=K,learning_rate= learning_rate, r_lambda = r_lambda)\n",
    "    pred_matrix = np.dot(P, Q.T)\n",
    "    ratings_pred_matrix = pd.DataFrame(data=pred_matrix, index= pdf3.index,\n",
    "                                   columns = pdf3.columns)\n",
    "    return ratings_pred_matrix"
   ]
  },
  {
   "cell_type": "code",
   "execution_count": 7,
   "metadata": {},
   "outputs": [],
   "source": [
    "# 1반기에 많이 구입한 물품 중 2반기 구입하지 않은 물품을 추천\n",
    "def recom_notbuy(custid,pdf3,pdf6):\n",
    "    user_rating = pdf6.loc[custid,:]\n",
    "    already_buy = user_rating[ user_rating > 0].sort_values(ascending=False)\n",
    "    notbuy_list = get_not_buy_list(pdf3, custid)\n",
    "    for x in already_buy.index:\n",
    "        if x in notbuy_list:\n",
    "            already_buy.drop(index=x ,axis=0,inplace=True)\n",
    "    recom_list = already_buy\n",
    "    return recom_list"
   ]
  },
  {
   "cell_type": "code",
   "execution_count": 8,
   "metadata": {},
   "outputs": [],
   "source": [
    "# sgd_0 = SGD_fac_recommend_pre(pdf3_0)\n",
    "knn_0 = knn_recommend_pre(pdf3_0)"
   ]
  },
  {
   "cell_type": "code",
   "execution_count": 9,
   "metadata": {},
   "outputs": [],
   "source": [
    "# sgd_1 = SGD_fac_recommend_pre(pdf3_1)\n",
    "knn_1 = knn_recommend_pre(pdf3_1)"
   ]
  },
  {
   "cell_type": "code",
   "execution_count": 10,
   "metadata": {},
   "outputs": [],
   "source": [
    "# sgd_2 = SGD_fac_recommend_pre(pdf3_2)\n",
    "knn_2 = knn_recommend_pre(pdf3_2)"
   ]
  },
  {
   "cell_type": "code",
   "execution_count": 11,
   "metadata": {},
   "outputs": [],
   "source": [
    "# sgd_0.to_csv('sgd_0')\n",
    "# sgd_1.to_csv('sgd_1')\n",
    "# sgd_2.to_csv('sgd_2')"
   ]
  },
  {
   "cell_type": "code",
   "execution_count": 12,
   "metadata": {},
   "outputs": [],
   "source": [
    "sgd_0 = pd.read_csv('sgd_0',index_col=0)\n",
    "sgd_1 = pd.read_csv('sgd_1',index_col=0)\n",
    "sgd_2 = pd.read_csv('sgd_2',index_col=0)"
   ]
  },
  {
   "cell_type": "markdown",
   "metadata": {},
   "source": [
    "### 3. 각 감소고객군집별로 가중치 부여"
   ]
  },
  {
   "cell_type": "code",
   "execution_count": 13,
   "metadata": {},
   "outputs": [],
   "source": [
    "cate = pd.read_csv('../../lmembers/data/prodcl2.csv')\n",
    "data_cate = pd.merge(data,cate,on='소분류코드')"
   ]
  },
  {
   "cell_type": "code",
   "execution_count": 14,
   "metadata": {},
   "outputs": [],
   "source": [
    "list_A = data_cate.상품분류명[data_cate.제휴사_x == 'A'].unique().tolist()\n",
    "list_B = data_cate.상품분류명[data_cate.제휴사_x == 'B'].unique().tolist()\n",
    "list_C = data_cate.상품분류명[data_cate.제휴사_x == 'C'].unique().tolist()\n",
    "list_편의 = data_cate.상품분류명[data_cate.소비재분류_x == '편의품'].unique().tolist()\n",
    "list_선매 = data_cate.상품분류명[data_cate.소비재분류_x == '선매품'].unique().tolist()\n",
    "list_전문 = data_cate.상품분류명[data_cate.소비재분류_x == '전문품'].unique().tolist()\n",
    "list_레저 = data_cate.상품분류명[data_cate.통합분류_x == '레저/취미'].unique().tolist()\n",
    "list_패션 = data_cate.상품분류명[data_cate.통합분류_x == '패션의류/잡화'].unique().tolist()\n",
    "list_명품 = data_cate.상품분류명[data_cate.통합분류_x == '명품/쥬얼리'].unique().tolist()\n",
    "list_식품 = data_cate.상품분류명[data_cate.통합분류_x == '식료품'].unique().tolist()\n",
    "list_기호 = data_cate.상품분류명[data_cate.통합분류_x == '기호품'].unique().tolist()\n",
    "list_생활 = data_cate.상품분류명[data_cate.통합분류_x == '생활잡화'].unique().tolist()"
   ]
  },
  {
   "cell_type": "markdown",
   "metadata": {},
   "source": [
    "## 1번군집 통합 추천 시스템"
   ]
  },
  {
   "cell_type": "code",
   "execution_count": 15,
   "metadata": {},
   "outputs": [],
   "source": [
    "# 1번군집 통합 추천 시스템\n",
    "# 1번군집은 A사의 고급제품을 중심으로한 마케팅이 필요하기 때문에 A사와 전문품, 선매품과 매출이 많이 감소한 패션,명품, 레저에 가중치를 주었다.\n",
    "def recommend_list_1(custid,pdf3,pdf6,knn,sgd,top = 50,N=5):\n",
    "    notbuy_list = get_not_buy_list(pdf3, custid)\n",
    "    for i in knn.columns:\n",
    "        if i in list_A:\n",
    "            knn[i] = knn[i] *1.1\n",
    "        if i in list_전문:\n",
    "            knn[i] = knn[i] *1.1\n",
    "        if i in list_선매:\n",
    "            knn[i] = knn[i] *1.1\n",
    "        if i in list_레저:\n",
    "            knn[i] = knn[i] *1.1\n",
    "        if i in list_패션:\n",
    "            knn[i] = knn[i] *1.1\n",
    "        if i in list_명품:\n",
    "            knn[i] = knn[i] *1.1\n",
    "    recomm_items_knn = recomm_item_by_custid(knn, custid, notbuy_list, top_n=top)\n",
    "    recomm_items_knn = pd.DataFrame(data=recomm_items_knn.values,index=recomm_items_knn.index,columns=['pred_score'])\n",
    "    recomm_items_SGD = recomm_item_by_custid(sgd, custid, notbuy_list, top_n=top)\n",
    "    recomm_items_SGD = pd.DataFrame(data=recomm_items_SGD.values,index=recomm_items_SGD.index,columns=['pred_score'])\n",
    "    recomm_items_SGD.index.name='상품분류명'\n",
    "    recom_items = pd.merge(recomm_items_SGD,recomm_items_knn,on='상품분류명')\n",
    "    recom_items['recom_pred'] = recom_items.iloc[:,1]*recom_items.iloc[:,0]\n",
    "    recom_items = recom_items.sort_values(by='recom_pred',ascending=False)\n",
    "    recom_list = recom_notbuy(custid,pdf3,pdf6)\n",
    "    print(f'3개월전에 {recom_list.index.values[:N]}물품들을 구매하셨는데 지금은 필요하지 않으신가요?')\n",
    "    print()\n",
    "    print(f'{custid}고객님이 구매하신 상품을 구매한 고객들이 많이 구매한 {recom_items.index.values[:N]}은/는 어떠세요?')"
   ]
  },
  {
   "cell_type": "code",
   "execution_count": 1,
   "metadata": {},
   "outputs": [
    {
     "ename": "NameError",
     "evalue": "name 'np' is not defined",
     "output_type": "error",
     "traceback": [
      "\u001b[1;31m---------------------------------------------------------------------------\u001b[0m",
      "\u001b[1;31mNameError\u001b[0m                                 Traceback (most recent call last)",
      "\u001b[1;32m~\\AppData\\Local\\Temp/ipykernel_6048/2978741787.py\u001b[0m in \u001b[0;36m<module>\u001b[1;34m\u001b[0m\n\u001b[1;32m----> 1\u001b[1;33m \u001b[0mcust_0\u001b[0m \u001b[1;33m=\u001b[0m \u001b[0mnp\u001b[0m\u001b[1;33m.\u001b[0m\u001b[0mrandom\u001b[0m\u001b[1;33m.\u001b[0m\u001b[0mchoice\u001b[0m\u001b[1;33m(\u001b[0m\u001b[0mdf\u001b[0m\u001b[1;33m.\u001b[0m\u001b[0m고객번호\u001b[0m\u001b[1;33m[\u001b[0m\u001b[0mdf\u001b[0m\u001b[1;33m.\u001b[0m\u001b[0m라벨\u001b[0m \u001b[1;33m==\u001b[0m \u001b[1;36m0\u001b[0m\u001b[1;33m]\u001b[0m\u001b[1;33m.\u001b[0m\u001b[0munique\u001b[0m\u001b[1;33m(\u001b[0m\u001b[1;33m)\u001b[0m\u001b[1;33m.\u001b[0m\u001b[0mtolist\u001b[0m\u001b[1;33m(\u001b[0m\u001b[1;33m)\u001b[0m\u001b[1;33m)\u001b[0m\u001b[1;33m\u001b[0m\u001b[1;33m\u001b[0m\u001b[0m\n\u001b[0m\u001b[0;32m      2\u001b[0m \u001b[0mrecommend_list_1\u001b[0m\u001b[1;33m(\u001b[0m\u001b[0mcust_0\u001b[0m\u001b[1;33m,\u001b[0m\u001b[0mpdf3_0\u001b[0m\u001b[1;33m,\u001b[0m\u001b[0mpdf6_0\u001b[0m\u001b[1;33m,\u001b[0m\u001b[0mknn_0\u001b[0m\u001b[1;33m,\u001b[0m\u001b[0msgd_0\u001b[0m\u001b[1;33m)\u001b[0m\u001b[1;33m\u001b[0m\u001b[1;33m\u001b[0m\u001b[0m\n",
      "\u001b[1;31mNameError\u001b[0m: name 'np' is not defined"
     ]
    }
   ],
   "source": [
    "cust_0 = np.random.choice(df.고객번호[df.라벨 == 0].unique().tolist())\n",
    "recommend_list_1(cust_0,pdf3_0,pdf6_0,knn_0,sgd_0)"
   ]
  },
  {
   "cell_type": "markdown",
   "metadata": {},
   "source": [
    "## 2번군집 통합 추천 시스템"
   ]
  },
  {
   "cell_type": "code",
   "execution_count": 33,
   "metadata": {},
   "outputs": [],
   "source": [
    "# 2번군집 통합 추천 시스템\n",
    "# 2번군집은 A,B사의 편의품분류와 식료품, 기호품을 중심으로 마케팅이 필요하기에 이에 가중치를 부여\n",
    "def recommend_list_2(custid,pdf3,pdf6,knn,sgd,top = 50,N=5):\n",
    "    notbuy_list = get_not_buy_list(pdf3, custid)\n",
    "    for i in knn.columns:\n",
    "        if i in list_A:\n",
    "            knn[i] = knn[i] *1.1\n",
    "        if i in list_B:\n",
    "            knn[i] = knn[i] *1.1\n",
    "        if i in list_편의:\n",
    "            knn[i] = knn[i] *1.1\n",
    "        if i in list_식품:\n",
    "            knn[i] = knn[i] *1.1\n",
    "        if i in list_기호:\n",
    "            knn[i] = knn[i] *1.1\n",
    "        if i in list_선매:\n",
    "            knn[i] = knn[i] *1.05  \n",
    "        if i in list_패션:\n",
    "            knn[i] = knn[i] *1.05  \n",
    "        \n",
    "    recomm_items_knn = recomm_item_by_custid(knn, custid, notbuy_list, top_n=top)\n",
    "    recomm_items_knn = pd.DataFrame(data=recomm_items_knn.values,index=recomm_items_knn.index,columns=['pred_score'])\n",
    "    recomm_items_SGD = recomm_item_by_custid(sgd, custid, notbuy_list, top_n=top)\n",
    "    recomm_items_SGD = pd.DataFrame(data=recomm_items_SGD.values,index=recomm_items_SGD.index,columns=['pred_score'])\n",
    "    recomm_items_SGD.index.name='상품분류명'\n",
    "    recom_items = pd.merge(recomm_items_SGD,recomm_items_knn,on='상품분류명')\n",
    "    recom_items['recom_pred'] = recom_items.iloc[:,1]*recom_items.iloc[:,0]\n",
    "    recom_items = recom_items.sort_values(by='recom_pred',ascending=False)\n",
    "    recom_list = recom_notbuy(custid,pdf3,pdf6)\n",
    "    print(f'3개월전에 {recom_list.index.values[:N]}물품들을 구매하셨는데 지금은 필요하지 않으신가요?')\n",
    "    print()\n",
    "    print(f'{custid}고객님이 구매하신 상품을 구매한 고객들이 많이 구매한 {recom_items.index.values[:N]}은/는 어떠세요?')"
   ]
  },
  {
   "cell_type": "code",
   "execution_count": 46,
   "metadata": {},
   "outputs": [
    {
     "name": "stdout",
     "output_type": "stream",
     "text": [
      "3개월전에 ['커피음료' '차/커피' '냉장음료' '라면' '담배']물품들을 구매하셨는데 지금은 필요하지 않으신가요?\n",
      "\n",
      "13682고객님이 구매하신 상품을 구매한 고객들이 많이 구매한 ['생수' '전통주' '스포츠의류' '가공식품' '농산물']은/는 어떠세요?\n"
     ]
    }
   ],
   "source": [
    "cust_1 = np.random.choice(df.고객번호[df.라벨 == 1].unique().tolist())\n",
    "recommend_list_2(cust_1,pdf3_1,pdf6_1,knn_1,sgd_1)"
   ]
  },
  {
   "cell_type": "markdown",
   "metadata": {},
   "source": [
    "## 3번군집 통합 추천 시스템"
   ]
  },
  {
   "cell_type": "code",
   "execution_count": 35,
   "metadata": {},
   "outputs": [],
   "source": [
    "# 3번군집 통합 추천 시스템\n",
    "# 3번군집은 1,2번군집보다 구매가 고르게 분산되어 있으므로 가중치도 분산되게 부여 \n",
    "# C사의 비중이 군집중 가장높고 편의,전문품 분류의 감소와 기호품,식료품,명품,생활잡화의 감소가 높으므로 가중치를 부여\n",
    "def recommend_list_3(custid,pdf3,pdf6,knn,sgd,top = 50,N=5):\n",
    "    notbuy_list = get_not_buy_list(pdf3, custid)\n",
    "    for i in knn.columns:\n",
    "        if i in list_C:\n",
    "            knn[i] = knn[i] *1.1\n",
    "        if i in list_편의:\n",
    "            knn[i] = knn[i] *1.05\n",
    "        if i in list_전문:\n",
    "            knn[i] = knn[i] *1.05\n",
    "        if i in list_기호:\n",
    "            knn[i] = knn[i] *1.05\n",
    "        if i in list_식품:\n",
    "            knn[i] = knn[i] *1.05\n",
    "        if i in list_명품:\n",
    "            knn[i] = knn[i] *1.05\n",
    "        if i in list_생활:\n",
    "            knn[i] = knn[i] *1.05\n",
    "    recomm_items_knn = recomm_item_by_custid(knn, custid, notbuy_list, top_n=top)\n",
    "    recomm_items_knn = pd.DataFrame(data=recomm_items_knn.values,index=recomm_items_knn.index,columns=['pred_score'])\n",
    "    recomm_items_SGD = recomm_item_by_custid(sgd, custid, notbuy_list, top_n=top)\n",
    "    recomm_items_SGD = pd.DataFrame(data=recomm_items_SGD.values,index=recomm_items_SGD.index,columns=['pred_score'])\n",
    "    recomm_items_SGD.index.name='상품분류명'\n",
    "    recom_items = pd.merge(recomm_items_SGD,recomm_items_knn,on='상품분류명')\n",
    "    recom_items['recom_pred'] = recom_items.iloc[:,1]*recom_items.iloc[:,0]\n",
    "    recom_items = recom_items.sort_values(by='recom_pred',ascending=False)\n",
    "    recom_list = recom_notbuy(custid,pdf3,pdf6)\n",
    "    print(f'3개월전에 {recom_list.index.values[:N]} 물품들을 구매하셨는데 지금은 필요하지 않으신가요?')\n",
    "    print()\n",
    "    print(f'{custid}고객님이 구매하신 상품을 구매한 고객들이 많이 구매한 {recom_items.index.values[:N]}은/는 어떠세요?')"
   ]
  },
  {
   "cell_type": "code",
   "execution_count": 47,
   "metadata": {},
   "outputs": [
    {
     "name": "stdout",
     "output_type": "stream",
     "text": [
      "3개월전에 ['대형가전' '통신/컴퓨터' '발효유' '과채과일' '우유'] 물품들을 구매하셨는데 지금은 필요하지 않으신가요?\n",
      "\n",
      "97고객님이 구매하신 상품을 구매한 고객들이 많이 구매한 ['맥주' '커피음료' '소주' '생활잡화' '식사류']은/는 어떠세요?\n"
     ]
    }
   ],
   "source": [
    "cust_2 = np.random.choice(df.고객번호[df.라벨 == 2].unique().tolist())\n",
    "recommend_list_3(cust_2,pdf3_2,pdf6_2,knn_2,sgd_2)"
   ]
  }
 ],
 "metadata": {
  "interpreter": {
   "hash": "920a39406dfdb36f67557ac5da90b10b9d5ec29f943ddf35185db243b71dc8bd"
  },
  "kernelspec": {
   "display_name": "Python 3.9.7 ('cakd5')",
   "language": "python",
   "name": "python3"
  },
  "language_info": {
   "codemirror_mode": {
    "name": "ipython",
    "version": 3
   },
   "file_extension": ".py",
   "mimetype": "text/x-python",
   "name": "python",
   "nbconvert_exporter": "python",
   "pygments_lexer": "ipython3",
   "version": "3.9.7"
  },
  "orig_nbformat": 4
 },
 "nbformat": 4,
 "nbformat_minor": 2
}
